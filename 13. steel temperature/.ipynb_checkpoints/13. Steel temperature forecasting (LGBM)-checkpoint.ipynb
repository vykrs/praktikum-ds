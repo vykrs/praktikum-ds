{
 "cells": [
  {
   "cell_type": "markdown",
   "metadata": {},
   "source": [
    "# Предсказание температуры стали в конце технологического процесса.\n",
    "\n",
    "### Описание данных\n",
    "\n",
    "Данные состоят из файлов, полученных из разных источников:\n",
    "\n",
    "- ***data_arc.csv*** — данные об электродах;\n",
    "- ***data_bulk.csv*** — данные о подаче сыпучих материалов (объём);\n",
    "- ***data_bulk_time.csv*** — данные о подаче сыпучих материалов (время);\n",
    "- ***data_gas.csv*** — данные о продувке сплава газом;\n",
    "- ***data_temp.csv*** — результаты измерения температуры;\n",
    "- ***data_wire.csv*** — данные о проволочных материалах (объём);\n",
    "- ***data_wire_time.csv*** — данные о проволочных материалах (время).\n",
    "\n",
    "Во всех файлах столбец **key** содержит номер партии. В файлах может быть несколько строк с одинаковым значением **key**: они соответствуют разным итерациям обработки.\n",
    "\n",
    "### Признаки и целевая переменная\n",
    "\n",
    "Каждая партия имеет уникальный номер (**key**). Этап обработки - период с момента поступления партии в ковш и до получения готового продукта. В ходе обработки над сталью производятся различные действия: добавление примесей, подогрев, продувка газом. Некоторые шаги могут повторяться несколько раз либо отсутствовать.\n",
    "\n",
    "Целевым признаком является последняя измеренная температура в данном этапе. При этом в силу особенностей технологического процесса в качестве признака мы можем использовать только первую измеренную температуру, несмотря на то, сколько замеров было сделано на самом деле. Данные обо всех остальных технологических процессах (количество примесей, подогрев, продувка и т.д.) также можно использовать в качестве признаков.\n",
    "\n",
    "В качестве метрики качества модели используется MAE. Требуется достичь МАЕ не менее 8,7."
   ]
  },
  {
   "cell_type": "markdown",
   "metadata": {},
   "source": [
    "# 1. Анализ данных"
   ]
  },
  {
   "cell_type": "markdown",
   "metadata": {},
   "source": [
    "Импорт необходимых модулей:"
   ]
  },
  {
   "cell_type": "code",
   "execution_count": 5,
   "metadata": {},
   "outputs": [],
   "source": [
    "import pandas as pd\n",
    "import os\n",
    "from time import time\n",
    "from IPython.display import display\n",
    "import matplotlib.pyplot as plt\n",
    "\n",
    "from sklearn.linear_model import LinearRegression\n",
    "from sklearn.ensemble import RandomForestRegressor\n",
    "from sklearn.model_selection import GridSearchCV, train_test_split\n",
    "from sklearn.metrics import mean_absolute_error\n",
    "\n",
    "from lightgbm import LGBMRegressor, plot_importance\n",
    "\n",
    "R=1234"
   ]
  },
  {
   "cell_type": "markdown",
   "metadata": {},
   "source": [
    "Загрузим все таблицы из папки и сохраним в соответствующие переменные, а также выведем по несколько записей каждой:"
   ]
  },
  {
   "cell_type": "code",
   "execution_count": 6,
   "metadata": {
    "scrolled": false
   },
   "outputs": [
    {
     "name": "stdout",
     "output_type": "stream",
     "text": [
      "\n",
      "Таблица data_gas:\n"
     ]
    },
    {
     "data": {
      "text/html": [
       "<div>\n",
       "<style scoped>\n",
       "    .dataframe tbody tr th:only-of-type {\n",
       "        vertical-align: middle;\n",
       "    }\n",
       "\n",
       "    .dataframe tbody tr th {\n",
       "        vertical-align: top;\n",
       "    }\n",
       "\n",
       "    .dataframe thead th {\n",
       "        text-align: right;\n",
       "    }\n",
       "</style>\n",
       "<table border=\"1\" class=\"dataframe\">\n",
       "  <thead>\n",
       "    <tr style=\"text-align: right;\">\n",
       "      <th></th>\n",
       "      <th>key</th>\n",
       "      <th>Газ 1</th>\n",
       "    </tr>\n",
       "  </thead>\n",
       "  <tbody>\n",
       "    <tr>\n",
       "      <td>0</td>\n",
       "      <td>1</td>\n",
       "      <td>29.749986</td>\n",
       "    </tr>\n",
       "    <tr>\n",
       "      <td>1</td>\n",
       "      <td>2</td>\n",
       "      <td>12.555561</td>\n",
       "    </tr>\n",
       "    <tr>\n",
       "      <td>2</td>\n",
       "      <td>3</td>\n",
       "      <td>28.554793</td>\n",
       "    </tr>\n",
       "  </tbody>\n",
       "</table>\n",
       "</div>"
      ],
      "text/plain": [
       "   key      Газ 1\n",
       "0    1  29.749986\n",
       "1    2  12.555561\n",
       "2    3  28.554793"
      ]
     },
     "metadata": {},
     "output_type": "display_data"
    },
    {
     "name": "stdout",
     "output_type": "stream",
     "text": [
      "\n",
      "Таблица data_bulk:\n"
     ]
    },
    {
     "data": {
      "text/html": [
       "<div>\n",
       "<style scoped>\n",
       "    .dataframe tbody tr th:only-of-type {\n",
       "        vertical-align: middle;\n",
       "    }\n",
       "\n",
       "    .dataframe tbody tr th {\n",
       "        vertical-align: top;\n",
       "    }\n",
       "\n",
       "    .dataframe thead th {\n",
       "        text-align: right;\n",
       "    }\n",
       "</style>\n",
       "<table border=\"1\" class=\"dataframe\">\n",
       "  <thead>\n",
       "    <tr style=\"text-align: right;\">\n",
       "      <th></th>\n",
       "      <th>key</th>\n",
       "      <th>Bulk 1</th>\n",
       "      <th>Bulk 2</th>\n",
       "      <th>Bulk 3</th>\n",
       "      <th>Bulk 4</th>\n",
       "      <th>Bulk 5</th>\n",
       "      <th>Bulk 6</th>\n",
       "      <th>Bulk 7</th>\n",
       "      <th>Bulk 8</th>\n",
       "      <th>Bulk 9</th>\n",
       "      <th>Bulk 10</th>\n",
       "      <th>Bulk 11</th>\n",
       "      <th>Bulk 12</th>\n",
       "      <th>Bulk 13</th>\n",
       "      <th>Bulk 14</th>\n",
       "      <th>Bulk 15</th>\n",
       "    </tr>\n",
       "  </thead>\n",
       "  <tbody>\n",
       "    <tr>\n",
       "      <td>0</td>\n",
       "      <td>1</td>\n",
       "      <td>NaN</td>\n",
       "      <td>NaN</td>\n",
       "      <td>NaN</td>\n",
       "      <td>43.0</td>\n",
       "      <td>NaN</td>\n",
       "      <td>NaN</td>\n",
       "      <td>NaN</td>\n",
       "      <td>NaN</td>\n",
       "      <td>NaN</td>\n",
       "      <td>NaN</td>\n",
       "      <td>NaN</td>\n",
       "      <td>206.0</td>\n",
       "      <td>NaN</td>\n",
       "      <td>150.0</td>\n",
       "      <td>154.0</td>\n",
       "    </tr>\n",
       "    <tr>\n",
       "      <td>1</td>\n",
       "      <td>2</td>\n",
       "      <td>NaN</td>\n",
       "      <td>NaN</td>\n",
       "      <td>NaN</td>\n",
       "      <td>73.0</td>\n",
       "      <td>NaN</td>\n",
       "      <td>NaN</td>\n",
       "      <td>NaN</td>\n",
       "      <td>NaN</td>\n",
       "      <td>NaN</td>\n",
       "      <td>NaN</td>\n",
       "      <td>NaN</td>\n",
       "      <td>206.0</td>\n",
       "      <td>NaN</td>\n",
       "      <td>149.0</td>\n",
       "      <td>154.0</td>\n",
       "    </tr>\n",
       "    <tr>\n",
       "      <td>2</td>\n",
       "      <td>3</td>\n",
       "      <td>NaN</td>\n",
       "      <td>NaN</td>\n",
       "      <td>NaN</td>\n",
       "      <td>34.0</td>\n",
       "      <td>NaN</td>\n",
       "      <td>NaN</td>\n",
       "      <td>NaN</td>\n",
       "      <td>NaN</td>\n",
       "      <td>NaN</td>\n",
       "      <td>NaN</td>\n",
       "      <td>NaN</td>\n",
       "      <td>205.0</td>\n",
       "      <td>NaN</td>\n",
       "      <td>152.0</td>\n",
       "      <td>153.0</td>\n",
       "    </tr>\n",
       "  </tbody>\n",
       "</table>\n",
       "</div>"
      ],
      "text/plain": [
       "   key  Bulk 1  Bulk 2  Bulk 3  Bulk 4  Bulk 5  Bulk 6  Bulk 7  Bulk 8  \\\n",
       "0    1     NaN     NaN     NaN    43.0     NaN     NaN     NaN     NaN   \n",
       "1    2     NaN     NaN     NaN    73.0     NaN     NaN     NaN     NaN   \n",
       "2    3     NaN     NaN     NaN    34.0     NaN     NaN     NaN     NaN   \n",
       "\n",
       "   Bulk 9  Bulk 10  Bulk 11  Bulk 12  Bulk 13  Bulk 14  Bulk 15  \n",
       "0     NaN      NaN      NaN    206.0      NaN    150.0    154.0  \n",
       "1     NaN      NaN      NaN    206.0      NaN    149.0    154.0  \n",
       "2     NaN      NaN      NaN    205.0      NaN    152.0    153.0  "
      ]
     },
     "metadata": {},
     "output_type": "display_data"
    },
    {
     "name": "stdout",
     "output_type": "stream",
     "text": [
      "\n",
      "Таблица data_bulk_time:\n"
     ]
    },
    {
     "data": {
      "text/html": [
       "<div>\n",
       "<style scoped>\n",
       "    .dataframe tbody tr th:only-of-type {\n",
       "        vertical-align: middle;\n",
       "    }\n",
       "\n",
       "    .dataframe tbody tr th {\n",
       "        vertical-align: top;\n",
       "    }\n",
       "\n",
       "    .dataframe thead th {\n",
       "        text-align: right;\n",
       "    }\n",
       "</style>\n",
       "<table border=\"1\" class=\"dataframe\">\n",
       "  <thead>\n",
       "    <tr style=\"text-align: right;\">\n",
       "      <th></th>\n",
       "      <th>key</th>\n",
       "      <th>Bulk 1</th>\n",
       "      <th>Bulk 2</th>\n",
       "      <th>Bulk 3</th>\n",
       "      <th>Bulk 4</th>\n",
       "      <th>Bulk 5</th>\n",
       "      <th>Bulk 6</th>\n",
       "      <th>Bulk 7</th>\n",
       "      <th>Bulk 8</th>\n",
       "      <th>Bulk 9</th>\n",
       "      <th>Bulk 10</th>\n",
       "      <th>Bulk 11</th>\n",
       "      <th>Bulk 12</th>\n",
       "      <th>Bulk 13</th>\n",
       "      <th>Bulk 14</th>\n",
       "      <th>Bulk 15</th>\n",
       "    </tr>\n",
       "  </thead>\n",
       "  <tbody>\n",
       "    <tr>\n",
       "      <td>0</td>\n",
       "      <td>1</td>\n",
       "      <td>NaN</td>\n",
       "      <td>NaN</td>\n",
       "      <td>NaN</td>\n",
       "      <td>2019-05-03 11:21:30</td>\n",
       "      <td>NaN</td>\n",
       "      <td>NaN</td>\n",
       "      <td>NaN</td>\n",
       "      <td>NaN</td>\n",
       "      <td>NaN</td>\n",
       "      <td>NaN</td>\n",
       "      <td>NaN</td>\n",
       "      <td>2019-05-03 11:03:52</td>\n",
       "      <td>NaN</td>\n",
       "      <td>2019-05-03 11:03:52</td>\n",
       "      <td>2019-05-03 11:03:52</td>\n",
       "    </tr>\n",
       "    <tr>\n",
       "      <td>1</td>\n",
       "      <td>2</td>\n",
       "      <td>NaN</td>\n",
       "      <td>NaN</td>\n",
       "      <td>NaN</td>\n",
       "      <td>2019-05-03 11:46:38</td>\n",
       "      <td>NaN</td>\n",
       "      <td>NaN</td>\n",
       "      <td>NaN</td>\n",
       "      <td>NaN</td>\n",
       "      <td>NaN</td>\n",
       "      <td>NaN</td>\n",
       "      <td>NaN</td>\n",
       "      <td>2019-05-03 11:40:20</td>\n",
       "      <td>NaN</td>\n",
       "      <td>2019-05-03 11:40:20</td>\n",
       "      <td>2019-05-03 11:40:20</td>\n",
       "    </tr>\n",
       "    <tr>\n",
       "      <td>2</td>\n",
       "      <td>3</td>\n",
       "      <td>NaN</td>\n",
       "      <td>NaN</td>\n",
       "      <td>NaN</td>\n",
       "      <td>2019-05-03 12:31:06</td>\n",
       "      <td>NaN</td>\n",
       "      <td>NaN</td>\n",
       "      <td>NaN</td>\n",
       "      <td>NaN</td>\n",
       "      <td>NaN</td>\n",
       "      <td>NaN</td>\n",
       "      <td>NaN</td>\n",
       "      <td>2019-05-03 12:09:40</td>\n",
       "      <td>NaN</td>\n",
       "      <td>2019-05-03 12:09:40</td>\n",
       "      <td>2019-05-03 12:09:40</td>\n",
       "    </tr>\n",
       "  </tbody>\n",
       "</table>\n",
       "</div>"
      ],
      "text/plain": [
       "   key Bulk 1 Bulk 2 Bulk 3               Bulk 4 Bulk 5 Bulk 6 Bulk 7 Bulk 8  \\\n",
       "0    1    NaN    NaN    NaN  2019-05-03 11:21:30    NaN    NaN    NaN    NaN   \n",
       "1    2    NaN    NaN    NaN  2019-05-03 11:46:38    NaN    NaN    NaN    NaN   \n",
       "2    3    NaN    NaN    NaN  2019-05-03 12:31:06    NaN    NaN    NaN    NaN   \n",
       "\n",
       "  Bulk 9 Bulk 10 Bulk 11              Bulk 12 Bulk 13              Bulk 14  \\\n",
       "0    NaN     NaN     NaN  2019-05-03 11:03:52     NaN  2019-05-03 11:03:52   \n",
       "1    NaN     NaN     NaN  2019-05-03 11:40:20     NaN  2019-05-03 11:40:20   \n",
       "2    NaN     NaN     NaN  2019-05-03 12:09:40     NaN  2019-05-03 12:09:40   \n",
       "\n",
       "               Bulk 15  \n",
       "0  2019-05-03 11:03:52  \n",
       "1  2019-05-03 11:40:20  \n",
       "2  2019-05-03 12:09:40  "
      ]
     },
     "metadata": {},
     "output_type": "display_data"
    },
    {
     "name": "stdout",
     "output_type": "stream",
     "text": [
      "\n",
      "Таблица data_wire_time:\n"
     ]
    },
    {
     "data": {
      "text/html": [
       "<div>\n",
       "<style scoped>\n",
       "    .dataframe tbody tr th:only-of-type {\n",
       "        vertical-align: middle;\n",
       "    }\n",
       "\n",
       "    .dataframe tbody tr th {\n",
       "        vertical-align: top;\n",
       "    }\n",
       "\n",
       "    .dataframe thead th {\n",
       "        text-align: right;\n",
       "    }\n",
       "</style>\n",
       "<table border=\"1\" class=\"dataframe\">\n",
       "  <thead>\n",
       "    <tr style=\"text-align: right;\">\n",
       "      <th></th>\n",
       "      <th>key</th>\n",
       "      <th>Wire 1</th>\n",
       "      <th>Wire 2</th>\n",
       "      <th>Wire 3</th>\n",
       "      <th>Wire 4</th>\n",
       "      <th>Wire 5</th>\n",
       "      <th>Wire 6</th>\n",
       "      <th>Wire 7</th>\n",
       "      <th>Wire 8</th>\n",
       "      <th>Wire 9</th>\n",
       "    </tr>\n",
       "  </thead>\n",
       "  <tbody>\n",
       "    <tr>\n",
       "      <td>0</td>\n",
       "      <td>1</td>\n",
       "      <td>2019-05-03 11:11:41</td>\n",
       "      <td>NaN</td>\n",
       "      <td>NaN</td>\n",
       "      <td>NaN</td>\n",
       "      <td>NaN</td>\n",
       "      <td>NaN</td>\n",
       "      <td>NaN</td>\n",
       "      <td>NaN</td>\n",
       "      <td>NaN</td>\n",
       "    </tr>\n",
       "    <tr>\n",
       "      <td>1</td>\n",
       "      <td>2</td>\n",
       "      <td>2019-05-03 11:46:10</td>\n",
       "      <td>NaN</td>\n",
       "      <td>NaN</td>\n",
       "      <td>NaN</td>\n",
       "      <td>NaN</td>\n",
       "      <td>NaN</td>\n",
       "      <td>NaN</td>\n",
       "      <td>NaN</td>\n",
       "      <td>NaN</td>\n",
       "    </tr>\n",
       "    <tr>\n",
       "      <td>2</td>\n",
       "      <td>3</td>\n",
       "      <td>2019-05-03 12:13:47</td>\n",
       "      <td>NaN</td>\n",
       "      <td>NaN</td>\n",
       "      <td>NaN</td>\n",
       "      <td>NaN</td>\n",
       "      <td>NaN</td>\n",
       "      <td>NaN</td>\n",
       "      <td>NaN</td>\n",
       "      <td>NaN</td>\n",
       "    </tr>\n",
       "  </tbody>\n",
       "</table>\n",
       "</div>"
      ],
      "text/plain": [
       "   key               Wire 1 Wire 2 Wire 3 Wire 4 Wire 5 Wire 6 Wire 7 Wire 8  \\\n",
       "0    1  2019-05-03 11:11:41    NaN    NaN    NaN    NaN    NaN    NaN    NaN   \n",
       "1    2  2019-05-03 11:46:10    NaN    NaN    NaN    NaN    NaN    NaN    NaN   \n",
       "2    3  2019-05-03 12:13:47    NaN    NaN    NaN    NaN    NaN    NaN    NaN   \n",
       "\n",
       "  Wire 9  \n",
       "0    NaN  \n",
       "1    NaN  \n",
       "2    NaN  "
      ]
     },
     "metadata": {},
     "output_type": "display_data"
    },
    {
     "name": "stdout",
     "output_type": "stream",
     "text": [
      "\n",
      "Таблица data_arc:\n"
     ]
    },
    {
     "data": {
      "text/html": [
       "<div>\n",
       "<style scoped>\n",
       "    .dataframe tbody tr th:only-of-type {\n",
       "        vertical-align: middle;\n",
       "    }\n",
       "\n",
       "    .dataframe tbody tr th {\n",
       "        vertical-align: top;\n",
       "    }\n",
       "\n",
       "    .dataframe thead th {\n",
       "        text-align: right;\n",
       "    }\n",
       "</style>\n",
       "<table border=\"1\" class=\"dataframe\">\n",
       "  <thead>\n",
       "    <tr style=\"text-align: right;\">\n",
       "      <th></th>\n",
       "      <th>key</th>\n",
       "      <th>Начало нагрева дугой</th>\n",
       "      <th>Конец нагрева дугой</th>\n",
       "      <th>Активная мощность</th>\n",
       "      <th>Реактивная мощность</th>\n",
       "    </tr>\n",
       "  </thead>\n",
       "  <tbody>\n",
       "    <tr>\n",
       "      <td>0</td>\n",
       "      <td>1</td>\n",
       "      <td>2019-05-03 11:02:14</td>\n",
       "      <td>2019-05-03 11:06:02</td>\n",
       "      <td>0.976059</td>\n",
       "      <td>0.687084</td>\n",
       "    </tr>\n",
       "    <tr>\n",
       "      <td>1</td>\n",
       "      <td>1</td>\n",
       "      <td>2019-05-03 11:07:28</td>\n",
       "      <td>2019-05-03 11:10:33</td>\n",
       "      <td>0.805607</td>\n",
       "      <td>0.520285</td>\n",
       "    </tr>\n",
       "    <tr>\n",
       "      <td>2</td>\n",
       "      <td>1</td>\n",
       "      <td>2019-05-03 11:11:44</td>\n",
       "      <td>2019-05-03 11:14:36</td>\n",
       "      <td>0.744363</td>\n",
       "      <td>0.498805</td>\n",
       "    </tr>\n",
       "  </tbody>\n",
       "</table>\n",
       "</div>"
      ],
      "text/plain": [
       "   key Начало нагрева дугой  Конец нагрева дугой  Активная мощность  \\\n",
       "0    1  2019-05-03 11:02:14  2019-05-03 11:06:02           0.976059   \n",
       "1    1  2019-05-03 11:07:28  2019-05-03 11:10:33           0.805607   \n",
       "2    1  2019-05-03 11:11:44  2019-05-03 11:14:36           0.744363   \n",
       "\n",
       "   Реактивная мощность  \n",
       "0             0.687084  \n",
       "1             0.520285  \n",
       "2             0.498805  "
      ]
     },
     "metadata": {},
     "output_type": "display_data"
    },
    {
     "name": "stdout",
     "output_type": "stream",
     "text": [
      "\n",
      "Таблица data_temp:\n"
     ]
    },
    {
     "data": {
      "text/html": [
       "<div>\n",
       "<style scoped>\n",
       "    .dataframe tbody tr th:only-of-type {\n",
       "        vertical-align: middle;\n",
       "    }\n",
       "\n",
       "    .dataframe tbody tr th {\n",
       "        vertical-align: top;\n",
       "    }\n",
       "\n",
       "    .dataframe thead th {\n",
       "        text-align: right;\n",
       "    }\n",
       "</style>\n",
       "<table border=\"1\" class=\"dataframe\">\n",
       "  <thead>\n",
       "    <tr style=\"text-align: right;\">\n",
       "      <th></th>\n",
       "      <th>key</th>\n",
       "      <th>Время замера</th>\n",
       "      <th>Температура</th>\n",
       "    </tr>\n",
       "  </thead>\n",
       "  <tbody>\n",
       "    <tr>\n",
       "      <td>0</td>\n",
       "      <td>1</td>\n",
       "      <td>2019-05-03 11:16:18</td>\n",
       "      <td>1571.0</td>\n",
       "    </tr>\n",
       "    <tr>\n",
       "      <td>1</td>\n",
       "      <td>1</td>\n",
       "      <td>2019-05-03 11:25:53</td>\n",
       "      <td>1604.0</td>\n",
       "    </tr>\n",
       "    <tr>\n",
       "      <td>2</td>\n",
       "      <td>1</td>\n",
       "      <td>2019-05-03 11:29:11</td>\n",
       "      <td>1618.0</td>\n",
       "    </tr>\n",
       "  </tbody>\n",
       "</table>\n",
       "</div>"
      ],
      "text/plain": [
       "   key         Время замера  Температура\n",
       "0    1  2019-05-03 11:16:18       1571.0\n",
       "1    1  2019-05-03 11:25:53       1604.0\n",
       "2    1  2019-05-03 11:29:11       1618.0"
      ]
     },
     "metadata": {},
     "output_type": "display_data"
    },
    {
     "name": "stdout",
     "output_type": "stream",
     "text": [
      "\n",
      "Таблица data_wire:\n"
     ]
    },
    {
     "data": {
      "text/html": [
       "<div>\n",
       "<style scoped>\n",
       "    .dataframe tbody tr th:only-of-type {\n",
       "        vertical-align: middle;\n",
       "    }\n",
       "\n",
       "    .dataframe tbody tr th {\n",
       "        vertical-align: top;\n",
       "    }\n",
       "\n",
       "    .dataframe thead th {\n",
       "        text-align: right;\n",
       "    }\n",
       "</style>\n",
       "<table border=\"1\" class=\"dataframe\">\n",
       "  <thead>\n",
       "    <tr style=\"text-align: right;\">\n",
       "      <th></th>\n",
       "      <th>key</th>\n",
       "      <th>Wire 1</th>\n",
       "      <th>Wire 2</th>\n",
       "      <th>Wire 3</th>\n",
       "      <th>Wire 4</th>\n",
       "      <th>Wire 5</th>\n",
       "      <th>Wire 6</th>\n",
       "      <th>Wire 7</th>\n",
       "      <th>Wire 8</th>\n",
       "      <th>Wire 9</th>\n",
       "    </tr>\n",
       "  </thead>\n",
       "  <tbody>\n",
       "    <tr>\n",
       "      <td>0</td>\n",
       "      <td>1</td>\n",
       "      <td>60.059998</td>\n",
       "      <td>NaN</td>\n",
       "      <td>NaN</td>\n",
       "      <td>NaN</td>\n",
       "      <td>NaN</td>\n",
       "      <td>NaN</td>\n",
       "      <td>NaN</td>\n",
       "      <td>NaN</td>\n",
       "      <td>NaN</td>\n",
       "    </tr>\n",
       "    <tr>\n",
       "      <td>1</td>\n",
       "      <td>2</td>\n",
       "      <td>96.052315</td>\n",
       "      <td>NaN</td>\n",
       "      <td>NaN</td>\n",
       "      <td>NaN</td>\n",
       "      <td>NaN</td>\n",
       "      <td>NaN</td>\n",
       "      <td>NaN</td>\n",
       "      <td>NaN</td>\n",
       "      <td>NaN</td>\n",
       "    </tr>\n",
       "    <tr>\n",
       "      <td>2</td>\n",
       "      <td>3</td>\n",
       "      <td>91.160157</td>\n",
       "      <td>NaN</td>\n",
       "      <td>NaN</td>\n",
       "      <td>NaN</td>\n",
       "      <td>NaN</td>\n",
       "      <td>NaN</td>\n",
       "      <td>NaN</td>\n",
       "      <td>NaN</td>\n",
       "      <td>NaN</td>\n",
       "    </tr>\n",
       "  </tbody>\n",
       "</table>\n",
       "</div>"
      ],
      "text/plain": [
       "   key     Wire 1  Wire 2  Wire 3  Wire 4  Wire 5  Wire 6  Wire 7  Wire 8  \\\n",
       "0    1  60.059998     NaN     NaN     NaN     NaN     NaN     NaN     NaN   \n",
       "1    2  96.052315     NaN     NaN     NaN     NaN     NaN     NaN     NaN   \n",
       "2    3  91.160157     NaN     NaN     NaN     NaN     NaN     NaN     NaN   \n",
       "\n",
       "   Wire 9  \n",
       "0     NaN  \n",
       "1     NaN  \n",
       "2     NaN  "
      ]
     },
     "metadata": {},
     "output_type": "display_data"
    }
   ],
   "source": [
    "dirname = '/datasets/final_steel/'      #папка, где находятся csv-файлы\n",
    "\n",
    "for filename in os.listdir(dirname): \n",
    "    if filename.find('.csv') > 0:\n",
    "        globals()[filename[: -4]] = pd.read_csv(dirname + filename)\n",
    "        print(f'\\nТаблица {filename[: -4]}:')\n",
    "        display(globals()[filename[: -4]].head(3))"
   ]
  },
  {
   "cell_type": "markdown",
   "metadata": {},
   "source": [
    "Переведем столбцы с датой и временем в тип *datetime*:"
   ]
  },
  {
   "cell_type": "code",
   "execution_count": 7,
   "metadata": {},
   "outputs": [],
   "source": [
    "for df in [data_temp, data_arc, data_wire_time, data_bulk_time]:\n",
    "    for col in df.columns:\n",
    "        if df[col].dtype == 'object':\n",
    "            df[col] = pd.to_datetime(df[col])"
   ]
  },
  {
   "cell_type": "markdown",
   "metadata": {},
   "source": [
    "### Изучение этапа обработки\n",
    "Прежде чем перейти к анализу данных в таблицах, рассмотрим для понимания процесса полный цикл обработки одной партии:"
   ]
  },
  {
   "cell_type": "code",
   "execution_count": 8,
   "metadata": {},
   "outputs": [
    {
     "data": {
      "text/html": [
       "<style  type=\"text/css\" >\n",
       "    #T_286aacca_d95d_11ea_80fd_02420a3997d0row0_col0 {\n",
       "            background-color:  white;\n",
       "        }    #T_286aacca_d95d_11ea_80fd_02420a3997d0row0_col1 {\n",
       "            background-color:  white;\n",
       "        }    #T_286aacca_d95d_11ea_80fd_02420a3997d0row0_col2 {\n",
       "            background-color:  white;\n",
       "        }    #T_286aacca_d95d_11ea_80fd_02420a3997d0row1_col0 {\n",
       "            background-color:  white;\n",
       "        }    #T_286aacca_d95d_11ea_80fd_02420a3997d0row1_col1 {\n",
       "            background-color:  white;\n",
       "        }    #T_286aacca_d95d_11ea_80fd_02420a3997d0row1_col2 {\n",
       "            background-color:  white;\n",
       "        }    #T_286aacca_d95d_11ea_80fd_02420a3997d0row2_col0 {\n",
       "            background-color:  lightcoral;\n",
       "        }    #T_286aacca_d95d_11ea_80fd_02420a3997d0row2_col1 {\n",
       "            background-color:  lightcoral;\n",
       "        }    #T_286aacca_d95d_11ea_80fd_02420a3997d0row2_col2 {\n",
       "            background-color:  lightcoral;\n",
       "        }    #T_286aacca_d95d_11ea_80fd_02420a3997d0row3_col0 {\n",
       "            background-color:  white;\n",
       "        }    #T_286aacca_d95d_11ea_80fd_02420a3997d0row3_col1 {\n",
       "            background-color:  white;\n",
       "        }    #T_286aacca_d95d_11ea_80fd_02420a3997d0row3_col2 {\n",
       "            background-color:  white;\n",
       "        }    #T_286aacca_d95d_11ea_80fd_02420a3997d0row4_col0 {\n",
       "            background-color:  lightcoral;\n",
       "        }    #T_286aacca_d95d_11ea_80fd_02420a3997d0row4_col1 {\n",
       "            background-color:  lightcoral;\n",
       "        }    #T_286aacca_d95d_11ea_80fd_02420a3997d0row4_col2 {\n",
       "            background-color:  lightcoral;\n",
       "        }    #T_286aacca_d95d_11ea_80fd_02420a3997d0row5_col0 {\n",
       "            background-color:  white;\n",
       "        }    #T_286aacca_d95d_11ea_80fd_02420a3997d0row5_col1 {\n",
       "            background-color:  white;\n",
       "        }    #T_286aacca_d95d_11ea_80fd_02420a3997d0row5_col2 {\n",
       "            background-color:  white;\n",
       "        }    #T_286aacca_d95d_11ea_80fd_02420a3997d0row6_col0 {\n",
       "            background-color:  white;\n",
       "        }    #T_286aacca_d95d_11ea_80fd_02420a3997d0row6_col1 {\n",
       "            background-color:  white;\n",
       "        }    #T_286aacca_d95d_11ea_80fd_02420a3997d0row6_col2 {\n",
       "            background-color:  white;\n",
       "        }    #T_286aacca_d95d_11ea_80fd_02420a3997d0row7_col0 {\n",
       "            background-color:  lightcoral;\n",
       "        }    #T_286aacca_d95d_11ea_80fd_02420a3997d0row7_col1 {\n",
       "            background-color:  lightcoral;\n",
       "        }    #T_286aacca_d95d_11ea_80fd_02420a3997d0row7_col2 {\n",
       "            background-color:  lightcoral;\n",
       "        }    #T_286aacca_d95d_11ea_80fd_02420a3997d0row8_col0 {\n",
       "            background-color:  white;\n",
       "        }    #T_286aacca_d95d_11ea_80fd_02420a3997d0row8_col1 {\n",
       "            background-color:  white;\n",
       "        }    #T_286aacca_d95d_11ea_80fd_02420a3997d0row8_col2 {\n",
       "            background-color:  white;\n",
       "        }    #T_286aacca_d95d_11ea_80fd_02420a3997d0row9_col0 {\n",
       "            background-color:  white;\n",
       "        }    #T_286aacca_d95d_11ea_80fd_02420a3997d0row9_col1 {\n",
       "            background-color:  white;\n",
       "        }    #T_286aacca_d95d_11ea_80fd_02420a3997d0row9_col2 {\n",
       "            background-color:  white;\n",
       "        }</style><table id=\"T_286aacca_d95d_11ea_80fd_02420a3997d0\" ><thead>    <tr>        <th class=\"blank level0\" ></th>        <th class=\"col_heading level0 col0\" >Партия</th>        <th class=\"col_heading level0 col1\" >Действие</th>        <th class=\"col_heading level0 col2\" >Время</th>    </tr></thead><tbody>\n",
       "                <tr>\n",
       "                        <th id=\"T_286aacca_d95d_11ea_80fd_02420a3997d0level0_row0\" class=\"row_heading level0 row0\" >0</th>\n",
       "                        <td id=\"T_286aacca_d95d_11ea_80fd_02420a3997d0row0_col0\" class=\"data row0 col0\" >1244</td>\n",
       "                        <td id=\"T_286aacca_d95d_11ea_80fd_02420a3997d0row0_col1\" class=\"data row0 col1\" >Начало нагрева дугой</td>\n",
       "                        <td id=\"T_286aacca_d95d_11ea_80fd_02420a3997d0row0_col2\" class=\"data row0 col2\" >2019-06-17 08:30:19</td>\n",
       "            </tr>\n",
       "            <tr>\n",
       "                        <th id=\"T_286aacca_d95d_11ea_80fd_02420a3997d0level0_row1\" class=\"row_heading level0 row1\" >1</th>\n",
       "                        <td id=\"T_286aacca_d95d_11ea_80fd_02420a3997d0row1_col0\" class=\"data row1 col0\" >1244</td>\n",
       "                        <td id=\"T_286aacca_d95d_11ea_80fd_02420a3997d0row1_col1\" class=\"data row1 col1\" >Конец нагрева дугой</td>\n",
       "                        <td id=\"T_286aacca_d95d_11ea_80fd_02420a3997d0row1_col2\" class=\"data row1 col2\" >2019-06-17 08:31:31</td>\n",
       "            </tr>\n",
       "            <tr>\n",
       "                        <th id=\"T_286aacca_d95d_11ea_80fd_02420a3997d0level0_row2\" class=\"row_heading level0 row2\" >2</th>\n",
       "                        <td id=\"T_286aacca_d95d_11ea_80fd_02420a3997d0row2_col0\" class=\"data row2 col0\" >1244</td>\n",
       "                        <td id=\"T_286aacca_d95d_11ea_80fd_02420a3997d0row2_col1\" class=\"data row2 col1\" >Замер температуры</td>\n",
       "                        <td id=\"T_286aacca_d95d_11ea_80fd_02420a3997d0row2_col2\" class=\"data row2 col2\" >2019-06-17 08:32:36</td>\n",
       "            </tr>\n",
       "            <tr>\n",
       "                        <th id=\"T_286aacca_d95d_11ea_80fd_02420a3997d0level0_row3\" class=\"row_heading level0 row3\" >3</th>\n",
       "                        <td id=\"T_286aacca_d95d_11ea_80fd_02420a3997d0row3_col0\" class=\"data row3 col0\" >1244</td>\n",
       "                        <td id=\"T_286aacca_d95d_11ea_80fd_02420a3997d0row3_col1\" class=\"data row3 col1\" >Wire 1</td>\n",
       "                        <td id=\"T_286aacca_d95d_11ea_80fd_02420a3997d0row3_col2\" class=\"data row3 col2\" >2019-06-17 08:33:55</td>\n",
       "            </tr>\n",
       "            <tr>\n",
       "                        <th id=\"T_286aacca_d95d_11ea_80fd_02420a3997d0level0_row4\" class=\"row_heading level0 row4\" >4</th>\n",
       "                        <td id=\"T_286aacca_d95d_11ea_80fd_02420a3997d0row4_col0\" class=\"data row4 col0\" >1244</td>\n",
       "                        <td id=\"T_286aacca_d95d_11ea_80fd_02420a3997d0row4_col1\" class=\"data row4 col1\" >Замер температуры</td>\n",
       "                        <td id=\"T_286aacca_d95d_11ea_80fd_02420a3997d0row4_col2\" class=\"data row4 col2\" >2019-06-17 08:39:15</td>\n",
       "            </tr>\n",
       "            <tr>\n",
       "                        <th id=\"T_286aacca_d95d_11ea_80fd_02420a3997d0level0_row5\" class=\"row_heading level0 row5\" >5</th>\n",
       "                        <td id=\"T_286aacca_d95d_11ea_80fd_02420a3997d0row5_col0\" class=\"data row5 col0\" >1244</td>\n",
       "                        <td id=\"T_286aacca_d95d_11ea_80fd_02420a3997d0row5_col1\" class=\"data row5 col1\" >Начало нагрева дугой</td>\n",
       "                        <td id=\"T_286aacca_d95d_11ea_80fd_02420a3997d0row5_col2\" class=\"data row5 col2\" >2019-06-17 08:39:39</td>\n",
       "            </tr>\n",
       "            <tr>\n",
       "                        <th id=\"T_286aacca_d95d_11ea_80fd_02420a3997d0level0_row6\" class=\"row_heading level0 row6\" >6</th>\n",
       "                        <td id=\"T_286aacca_d95d_11ea_80fd_02420a3997d0row6_col0\" class=\"data row6 col0\" >1244</td>\n",
       "                        <td id=\"T_286aacca_d95d_11ea_80fd_02420a3997d0row6_col1\" class=\"data row6 col1\" >Конец нагрева дугой</td>\n",
       "                        <td id=\"T_286aacca_d95d_11ea_80fd_02420a3997d0row6_col2\" class=\"data row6 col2\" >2019-06-17 08:43:19</td>\n",
       "            </tr>\n",
       "            <tr>\n",
       "                        <th id=\"T_286aacca_d95d_11ea_80fd_02420a3997d0level0_row7\" class=\"row_heading level0 row7\" >7</th>\n",
       "                        <td id=\"T_286aacca_d95d_11ea_80fd_02420a3997d0row7_col0\" class=\"data row7 col0\" >1244</td>\n",
       "                        <td id=\"T_286aacca_d95d_11ea_80fd_02420a3997d0row7_col1\" class=\"data row7 col1\" >Замер температуры</td>\n",
       "                        <td id=\"T_286aacca_d95d_11ea_80fd_02420a3997d0row7_col2\" class=\"data row7 col2\" >2019-06-17 08:45:16</td>\n",
       "            </tr>\n",
       "            <tr>\n",
       "                        <th id=\"T_286aacca_d95d_11ea_80fd_02420a3997d0level0_row8\" class=\"row_heading level0 row8\" >8</th>\n",
       "                        <td id=\"T_286aacca_d95d_11ea_80fd_02420a3997d0row8_col0\" class=\"data row8 col0\" >1244</td>\n",
       "                        <td id=\"T_286aacca_d95d_11ea_80fd_02420a3997d0row8_col1\" class=\"data row8 col1\" >Bulk 4</td>\n",
       "                        <td id=\"T_286aacca_d95d_11ea_80fd_02420a3997d0row8_col2\" class=\"data row8 col2\" >2019-06-17 08:49:23</td>\n",
       "            </tr>\n",
       "            <tr>\n",
       "                        <th id=\"T_286aacca_d95d_11ea_80fd_02420a3997d0level0_row9\" class=\"row_heading level0 row9\" >9</th>\n",
       "                        <td id=\"T_286aacca_d95d_11ea_80fd_02420a3997d0row9_col0\" class=\"data row9 col0\" >1244</td>\n",
       "                        <td id=\"T_286aacca_d95d_11ea_80fd_02420a3997d0row9_col1\" class=\"data row9 col1\" >Wire 2</td>\n",
       "                        <td id=\"T_286aacca_d95d_11ea_80fd_02420a3997d0row9_col2\" class=\"data row9 col2\" >2019-06-17 08:49:29</td>\n",
       "            </tr>\n",
       "    </tbody></table>"
      ],
      "text/plain": [
       "<pandas.io.formats.style.Styler at 0x7fa439ad3d50>"
      ]
     },
     "execution_count": 8,
     "metadata": {},
     "output_type": "execute_result"
    }
   ],
   "source": [
    "def timeline(key):\n",
    "    '''Построение таймлайна для партии с номером key'''\n",
    "    temp = pd.concat(\n",
    "        [\n",
    "            data_bulk_time[data_bulk_time['key'] == key].melt(id_vars = 'key').dropna(),\n",
    "            data_wire_time[data_wire_time['key'] == key].melt(id_vars = 'key').dropna(),\n",
    "            data_arc[data_arc['key'] == key].melt(id_vars = 'key',\n",
    "                                                  value_vars = ['Начало нагрева дугой', 'Конец нагрева дугой']),\n",
    "            data_temp[data_temp['key'] == key].melt(id_vars='key',\n",
    "                                                    value_vars = 'Время замера')\n",
    "        ]\n",
    "    ).sort_values('value').reset_index(drop=True)\n",
    "    temp.columns = ['Партия', 'Действие', 'Время']\n",
    "    temp.loc[temp['Действие'] == 'Время замера', 'Действие'] = 'Замер температуры'\n",
    "    return temp\n",
    "\n",
    "def highlight(row):         #для выделения цветом\n",
    "    color = 'white'\n",
    "    if row.values[1] == 'Замер температуры':\n",
    "        color = 'lightcoral'\n",
    "    return ['background-color: ' + color] * 3\n",
    "\n",
    "timeline(1244).style.apply(highlight, axis=1)"
   ]
  },
  {
   "cell_type": "markdown",
   "metadata": {},
   "source": [
    "На примере данной партии можно видеть, что подогрев стали, измерение температуры и добавление примесей могут выполняться по несколько раз за этап. Некоторые действия производятся уже после финального замера температуры - соответственно, на целевую переменную они не влияют.\n",
    "\n",
    "Исследуем данные в загруженных таблицах."
   ]
  },
  {
   "cell_type": "markdown",
   "metadata": {},
   "source": [
    "#### data_temp\n",
    "\n",
    "В ***data_temp*** содержатся результаты измерения температуры в разные моменты времени. Посмотрим информацию о таблице:"
   ]
  },
  {
   "cell_type": "code",
   "execution_count": 9,
   "metadata": {},
   "outputs": [
    {
     "name": "stdout",
     "output_type": "stream",
     "text": [
      "<class 'pandas.core.frame.DataFrame'>\n",
      "RangeIndex: 15907 entries, 0 to 15906\n",
      "Data columns (total 3 columns):\n",
      "key             15907 non-null int64\n",
      "Время замера    15907 non-null datetime64[ns]\n",
      "Температура     13006 non-null float64\n",
      "dtypes: datetime64[ns](1), float64(1), int64(1)\n",
      "memory usage: 372.9 KB\n"
     ]
    }
   ],
   "source": [
    "data_temp.info()"
   ]
  },
  {
   "cell_type": "markdown",
   "metadata": {},
   "source": [
    "В таблице 15907 записей, типы данных - int, float, datetime. В столбце **Температура** присутствуют пропуски.\n",
    "\n",
    "Изучим столбец **key** (номер партии). Посмотрим на количество партий, а также подсчитаем, сколько раз измерялась температура каждой партии:"
   ]
  },
  {
   "cell_type": "code",
   "execution_count": 10,
   "metadata": {},
   "outputs": [
    {
     "name": "stdout",
     "output_type": "stream",
     "text": [
      "Количество партий: 3216\n"
     ]
    },
    {
     "data": {
      "image/png": "[encoded data removed]",
      "text/plain": [
       "<Figure size 576x216 with 1 Axes>"
      ]
     },
     "metadata": {
      "needs_background": "light"
     },
     "output_type": "display_data"
    }
   ],
   "source": [
    "print('Количество партий:', data_temp['key'].nunique())\n",
    "data_temp['key'].value_counts().hist(bins=16, figsize=(8,3))\n",
    "plt.title('Гистограмма количества замеров температуры')\n",
    "plt.show()"
   ]
  },
  {
   "cell_type": "markdown",
   "metadata": {},
   "source": [
    "Количество партий - 3216, количество замеров температуры - от 1 до 16 раз, в среднем температура измеряется 4-5 раз за этап.\n",
    "\n",
    "Найдем пропуски в столбце **Температура**:"
   ]
  },
  {
   "cell_type": "code",
   "execution_count": 11,
   "metadata": {
    "scrolled": false
   },
   "outputs": [
    {
     "name": "stdout",
     "output_type": "stream",
     "text": [
      "Пропусков в столбце Температура: 2901\n"
     ]
    },
    {
     "data": {
      "text/html": [
       "<div>\n",
       "<style scoped>\n",
       "    .dataframe tbody tr th:only-of-type {\n",
       "        vertical-align: middle;\n",
       "    }\n",
       "\n",
       "    .dataframe tbody tr th {\n",
       "        vertical-align: top;\n",
       "    }\n",
       "\n",
       "    .dataframe thead th {\n",
       "        text-align: right;\n",
       "    }\n",
       "</style>\n",
       "<table border=\"1\" class=\"dataframe\">\n",
       "  <thead>\n",
       "    <tr style=\"text-align: right;\">\n",
       "      <th></th>\n",
       "      <th>key</th>\n",
       "      <th>Время замера</th>\n",
       "      <th>Температура</th>\n",
       "    </tr>\n",
       "  </thead>\n",
       "  <tbody>\n",
       "    <tr>\n",
       "      <td>12268</td>\n",
       "      <td>2500</td>\n",
       "      <td>2019-08-06 03:24:43</td>\n",
       "      <td>NaN</td>\n",
       "    </tr>\n",
       "    <tr>\n",
       "      <td>12269</td>\n",
       "      <td>2500</td>\n",
       "      <td>2019-08-06 03:25:16</td>\n",
       "      <td>NaN</td>\n",
       "    </tr>\n",
       "    <tr>\n",
       "      <td>12270</td>\n",
       "      <td>2500</td>\n",
       "      <td>2019-08-06 03:28:21</td>\n",
       "      <td>NaN</td>\n",
       "    </tr>\n",
       "    <tr>\n",
       "      <td>12272</td>\n",
       "      <td>2501</td>\n",
       "      <td>2019-08-06 04:01:59</td>\n",
       "      <td>NaN</td>\n",
       "    </tr>\n",
       "    <tr>\n",
       "      <td>12273</td>\n",
       "      <td>2501</td>\n",
       "      <td>2019-08-06 04:14:35</td>\n",
       "      <td>NaN</td>\n",
       "    </tr>\n",
       "    <tr>\n",
       "      <td>...</td>\n",
       "      <td>...</td>\n",
       "      <td>...</td>\n",
       "      <td>...</td>\n",
       "    </tr>\n",
       "    <tr>\n",
       "      <td>15901</td>\n",
       "      <td>3240</td>\n",
       "      <td>2019-09-01 03:35:16</td>\n",
       "      <td>NaN</td>\n",
       "    </tr>\n",
       "    <tr>\n",
       "      <td>15903</td>\n",
       "      <td>3241</td>\n",
       "      <td>2019-09-01 04:16:12</td>\n",
       "      <td>NaN</td>\n",
       "    </tr>\n",
       "    <tr>\n",
       "      <td>15904</td>\n",
       "      <td>3241</td>\n",
       "      <td>2019-09-01 04:22:39</td>\n",
       "      <td>NaN</td>\n",
       "    </tr>\n",
       "    <tr>\n",
       "      <td>15905</td>\n",
       "      <td>3241</td>\n",
       "      <td>2019-09-01 04:33:42</td>\n",
       "      <td>NaN</td>\n",
       "    </tr>\n",
       "    <tr>\n",
       "      <td>15906</td>\n",
       "      <td>3241</td>\n",
       "      <td>2019-09-01 04:38:08</td>\n",
       "      <td>NaN</td>\n",
       "    </tr>\n",
       "  </tbody>\n",
       "</table>\n",
       "<p>2901 rows × 3 columns</p>\n",
       "</div>"
      ],
      "text/plain": [
       "        key        Время замера  Температура\n",
       "12268  2500 2019-08-06 03:24:43          NaN\n",
       "12269  2500 2019-08-06 03:25:16          NaN\n",
       "12270  2500 2019-08-06 03:28:21          NaN\n",
       "12272  2501 2019-08-06 04:01:59          NaN\n",
       "12273  2501 2019-08-06 04:14:35          NaN\n",
       "...     ...                 ...          ...\n",
       "15901  3240 2019-09-01 03:35:16          NaN\n",
       "15903  3241 2019-09-01 04:16:12          NaN\n",
       "15904  3241 2019-09-01 04:22:39          NaN\n",
       "15905  3241 2019-09-01 04:33:42          NaN\n",
       "15906  3241 2019-09-01 04:38:08          NaN\n",
       "\n",
       "[2901 rows x 3 columns]"
      ]
     },
     "execution_count": 11,
     "metadata": {},
     "output_type": "execute_result"
    }
   ],
   "source": [
    "print(f'Пропусков в столбце Температура: {data_temp[\"Температура\"].isna().sum()}')\n",
    "data_temp[data_temp['Температура'].isna()]"
   ]
  },
  {
   "cell_type": "markdown",
   "metadata": {},
   "source": [
    "Начиная с 2500-ой партии возникли проблемы с сохранением значений температуры. Проверим, есть ли непустые записи после этого момента:"
   ]
  },
  {
   "cell_type": "code",
   "execution_count": 12,
   "metadata": {
    "scrolled": false
   },
   "outputs": [
    {
     "data": {
      "text/html": [
       "<div>\n",
       "<style scoped>\n",
       "    .dataframe tbody tr th:only-of-type {\n",
       "        vertical-align: middle;\n",
       "    }\n",
       "\n",
       "    .dataframe tbody tr th {\n",
       "        vertical-align: top;\n",
       "    }\n",
       "\n",
       "    .dataframe thead th {\n",
       "        text-align: right;\n",
       "    }\n",
       "</style>\n",
       "<table border=\"1\" class=\"dataframe\">\n",
       "  <thead>\n",
       "    <tr style=\"text-align: right;\">\n",
       "      <th></th>\n",
       "      <th>key</th>\n",
       "      <th>Время замера</th>\n",
       "      <th>Температура</th>\n",
       "    </tr>\n",
       "  </thead>\n",
       "  <tbody>\n",
       "    <tr>\n",
       "      <td>12267</td>\n",
       "      <td>2500</td>\n",
       "      <td>2019-08-06 03:11:31</td>\n",
       "      <td>1539.0</td>\n",
       "    </tr>\n",
       "    <tr>\n",
       "      <td>12271</td>\n",
       "      <td>2501</td>\n",
       "      <td>2019-08-06 03:44:42</td>\n",
       "      <td>1587.0</td>\n",
       "    </tr>\n",
       "    <tr>\n",
       "      <td>12276</td>\n",
       "      <td>2502</td>\n",
       "      <td>2019-08-06 04:45:26</td>\n",
       "      <td>1583.0</td>\n",
       "    </tr>\n",
       "    <tr>\n",
       "      <td>12283</td>\n",
       "      <td>2503</td>\n",
       "      <td>2019-08-06 05:32:06</td>\n",
       "      <td>1603.0</td>\n",
       "    </tr>\n",
       "    <tr>\n",
       "      <td>12287</td>\n",
       "      <td>2504</td>\n",
       "      <td>2019-08-06 06:35:39</td>\n",
       "      <td>1583.0</td>\n",
       "    </tr>\n",
       "  </tbody>\n",
       "</table>\n",
       "</div>"
      ],
      "text/plain": [
       "        key        Время замера  Температура\n",
       "12267  2500 2019-08-06 03:11:31       1539.0\n",
       "12271  2501 2019-08-06 03:44:42       1587.0\n",
       "12276  2502 2019-08-06 04:45:26       1583.0\n",
       "12283  2503 2019-08-06 05:32:06       1603.0\n",
       "12287  2504 2019-08-06 06:35:39       1583.0"
      ]
     },
     "execution_count": 12,
     "metadata": {},
     "output_type": "execute_result"
    }
   ],
   "source": [
    "data_temp.query('Температура != \"NaN\" and key >= 2500').head()"
   ]
  },
  {
   "cell_type": "markdown",
   "metadata": {},
   "source": [
    "Получается, что после 2500-ой партии в таблице сохранено только одно (первое) значение температуры для каждой партии, а  последующие показания датчика не фиксировались. Скорее всего это связано с ошибкой записи данных в базу.\n",
    "\n",
    "Поскольку у этих партий отсутствует финальная температура (целевой признак), для обучения и проверки модели они бесполезны. Удалим их из таблицы:"
   ]
  },
  {
   "cell_type": "code",
   "execution_count": 13,
   "metadata": {},
   "outputs": [
    {
     "name": "stdout",
     "output_type": "stream",
     "text": [
      "<class 'pandas.core.frame.DataFrame'>\n",
      "Int64Index: 12267 entries, 0 to 12266\n",
      "Data columns (total 3 columns):\n",
      "key             12267 non-null int64\n",
      "Время замера    12267 non-null datetime64[ns]\n",
      "Температура     12267 non-null float64\n",
      "dtypes: datetime64[ns](1), float64(1), int64(1)\n",
      "memory usage: 383.3 KB\n"
     ]
    }
   ],
   "source": [
    "null_parties = data_temp[data_temp['Температура'].isna()]['key'].unique()\n",
    "data_temp = data_temp.query('key not in @null_parties')\n",
    "data_temp.info()"
   ]
  },
  {
   "cell_type": "markdown",
   "metadata": {},
   "source": [
    "Изучим распределение значений столбца **Температура**:"
   ]
  },
  {
   "cell_type": "code",
   "execution_count": 14,
   "metadata": {},
   "outputs": [
    {
     "data": {
      "image/png": "[encoded data removed]",
      "text/plain": [
       "<Figure size 576x216 with 1 Axes>"
      ]
     },
     "metadata": {
      "needs_background": "light"
     },
     "output_type": "display_data"
    },
    {
     "data": {
      "text/plain": [
       "count    12267.000000\n",
       "mean      1591.999022\n",
       "std         20.833175\n",
       "min       1191.000000\n",
       "25%       1581.000000\n",
       "50%       1591.000000\n",
       "75%       1601.000000\n",
       "max       1705.000000\n",
       "Name: Температура, dtype: float64"
      ]
     },
     "execution_count": 14,
     "metadata": {},
     "output_type": "execute_result"
    }
   ],
   "source": [
    "data_temp['Температура'].hist(bins = 50, figsize = (8, 3))\n",
    "plt.title('Температура')\n",
    "plt.show()\n",
    "data_temp['Температура'].describe()"
   ]
  },
  {
   "cell_type": "markdown",
   "metadata": {},
   "source": [
    "Большинство значений нормально распределены в области от 1550 до 1650 градусов, однако есть выбросы со значительно меньшими показателями (менее 1200 градусов). Найдем их:"
   ]
  },
  {
   "cell_type": "code",
   "execution_count": 15,
   "metadata": {},
   "outputs": [
    {
     "data": {
      "text/html": [
       "<div>\n",
       "<style scoped>\n",
       "    .dataframe tbody tr th:only-of-type {\n",
       "        vertical-align: middle;\n",
       "    }\n",
       "\n",
       "    .dataframe tbody tr th {\n",
       "        vertical-align: top;\n",
       "    }\n",
       "\n",
       "    .dataframe thead th {\n",
       "        text-align: right;\n",
       "    }\n",
       "</style>\n",
       "<table border=\"1\" class=\"dataframe\">\n",
       "  <thead>\n",
       "    <tr style=\"text-align: right;\">\n",
       "      <th></th>\n",
       "      <th>key</th>\n",
       "      <th>Время замера</th>\n",
       "      <th>Температура</th>\n",
       "    </tr>\n",
       "  </thead>\n",
       "  <tbody>\n",
       "    <tr>\n",
       "      <td>4350</td>\n",
       "      <td>867</td>\n",
       "      <td>2019-06-04 14:21:00</td>\n",
       "      <td>1191.0</td>\n",
       "    </tr>\n",
       "    <tr>\n",
       "      <td>5978</td>\n",
       "      <td>1214</td>\n",
       "      <td>2019-06-16 05:32:00</td>\n",
       "      <td>1208.0</td>\n",
       "    </tr>\n",
       "    <tr>\n",
       "      <td>7958</td>\n",
       "      <td>1619</td>\n",
       "      <td>2019-06-30 11:03:54</td>\n",
       "      <td>1218.0</td>\n",
       "    </tr>\n",
       "    <tr>\n",
       "      <td>8913</td>\n",
       "      <td>1818</td>\n",
       "      <td>2019-07-07 00:30:49</td>\n",
       "      <td>1383.0</td>\n",
       "    </tr>\n",
       "    <tr>\n",
       "      <td>8914</td>\n",
       "      <td>1818</td>\n",
       "      <td>2019-07-07 00:31:40</td>\n",
       "      <td>1383.0</td>\n",
       "    </tr>\n",
       "    <tr>\n",
       "      <td>10127</td>\n",
       "      <td>2052</td>\n",
       "      <td>2019-07-21 14:51:40</td>\n",
       "      <td>1227.0</td>\n",
       "    </tr>\n",
       "  </tbody>\n",
       "</table>\n",
       "</div>"
      ],
      "text/plain": [
       "        key        Время замера  Температура\n",
       "4350    867 2019-06-04 14:21:00       1191.0\n",
       "5978   1214 2019-06-16 05:32:00       1208.0\n",
       "7958   1619 2019-06-30 11:03:54       1218.0\n",
       "8913   1818 2019-07-07 00:30:49       1383.0\n",
       "8914   1818 2019-07-07 00:31:40       1383.0\n",
       "10127  2052 2019-07-21 14:51:40       1227.0"
      ]
     },
     "execution_count": 15,
     "metadata": {},
     "output_type": "execute_result"
    }
   ],
   "source": [
    "data_temp[data_temp['Температура'] < 1500]"
   ]
  },
  {
   "cell_type": "markdown",
   "metadata": {},
   "source": [
    "Данные значения неправдоподобны (находятся [ниже температуры плавления стали](http://thermalinfo.ru/svojstva-materialov/metally-i-splavy/temperatura-plavleniya-i-kipeniya-metallov-plotnost-i-teploprovodnost#:~:text=%D0%A2%D0%B5%D0%BC%D0%BF%D0%B5%D1%80%D0%B0%D1%82%D1%83%D1%80%D0%B0%20%D0%BF%D0%BB%D0%B0%D0%B2%D0%BB%D0%B5%D0%BD%D0%B8%D1%8F%20%D1%81%D1%82%D0%B0%D0%BB%D0%B8%20%D0%BD%D0%B0%D1%85%D0%BE%D0%B4%D0%B8%D1%82%D1%81%D1%8F%20%D0%B2%20%D0%B4%D0%B8%D0%B0%D0%BF%D0%B0%D0%B7%D0%BE%D0%BD%D0%B5%20%D0%BE%D1%82%201350%20%D0%B4%D0%BE%201535%C2%B0%D0%A1.)) и, скорее всего, возникли из-за сбоя измерительной аппаратуры. \n",
    "\n",
    "Заменим эти значения на медиану столбца:"
   ]
  },
  {
   "cell_type": "code",
   "execution_count": 16,
   "metadata": {},
   "outputs": [
    {
     "data": {
      "image/png": "[encoded data removed]",
      "text/plain": [
       "<Figure size 576x216 with 1 Axes>"
      ]
     },
     "metadata": {
      "needs_background": "light"
     },
     "output_type": "display_data"
    }
   ],
   "source": [
    "data_temp.loc[data_temp['Температура'] < 1500, 'Температура'] = data_temp['Температура'].median()\n",
    "data_temp['Температура'].hist(bins = 50, figsize = (8, 3))\n",
    "plt.title('Температура')\n",
    "plt.show()"
   ]
  },
  {
   "cell_type": "markdown",
   "metadata": {},
   "source": [
    "Согласно условию задачи, нас интересуют первая и последняя измеренная температура каждой партии. Найдем нужные значения и сохраним их в новую таблицу ***data_all***:"
   ]
  },
  {
   "cell_type": "code",
   "execution_count": 17,
   "metadata": {},
   "outputs": [
    {
     "data": {
      "text/html": [
       "<div>\n",
       "<style scoped>\n",
       "    .dataframe tbody tr th:only-of-type {\n",
       "        vertical-align: middle;\n",
       "    }\n",
       "\n",
       "    .dataframe tbody tr th {\n",
       "        vertical-align: top;\n",
       "    }\n",
       "\n",
       "    .dataframe thead th {\n",
       "        text-align: right;\n",
       "    }\n",
       "</style>\n",
       "<table border=\"1\" class=\"dataframe\">\n",
       "  <thead>\n",
       "    <tr style=\"text-align: right;\">\n",
       "      <th></th>\n",
       "      <th>temp_0</th>\n",
       "      <th>temp_0_time</th>\n",
       "      <th>temp_final</th>\n",
       "      <th>temp_final_time</th>\n",
       "    </tr>\n",
       "    <tr>\n",
       "      <th>key</th>\n",
       "      <th></th>\n",
       "      <th></th>\n",
       "      <th></th>\n",
       "      <th></th>\n",
       "    </tr>\n",
       "  </thead>\n",
       "  <tbody>\n",
       "    <tr>\n",
       "      <td>1</td>\n",
       "      <td>1571.0</td>\n",
       "      <td>2019-05-03 11:16:18</td>\n",
       "      <td>1613.0</td>\n",
       "      <td>2019-05-03 11:30:39</td>\n",
       "    </tr>\n",
       "    <tr>\n",
       "      <td>2</td>\n",
       "      <td>1581.0</td>\n",
       "      <td>2019-05-03 11:37:27</td>\n",
       "      <td>1602.0</td>\n",
       "      <td>2019-05-03 11:59:12</td>\n",
       "    </tr>\n",
       "    <tr>\n",
       "      <td>3</td>\n",
       "      <td>1596.0</td>\n",
       "      <td>2019-05-03 12:13:17</td>\n",
       "      <td>1599.0</td>\n",
       "      <td>2019-05-03 12:34:57</td>\n",
       "    </tr>\n",
       "    <tr>\n",
       "      <td>4</td>\n",
       "      <td>1601.0</td>\n",
       "      <td>2019-05-03 12:52:57</td>\n",
       "      <td>1625.0</td>\n",
       "      <td>2019-05-03 12:59:25</td>\n",
       "    </tr>\n",
       "    <tr>\n",
       "      <td>5</td>\n",
       "      <td>1576.0</td>\n",
       "      <td>2019-05-03 13:23:19</td>\n",
       "      <td>1602.0</td>\n",
       "      <td>2019-05-03 13:36:01</td>\n",
       "    </tr>\n",
       "  </tbody>\n",
       "</table>\n",
       "</div>"
      ],
      "text/plain": [
       "     temp_0         temp_0_time  temp_final     temp_final_time\n",
       "key                                                            \n",
       "1    1571.0 2019-05-03 11:16:18      1613.0 2019-05-03 11:30:39\n",
       "2    1581.0 2019-05-03 11:37:27      1602.0 2019-05-03 11:59:12\n",
       "3    1596.0 2019-05-03 12:13:17      1599.0 2019-05-03 12:34:57\n",
       "4    1601.0 2019-05-03 12:52:57      1625.0 2019-05-03 12:59:25\n",
       "5    1576.0 2019-05-03 13:23:19      1602.0 2019-05-03 13:36:01"
      ]
     },
     "execution_count": 17,
     "metadata": {},
     "output_type": "execute_result"
    }
   ],
   "source": [
    "gr = data_temp.sort_values('Время замера').groupby('key')[['Температура','Время замера']]\n",
    "data_all = (gr.first().join(gr.last(), rsuffix='_'))\n",
    "data_all.columns = ['temp_0', 'temp_0_time', 'temp_final', 'temp_final_time']\n",
    "\n",
    "data_all.head()"
   ]
  },
  {
   "cell_type": "markdown",
   "metadata": {},
   "source": [
    "Найдем партии, у которых температура измерялась только один раз (**temp_0_time** равна **temp_final_time**):"
   ]
  },
  {
   "cell_type": "code",
   "execution_count": 18,
   "metadata": {},
   "outputs": [
    {
     "data": {
      "text/html": [
       "<div>\n",
       "<style scoped>\n",
       "    .dataframe tbody tr th:only-of-type {\n",
       "        vertical-align: middle;\n",
       "    }\n",
       "\n",
       "    .dataframe tbody tr th {\n",
       "        vertical-align: top;\n",
       "    }\n",
       "\n",
       "    .dataframe thead th {\n",
       "        text-align: right;\n",
       "    }\n",
       "</style>\n",
       "<table border=\"1\" class=\"dataframe\">\n",
       "  <thead>\n",
       "    <tr style=\"text-align: right;\">\n",
       "      <th></th>\n",
       "      <th>temp_0</th>\n",
       "      <th>temp_0_time</th>\n",
       "      <th>temp_final</th>\n",
       "      <th>temp_final_time</th>\n",
       "    </tr>\n",
       "    <tr>\n",
       "      <th>key</th>\n",
       "      <th></th>\n",
       "      <th></th>\n",
       "      <th></th>\n",
       "      <th></th>\n",
       "    </tr>\n",
       "  </thead>\n",
       "  <tbody>\n",
       "    <tr>\n",
       "      <td>195</td>\n",
       "      <td>1583.0</td>\n",
       "      <td>2019-05-10 14:10:23</td>\n",
       "      <td>1583.0</td>\n",
       "      <td>2019-05-10 14:10:23</td>\n",
       "    </tr>\n",
       "    <tr>\n",
       "      <td>279</td>\n",
       "      <td>1603.0</td>\n",
       "      <td>2019-05-13 23:07:28</td>\n",
       "      <td>1603.0</td>\n",
       "      <td>2019-05-13 23:07:28</td>\n",
       "    </tr>\n",
       "  </tbody>\n",
       "</table>\n",
       "</div>"
      ],
      "text/plain": [
       "     temp_0         temp_0_time  temp_final     temp_final_time\n",
       "key                                                            \n",
       "195  1583.0 2019-05-10 14:10:23      1583.0 2019-05-10 14:10:23\n",
       "279  1603.0 2019-05-13 23:07:28      1603.0 2019-05-13 23:07:28"
      ]
     },
     "execution_count": 18,
     "metadata": {},
     "output_type": "execute_result"
    }
   ],
   "source": [
    "data_all.query('temp_0_time == temp_final_time')"
   ]
  },
  {
   "cell_type": "markdown",
   "metadata": {},
   "source": [
    "Эти записи бесполезны для обучения (в них содержится только целевой признак). Удалим их из таблицы:"
   ]
  },
  {
   "cell_type": "code",
   "execution_count": 19,
   "metadata": {},
   "outputs": [
    {
     "name": "stdout",
     "output_type": "stream",
     "text": [
      "Размер выборки: 2475\n"
     ]
    }
   ],
   "source": [
    "data_all = data_all.query('temp_0_time != temp_final_time')\n",
    "print('Размер выборки:', data_all.shape[0])"
   ]
  },
  {
   "cell_type": "markdown",
   "metadata": {},
   "source": [
    "Рассчитаем для каждой партии время, прошедшее между первым и последним замером температуры - это будет приблизительной оценкой длительности этапа обработки (приблизительной потому, что над сталью могли производится действия до и после измерений):"
   ]
  },
  {
   "cell_type": "code",
   "execution_count": 20,
   "metadata": {},
   "outputs": [
    {
     "data": {
      "image/png": "[encoded data removed]",
      "text/plain": [
       "<Figure size 576x216 with 1 Axes>"
      ]
     },
     "metadata": {
      "needs_background": "light"
     },
     "output_type": "display_data"
    },
    {
     "data": {
      "text/plain": [
       "count     2475.000000\n",
       "mean      1854.953939\n",
       "std       1301.241764\n",
       "min        234.000000\n",
       "25%       1182.500000\n",
       "50%       1593.000000\n",
       "75%       2262.500000\n",
       "max      23537.000000\n",
       "Name: since_start, dtype: float64"
      ]
     },
     "execution_count": 20,
     "metadata": {},
     "output_type": "execute_result"
    }
   ],
   "source": [
    "data_all['since_start'] = (data_all['temp_final_time'] - data_all['temp_0_time']).dt.seconds\n",
    "data_all['since_start'].hist(bins=50, figsize=((8,3)))\n",
    "plt.title('Время между первым и последним замером, секунд')\n",
    "plt.show()\n",
    "data_all['since_start'].describe()"
   ]
  },
  {
   "cell_type": "markdown",
   "metadata": {},
   "source": [
    "По большей части найденная величина лежит в области от нескольких минут до часа, однако отдельные партии, судя по графику, обрабатывались более 5 часов! Найдем одну из таких партий и посмотрим, в чем дело:"
   ]
  },
  {
   "cell_type": "code",
   "execution_count": 21,
   "metadata": {},
   "outputs": [
    {
     "data": {
      "text/html": [
       "<div>\n",
       "<style scoped>\n",
       "    .dataframe tbody tr th:only-of-type {\n",
       "        vertical-align: middle;\n",
       "    }\n",
       "\n",
       "    .dataframe tbody tr th {\n",
       "        vertical-align: top;\n",
       "    }\n",
       "\n",
       "    .dataframe thead th {\n",
       "        text-align: right;\n",
       "    }\n",
       "</style>\n",
       "<table border=\"1\" class=\"dataframe\">\n",
       "  <thead>\n",
       "    <tr style=\"text-align: right;\">\n",
       "      <th></th>\n",
       "      <th>temp_0</th>\n",
       "      <th>temp_0_time</th>\n",
       "      <th>temp_final</th>\n",
       "      <th>temp_final_time</th>\n",
       "      <th>since_start</th>\n",
       "    </tr>\n",
       "    <tr>\n",
       "      <th>key</th>\n",
       "      <th></th>\n",
       "      <th></th>\n",
       "      <th></th>\n",
       "      <th></th>\n",
       "      <th></th>\n",
       "    </tr>\n",
       "  </thead>\n",
       "  <tbody>\n",
       "    <tr>\n",
       "      <td>1689</td>\n",
       "      <td>1583.0</td>\n",
       "      <td>2019-07-02 15:28:21</td>\n",
       "      <td>1606.0</td>\n",
       "      <td>2019-07-02 22:00:38</td>\n",
       "      <td>23537</td>\n",
       "    </tr>\n",
       "    <tr>\n",
       "      <td>1690</td>\n",
       "      <td>1598.0</td>\n",
       "      <td>2019-07-02 16:32:13</td>\n",
       "      <td>1588.0</td>\n",
       "      <td>2019-07-02 16:53:24</td>\n",
       "      <td>1271</td>\n",
       "    </tr>\n",
       "    <tr>\n",
       "      <td>1691</td>\n",
       "      <td>1583.0</td>\n",
       "      <td>2019-07-02 17:02:23</td>\n",
       "      <td>1587.0</td>\n",
       "      <td>2019-07-02 17:33:30</td>\n",
       "      <td>1867</td>\n",
       "    </tr>\n",
       "    <tr>\n",
       "      <td>1692</td>\n",
       "      <td>1568.0</td>\n",
       "      <td>2019-07-02 17:49:19</td>\n",
       "      <td>1591.0</td>\n",
       "      <td>2019-07-02 18:17:34</td>\n",
       "      <td>1695</td>\n",
       "    </tr>\n",
       "  </tbody>\n",
       "</table>\n",
       "</div>"
      ],
      "text/plain": [
       "      temp_0         temp_0_time  temp_final     temp_final_time  since_start\n",
       "key                                                                          \n",
       "1689  1583.0 2019-07-02 15:28:21      1606.0 2019-07-02 22:00:38        23537\n",
       "1690  1598.0 2019-07-02 16:32:13      1588.0 2019-07-02 16:53:24         1271\n",
       "1691  1583.0 2019-07-02 17:02:23      1587.0 2019-07-02 17:33:30         1867\n",
       "1692  1568.0 2019-07-02 17:49:19      1591.0 2019-07-02 18:17:34         1695"
      ]
     },
     "execution_count": 21,
     "metadata": {},
     "output_type": "execute_result"
    }
   ],
   "source": [
    "sample_index = data_all.sort_values('since_start', ascending=False).index[0]\n",
    "data_all.loc[sample_index: sample_index + 3, :]"
   ]
  },
  {
   "cell_type": "markdown",
   "metadata": {},
   "source": [
    "Итак, обработка партии 1689 начата в 15:28, а завершилась в 22:00, причем за это время через ковш успели пройти еще несколько партий. Очевидно, дело в том, что одной из последующих партий ошибочно был присвоен тот же номер, из-за чего они \"слиплись\" в базе данных. Возможно и другое объяснение - партия прошла обработку, а спустя некоторое время по каким-то причинам была возвращена обратно для дополнительных действий.\n",
    "\n",
    "В связи с тем, что запись под номером 1689 (и подобные ей) содержат данные более чем об одном этапе обработки, которые могли проходить по совершенно разным техпроцессам и в разных температурных режимах, для обучения модели они не подходят.\n",
    "\n",
    "Удалим из таблицы записи с длительностью более 2-х часов:"
   ]
  },
  {
   "cell_type": "code",
   "execution_count": 22,
   "metadata": {},
   "outputs": [],
   "source": [
    "data_all = data_all.query('since_start < (2 * 60 * 60)')"
   ]
  },
  {
   "cell_type": "markdown",
   "metadata": {},
   "source": [
    "#### data_arc\n",
    "Теперь изучим таблицу ***data_arc***. "
   ]
  },
  {
   "cell_type": "code",
   "execution_count": 23,
   "metadata": {},
   "outputs": [
    {
     "data": {
      "text/html": [
       "<div>\n",
       "<style scoped>\n",
       "    .dataframe tbody tr th:only-of-type {\n",
       "        vertical-align: middle;\n",
       "    }\n",
       "\n",
       "    .dataframe tbody tr th {\n",
       "        vertical-align: top;\n",
       "    }\n",
       "\n",
       "    .dataframe thead th {\n",
       "        text-align: right;\n",
       "    }\n",
       "</style>\n",
       "<table border=\"1\" class=\"dataframe\">\n",
       "  <thead>\n",
       "    <tr style=\"text-align: right;\">\n",
       "      <th></th>\n",
       "      <th>key</th>\n",
       "      <th>Начало нагрева дугой</th>\n",
       "      <th>Конец нагрева дугой</th>\n",
       "      <th>Активная мощность</th>\n",
       "      <th>Реактивная мощность</th>\n",
       "    </tr>\n",
       "  </thead>\n",
       "  <tbody>\n",
       "    <tr>\n",
       "      <td>0</td>\n",
       "      <td>1</td>\n",
       "      <td>2019-05-03 11:02:14</td>\n",
       "      <td>2019-05-03 11:06:02</td>\n",
       "      <td>0.976059</td>\n",
       "      <td>0.687084</td>\n",
       "    </tr>\n",
       "    <tr>\n",
       "      <td>1</td>\n",
       "      <td>1</td>\n",
       "      <td>2019-05-03 11:07:28</td>\n",
       "      <td>2019-05-03 11:10:33</td>\n",
       "      <td>0.805607</td>\n",
       "      <td>0.520285</td>\n",
       "    </tr>\n",
       "    <tr>\n",
       "      <td>2</td>\n",
       "      <td>1</td>\n",
       "      <td>2019-05-03 11:11:44</td>\n",
       "      <td>2019-05-03 11:14:36</td>\n",
       "      <td>0.744363</td>\n",
       "      <td>0.498805</td>\n",
       "    </tr>\n",
       "    <tr>\n",
       "      <td>3</td>\n",
       "      <td>1</td>\n",
       "      <td>2019-05-03 11:18:14</td>\n",
       "      <td>2019-05-03 11:24:19</td>\n",
       "      <td>1.659363</td>\n",
       "      <td>1.062669</td>\n",
       "    </tr>\n",
       "    <tr>\n",
       "      <td>4</td>\n",
       "      <td>1</td>\n",
       "      <td>2019-05-03 11:26:09</td>\n",
       "      <td>2019-05-03 11:28:37</td>\n",
       "      <td>0.692755</td>\n",
       "      <td>0.414397</td>\n",
       "    </tr>\n",
       "  </tbody>\n",
       "</table>\n",
       "</div>"
      ],
      "text/plain": [
       "   key Начало нагрева дугой Конец нагрева дугой  Активная мощность  \\\n",
       "0    1  2019-05-03 11:02:14 2019-05-03 11:06:02           0.976059   \n",
       "1    1  2019-05-03 11:07:28 2019-05-03 11:10:33           0.805607   \n",
       "2    1  2019-05-03 11:11:44 2019-05-03 11:14:36           0.744363   \n",
       "3    1  2019-05-03 11:18:14 2019-05-03 11:24:19           1.659363   \n",
       "4    1  2019-05-03 11:26:09 2019-05-03 11:28:37           0.692755   \n",
       "\n",
       "   Реактивная мощность  \n",
       "0             0.687084  \n",
       "1             0.520285  \n",
       "2             0.498805  \n",
       "3             1.062669  \n",
       "4             0.414397  "
      ]
     },
     "metadata": {},
     "output_type": "display_data"
    },
    {
     "name": "stdout",
     "output_type": "stream",
     "text": [
      "<class 'pandas.core.frame.DataFrame'>\n",
      "RangeIndex: 14876 entries, 0 to 14875\n",
      "Data columns (total 5 columns):\n",
      "key                     14876 non-null int64\n",
      "Начало нагрева дугой    14876 non-null datetime64[ns]\n",
      "Конец нагрева дугой     14876 non-null datetime64[ns]\n",
      "Активная мощность       14876 non-null float64\n",
      "Реактивная мощность     14876 non-null float64\n",
      "dtypes: datetime64[ns](2), float64(2), int64(1)\n",
      "memory usage: 581.2 KB\n"
     ]
    }
   ],
   "source": [
    "display(data_arc.head())\n",
    "data_arc.info()"
   ]
  },
  {
   "cell_type": "markdown",
   "metadata": {},
   "source": [
    "В таблице содержатся данные о подогреве стали электродами (время и мощность). Как и ранее, для каждой партии указано по несколько итераций подогрева.\n",
    "\n",
    "Взглянем на распределения значений активной и реактивной мощности:"
   ]
  },
  {
   "cell_type": "code",
   "execution_count": 24,
   "metadata": {},
   "outputs": [
    {
     "data": {
      "image/png": "[encoded data removed]",
      "text/plain": [
       "<Figure size 864x288 with 2 Axes>"
      ]
     },
     "metadata": {
      "needs_background": "light"
     },
     "output_type": "display_data"
    }
   ],
   "source": [
    "data_arc[['Активная мощность', 'Реактивная мощность']].hist(bins=100, figsize = (12, 4))\n",
    "plt.show()"
   ]
  },
  {
   "cell_type": "markdown",
   "metadata": {},
   "source": [
    "Активная мощность вопросов не вызывает, а в гистограмме реактивной мощности присутствует сильный отрицательный выброс. Найдем соответствующую запись:"
   ]
  },
  {
   "cell_type": "code",
   "execution_count": 25,
   "metadata": {},
   "outputs": [
    {
     "data": {
      "text/html": [
       "<div>\n",
       "<style scoped>\n",
       "    .dataframe tbody tr th:only-of-type {\n",
       "        vertical-align: middle;\n",
       "    }\n",
       "\n",
       "    .dataframe tbody tr th {\n",
       "        vertical-align: top;\n",
       "    }\n",
       "\n",
       "    .dataframe thead th {\n",
       "        text-align: right;\n",
       "    }\n",
       "</style>\n",
       "<table border=\"1\" class=\"dataframe\">\n",
       "  <thead>\n",
       "    <tr style=\"text-align: right;\">\n",
       "      <th></th>\n",
       "      <th>key</th>\n",
       "      <th>Начало нагрева дугой</th>\n",
       "      <th>Конец нагрева дугой</th>\n",
       "      <th>Активная мощность</th>\n",
       "      <th>Реактивная мощность</th>\n",
       "    </tr>\n",
       "  </thead>\n",
       "  <tbody>\n",
       "    <tr>\n",
       "      <td>9780</td>\n",
       "      <td>2116</td>\n",
       "      <td>2019-07-24 00:44:48</td>\n",
       "      <td>2019-07-24 00:46:37</td>\n",
       "      <td>0.495782</td>\n",
       "      <td>-715.504924</td>\n",
       "    </tr>\n",
       "  </tbody>\n",
       "</table>\n",
       "</div>"
      ],
      "text/plain": [
       "       key Начало нагрева дугой Конец нагрева дугой  Активная мощность  \\\n",
       "9780  2116  2019-07-24 00:44:48 2019-07-24 00:46:37           0.495782   \n",
       "\n",
       "      Реактивная мощность  \n",
       "9780          -715.504924  "
      ]
     },
     "execution_count": 25,
     "metadata": {},
     "output_type": "execute_result"
    }
   ],
   "source": [
    "data_arc[data_arc['Реактивная мощность'] < 0]"
   ]
  },
  {
   "cell_type": "markdown",
   "metadata": {},
   "source": [
    "Данное измерение, очевидно, ошибочно. Приравняем реактивную мощность в этой записи к активной и заново построим графики:"
   ]
  },
  {
   "cell_type": "code",
   "execution_count": 26,
   "metadata": {},
   "outputs": [
    {
     "data": {
      "image/png": "[encoded data removed]",
      "text/plain": [
       "<Figure size 864x288 with 2 Axes>"
      ]
     },
     "metadata": {
      "needs_background": "light"
     },
     "output_type": "display_data"
    }
   ],
   "source": [
    "data_arc.loc[9780, 'Реактивная мощность'] = data_arc.loc[9780, 'Активная мощность']\n",
    "(data_arc[['Активная мощность', 'Реактивная мощность']].hist(bins=100, figsize = (12, 4)))\n",
    "plt.show()"
   ]
  },
  {
   "cell_type": "markdown",
   "metadata": {},
   "source": [
    "Теперь все нормально.\n",
    "\n",
    "Найдем и изучим такую величину, как продолжительность нагрева стали (время от включения до выключения электрода):"
   ]
  },
  {
   "cell_type": "code",
   "execution_count": 27,
   "metadata": {},
   "outputs": [
    {
     "data": {
      "image/png": "[encoded data removed]",
      "text/plain": [
       "<Figure size 720x216 with 1 Axes>"
      ]
     },
     "metadata": {
      "needs_background": "light"
     },
     "output_type": "display_data"
    }
   ],
   "source": [
    "data_arc['Продолжительность нагрева'] = (data_arc['Конец нагрева дугой'] - \n",
    "                                         data_arc['Начало нагрева дугой']).dt.seconds\n",
    "\n",
    "data_arc['Продолжительность нагрева'].hist(bins = 50, figsize = (10,3))\n",
    "plt.title('Продолжительность нагрева, секунд')\n",
    "plt.show()"
   ]
  },
  {
   "cell_type": "markdown",
   "metadata": {},
   "source": [
    "Как можно видеть, стадия подогрева может длиться от нескольких секунд до порядка 15 минут. В данном случае сильных выбросов и недопустимых значений нет.\n",
    "\n",
    "Рассчитаем для каждой итерации нагрева еще несколько дополнительных параметров:\n",
    "- полную мощность нагрева (складывается из активной и реактивной мощности по формуле $\\sqrt {P_a^2 + P_r^2}$);\n",
    "- работу, произведенную электродами ($P_a * t_{нагрева}$);\n",
    "- отношение активной и реактивной мощностей ($P_a / P_r$)."
   ]
  },
  {
   "cell_type": "code",
   "execution_count": 28,
   "metadata": {},
   "outputs": [
    {
     "data": {
      "text/html": [
       "<div>\n",
       "<style scoped>\n",
       "    .dataframe tbody tr th:only-of-type {\n",
       "        vertical-align: middle;\n",
       "    }\n",
       "\n",
       "    .dataframe tbody tr th {\n",
       "        vertical-align: top;\n",
       "    }\n",
       "\n",
       "    .dataframe thead th {\n",
       "        text-align: right;\n",
       "    }\n",
       "</style>\n",
       "<table border=\"1\" class=\"dataframe\">\n",
       "  <thead>\n",
       "    <tr style=\"text-align: right;\">\n",
       "      <th></th>\n",
       "      <th>key</th>\n",
       "      <th>Начало нагрева дугой</th>\n",
       "      <th>Конец нагрева дугой</th>\n",
       "      <th>Активная мощность</th>\n",
       "      <th>Реактивная мощность</th>\n",
       "      <th>Продолжительность нагрева</th>\n",
       "      <th>Мощность</th>\n",
       "      <th>Работа</th>\n",
       "      <th>Отношение мощностей</th>\n",
       "    </tr>\n",
       "  </thead>\n",
       "  <tbody>\n",
       "    <tr>\n",
       "      <td>0</td>\n",
       "      <td>1</td>\n",
       "      <td>2019-05-03 11:02:14</td>\n",
       "      <td>2019-05-03 11:06:02</td>\n",
       "      <td>0.976059</td>\n",
       "      <td>0.687084</td>\n",
       "      <td>228</td>\n",
       "      <td>1.193639</td>\n",
       "      <td>222.541395</td>\n",
       "      <td>1.420582</td>\n",
       "    </tr>\n",
       "    <tr>\n",
       "      <td>1</td>\n",
       "      <td>1</td>\n",
       "      <td>2019-05-03 11:07:28</td>\n",
       "      <td>2019-05-03 11:10:33</td>\n",
       "      <td>0.805607</td>\n",
       "      <td>0.520285</td>\n",
       "      <td>185</td>\n",
       "      <td>0.959010</td>\n",
       "      <td>149.037310</td>\n",
       "      <td>1.548395</td>\n",
       "    </tr>\n",
       "    <tr>\n",
       "      <td>2</td>\n",
       "      <td>1</td>\n",
       "      <td>2019-05-03 11:11:44</td>\n",
       "      <td>2019-05-03 11:14:36</td>\n",
       "      <td>0.744363</td>\n",
       "      <td>0.498805</td>\n",
       "      <td>172</td>\n",
       "      <td>0.896038</td>\n",
       "      <td>128.030509</td>\n",
       "      <td>1.492292</td>\n",
       "    </tr>\n",
       "  </tbody>\n",
       "</table>\n",
       "</div>"
      ],
      "text/plain": [
       "   key Начало нагрева дугой Конец нагрева дугой  Активная мощность  \\\n",
       "0    1  2019-05-03 11:02:14 2019-05-03 11:06:02           0.976059   \n",
       "1    1  2019-05-03 11:07:28 2019-05-03 11:10:33           0.805607   \n",
       "2    1  2019-05-03 11:11:44 2019-05-03 11:14:36           0.744363   \n",
       "\n",
       "   Реактивная мощность  Продолжительность нагрева  Мощность      Работа  \\\n",
       "0             0.687084                        228  1.193639  222.541395   \n",
       "1             0.520285                        185  0.959010  149.037310   \n",
       "2             0.498805                        172  0.896038  128.030509   \n",
       "\n",
       "   Отношение мощностей  \n",
       "0             1.420582  \n",
       "1             1.548395  \n",
       "2             1.492292  "
      ]
     },
     "execution_count": 28,
     "metadata": {},
     "output_type": "execute_result"
    }
   ],
   "source": [
    "data_arc['Мощность'] = (data_arc['Активная мощность'] ** 2 + data_arc['Реактивная мощность'] ** 2) ** .5\n",
    "data_arc['Работа'] = data_arc['Активная мощность'] * data_arc['Продолжительность нагрева']\n",
    "data_arc['Отношение мощностей'] = data_arc['Активная мощность'] / data_arc['Реактивная мощность']\n",
    "data_arc.head(3)"
   ]
  },
  {
   "cell_type": "markdown",
   "metadata": {},
   "source": [
    "На основании рассчитаных величин добавим в таблицу с признаками (***data_all***) следующие столбцы:\n",
    "- суммарное время работы электродов;\n",
    "- суммарную произведенную работу;\n",
    "- количество включений электродов;\n",
    "- среднюю взвешенную мощность;\n",
    "- среднее взвешенное отношение мощностей.\n",
    "\n",
    "При этом учтем, что нам нужны только те циклы нагрева, которые произошли до финального замера температуры. Записи о работе электродов, которая произошла после финального замера, уберем из таблицы:"
   ]
  },
  {
   "cell_type": "code",
   "execution_count": 29,
   "metadata": {},
   "outputs": [
    {
     "name": "stdout",
     "output_type": "stream",
     "text": [
      "Осталось записей: 11133\n"
     ]
    }
   ],
   "source": [
    "for key in data_all.index:\n",
    "    data_arc.loc[data_arc['key'] == key, 'temp_final_time'] = data_all.loc[key, 'temp_final_time']\n",
    "    \n",
    "data_arc = data_arc.loc[data_arc['Начало нагрева дугой'] < data_arc['temp_final_time']]\n",
    "print('Осталось записей:', data_arc.shape[0])"
   ]
  },
  {
   "cell_type": "markdown",
   "metadata": {},
   "source": [
    "Наконец, добавим вышеуказанные значения в общую таблицу:"
   ]
  },
  {
   "cell_type": "code",
   "execution_count": 30,
   "metadata": {},
   "outputs": [
    {
     "data": {
      "text/html": [
       "<div>\n",
       "<style scoped>\n",
       "    .dataframe tbody tr th:only-of-type {\n",
       "        vertical-align: middle;\n",
       "    }\n",
       "\n",
       "    .dataframe tbody tr th {\n",
       "        vertical-align: top;\n",
       "    }\n",
       "\n",
       "    .dataframe thead th {\n",
       "        text-align: right;\n",
       "    }\n",
       "</style>\n",
       "<table border=\"1\" class=\"dataframe\">\n",
       "  <thead>\n",
       "    <tr style=\"text-align: right;\">\n",
       "      <th></th>\n",
       "      <th>temp_0</th>\n",
       "      <th>temp_0_time</th>\n",
       "      <th>temp_final</th>\n",
       "      <th>temp_final_time</th>\n",
       "      <th>since_start</th>\n",
       "      <th>heating_count</th>\n",
       "      <th>heating_duration</th>\n",
       "      <th>total_work</th>\n",
       "      <th>power_mean</th>\n",
       "      <th>power_ratio_mean</th>\n",
       "    </tr>\n",
       "    <tr>\n",
       "      <th>key</th>\n",
       "      <th></th>\n",
       "      <th></th>\n",
       "      <th></th>\n",
       "      <th></th>\n",
       "      <th></th>\n",
       "      <th></th>\n",
       "      <th></th>\n",
       "      <th></th>\n",
       "      <th></th>\n",
       "      <th></th>\n",
       "    </tr>\n",
       "  </thead>\n",
       "  <tbody>\n",
       "    <tr>\n",
       "      <td>1</td>\n",
       "      <td>1571.0</td>\n",
       "      <td>2019-05-03 11:16:18</td>\n",
       "      <td>1613.0</td>\n",
       "      <td>2019-05-03 11:30:39</td>\n",
       "      <td>861</td>\n",
       "      <td>5</td>\n",
       "      <td>1098</td>\n",
       "      <td>1207.804249</td>\n",
       "      <td>1.100004</td>\n",
       "      <td>1.534047</td>\n",
       "    </tr>\n",
       "    <tr>\n",
       "      <td>2</td>\n",
       "      <td>1581.0</td>\n",
       "      <td>2019-05-03 11:37:27</td>\n",
       "      <td>1602.0</td>\n",
       "      <td>2019-05-03 11:59:12</td>\n",
       "      <td>1305</td>\n",
       "      <td>4</td>\n",
       "      <td>811</td>\n",
       "      <td>733.816470</td>\n",
       "      <td>0.904829</td>\n",
       "      <td>1.530791</td>\n",
       "    </tr>\n",
       "    <tr>\n",
       "      <td>3</td>\n",
       "      <td>1596.0</td>\n",
       "      <td>2019-05-03 12:13:17</td>\n",
       "      <td>1599.0</td>\n",
       "      <td>2019-05-03 12:34:57</td>\n",
       "      <td>1300</td>\n",
       "      <td>5</td>\n",
       "      <td>655</td>\n",
       "      <td>443.583327</td>\n",
       "      <td>0.677226</td>\n",
       "      <td>1.579815</td>\n",
       "    </tr>\n",
       "  </tbody>\n",
       "</table>\n",
       "</div>"
      ],
      "text/plain": [
       "     temp_0         temp_0_time  temp_final     temp_final_time  since_start  \\\n",
       "key                                                                            \n",
       "1    1571.0 2019-05-03 11:16:18      1613.0 2019-05-03 11:30:39          861   \n",
       "2    1581.0 2019-05-03 11:37:27      1602.0 2019-05-03 11:59:12         1305   \n",
       "3    1596.0 2019-05-03 12:13:17      1599.0 2019-05-03 12:34:57         1300   \n",
       "\n",
       "     heating_count  heating_duration   total_work  power_mean  \\\n",
       "key                                                             \n",
       "1                5              1098  1207.804249    1.100004   \n",
       "2                4               811   733.816470    0.904829   \n",
       "3                5               655   443.583327    0.677226   \n",
       "\n",
       "     power_ratio_mean  \n",
       "key                    \n",
       "1            1.534047  \n",
       "2            1.530791  \n",
       "3            1.579815  "
      ]
     },
     "execution_count": 30,
     "metadata": {},
     "output_type": "execute_result"
    }
   ],
   "source": [
    "data_arc['p_t'] = data_arc['Отношение мощностей'] * data_arc['Продолжительность нагрева'] #для расчета среднего взвешенного\n",
    "\n",
    "data_all[['heating_count',  \n",
    "          'heating_duration', \n",
    "          'total_work']] = data_arc.pivot_table(index='key', aggfunc={'Начало нагрева дугой': 'count',\n",
    "                                                                'Продолжительность нагрева':'sum',\n",
    "                                                                'Работа': 'sum',\n",
    "                                                         })\n",
    "data_all['power_mean'] = data_all['total_work'] / data_all['heating_duration']\n",
    "data_all['power_ratio_mean'] = data_arc.groupby('key')['p_t'].sum() / data_all['heating_duration']\n",
    "data_all.head(3)"
   ]
  },
  {
   "cell_type": "markdown",
   "metadata": {},
   "source": [
    "#### data_gas\n",
    "\n",
    "Изучим таблицу ***data_gas***:"
   ]
  },
  {
   "cell_type": "code",
   "execution_count": 31,
   "metadata": {},
   "outputs": [
    {
     "name": "stdout",
     "output_type": "stream",
     "text": [
      "<class 'pandas.core.frame.DataFrame'>\n",
      "RangeIndex: 3239 entries, 0 to 3238\n",
      "Data columns (total 2 columns):\n",
      "key      3239 non-null int64\n",
      "Газ 1    3239 non-null float64\n",
      "dtypes: float64(1), int64(1)\n",
      "memory usage: 50.7 KB\n"
     ]
    }
   ],
   "source": [
    "data_gas.info()"
   ]
  },
  {
   "cell_type": "markdown",
   "metadata": {},
   "source": [
    "В таблице 3239 записей. При этом похоже, что каждая партия подвергалась продуву только один раз. Проверим это: посмотрим, есть ли дубликаты в столбце **key**:"
   ]
  },
  {
   "cell_type": "code",
   "execution_count": 32,
   "metadata": {},
   "outputs": [
    {
     "name": "stdout",
     "output_type": "stream",
     "text": [
      "Дубликатов 0\n"
     ]
    }
   ],
   "source": [
    "print('Дубликатов', data_gas['key'].duplicated().sum())"
   ]
  },
  {
   "cell_type": "markdown",
   "metadata": {},
   "source": [
    "Изучим значения столбца **Газ 1**:"
   ]
  },
  {
   "cell_type": "code",
   "execution_count": 33,
   "metadata": {},
   "outputs": [
    {
     "data": {
      "image/png": "[encoded data removed]",
      "text/plain": [
       "<Figure size 720x216 with 1 Axes>"
      ]
     },
     "metadata": {
      "needs_background": "light"
     },
     "output_type": "display_data"
    }
   ],
   "source": [
    "data_gas['Газ 1'].hist(bins = 100, figsize = (10,3))\n",
    "plt.show()"
   ]
  },
  {
   "cell_type": "markdown",
   "metadata": {},
   "source": [
    "Видим нормальное распределение с большинством значений в области от 0 до 20, а также несколько выбросов вплоть до 70 - 80. Поскольку мы не знаем, что за величина указана в столбце **Газ 1**, заключений о возможности и допустимости выбросов делать нельзя.\n",
    "\n",
    "Добавим информацию о продувке газом в нашу таблицу с признаками (***data_all***)"
   ]
  },
  {
   "cell_type": "code",
   "execution_count": 34,
   "metadata": {},
   "outputs": [],
   "source": [
    "data_all['gas'] = data_gas.set_index('key')"
   ]
  },
  {
   "cell_type": "markdown",
   "metadata": {},
   "source": [
    "#### data_bulk, data_bulk_time\n",
    "\n",
    "В данных таблицах указаны, соответственно, объемы и время добавления в сталь сыпучих примесей:"
   ]
  },
  {
   "cell_type": "code",
   "execution_count": 35,
   "metadata": {},
   "outputs": [
    {
     "name": "stdout",
     "output_type": "stream",
     "text": [
      "<class 'pandas.core.frame.DataFrame'>\n",
      "RangeIndex: 3129 entries, 0 to 3128\n",
      "Data columns (total 16 columns):\n",
      "key        3129 non-null int64\n",
      "Bulk 1     252 non-null float64\n",
      "Bulk 2     22 non-null float64\n",
      "Bulk 3     1298 non-null float64\n",
      "Bulk 4     1014 non-null float64\n",
      "Bulk 5     77 non-null float64\n",
      "Bulk 6     576 non-null float64\n",
      "Bulk 7     25 non-null float64\n",
      "Bulk 8     1 non-null float64\n",
      "Bulk 9     19 non-null float64\n",
      "Bulk 10    176 non-null float64\n",
      "Bulk 11    177 non-null float64\n",
      "Bulk 12    2450 non-null float64\n",
      "Bulk 13    18 non-null float64\n",
      "Bulk 14    2806 non-null float64\n",
      "Bulk 15    2248 non-null float64\n",
      "dtypes: float64(15), int64(1)\n",
      "memory usage: 391.2 KB\n"
     ]
    }
   ],
   "source": [
    "data_bulk.info()"
   ]
  },
  {
   "cell_type": "code",
   "execution_count": 36,
   "metadata": {},
   "outputs": [
    {
     "name": "stdout",
     "output_type": "stream",
     "text": [
      "<class 'pandas.core.frame.DataFrame'>\n",
      "RangeIndex: 3129 entries, 0 to 3128\n",
      "Data columns (total 16 columns):\n",
      "key        3129 non-null int64\n",
      "Bulk 1     252 non-null datetime64[ns]\n",
      "Bulk 2     22 non-null datetime64[ns]\n",
      "Bulk 3     1298 non-null datetime64[ns]\n",
      "Bulk 4     1014 non-null datetime64[ns]\n",
      "Bulk 5     77 non-null datetime64[ns]\n",
      "Bulk 6     576 non-null datetime64[ns]\n",
      "Bulk 7     25 non-null datetime64[ns]\n",
      "Bulk 8     1 non-null datetime64[ns]\n",
      "Bulk 9     19 non-null datetime64[ns]\n",
      "Bulk 10    176 non-null datetime64[ns]\n",
      "Bulk 11    177 non-null datetime64[ns]\n",
      "Bulk 12    2450 non-null datetime64[ns]\n",
      "Bulk 13    18 non-null datetime64[ns]\n",
      "Bulk 14    2806 non-null datetime64[ns]\n",
      "Bulk 15    2248 non-null datetime64[ns]\n",
      "dtypes: datetime64[ns](15), int64(1)\n",
      "memory usage: 391.2 KB\n"
     ]
    }
   ],
   "source": [
    "data_bulk_time.info()"
   ]
  },
  {
   "cell_type": "markdown",
   "metadata": {},
   "source": [
    "Данные таблицы, в отличие от предыдущих, имеют \"широкий\" формат. Для каждой партии в столбцах **Bulk 1** - **Bulk 15** указаны объем и время добавления соответствующей примеси.\n",
    "\n",
    "Проверим, есть ли несоответствия в этих двух таблицах (например, для определенной примеси указан объем, но отсутствует время добавления):"
   ]
  },
  {
   "cell_type": "code",
   "execution_count": 37,
   "metadata": {},
   "outputs": [
    {
     "name": "stdout",
     "output_type": "stream",
     "text": [
      "Расхождений в таблицах: 0\n"
     ]
    }
   ],
   "source": [
    "print('Расхождений в таблицах:', \n",
    "      ((data_bulk.isna() ^ data_bulk_time.isna()) # =0, если соответствующие ячейки обе пусты или обе не пусты\n",
    "      .sum().sum()))                              #суммируем по строкам и столбцам"
   ]
  },
  {
   "cell_type": "markdown",
   "metadata": {},
   "source": [
    "Построим гистограммы для различных примесей:"
   ]
  },
  {
   "cell_type": "code",
   "execution_count": 38,
   "metadata": {},
   "outputs": [
    {
     "data": {
      "image/png": "[encoded data removed]",
      "text/plain": [
       "<Figure size 936x720 with 16 Axes>"
      ]
     },
     "metadata": {
      "needs_background": "light"
     },
     "output_type": "display_data"
    }
   ],
   "source": [
    "data_bulk.set_index('key', inplace=True)          #установим key в качестве индекса\n",
    "data_bulk_time.set_index('key', inplace=True)\n",
    "\n",
    "data_bulk.hist(bins = 25, figsize = (13, 10))\n",
    "plt.show()"
   ]
  },
  {
   "cell_type": "markdown",
   "metadata": {},
   "source": [
    "Гистограммы получились разнообразными по форме, что ожидаемо - для получения различных сортов стали нужны разные примеси и в разных количествах. Гребенчатый вид некоторых графиков объясняется либо малым количеством записей, либо технологическим процессом, который предусматривает добавление точных количеств примеси.\n",
    "\n",
    "Прежде чем добавить данные в таблицу с признаками, нужно убрать из информацию о примесях, которые были добавлены в сталь после последнего замера температуры: "
   ]
  },
  {
   "cell_type": "code",
   "execution_count": 39,
   "metadata": {},
   "outputs": [
    {
     "data": {
      "text/html": [
       "<div>\n",
       "<style scoped>\n",
       "    .dataframe tbody tr th:only-of-type {\n",
       "        vertical-align: middle;\n",
       "    }\n",
       "\n",
       "    .dataframe tbody tr th {\n",
       "        vertical-align: top;\n",
       "    }\n",
       "\n",
       "    .dataframe thead th {\n",
       "        text-align: right;\n",
       "    }\n",
       "</style>\n",
       "<table border=\"1\" class=\"dataframe\">\n",
       "  <thead>\n",
       "    <tr style=\"text-align: right;\">\n",
       "      <th></th>\n",
       "      <th>Bulk 1</th>\n",
       "      <th>Bulk 2</th>\n",
       "      <th>Bulk 3</th>\n",
       "      <th>Bulk 4</th>\n",
       "      <th>Bulk 5</th>\n",
       "      <th>Bulk 6</th>\n",
       "      <th>Bulk 7</th>\n",
       "      <th>Bulk 8</th>\n",
       "      <th>Bulk 9</th>\n",
       "      <th>Bulk 10</th>\n",
       "      <th>Bulk 11</th>\n",
       "      <th>Bulk 12</th>\n",
       "      <th>Bulk 13</th>\n",
       "      <th>Bulk 14</th>\n",
       "      <th>Bulk 15</th>\n",
       "    </tr>\n",
       "    <tr>\n",
       "      <th>key</th>\n",
       "      <th></th>\n",
       "      <th></th>\n",
       "      <th></th>\n",
       "      <th></th>\n",
       "      <th></th>\n",
       "      <th></th>\n",
       "      <th></th>\n",
       "      <th></th>\n",
       "      <th></th>\n",
       "      <th></th>\n",
       "      <th></th>\n",
       "      <th></th>\n",
       "      <th></th>\n",
       "      <th></th>\n",
       "      <th></th>\n",
       "    </tr>\n",
       "  </thead>\n",
       "  <tbody>\n",
       "    <tr>\n",
       "      <td>1</td>\n",
       "      <td>0.0</td>\n",
       "      <td>0.0</td>\n",
       "      <td>0.0</td>\n",
       "      <td>43.0</td>\n",
       "      <td>0.0</td>\n",
       "      <td>0.0</td>\n",
       "      <td>0.0</td>\n",
       "      <td>0.0</td>\n",
       "      <td>0.0</td>\n",
       "      <td>0.0</td>\n",
       "      <td>0.0</td>\n",
       "      <td>206.0</td>\n",
       "      <td>0.0</td>\n",
       "      <td>150.0</td>\n",
       "      <td>154.0</td>\n",
       "    </tr>\n",
       "    <tr>\n",
       "      <td>2</td>\n",
       "      <td>0.0</td>\n",
       "      <td>0.0</td>\n",
       "      <td>0.0</td>\n",
       "      <td>73.0</td>\n",
       "      <td>0.0</td>\n",
       "      <td>0.0</td>\n",
       "      <td>0.0</td>\n",
       "      <td>0.0</td>\n",
       "      <td>0.0</td>\n",
       "      <td>0.0</td>\n",
       "      <td>0.0</td>\n",
       "      <td>206.0</td>\n",
       "      <td>0.0</td>\n",
       "      <td>149.0</td>\n",
       "      <td>154.0</td>\n",
       "    </tr>\n",
       "    <tr>\n",
       "      <td>3</td>\n",
       "      <td>0.0</td>\n",
       "      <td>0.0</td>\n",
       "      <td>0.0</td>\n",
       "      <td>34.0</td>\n",
       "      <td>0.0</td>\n",
       "      <td>0.0</td>\n",
       "      <td>0.0</td>\n",
       "      <td>0.0</td>\n",
       "      <td>0.0</td>\n",
       "      <td>0.0</td>\n",
       "      <td>0.0</td>\n",
       "      <td>205.0</td>\n",
       "      <td>0.0</td>\n",
       "      <td>152.0</td>\n",
       "      <td>153.0</td>\n",
       "    </tr>\n",
       "    <tr>\n",
       "      <td>4</td>\n",
       "      <td>0.0</td>\n",
       "      <td>0.0</td>\n",
       "      <td>0.0</td>\n",
       "      <td>81.0</td>\n",
       "      <td>0.0</td>\n",
       "      <td>0.0</td>\n",
       "      <td>0.0</td>\n",
       "      <td>0.0</td>\n",
       "      <td>0.0</td>\n",
       "      <td>0.0</td>\n",
       "      <td>0.0</td>\n",
       "      <td>207.0</td>\n",
       "      <td>0.0</td>\n",
       "      <td>153.0</td>\n",
       "      <td>154.0</td>\n",
       "    </tr>\n",
       "    <tr>\n",
       "      <td>5</td>\n",
       "      <td>0.0</td>\n",
       "      <td>0.0</td>\n",
       "      <td>0.0</td>\n",
       "      <td>78.0</td>\n",
       "      <td>0.0</td>\n",
       "      <td>0.0</td>\n",
       "      <td>0.0</td>\n",
       "      <td>0.0</td>\n",
       "      <td>0.0</td>\n",
       "      <td>0.0</td>\n",
       "      <td>0.0</td>\n",
       "      <td>203.0</td>\n",
       "      <td>0.0</td>\n",
       "      <td>151.0</td>\n",
       "      <td>152.0</td>\n",
       "    </tr>\n",
       "  </tbody>\n",
       "</table>\n",
       "</div>"
      ],
      "text/plain": [
       "     Bulk 1  Bulk 2  Bulk 3  Bulk 4  Bulk 5  Bulk 6  Bulk 7  Bulk 8  Bulk 9  \\\n",
       "key                                                                           \n",
       "1       0.0     0.0     0.0    43.0     0.0     0.0     0.0     0.0     0.0   \n",
       "2       0.0     0.0     0.0    73.0     0.0     0.0     0.0     0.0     0.0   \n",
       "3       0.0     0.0     0.0    34.0     0.0     0.0     0.0     0.0     0.0   \n",
       "4       0.0     0.0     0.0    81.0     0.0     0.0     0.0     0.0     0.0   \n",
       "5       0.0     0.0     0.0    78.0     0.0     0.0     0.0     0.0     0.0   \n",
       "\n",
       "     Bulk 10  Bulk 11  Bulk 12  Bulk 13  Bulk 14  Bulk 15  \n",
       "key                                                        \n",
       "1        0.0      0.0    206.0      0.0    150.0    154.0  \n",
       "2        0.0      0.0    206.0      0.0    149.0    154.0  \n",
       "3        0.0      0.0    205.0      0.0    152.0    153.0  \n",
       "4        0.0      0.0    207.0      0.0    153.0    154.0  \n",
       "5        0.0      0.0    203.0      0.0    151.0    152.0  "
      ]
     },
     "execution_count": 39,
     "metadata": {},
     "output_type": "execute_result"
    }
   ],
   "source": [
    "data_bulk_time['final_time'] = data_all['temp_final_time'] #добавим столбец со временем финального замера t для партии\n",
    "for column in data_bulk_time.columns[:-1]:\n",
    "    data_bulk_time[column] = data_bulk_time[column] <= data_bulk_time['final_time']\n",
    "    \n",
    "data_bulk = data_bulk.where(data_bulk_time, 0)             #занулим пропуски и примеси, добавленные позже\n",
    "data_bulk.head()"
   ]
  },
  {
   "cell_type": "markdown",
   "metadata": {},
   "source": [
    "В результирующей таблице большая часть ячеек - нули. Посмотрим, сколько ненулевых значений в каждом столбце:"
   ]
  },
  {
   "cell_type": "code",
   "execution_count": 40,
   "metadata": {},
   "outputs": [
    {
     "data": {
      "text/plain": [
       "Bulk 1      195\n",
       "Bulk 2        9\n",
       "Bulk 3      955\n",
       "Bulk 4      803\n",
       "Bulk 5       49\n",
       "Bulk 6      434\n",
       "Bulk 7       11\n",
       "Bulk 8        1\n",
       "Bulk 9       13\n",
       "Bulk 10     141\n",
       "Bulk 11     126\n",
       "Bulk 12    1868\n",
       "Bulk 13      11\n",
       "Bulk 14    2123\n",
       "Bulk 15    1698\n",
       "dtype: int64"
      ]
     },
     "execution_count": 40,
     "metadata": {},
     "output_type": "execute_result"
    }
   ],
   "source": [
    "value_count = (data_bulk != 0).sum()\n",
    "value_count"
   ]
  },
  {
   "cell_type": "markdown",
   "metadata": {},
   "source": [
    "Как видим, в некоторых столбцах заполнено всего несколько десятков значений (тогда как записей в таблице около 3000). Такие признаки вредны для обучения, так как ухудшат обобщающую способность модели, поэтому их стоит исключить из рассмотрения. \n",
    "\n",
    "Оставим в таблице только те столбцы, которые имеют более ста ненулевых значений:"
   ]
  },
  {
   "cell_type": "code",
   "execution_count": 41,
   "metadata": {},
   "outputs": [],
   "source": [
    "data_bulk = data_bulk[value_count[value_count > 100].index]"
   ]
  },
  {
   "cell_type": "markdown",
   "metadata": {},
   "source": [
    "Добавим информацию о примесях в общую таблицу:"
   ]
  },
  {
   "cell_type": "code",
   "execution_count": 42,
   "metadata": {},
   "outputs": [],
   "source": [
    "data_all = data_all.join(data_bulk)"
   ]
  },
  {
   "cell_type": "markdown",
   "metadata": {},
   "source": [
    "#### data_wire\n",
    "Аналогичным образом изучим данные по легированию подачей проволоки:"
   ]
  },
  {
   "cell_type": "code",
   "execution_count": 43,
   "metadata": {},
   "outputs": [
    {
     "name": "stdout",
     "output_type": "stream",
     "text": [
      "<class 'pandas.core.frame.DataFrame'>\n",
      "RangeIndex: 3081 entries, 0 to 3080\n",
      "Data columns (total 10 columns):\n",
      "key       3081 non-null int64\n",
      "Wire 1    3055 non-null float64\n",
      "Wire 2    1079 non-null float64\n",
      "Wire 3    63 non-null float64\n",
      "Wire 4    14 non-null float64\n",
      "Wire 5    1 non-null float64\n",
      "Wire 6    73 non-null float64\n",
      "Wire 7    11 non-null float64\n",
      "Wire 8    19 non-null float64\n",
      "Wire 9    29 non-null float64\n",
      "dtypes: float64(9), int64(1)\n",
      "memory usage: 240.8 KB\n"
     ]
    }
   ],
   "source": [
    "data_wire.info()"
   ]
  },
  {
   "cell_type": "code",
   "execution_count": 44,
   "metadata": {},
   "outputs": [
    {
     "name": "stdout",
     "output_type": "stream",
     "text": [
      "<class 'pandas.core.frame.DataFrame'>\n",
      "RangeIndex: 3081 entries, 0 to 3080\n",
      "Data columns (total 10 columns):\n",
      "key       3081 non-null int64\n",
      "Wire 1    3055 non-null datetime64[ns]\n",
      "Wire 2    1079 non-null datetime64[ns]\n",
      "Wire 3    63 non-null datetime64[ns]\n",
      "Wire 4    14 non-null datetime64[ns]\n",
      "Wire 5    1 non-null datetime64[ns]\n",
      "Wire 6    73 non-null datetime64[ns]\n",
      "Wire 7    11 non-null datetime64[ns]\n",
      "Wire 8    19 non-null datetime64[ns]\n",
      "Wire 9    29 non-null datetime64[ns]\n",
      "dtypes: datetime64[ns](9), int64(1)\n",
      "memory usage: 240.8 KB\n"
     ]
    }
   ],
   "source": [
    "data_wire_time.info()"
   ]
  },
  {
   "cell_type": "code",
   "execution_count": 45,
   "metadata": {},
   "outputs": [
    {
     "name": "stdout",
     "output_type": "stream",
     "text": [
      "Расхождений в таблицах: 0\n"
     ]
    }
   ],
   "source": [
    "print('Расхождений в таблицах:', \n",
    "      ((data_wire.isna() ^ data_wire_time.isna()) \n",
    "      .sum().sum()))  "
   ]
  },
  {
   "cell_type": "markdown",
   "metadata": {},
   "source": [
    "Построим гистограммы для каждого столбца:"
   ]
  },
  {
   "cell_type": "code",
   "execution_count": 46,
   "metadata": {},
   "outputs": [
    {
     "data": {
      "image/png": "[encoded data removed]",
      "text/plain": [
       "<Figure size 648x504 with 9 Axes>"
      ]
     },
     "metadata": {
      "needs_background": "light"
     },
     "output_type": "display_data"
    }
   ],
   "source": [
    "data_wire.set_index('key', inplace=True)\n",
    "data_wire_time.set_index('key', inplace=True)\n",
    "data_wire.hist(bins = 25, figsize = (9, 7))\n",
    "plt.show()"
   ]
  },
  {
   "cell_type": "markdown",
   "metadata": {},
   "source": [
    "Как и в прошлом случае, исключим примеси, добавленные после финального замера температуры:"
   ]
  },
  {
   "cell_type": "code",
   "execution_count": 47,
   "metadata": {},
   "outputs": [],
   "source": [
    "data_wire_time['final_time'] = data_all['temp_final_time'] \n",
    "for column in data_wire_time.columns[:-1]:\n",
    "    data_wire_time[column] = data_wire_time[column] <= data_wire_time['final_time']\n",
    "data_wire = data_wire.where(data_wire_time, 0)"
   ]
  },
  {
   "cell_type": "markdown",
   "metadata": {},
   "source": [
    "Как и в случае с таблицей ***data_bulk***, исключим из рассмотрения примеси, присутствующие менее чем в 100 партиях:"
   ]
  },
  {
   "cell_type": "code",
   "execution_count": 48,
   "metadata": {},
   "outputs": [],
   "source": [
    "value_count = (data_wire != 0).sum()\n",
    "data_wire = data_wire[value_count[value_count > 100].index]"
   ]
  },
  {
   "cell_type": "markdown",
   "metadata": {},
   "source": [
    "Добавим данные в общую таблицу:"
   ]
  },
  {
   "cell_type": "code",
   "execution_count": 49,
   "metadata": {},
   "outputs": [],
   "source": [
    "data_all = data_all.join(data_wire)"
   ]
  },
  {
   "cell_type": "markdown",
   "metadata": {},
   "source": [
    "# 2. Подготовка признаков\n",
    "\n",
    "В итоге у нас получилась такая таблица признаков:"
   ]
  },
  {
   "cell_type": "code",
   "execution_count": 50,
   "metadata": {},
   "outputs": [
    {
     "data": {
      "text/html": [
       "<div>\n",
       "<style scoped>\n",
       "    .dataframe tbody tr th:only-of-type {\n",
       "        vertical-align: middle;\n",
       "    }\n",
       "\n",
       "    .dataframe tbody tr th {\n",
       "        vertical-align: top;\n",
       "    }\n",
       "\n",
       "    .dataframe thead th {\n",
       "        text-align: right;\n",
       "    }\n",
       "</style>\n",
       "<table border=\"1\" class=\"dataframe\">\n",
       "  <thead>\n",
       "    <tr style=\"text-align: right;\">\n",
       "      <th></th>\n",
       "      <th>temp_0</th>\n",
       "      <th>temp_final</th>\n",
       "      <th>since_start</th>\n",
       "      <th>heating_count</th>\n",
       "      <th>heating_duration</th>\n",
       "      <th>total_work</th>\n",
       "      <th>power_mean</th>\n",
       "      <th>power_ratio_mean</th>\n",
       "      <th>gas</th>\n",
       "      <th>Bulk 1</th>\n",
       "      <th>Bulk 3</th>\n",
       "      <th>Bulk 4</th>\n",
       "      <th>Bulk 6</th>\n",
       "      <th>Bulk 10</th>\n",
       "      <th>Bulk 11</th>\n",
       "      <th>Bulk 12</th>\n",
       "      <th>Bulk 14</th>\n",
       "      <th>Bulk 15</th>\n",
       "      <th>Wire 1</th>\n",
       "      <th>Wire 2</th>\n",
       "    </tr>\n",
       "    <tr>\n",
       "      <th>key</th>\n",
       "      <th></th>\n",
       "      <th></th>\n",
       "      <th></th>\n",
       "      <th></th>\n",
       "      <th></th>\n",
       "      <th></th>\n",
       "      <th></th>\n",
       "      <th></th>\n",
       "      <th></th>\n",
       "      <th></th>\n",
       "      <th></th>\n",
       "      <th></th>\n",
       "      <th></th>\n",
       "      <th></th>\n",
       "      <th></th>\n",
       "      <th></th>\n",
       "      <th></th>\n",
       "      <th></th>\n",
       "      <th></th>\n",
       "      <th></th>\n",
       "    </tr>\n",
       "  </thead>\n",
       "  <tbody>\n",
       "    <tr>\n",
       "      <td>1</td>\n",
       "      <td>1571.0</td>\n",
       "      <td>1613.0</td>\n",
       "      <td>861</td>\n",
       "      <td>5</td>\n",
       "      <td>1098</td>\n",
       "      <td>1207.804249</td>\n",
       "      <td>1.100004</td>\n",
       "      <td>1.534047</td>\n",
       "      <td>29.749986</td>\n",
       "      <td>0.0</td>\n",
       "      <td>0.0</td>\n",
       "      <td>43.0</td>\n",
       "      <td>0.0</td>\n",
       "      <td>0.0</td>\n",
       "      <td>0.0</td>\n",
       "      <td>206.0</td>\n",
       "      <td>150.0</td>\n",
       "      <td>154.0</td>\n",
       "      <td>60.059998</td>\n",
       "      <td>0.00000</td>\n",
       "    </tr>\n",
       "    <tr>\n",
       "      <td>2</td>\n",
       "      <td>1581.0</td>\n",
       "      <td>1602.0</td>\n",
       "      <td>1305</td>\n",
       "      <td>4</td>\n",
       "      <td>811</td>\n",
       "      <td>733.816470</td>\n",
       "      <td>0.904829</td>\n",
       "      <td>1.530791</td>\n",
       "      <td>12.555561</td>\n",
       "      <td>0.0</td>\n",
       "      <td>0.0</td>\n",
       "      <td>73.0</td>\n",
       "      <td>0.0</td>\n",
       "      <td>0.0</td>\n",
       "      <td>0.0</td>\n",
       "      <td>206.0</td>\n",
       "      <td>149.0</td>\n",
       "      <td>154.0</td>\n",
       "      <td>96.052315</td>\n",
       "      <td>0.00000</td>\n",
       "    </tr>\n",
       "    <tr>\n",
       "      <td>3</td>\n",
       "      <td>1596.0</td>\n",
       "      <td>1599.0</td>\n",
       "      <td>1300</td>\n",
       "      <td>5</td>\n",
       "      <td>655</td>\n",
       "      <td>443.583327</td>\n",
       "      <td>0.677226</td>\n",
       "      <td>1.579815</td>\n",
       "      <td>28.554793</td>\n",
       "      <td>0.0</td>\n",
       "      <td>0.0</td>\n",
       "      <td>34.0</td>\n",
       "      <td>0.0</td>\n",
       "      <td>0.0</td>\n",
       "      <td>0.0</td>\n",
       "      <td>205.0</td>\n",
       "      <td>152.0</td>\n",
       "      <td>153.0</td>\n",
       "      <td>91.160157</td>\n",
       "      <td>0.00000</td>\n",
       "    </tr>\n",
       "    <tr>\n",
       "      <td>4</td>\n",
       "      <td>1601.0</td>\n",
       "      <td>1625.0</td>\n",
       "      <td>388</td>\n",
       "      <td>4</td>\n",
       "      <td>741</td>\n",
       "      <td>670.663327</td>\n",
       "      <td>0.905079</td>\n",
       "      <td>1.561254</td>\n",
       "      <td>18.841219</td>\n",
       "      <td>0.0</td>\n",
       "      <td>0.0</td>\n",
       "      <td>81.0</td>\n",
       "      <td>0.0</td>\n",
       "      <td>0.0</td>\n",
       "      <td>0.0</td>\n",
       "      <td>207.0</td>\n",
       "      <td>153.0</td>\n",
       "      <td>154.0</td>\n",
       "      <td>89.063515</td>\n",
       "      <td>0.00000</td>\n",
       "    </tr>\n",
       "    <tr>\n",
       "      <td>5</td>\n",
       "      <td>1576.0</td>\n",
       "      <td>1602.0</td>\n",
       "      <td>762</td>\n",
       "      <td>4</td>\n",
       "      <td>869</td>\n",
       "      <td>997.496095</td>\n",
       "      <td>1.147867</td>\n",
       "      <td>1.488775</td>\n",
       "      <td>5.413692</td>\n",
       "      <td>0.0</td>\n",
       "      <td>0.0</td>\n",
       "      <td>78.0</td>\n",
       "      <td>0.0</td>\n",
       "      <td>0.0</td>\n",
       "      <td>0.0</td>\n",
       "      <td>203.0</td>\n",
       "      <td>151.0</td>\n",
       "      <td>152.0</td>\n",
       "      <td>89.238236</td>\n",
       "      <td>9.11456</td>\n",
       "    </tr>\n",
       "  </tbody>\n",
       "</table>\n",
       "</div>"
      ],
      "text/plain": [
       "     temp_0  temp_final  since_start  heating_count  heating_duration  \\\n",
       "key                                                                     \n",
       "1    1571.0      1613.0          861              5              1098   \n",
       "2    1581.0      1602.0         1305              4               811   \n",
       "3    1596.0      1599.0         1300              5               655   \n",
       "4    1601.0      1625.0          388              4               741   \n",
       "5    1576.0      1602.0          762              4               869   \n",
       "\n",
       "      total_work  power_mean  power_ratio_mean        gas  Bulk 1  Bulk 3  \\\n",
       "key                                                                         \n",
       "1    1207.804249    1.100004          1.534047  29.749986     0.0     0.0   \n",
       "2     733.816470    0.904829          1.530791  12.555561     0.0     0.0   \n",
       "3     443.583327    0.677226          1.579815  28.554793     0.0     0.0   \n",
       "4     670.663327    0.905079          1.561254  18.841219     0.0     0.0   \n",
       "5     997.496095    1.147867          1.488775   5.413692     0.0     0.0   \n",
       "\n",
       "     Bulk 4  Bulk 6  Bulk 10  Bulk 11  Bulk 12  Bulk 14  Bulk 15     Wire 1  \\\n",
       "key                                                                           \n",
       "1      43.0     0.0      0.0      0.0    206.0    150.0    154.0  60.059998   \n",
       "2      73.0     0.0      0.0      0.0    206.0    149.0    154.0  96.052315   \n",
       "3      34.0     0.0      0.0      0.0    205.0    152.0    153.0  91.160157   \n",
       "4      81.0     0.0      0.0      0.0    207.0    153.0    154.0  89.063515   \n",
       "5      78.0     0.0      0.0      0.0    203.0    151.0    152.0  89.238236   \n",
       "\n",
       "      Wire 2  \n",
       "key           \n",
       "1    0.00000  \n",
       "2    0.00000  \n",
       "3    0.00000  \n",
       "4    0.00000  \n",
       "5    9.11456  "
      ]
     },
     "metadata": {},
     "output_type": "display_data"
    },
    {
     "data": {
      "text/plain": [
       "(2456, 20)"
      ]
     },
     "metadata": {},
     "output_type": "display_data"
    }
   ],
   "source": [
    "data_all = data_all.drop(columns=['temp_0_time', 'temp_final_time']).fillna(0) # эти столбцы больше не нужны\n",
    "\n",
    "display(data_all.head(5), data_all.shape)"
   ]
  },
  {
   "cell_type": "markdown",
   "metadata": {},
   "source": [
    "Для обучения доступно 2456 примеров, каждый из которых содержит 19 признаков (не считая целевого).\n",
    "\n",
    "Выделим целевой признак в переменную ***target***, а остальные - в переменную ***features***:"
   ]
  },
  {
   "cell_type": "code",
   "execution_count": 51,
   "metadata": {},
   "outputs": [],
   "source": [
    "features = data_all.drop(columns = ['temp_final'])\n",
    "target = data_all['temp_final']"
   ]
  },
  {
   "cell_type": "markdown",
   "metadata": {},
   "source": [
    "Разобьем набор данных на обучающую, валидационную и проверочную подвыборки в соотношении 3:1:1."
   ]
  },
  {
   "cell_type": "code",
   "execution_count": 52,
   "metadata": {},
   "outputs": [
    {
     "name": "stdout",
     "output_type": "stream",
     "text": [
      "Размеры выборок:\n",
      "\n",
      "Обучающая \t 1473\n",
      "Валидационная \t 491\n",
      "Тестовая \t 492\n"
     ]
    }
   ],
   "source": [
    "tr_and_val_feats, test_feats, tr_and_val_target, test_target = train_test_split(features, target,\n",
    "                                                                                train_size = 0.8,   # 4:1\n",
    "                                                                                random_state = R)\n",
    "train_feats, valid_feats, train_target, valid_target = train_test_split(tr_and_val_feats, \n",
    "                                                                        tr_and_val_target,\n",
    "                                                                        train_size = 0.75,          # 3:1\n",
    "                                                                        random_state = R)\n",
    "\n",
    "print(f'''Размеры выборок:\n",
    "\n",
    "Обучающая \\t {train_feats.shape[0]}\n",
    "Валидационная \\t {valid_feats.shape[0]}\n",
    "Тестовая \\t {test_feats.shape[0]}''')"
   ]
  },
  {
   "cell_type": "markdown",
   "metadata": {},
   "source": [
    "# 3. Построение модели"
   ]
  },
  {
   "cell_type": "markdown",
   "metadata": {},
   "source": [
    "Для решения нашей задачи предлагается рассмотреть следующие алгоритмы машинного обучения:\n",
    "- Линейная регрессия;\n",
    "- Случайный лес;\n",
    "- Градиентный бустинг.\n",
    "    \n",
    "### Линейная регрессия\n",
    "\n",
    "Построим модель линейной регрессии, обучим ее на обучающих данных и найдем метрику качества на валидационном наборе:"
   ]
  },
  {
   "cell_type": "code",
   "execution_count": 53,
   "metadata": {},
   "outputs": [
    {
     "name": "stdout",
     "output_type": "stream",
     "text": [
      "Модель: Линейная регрессия\n",
      "MAE на тренировочных данных: 6.5261\n",
      "MAE на валидационных данных: 6.6067\n",
      "Время обучения: 0.0046 с.\n"
     ]
    }
   ],
   "source": [
    "def model_quick_test(model, name):\n",
    "    '''Обучение модели на train и нахождение MAE на valid'''\n",
    "    t_0 = time()\n",
    "    model.fit(train_feats, train_target)\n",
    "    t_fit = time() - t_0\n",
    "    train_pred = model.predict(train_feats)\n",
    "    train_mae = mean_absolute_error(train_pred, train_target)\n",
    "    valid_pred = model.predict(valid_feats)\n",
    "    valid_mae = mean_absolute_error(valid_pred, valid_target)\n",
    "    print(f'Модель: {name}' +\n",
    "          f'\\nMAE на тренировочных данных: {round(train_mae, 4)}' +\n",
    "          f'\\nMAE на валидационных данных: {round(valid_mae, 4)}' +\n",
    "          f'\\nВремя обучения: {round(t_fit, 4)} с.')\n",
    "\n",
    "model_quick_test(LinearRegression(), 'Линейная регрессия')"
   ]
  },
  {
   "cell_type": "markdown",
   "metadata": {},
   "source": [
    "Получили неплохой результат - 6.6. Линейную регрессию будем использовать в качестве проверки остальных моделей \"на вменяемость\" - их результаты должны быть не хуже.\n",
    "\n",
    "### Случайный лес\n",
    "\n",
    "Теперь построим модель случайного леса (с гиперпараметрами по умолчанию):"
   ]
  },
  {
   "cell_type": "code",
   "execution_count": 54,
   "metadata": {},
   "outputs": [
    {
     "name": "stdout",
     "output_type": "stream",
     "text": [
      "Модель: Случайный лес\n",
      "MAE на тренировочных данных: 2.2755\n",
      "MAE на валидационных данных: 6.2454\n",
      "Время обучения: 1.5675 с.\n"
     ]
    }
   ],
   "source": [
    "model_quick_test(RandomForestRegressor(100), 'Случайный лес')"
   ]
  },
  {
   "cell_type": "markdown",
   "metadata": {},
   "source": [
    "Для случайного леса получили MAE на валидации ~ 6.2. Попробуем улучить качество, подобрав оптимальные гиперпараметры с помощью поиска по сетке. При этом, поскольку в GridSearchCV используется кросс-валидация, обучать его можно на объединенном обучающем и валидационном датасете:"
   ]
  },
  {
   "cell_type": "code",
   "execution_count": 55,
   "metadata": {},
   "outputs": [
    {
     "name": "stdout",
     "output_type": "stream",
     "text": [
      "Оптимальными параметрами для RandomForestClassifier являются {'max_depth': 25, 'n_estimators': 200}\n",
      "Средняя МАЕ: 6.0684\n"
     ]
    }
   ],
   "source": [
    "SKIP_GRID_SEARCH = True                                      # для экономии времени опускаем поиск по сетке\n",
    "\n",
    "if SKIP_GRID_SEARCH:                                        \n",
    "    parameters = {'n_estimators': [200], 'max_depth': [25]}\n",
    "else:                                                       \n",
    "    parameters = {'n_estimators': range(50, 201, 25),\n",
    "                  'max_depth': range(10, 31, 5)\n",
    "                  }\n",
    "\n",
    "grid = GridSearchCV(estimator = RandomForestRegressor(random_state = R),\n",
    "                    param_grid = parameters,\n",
    "                    scoring = 'neg_mean_absolute_error',\n",
    "                    cv = 5,\n",
    "                    verbose = False,\n",
    "                    n_jobs=-1)\n",
    "\n",
    "grid.fit(tr_and_val_feats, tr_and_val_target)\n",
    "\n",
    "print(f'Оптимальными параметрами для RandomForestClassifier являются {grid.best_params_}' +\n",
    "      f'\\nСредняя МАЕ: {-round(grid.best_score_, 4)}')"
   ]
  },
  {
   "cell_type": "markdown",
   "metadata": {},
   "source": [
    "После подбора параметров нам удалось еще улучшить МАЕ, снизив ее до 6,06.\n",
    "\n",
    "### Градиентный бустинг\n",
    "\n",
    "Для построения модели градиентного бустинга воспользуемся библиотекой LightGBM. Гиперпараметры пока оставим по умолчанию:"
   ]
  },
  {
   "cell_type": "code",
   "execution_count": 56,
   "metadata": {},
   "outputs": [
    {
     "name": "stdout",
     "output_type": "stream",
     "text": [
      "Модель: Градиентный бустинг\n",
      "MAE на тренировочных данных: 2.1094\n",
      "MAE на валидационных данных: 5.865\n",
      "Время обучения: 1.5979 с.\n"
     ]
    }
   ],
   "source": [
    "model_quick_test(LGBMRegressor(random_state=R), 'Градиентный бустинг')"
   ]
  },
  {
   "cell_type": "markdown",
   "metadata": {},
   "source": [
    "Градиентный бустинг даже без дополнительных настроек превзошел рассмотренные ранее модели и показал на валидации МАЕ менее 6.\n",
    "Подберем для него оптимальные параметры с помощью GridSearchCV:"
   ]
  },
  {
   "cell_type": "code",
   "execution_count": 57,
   "metadata": {},
   "outputs": [
    {
     "name": "stdout",
     "output_type": "stream",
     "text": [
      "Оптимальными параметрами для LGBMRegressor являются {'learning_rate': 0.1, 'max_depth': -1, 'n_estimators': 100}\n",
      "Средняя МАЕ: 5.7961\n"
     ]
    }
   ],
   "source": [
    "SKIP_GRID_SEARCH = True                                      # для экономии времени опускаем поиск по сетке\n",
    "\n",
    "if SKIP_GRID_SEARCH: \n",
    "    parameters = {'max_depth': [-1], 'learning_rate': [0.1], 'n_estimators': [100]}\n",
    "else:\n",
    "    parameters = {'max_depth': [-1, 3, 5, 8],\n",
    "                  'learning_rate': [0.01, 0.05, 0.1, 0.5],\n",
    "                  'n_estimators': range(40, 101, 20)\n",
    "                  }\n",
    "\n",
    "grid = GridSearchCV(estimator = LGBMRegressor(random_state=R),\n",
    "                    param_grid = parameters,\n",
    "                    scoring = 'neg_mean_absolute_error',\n",
    "                    cv = 5,\n",
    "                    verbose = False,\n",
    "                    n_jobs=-1)\n",
    "\n",
    "grid.fit(tr_and_val_feats, tr_and_val_target)\n",
    "\n",
    "print(f'Оптимальными параметрами для LGBMRegressor являются {grid.best_params_}' +\n",
    "      f'\\nСредняя МАЕ: {-round(grid.best_score_, 4)}')"
   ]
  },
  {
   "cell_type": "markdown",
   "metadata": {},
   "source": [
    "C помощью подбора гиперпараметров нам удалось еще немного улучшить метрику качества."
   ]
  },
  {
   "cell_type": "markdown",
   "metadata": {},
   "source": [
    "# 4. Проверка модели на тестовом наборе\n",
    "Наилучший результат в предыдущем шаге показал градиентный бустинг. Построим модель с найденными оптимальными гиперпараметрами и проверим ее качество на тестовой выборке:"
   ]
  },
  {
   "cell_type": "code",
   "execution_count": 58,
   "metadata": {},
   "outputs": [
    {
     "name": "stdout",
     "output_type": "stream",
     "text": [
      "Результаты:\n",
      " MAE на тестовых данных: 5.3639,\n",
      " время обучения: 11.109 с.\n"
     ]
    }
   ],
   "source": [
    "t_0 = time()\n",
    "model = LGBMRegressor(**grid.best_params_, random_state=R)\n",
    "model.fit(tr_and_val_feats, tr_and_val_target)\n",
    "t_fit = time() - t_0\n",
    "test_pred = model.predict(test_feats)\n",
    "test_rmse = mean_absolute_error(test_pred, test_target)\n",
    "print('Результаты:\\n',\n",
    "     f'MAE на тестовых данных: {round(test_rmse, 4)},\\n',\n",
    "     f'время обучения: {round(t_fit, 4)} с.')"
   ]
  },
  {
   "cell_type": "markdown",
   "metadata": {},
   "source": [
    "Итоговый результат для выбранной нами модели: МАЕ = 5.3639\n",
    "\n",
    "Посмотрим, какие из признаков оказались наиболее важными для предсказания температуры:"
   ]
  },
  {
   "cell_type": "code",
   "execution_count": 59,
   "metadata": {},
   "outputs": [
    {
     "data": {
      "image/png": "[encoded data removed]",
      "text/plain": [
       "<Figure size 720x432 with 1 Axes>"
      ]
     },
     "metadata": {
      "needs_background": "light"
     },
     "output_type": "display_data"
    }
   ],
   "source": [
    "fig, ax = plt.subplots(figsize=(10, 6))\n",
    "plot_importance(model, ax=ax)\n",
    "plt.show()"
   ]
  },
  {
   "cell_type": "markdown",
   "metadata": {},
   "source": [
    "Как видно из графика, наибольшее значение имеет начальная температура стали (что вполне логично), а также продолжительность этапа и суммарная работа, произведенная нагревателями. Также довольно большое значение имеет объем добавленных примесей Wire 1 и Bulk 14 - возможно, они влияют на теплопроводность стали."
   ]
  },
  {
   "cell_type": "markdown",
   "metadata": {},
   "source": [
    "# 5. Отчет по решению\n",
    "\n",
    "В данной работе от нас требовалось построить модель регрессии, которая предсказывает температуру стали в конце этапа обработки. Готовая модель должна показывать на тестовом наборе МАЕ не менее 8.7.\n",
    "\n",
    "Для выполнения задания нами сделаны следующие шаги:\n",
    "\n",
    "***1. Анализ и предобработка входных данных.***\n",
    "\n",
    " В ходе изучения данных мы преобразовали их в нужный тип, избавились от пропусков и недопустимых значений. При этом были обнаружены следующие проблемы:\n",
    " - для ряда партий (начиная с 2500-ой и до конца датасета) в таблице ***data_temp*** сохранены только результаты первого замера температуры. Вероятно, это вызвано ошибкой записи в базу данных. Соответствующие записи были удалены из датасета, поскольку в них отсутствует целевой признак;\n",
    " - были обнаружены партии, обработка которых длилась аномально долго. Проанализировав эти записи, мы сделали вывод, что нескольким разным партиям был присвоен один и тот же номер, из-за чего они \"слиплись\" в таблице. Такие записи так же было решено удалить.\n",
    "\n",
    "***2. Создание и отбор признаков.***\n",
    "\n",
    "В качестве признаков мы использовали \n",
    " - начальную температуру стали;\n",
    " - продолжительность этапа обработки (время между первым и последним замером);\n",
    " - рассчитанные нами показатели работы нагревательных электродов (время нагрева, среднюю мощность и некоторые другие прочие);\n",
    " - данные о продувке стали газом;\n",
    " - объем добавленных примесей.\n",
    "\n",
    "Поскольку некоторые примеси используются очень редко, они были исключены из рассмотрения как шум.\n",
    "\n",
    "***3. Выбор модели.***\n",
    "\n",
    "Для решения нашей задачи мы попробовали следующие модели регрессии:\n",
    " - **Линейная регрессия** (sklearn.linear_model.LinearRegerssion). Полученная МАЕ на валидационном наборе - 6.61;\n",
    " - **Случайный лес** (sklearn..ensemble.RandomForestRegressor). После подбора гиперпараметров средняя МАЕ на кросс-валидации - 6.07;\n",
    " - **Градиентный бустинг** (lightgbm.LGBMRegressor(). Для модели с гиперпараметрами по умолчанию МАЕ на валидации составила 5.87; после подбора гиперпараметров с помощью поиска по сетке средняя МАЕ на кросс-валидации составила 5.79.\n",
    " \n",
    "Все модели показали хороший результат и уложились в требуемую метрику. Наилучшей же моделью стал LGBMRegressor с параметрами: *n_estimators* - 100, *learning_rate* - 0.1, остальные по умолчанию.\n",
    "\n",
    "Наиболее важными параметрами для регрессора оказались: начальная температура стали, продолжительность этапа, время нагрева, совершенная электродами работа, а также объем добавленных примесей Wire 1 и Bulk 14.\n",
    "\n",
    "***4. Проверка модели***\n",
    "\n",
    "Выбранная модель была заново обучена и проверена на тестовом наборе. Результирующая МАЕ составила **5.3639**."
   ]
  }
 ],
 "metadata": {
  "kernelspec": {
   "display_name": "Python 3",
   "language": "python",
   "name": "python3"
  },
  "language_info": {
   "codemirror_mode": {
    "name": "ipython",
    "version": 3
   },
   "file_extension": ".py",
   "mimetype": "text/x-python",
   "name": "python",
   "nbconvert_exporter": "python",
   "pygments_lexer": "ipython3",
   "version": "3.7.4"
  }
 },
 "nbformat": 4,
 "nbformat_minor": 2
}
