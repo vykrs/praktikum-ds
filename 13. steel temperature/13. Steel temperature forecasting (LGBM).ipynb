{
 "cells": [
  {
   "cell_type": "markdown",
   "metadata": {},
   "source": [
    "# Предсказание температуры стали в конце технологического процесса.\n",
    "\n",
    "### Описание данных\n",
    "\n",
    "Данные состоят из файлов, полученных из разных источников:\n",
    "\n",
    "- ***data_arc.csv*** — данные об электродах;\n",
    "- ***data_bulk.csv*** — данные о подаче сыпучих материалов (объём);\n",
    "- ***data_bulk_time.csv*** — данные о подаче сыпучих материалов (время);\n",
    "- ***data_gas.csv*** — данные о продувке сплава газом;\n",
    "- ***data_temp.csv*** — результаты измерения температуры;\n",
    "- ***data_wire.csv*** — данные о проволочных материалах (объём);\n",
    "- ***data_wire_time.csv*** — данные о проволочных материалах (время).\n",
    "\n",
    "Во всех файлах столбец **key** содержит номер партии. В файлах может быть несколько строк с одинаковым значением **key**: они соответствуют разным итерациям обработки.\n",
    "\n",
    "### Признаки и целевая переменная\n",
    "\n",
    "Каждая партия имеет уникальный номер (**key**). Этап обработки - период с момента поступления партии в ковш и до получения готового продукта. В ходе обработки над сталью производятся различные действия: добавление примесей, подогрев, продувка газом. Некоторые шаги могут повторяться несколько раз либо отсутствовать.\n",
    "\n",
    "Целевым признаком является последняя измеренная температура в данном этапе. При этом в силу особенностей технологического процесса в качестве признака мы можем использовать только первую измеренную температуру, несмотря на то, сколько замеров было сделано на самом деле. Данные обо всех остальных технологических процессах (количество примесей, подогрев, продувка и т.д.) также можно использовать в качестве признаков.\n",
    "\n",
    "В качестве метрики качества модели используется MAE. Требуется достичь МАЕ не менее 8,7."
   ]
  },
  {
   "cell_type": "markdown",
   "metadata": {},
   "source": [
    "# 1. Анализ данных"
   ]
  },
  {
   "cell_type": "markdown",
   "metadata": {},
   "source": [
    "Импорт необходимых модулей:"
   ]
  },
  {
   "cell_type": "code",
   "execution_count": 75,
   "metadata": {},
   "outputs": [
    {
     "ename": "Exception",
     "evalue": "Cannot find lightgbm library file in following paths:\n/home/v/anaconda3/lib/python3.7/site-packages/lightgbm/lib_lightgbm.so\n/home/v/anaconda3/lib/python3.7/lib_lightgbm.so\n/home/v/anaconda3/lib/python3.7/site-packages/lightgbm/compile/lib_lightgbm.so\n/home/v/anaconda3/lib/python3.7/site-packages/compile/lib_lightgbm.so\n/home/v/anaconda3/lib/python3.7/lib/lib_lightgbm.so",
     "output_type": "error",
     "traceback": [
      "\u001b[0;31m---------------------------------------------------------------------------\u001b[0m",
      "\u001b[0;31mException\u001b[0m                                 Traceback (most recent call last)",
      "\u001b[0;32m<ipython-input-75-1d4c289c8963>\u001b[0m in \u001b[0;36m<module>\u001b[0;34m\u001b[0m\n\u001b[1;32m     10\u001b[0m \u001b[0;32mfrom\u001b[0m \u001b[0msklearn\u001b[0m\u001b[0;34m.\u001b[0m\u001b[0mmetrics\u001b[0m \u001b[0;32mimport\u001b[0m \u001b[0mmean_absolute_error\u001b[0m\u001b[0;34m\u001b[0m\u001b[0;34m\u001b[0m\u001b[0m\n\u001b[1;32m     11\u001b[0m \u001b[0;34m\u001b[0m\u001b[0m\n\u001b[0;32m---> 12\u001b[0;31m \u001b[0;32mfrom\u001b[0m \u001b[0mlightgbm\u001b[0m \u001b[0;32mimport\u001b[0m \u001b[0mLGBMRegressor\u001b[0m\u001b[0;34m,\u001b[0m \u001b[0mplot_importance\u001b[0m\u001b[0;34m\u001b[0m\u001b[0;34m\u001b[0m\u001b[0m\n\u001b[0m\u001b[1;32m     13\u001b[0m \u001b[0;34m\u001b[0m\u001b[0m\n\u001b[1;32m     14\u001b[0m \u001b[0mR\u001b[0m\u001b[0;34m=\u001b[0m\u001b[0;36m1234\u001b[0m\u001b[0;34m\u001b[0m\u001b[0;34m\u001b[0m\u001b[0m\n",
      "\u001b[0;32m~/anaconda3/lib/python3.7/site-packages/lightgbm/__init__.py\u001b[0m in \u001b[0;36m<module>\u001b[0;34m\u001b[0m\n\u001b[1;32m      6\u001b[0m \u001b[0;32mfrom\u001b[0m \u001b[0m__future__\u001b[0m \u001b[0;32mimport\u001b[0m \u001b[0mabsolute_import\u001b[0m\u001b[0;34m\u001b[0m\u001b[0;34m\u001b[0m\u001b[0m\n\u001b[1;32m      7\u001b[0m \u001b[0;34m\u001b[0m\u001b[0m\n\u001b[0;32m----> 8\u001b[0;31m \u001b[0;32mfrom\u001b[0m \u001b[0;34m.\u001b[0m\u001b[0mbasic\u001b[0m \u001b[0;32mimport\u001b[0m \u001b[0mBooster\u001b[0m\u001b[0;34m,\u001b[0m \u001b[0mDataset\u001b[0m\u001b[0;34m\u001b[0m\u001b[0;34m\u001b[0m\u001b[0m\n\u001b[0m\u001b[1;32m      9\u001b[0m from .callback import (early_stopping, print_evaluation, record_evaluation,\n\u001b[1;32m     10\u001b[0m                        reset_parameter)\n",
      "\u001b[0;32m~/anaconda3/lib/python3.7/site-packages/lightgbm/basic.py\u001b[0m in \u001b[0;36m<module>\u001b[0;34m\u001b[0m\n\u001b[1;32m     33\u001b[0m \u001b[0;34m\u001b[0m\u001b[0m\n\u001b[1;32m     34\u001b[0m \u001b[0;34m\u001b[0m\u001b[0m\n\u001b[0;32m---> 35\u001b[0;31m \u001b[0m_LIB\u001b[0m \u001b[0;34m=\u001b[0m \u001b[0m_load_lib\u001b[0m\u001b[0;34m(\u001b[0m\u001b[0;34m)\u001b[0m\u001b[0;34m\u001b[0m\u001b[0;34m\u001b[0m\u001b[0m\n\u001b[0m\u001b[1;32m     36\u001b[0m \u001b[0;34m\u001b[0m\u001b[0m\n\u001b[1;32m     37\u001b[0m \u001b[0;34m\u001b[0m\u001b[0m\n",
      "\u001b[0;32m~/anaconda3/lib/python3.7/site-packages/lightgbm/basic.py\u001b[0m in \u001b[0;36m_load_lib\u001b[0;34m()\u001b[0m\n\u001b[1;32m     25\u001b[0m \u001b[0;32mdef\u001b[0m \u001b[0m_load_lib\u001b[0m\u001b[0;34m(\u001b[0m\u001b[0;34m)\u001b[0m\u001b[0;34m:\u001b[0m\u001b[0;34m\u001b[0m\u001b[0;34m\u001b[0m\u001b[0m\n\u001b[1;32m     26\u001b[0m     \u001b[0;34m\"\"\"Load LightGBM library.\"\"\"\u001b[0m\u001b[0;34m\u001b[0m\u001b[0;34m\u001b[0m\u001b[0m\n\u001b[0;32m---> 27\u001b[0;31m     \u001b[0mlib_path\u001b[0m \u001b[0;34m=\u001b[0m \u001b[0mfind_lib_path\u001b[0m\u001b[0;34m(\u001b[0m\u001b[0;34m)\u001b[0m\u001b[0;34m\u001b[0m\u001b[0;34m\u001b[0m\u001b[0m\n\u001b[0m\u001b[1;32m     28\u001b[0m     \u001b[0;32mif\u001b[0m \u001b[0mlen\u001b[0m\u001b[0;34m(\u001b[0m\u001b[0mlib_path\u001b[0m\u001b[0;34m)\u001b[0m \u001b[0;34m==\u001b[0m \u001b[0;36m0\u001b[0m\u001b[0;34m:\u001b[0m\u001b[0;34m\u001b[0m\u001b[0;34m\u001b[0m\u001b[0m\n\u001b[1;32m     29\u001b[0m         \u001b[0;32mreturn\u001b[0m \u001b[0;32mNone\u001b[0m\u001b[0;34m\u001b[0m\u001b[0;34m\u001b[0m\u001b[0m\n",
      "\u001b[0;32m~/anaconda3/lib/python3.7/site-packages/lightgbm/libpath.py\u001b[0m in \u001b[0;36mfind_lib_path\u001b[0;34m()\u001b[0m\n\u001b[1;32m     35\u001b[0m     \u001b[0;32mif\u001b[0m \u001b[0;32mnot\u001b[0m \u001b[0mlib_path\u001b[0m\u001b[0;34m:\u001b[0m\u001b[0;34m\u001b[0m\u001b[0;34m\u001b[0m\u001b[0m\n\u001b[1;32m     36\u001b[0m         \u001b[0mdll_path\u001b[0m \u001b[0;34m=\u001b[0m \u001b[0;34m[\u001b[0m\u001b[0mos\u001b[0m\u001b[0;34m.\u001b[0m\u001b[0mpath\u001b[0m\u001b[0;34m.\u001b[0m\u001b[0mrealpath\u001b[0m\u001b[0;34m(\u001b[0m\u001b[0mp\u001b[0m\u001b[0;34m)\u001b[0m \u001b[0;32mfor\u001b[0m \u001b[0mp\u001b[0m \u001b[0;32min\u001b[0m \u001b[0mdll_path\u001b[0m\u001b[0;34m]\u001b[0m\u001b[0;34m\u001b[0m\u001b[0;34m\u001b[0m\u001b[0m\n\u001b[0;32m---> 37\u001b[0;31m         \u001b[0;32mraise\u001b[0m \u001b[0mException\u001b[0m\u001b[0;34m(\u001b[0m\u001b[0;34m'Cannot find lightgbm library file in following paths:\\n'\u001b[0m \u001b[0;34m+\u001b[0m \u001b[0;34m'\\n'\u001b[0m\u001b[0;34m.\u001b[0m\u001b[0mjoin\u001b[0m\u001b[0;34m(\u001b[0m\u001b[0mdll_path\u001b[0m\u001b[0;34m)\u001b[0m\u001b[0;34m)\u001b[0m\u001b[0;34m\u001b[0m\u001b[0;34m\u001b[0m\u001b[0m\n\u001b[0m\u001b[1;32m     38\u001b[0m     \u001b[0;32mreturn\u001b[0m \u001b[0mlib_path\u001b[0m\u001b[0;34m\u001b[0m\u001b[0;34m\u001b[0m\u001b[0m\n",
      "\u001b[0;31mException\u001b[0m: Cannot find lightgbm library file in following paths:\n/home/v/anaconda3/lib/python3.7/site-packages/lightgbm/lib_lightgbm.so\n/home/v/anaconda3/lib/python3.7/lib_lightgbm.so\n/home/v/anaconda3/lib/python3.7/site-packages/lightgbm/compile/lib_lightgbm.so\n/home/v/anaconda3/lib/python3.7/site-packages/compile/lib_lightgbm.so\n/home/v/anaconda3/lib/python3.7/lib/lib_lightgbm.so"
     ]
    }
   ],
   "source": [
    "import pandas as pd\n",
    "import os\n",
    "from time import time\n",
    "from IPython.display import display\n",
    "import matplotlib.pyplot as plt\n",
    "\n",
    "from sklearn.linear_model import LinearRegression\n",
    "from sklearn.ensemble import RandomForestRegressor\n",
    "from sklearn.model_selection import GridSearchCV, train_test_split\n",
    "from sklearn.metrics import mean_absolute_error\n",
    "\n",
    "from lightgbm import LGBMRegressor, plot_importance\n",
    "\n",
    "R=1234"
   ]
  },
  {
   "cell_type": "markdown",
   "metadata": {},
   "source": [
    "Загрузим все таблицы из папки и сохраним в соответствующие переменные, а также выведем по несколько записей каждой:"
   ]
  },
  {
   "cell_type": "code",
   "execution_count": 76,
   "metadata": {
    "scrolled": false
   },
   "outputs": [
    {
     "name": "stdout",
     "output_type": "stream",
     "text": [
      "\n",
      "Таблица data_temp:\n"
     ]
    },
    {
     "data": {
      "text/html": [
       "<div>\n",
       "<style scoped>\n",
       "    .dataframe tbody tr th:only-of-type {\n",
       "        vertical-align: middle;\n",
       "    }\n",
       "\n",
       "    .dataframe tbody tr th {\n",
       "        vertical-align: top;\n",
       "    }\n",
       "\n",
       "    .dataframe thead th {\n",
       "        text-align: right;\n",
       "    }\n",
       "</style>\n",
       "<table border=\"1\" class=\"dataframe\">\n",
       "  <thead>\n",
       "    <tr style=\"text-align: right;\">\n",
       "      <th></th>\n",
       "      <th>key</th>\n",
       "      <th>Время замера</th>\n",
       "      <th>Температура</th>\n",
       "    </tr>\n",
       "  </thead>\n",
       "  <tbody>\n",
       "    <tr>\n",
       "      <td>0</td>\n",
       "      <td>1</td>\n",
       "      <td>2019-05-03 11:16:18</td>\n",
       "      <td>1571.0</td>\n",
       "    </tr>\n",
       "    <tr>\n",
       "      <td>1</td>\n",
       "      <td>1</td>\n",
       "      <td>2019-05-03 11:25:53</td>\n",
       "      <td>1604.0</td>\n",
       "    </tr>\n",
       "    <tr>\n",
       "      <td>2</td>\n",
       "      <td>1</td>\n",
       "      <td>2019-05-03 11:29:11</td>\n",
       "      <td>1618.0</td>\n",
       "    </tr>\n",
       "  </tbody>\n",
       "</table>\n",
       "</div>"
      ],
      "text/plain": [
       "   key         Время замера  Температура\n",
       "0    1  2019-05-03 11:16:18       1571.0\n",
       "1    1  2019-05-03 11:25:53       1604.0\n",
       "2    1  2019-05-03 11:29:11       1618.0"
      ]
     },
     "metadata": {},
     "output_type": "display_data"
    },
    {
     "name": "stdout",
     "output_type": "stream",
     "text": [
      "\n",
      "Таблица data_gas:\n"
     ]
    },
    {
     "data": {
      "text/html": [
       "<div>\n",
       "<style scoped>\n",
       "    .dataframe tbody tr th:only-of-type {\n",
       "        vertical-align: middle;\n",
       "    }\n",
       "\n",
       "    .dataframe tbody tr th {\n",
       "        vertical-align: top;\n",
       "    }\n",
       "\n",
       "    .dataframe thead th {\n",
       "        text-align: right;\n",
       "    }\n",
       "</style>\n",
       "<table border=\"1\" class=\"dataframe\">\n",
       "  <thead>\n",
       "    <tr style=\"text-align: right;\">\n",
       "      <th></th>\n",
       "      <th>key</th>\n",
       "      <th>Газ 1</th>\n",
       "    </tr>\n",
       "  </thead>\n",
       "  <tbody>\n",
       "    <tr>\n",
       "      <td>0</td>\n",
       "      <td>1</td>\n",
       "      <td>29.749986</td>\n",
       "    </tr>\n",
       "    <tr>\n",
       "      <td>1</td>\n",
       "      <td>2</td>\n",
       "      <td>12.555561</td>\n",
       "    </tr>\n",
       "    <tr>\n",
       "      <td>2</td>\n",
       "      <td>3</td>\n",
       "      <td>28.554793</td>\n",
       "    </tr>\n",
       "  </tbody>\n",
       "</table>\n",
       "</div>"
      ],
      "text/plain": [
       "   key      Газ 1\n",
       "0    1  29.749986\n",
       "1    2  12.555561\n",
       "2    3  28.554793"
      ]
     },
     "metadata": {},
     "output_type": "display_data"
    },
    {
     "name": "stdout",
     "output_type": "stream",
     "text": [
      "\n",
      "Таблица data_arc:\n"
     ]
    },
    {
     "data": {
      "text/html": [
       "<div>\n",
       "<style scoped>\n",
       "    .dataframe tbody tr th:only-of-type {\n",
       "        vertical-align: middle;\n",
       "    }\n",
       "\n",
       "    .dataframe tbody tr th {\n",
       "        vertical-align: top;\n",
       "    }\n",
       "\n",
       "    .dataframe thead th {\n",
       "        text-align: right;\n",
       "    }\n",
       "</style>\n",
       "<table border=\"1\" class=\"dataframe\">\n",
       "  <thead>\n",
       "    <tr style=\"text-align: right;\">\n",
       "      <th></th>\n",
       "      <th>key</th>\n",
       "      <th>Начало нагрева дугой</th>\n",
       "      <th>Конец нагрева дугой</th>\n",
       "      <th>Активная мощность</th>\n",
       "      <th>Реактивная мощность</th>\n",
       "    </tr>\n",
       "  </thead>\n",
       "  <tbody>\n",
       "    <tr>\n",
       "      <td>0</td>\n",
       "      <td>1</td>\n",
       "      <td>2019-05-03 11:02:14</td>\n",
       "      <td>2019-05-03 11:06:02</td>\n",
       "      <td>0.976059</td>\n",
       "      <td>0.687084</td>\n",
       "    </tr>\n",
       "    <tr>\n",
       "      <td>1</td>\n",
       "      <td>1</td>\n",
       "      <td>2019-05-03 11:07:28</td>\n",
       "      <td>2019-05-03 11:10:33</td>\n",
       "      <td>0.805607</td>\n",
       "      <td>0.520285</td>\n",
       "    </tr>\n",
       "    <tr>\n",
       "      <td>2</td>\n",
       "      <td>1</td>\n",
       "      <td>2019-05-03 11:11:44</td>\n",
       "      <td>2019-05-03 11:14:36</td>\n",
       "      <td>0.744363</td>\n",
       "      <td>0.498805</td>\n",
       "    </tr>\n",
       "  </tbody>\n",
       "</table>\n",
       "</div>"
      ],
      "text/plain": [
       "   key Начало нагрева дугой  Конец нагрева дугой  Активная мощность  \\\n",
       "0    1  2019-05-03 11:02:14  2019-05-03 11:06:02           0.976059   \n",
       "1    1  2019-05-03 11:07:28  2019-05-03 11:10:33           0.805607   \n",
       "2    1  2019-05-03 11:11:44  2019-05-03 11:14:36           0.744363   \n",
       "\n",
       "   Реактивная мощность  \n",
       "0             0.687084  \n",
       "1             0.520285  \n",
       "2             0.498805  "
      ]
     },
     "metadata": {},
     "output_type": "display_data"
    },
    {
     "name": "stdout",
     "output_type": "stream",
     "text": [
      "\n",
      "Таблица data_wire_time:\n"
     ]
    },
    {
     "data": {
      "text/html": [
       "<div>\n",
       "<style scoped>\n",
       "    .dataframe tbody tr th:only-of-type {\n",
       "        vertical-align: middle;\n",
       "    }\n",
       "\n",
       "    .dataframe tbody tr th {\n",
       "        vertical-align: top;\n",
       "    }\n",
       "\n",
       "    .dataframe thead th {\n",
       "        text-align: right;\n",
       "    }\n",
       "</style>\n",
       "<table border=\"1\" class=\"dataframe\">\n",
       "  <thead>\n",
       "    <tr style=\"text-align: right;\">\n",
       "      <th></th>\n",
       "      <th>key</th>\n",
       "      <th>Wire 1</th>\n",
       "      <th>Wire 2</th>\n",
       "      <th>Wire 3</th>\n",
       "      <th>Wire 4</th>\n",
       "      <th>Wire 5</th>\n",
       "      <th>Wire 6</th>\n",
       "      <th>Wire 7</th>\n",
       "      <th>Wire 8</th>\n",
       "      <th>Wire 9</th>\n",
       "    </tr>\n",
       "  </thead>\n",
       "  <tbody>\n",
       "    <tr>\n",
       "      <td>0</td>\n",
       "      <td>1</td>\n",
       "      <td>2019-05-03 11:11:41</td>\n",
       "      <td>NaN</td>\n",
       "      <td>NaN</td>\n",
       "      <td>NaN</td>\n",
       "      <td>NaN</td>\n",
       "      <td>NaN</td>\n",
       "      <td>NaN</td>\n",
       "      <td>NaN</td>\n",
       "      <td>NaN</td>\n",
       "    </tr>\n",
       "    <tr>\n",
       "      <td>1</td>\n",
       "      <td>2</td>\n",
       "      <td>2019-05-03 11:46:10</td>\n",
       "      <td>NaN</td>\n",
       "      <td>NaN</td>\n",
       "      <td>NaN</td>\n",
       "      <td>NaN</td>\n",
       "      <td>NaN</td>\n",
       "      <td>NaN</td>\n",
       "      <td>NaN</td>\n",
       "      <td>NaN</td>\n",
       "    </tr>\n",
       "    <tr>\n",
       "      <td>2</td>\n",
       "      <td>3</td>\n",
       "      <td>2019-05-03 12:13:47</td>\n",
       "      <td>NaN</td>\n",
       "      <td>NaN</td>\n",
       "      <td>NaN</td>\n",
       "      <td>NaN</td>\n",
       "      <td>NaN</td>\n",
       "      <td>NaN</td>\n",
       "      <td>NaN</td>\n",
       "      <td>NaN</td>\n",
       "    </tr>\n",
       "  </tbody>\n",
       "</table>\n",
       "</div>"
      ],
      "text/plain": [
       "   key               Wire 1 Wire 2 Wire 3 Wire 4 Wire 5 Wire 6 Wire 7 Wire 8  \\\n",
       "0    1  2019-05-03 11:11:41    NaN    NaN    NaN    NaN    NaN    NaN    NaN   \n",
       "1    2  2019-05-03 11:46:10    NaN    NaN    NaN    NaN    NaN    NaN    NaN   \n",
       "2    3  2019-05-03 12:13:47    NaN    NaN    NaN    NaN    NaN    NaN    NaN   \n",
       "\n",
       "  Wire 9  \n",
       "0    NaN  \n",
       "1    NaN  \n",
       "2    NaN  "
      ]
     },
     "metadata": {},
     "output_type": "display_data"
    },
    {
     "name": "stdout",
     "output_type": "stream",
     "text": [
      "\n",
      "Таблица data_bulk_time:\n"
     ]
    },
    {
     "data": {
      "text/html": [
       "<div>\n",
       "<style scoped>\n",
       "    .dataframe tbody tr th:only-of-type {\n",
       "        vertical-align: middle;\n",
       "    }\n",
       "\n",
       "    .dataframe tbody tr th {\n",
       "        vertical-align: top;\n",
       "    }\n",
       "\n",
       "    .dataframe thead th {\n",
       "        text-align: right;\n",
       "    }\n",
       "</style>\n",
       "<table border=\"1\" class=\"dataframe\">\n",
       "  <thead>\n",
       "    <tr style=\"text-align: right;\">\n",
       "      <th></th>\n",
       "      <th>key</th>\n",
       "      <th>Bulk 1</th>\n",
       "      <th>Bulk 2</th>\n",
       "      <th>Bulk 3</th>\n",
       "      <th>Bulk 4</th>\n",
       "      <th>Bulk 5</th>\n",
       "      <th>Bulk 6</th>\n",
       "      <th>Bulk 7</th>\n",
       "      <th>Bulk 8</th>\n",
       "      <th>Bulk 9</th>\n",
       "      <th>Bulk 10</th>\n",
       "      <th>Bulk 11</th>\n",
       "      <th>Bulk 12</th>\n",
       "      <th>Bulk 13</th>\n",
       "      <th>Bulk 14</th>\n",
       "      <th>Bulk 15</th>\n",
       "    </tr>\n",
       "  </thead>\n",
       "  <tbody>\n",
       "    <tr>\n",
       "      <td>0</td>\n",
       "      <td>1</td>\n",
       "      <td>NaN</td>\n",
       "      <td>NaN</td>\n",
       "      <td>NaN</td>\n",
       "      <td>2019-05-03 11:21:30</td>\n",
       "      <td>NaN</td>\n",
       "      <td>NaN</td>\n",
       "      <td>NaN</td>\n",
       "      <td>NaN</td>\n",
       "      <td>NaN</td>\n",
       "      <td>NaN</td>\n",
       "      <td>NaN</td>\n",
       "      <td>2019-05-03 11:03:52</td>\n",
       "      <td>NaN</td>\n",
       "      <td>2019-05-03 11:03:52</td>\n",
       "      <td>2019-05-03 11:03:52</td>\n",
       "    </tr>\n",
       "    <tr>\n",
       "      <td>1</td>\n",
       "      <td>2</td>\n",
       "      <td>NaN</td>\n",
       "      <td>NaN</td>\n",
       "      <td>NaN</td>\n",
       "      <td>2019-05-03 11:46:38</td>\n",
       "      <td>NaN</td>\n",
       "      <td>NaN</td>\n",
       "      <td>NaN</td>\n",
       "      <td>NaN</td>\n",
       "      <td>NaN</td>\n",
       "      <td>NaN</td>\n",
       "      <td>NaN</td>\n",
       "      <td>2019-05-03 11:40:20</td>\n",
       "      <td>NaN</td>\n",
       "      <td>2019-05-03 11:40:20</td>\n",
       "      <td>2019-05-03 11:40:20</td>\n",
       "    </tr>\n",
       "    <tr>\n",
       "      <td>2</td>\n",
       "      <td>3</td>\n",
       "      <td>NaN</td>\n",
       "      <td>NaN</td>\n",
       "      <td>NaN</td>\n",
       "      <td>2019-05-03 12:31:06</td>\n",
       "      <td>NaN</td>\n",
       "      <td>NaN</td>\n",
       "      <td>NaN</td>\n",
       "      <td>NaN</td>\n",
       "      <td>NaN</td>\n",
       "      <td>NaN</td>\n",
       "      <td>NaN</td>\n",
       "      <td>2019-05-03 12:09:40</td>\n",
       "      <td>NaN</td>\n",
       "      <td>2019-05-03 12:09:40</td>\n",
       "      <td>2019-05-03 12:09:40</td>\n",
       "    </tr>\n",
       "  </tbody>\n",
       "</table>\n",
       "</div>"
      ],
      "text/plain": [
       "   key Bulk 1 Bulk 2 Bulk 3               Bulk 4 Bulk 5 Bulk 6 Bulk 7 Bulk 8  \\\n",
       "0    1    NaN    NaN    NaN  2019-05-03 11:21:30    NaN    NaN    NaN    NaN   \n",
       "1    2    NaN    NaN    NaN  2019-05-03 11:46:38    NaN    NaN    NaN    NaN   \n",
       "2    3    NaN    NaN    NaN  2019-05-03 12:31:06    NaN    NaN    NaN    NaN   \n",
       "\n",
       "  Bulk 9 Bulk 10 Bulk 11              Bulk 12 Bulk 13              Bulk 14  \\\n",
       "0    NaN     NaN     NaN  2019-05-03 11:03:52     NaN  2019-05-03 11:03:52   \n",
       "1    NaN     NaN     NaN  2019-05-03 11:40:20     NaN  2019-05-03 11:40:20   \n",
       "2    NaN     NaN     NaN  2019-05-03 12:09:40     NaN  2019-05-03 12:09:40   \n",
       "\n",
       "               Bulk 15  \n",
       "0  2019-05-03 11:03:52  \n",
       "1  2019-05-03 11:40:20  \n",
       "2  2019-05-03 12:09:40  "
      ]
     },
     "metadata": {},
     "output_type": "display_data"
    },
    {
     "name": "stdout",
     "output_type": "stream",
     "text": [
      "\n",
      "Таблица data_bulk:\n"
     ]
    },
    {
     "data": {
      "text/html": [
       "<div>\n",
       "<style scoped>\n",
       "    .dataframe tbody tr th:only-of-type {\n",
       "        vertical-align: middle;\n",
       "    }\n",
       "\n",
       "    .dataframe tbody tr th {\n",
       "        vertical-align: top;\n",
       "    }\n",
       "\n",
       "    .dataframe thead th {\n",
       "        text-align: right;\n",
       "    }\n",
       "</style>\n",
       "<table border=\"1\" class=\"dataframe\">\n",
       "  <thead>\n",
       "    <tr style=\"text-align: right;\">\n",
       "      <th></th>\n",
       "      <th>key</th>\n",
       "      <th>Bulk 1</th>\n",
       "      <th>Bulk 2</th>\n",
       "      <th>Bulk 3</th>\n",
       "      <th>Bulk 4</th>\n",
       "      <th>Bulk 5</th>\n",
       "      <th>Bulk 6</th>\n",
       "      <th>Bulk 7</th>\n",
       "      <th>Bulk 8</th>\n",
       "      <th>Bulk 9</th>\n",
       "      <th>Bulk 10</th>\n",
       "      <th>Bulk 11</th>\n",
       "      <th>Bulk 12</th>\n",
       "      <th>Bulk 13</th>\n",
       "      <th>Bulk 14</th>\n",
       "      <th>Bulk 15</th>\n",
       "    </tr>\n",
       "  </thead>\n",
       "  <tbody>\n",
       "    <tr>\n",
       "      <td>0</td>\n",
       "      <td>1</td>\n",
       "      <td>NaN</td>\n",
       "      <td>NaN</td>\n",
       "      <td>NaN</td>\n",
       "      <td>43.0</td>\n",
       "      <td>NaN</td>\n",
       "      <td>NaN</td>\n",
       "      <td>NaN</td>\n",
       "      <td>NaN</td>\n",
       "      <td>NaN</td>\n",
       "      <td>NaN</td>\n",
       "      <td>NaN</td>\n",
       "      <td>206.0</td>\n",
       "      <td>NaN</td>\n",
       "      <td>150.0</td>\n",
       "      <td>154.0</td>\n",
       "    </tr>\n",
       "    <tr>\n",
       "      <td>1</td>\n",
       "      <td>2</td>\n",
       "      <td>NaN</td>\n",
       "      <td>NaN</td>\n",
       "      <td>NaN</td>\n",
       "      <td>73.0</td>\n",
       "      <td>NaN</td>\n",
       "      <td>NaN</td>\n",
       "      <td>NaN</td>\n",
       "      <td>NaN</td>\n",
       "      <td>NaN</td>\n",
       "      <td>NaN</td>\n",
       "      <td>NaN</td>\n",
       "      <td>206.0</td>\n",
       "      <td>NaN</td>\n",
       "      <td>149.0</td>\n",
       "      <td>154.0</td>\n",
       "    </tr>\n",
       "    <tr>\n",
       "      <td>2</td>\n",
       "      <td>3</td>\n",
       "      <td>NaN</td>\n",
       "      <td>NaN</td>\n",
       "      <td>NaN</td>\n",
       "      <td>34.0</td>\n",
       "      <td>NaN</td>\n",
       "      <td>NaN</td>\n",
       "      <td>NaN</td>\n",
       "      <td>NaN</td>\n",
       "      <td>NaN</td>\n",
       "      <td>NaN</td>\n",
       "      <td>NaN</td>\n",
       "      <td>205.0</td>\n",
       "      <td>NaN</td>\n",
       "      <td>152.0</td>\n",
       "      <td>153.0</td>\n",
       "    </tr>\n",
       "  </tbody>\n",
       "</table>\n",
       "</div>"
      ],
      "text/plain": [
       "   key  Bulk 1  Bulk 2  Bulk 3  Bulk 4  Bulk 5  Bulk 6  Bulk 7  Bulk 8  \\\n",
       "0    1     NaN     NaN     NaN    43.0     NaN     NaN     NaN     NaN   \n",
       "1    2     NaN     NaN     NaN    73.0     NaN     NaN     NaN     NaN   \n",
       "2    3     NaN     NaN     NaN    34.0     NaN     NaN     NaN     NaN   \n",
       "\n",
       "   Bulk 9  Bulk 10  Bulk 11  Bulk 12  Bulk 13  Bulk 14  Bulk 15  \n",
       "0     NaN      NaN      NaN    206.0      NaN    150.0    154.0  \n",
       "1     NaN      NaN      NaN    206.0      NaN    149.0    154.0  \n",
       "2     NaN      NaN      NaN    205.0      NaN    152.0    153.0  "
      ]
     },
     "metadata": {},
     "output_type": "display_data"
    },
    {
     "name": "stdout",
     "output_type": "stream",
     "text": [
      "\n",
      "Таблица data_wire:\n"
     ]
    },
    {
     "data": {
      "text/html": [
       "<div>\n",
       "<style scoped>\n",
       "    .dataframe tbody tr th:only-of-type {\n",
       "        vertical-align: middle;\n",
       "    }\n",
       "\n",
       "    .dataframe tbody tr th {\n",
       "        vertical-align: top;\n",
       "    }\n",
       "\n",
       "    .dataframe thead th {\n",
       "        text-align: right;\n",
       "    }\n",
       "</style>\n",
       "<table border=\"1\" class=\"dataframe\">\n",
       "  <thead>\n",
       "    <tr style=\"text-align: right;\">\n",
       "      <th></th>\n",
       "      <th>key</th>\n",
       "      <th>Wire 1</th>\n",
       "      <th>Wire 2</th>\n",
       "      <th>Wire 3</th>\n",
       "      <th>Wire 4</th>\n",
       "      <th>Wire 5</th>\n",
       "      <th>Wire 6</th>\n",
       "      <th>Wire 7</th>\n",
       "      <th>Wire 8</th>\n",
       "      <th>Wire 9</th>\n",
       "    </tr>\n",
       "  </thead>\n",
       "  <tbody>\n",
       "    <tr>\n",
       "      <td>0</td>\n",
       "      <td>1</td>\n",
       "      <td>60.059998</td>\n",
       "      <td>NaN</td>\n",
       "      <td>NaN</td>\n",
       "      <td>NaN</td>\n",
       "      <td>NaN</td>\n",
       "      <td>NaN</td>\n",
       "      <td>NaN</td>\n",
       "      <td>NaN</td>\n",
       "      <td>NaN</td>\n",
       "    </tr>\n",
       "    <tr>\n",
       "      <td>1</td>\n",
       "      <td>2</td>\n",
       "      <td>96.052315</td>\n",
       "      <td>NaN</td>\n",
       "      <td>NaN</td>\n",
       "      <td>NaN</td>\n",
       "      <td>NaN</td>\n",
       "      <td>NaN</td>\n",
       "      <td>NaN</td>\n",
       "      <td>NaN</td>\n",
       "      <td>NaN</td>\n",
       "    </tr>\n",
       "    <tr>\n",
       "      <td>2</td>\n",
       "      <td>3</td>\n",
       "      <td>91.160157</td>\n",
       "      <td>NaN</td>\n",
       "      <td>NaN</td>\n",
       "      <td>NaN</td>\n",
       "      <td>NaN</td>\n",
       "      <td>NaN</td>\n",
       "      <td>NaN</td>\n",
       "      <td>NaN</td>\n",
       "      <td>NaN</td>\n",
       "    </tr>\n",
       "  </tbody>\n",
       "</table>\n",
       "</div>"
      ],
      "text/plain": [
       "   key     Wire 1  Wire 2  Wire 3  Wire 4  Wire 5  Wire 6  Wire 7  Wire 8  \\\n",
       "0    1  60.059998     NaN     NaN     NaN     NaN     NaN     NaN     NaN   \n",
       "1    2  96.052315     NaN     NaN     NaN     NaN     NaN     NaN     NaN   \n",
       "2    3  91.160157     NaN     NaN     NaN     NaN     NaN     NaN     NaN   \n",
       "\n",
       "   Wire 9  \n",
       "0     NaN  \n",
       "1     NaN  \n",
       "2     NaN  "
      ]
     },
     "metadata": {},
     "output_type": "display_data"
    }
   ],
   "source": [
    "dirname = '/home/v/datasets/steel/'      #папка, где находятся csv-файлы\n",
    "\n",
    "for filename in os.listdir(dirname): \n",
    "    if filename.find('.csv') > 0:\n",
    "        globals()[filename[: -4]] = pd.read_csv(dirname + filename)\n",
    "        print(f'\\nТаблица {filename[: -4]}:')\n",
    "        display(globals()[filename[: -4]].head(3))"
   ]
  },
  {
   "cell_type": "markdown",
   "metadata": {},
   "source": [
    "Переведем столбцы с датой и временем в тип *datetime*:"
   ]
  },
  {
   "cell_type": "code",
   "execution_count": null,
   "metadata": {},
   "outputs": [],
   "source": [
    "for df in [data_temp, data_arc, data_wire_time, data_bulk_time]:\n",
    "    for col in df.columns:\n",
    "        if df[col].dtype == 'object':\n",
    "            df[col] = pd.to_datetime(df[col])"
   ]
  },
  {
   "cell_type": "markdown",
   "metadata": {},
   "source": [
    "### Изучение этапа обработки\n",
    "Прежде чем перейти к анализу данных в таблицах, рассмотрим для понимания процесса полный цикл обработки одной партии:"
   ]
  },
  {
   "cell_type": "code",
   "execution_count": 73,
   "metadata": {},
   "outputs": [
    {
     "ename": "KeyError",
     "evalue": "'key'",
     "output_type": "error",
     "traceback": [
      "\u001b[0;31m---------------------------------------------------------------------------\u001b[0m",
      "\u001b[0;31mKeyError\u001b[0m                                  Traceback (most recent call last)",
      "\u001b[0;32m~/anaconda3/lib/python3.7/site-packages/pandas/core/indexes/base.py\u001b[0m in \u001b[0;36mget_loc\u001b[0;34m(self, key, method, tolerance)\u001b[0m\n\u001b[1;32m   2896\u001b[0m             \u001b[0;32mtry\u001b[0m\u001b[0;34m:\u001b[0m\u001b[0;34m\u001b[0m\u001b[0;34m\u001b[0m\u001b[0m\n\u001b[0;32m-> 2897\u001b[0;31m                 \u001b[0;32mreturn\u001b[0m \u001b[0mself\u001b[0m\u001b[0;34m.\u001b[0m\u001b[0m_engine\u001b[0m\u001b[0;34m.\u001b[0m\u001b[0mget_loc\u001b[0m\u001b[0;34m(\u001b[0m\u001b[0mkey\u001b[0m\u001b[0;34m)\u001b[0m\u001b[0;34m\u001b[0m\u001b[0;34m\u001b[0m\u001b[0m\n\u001b[0m\u001b[1;32m   2898\u001b[0m             \u001b[0;32mexcept\u001b[0m \u001b[0mKeyError\u001b[0m\u001b[0;34m:\u001b[0m\u001b[0;34m\u001b[0m\u001b[0;34m\u001b[0m\u001b[0m\n",
      "\u001b[0;32mpandas/_libs/index.pyx\u001b[0m in \u001b[0;36mpandas._libs.index.IndexEngine.get_loc\u001b[0;34m()\u001b[0m\n",
      "\u001b[0;32mpandas/_libs/index.pyx\u001b[0m in \u001b[0;36mpandas._libs.index.IndexEngine.get_loc\u001b[0;34m()\u001b[0m\n",
      "\u001b[0;32mpandas/_libs/hashtable_class_helper.pxi\u001b[0m in \u001b[0;36mpandas._libs.hashtable.PyObjectHashTable.get_item\u001b[0;34m()\u001b[0m\n",
      "\u001b[0;32mpandas/_libs/hashtable_class_helper.pxi\u001b[0m in \u001b[0;36mpandas._libs.hashtable.PyObjectHashTable.get_item\u001b[0;34m()\u001b[0m\n",
      "\u001b[0;31mKeyError\u001b[0m: 'key'",
      "\nDuring handling of the above exception, another exception occurred:\n",
      "\u001b[0;31mKeyError\u001b[0m                                  Traceback (most recent call last)",
      "\u001b[0;32m<ipython-input-73-b81ff6209c24>\u001b[0m in \u001b[0;36m<module>\u001b[0;34m\u001b[0m\n\u001b[1;32m     21\u001b[0m     \u001b[0;32mreturn\u001b[0m \u001b[0;34m[\u001b[0m\u001b[0;34m'background-color: '\u001b[0m \u001b[0;34m+\u001b[0m \u001b[0mcolor\u001b[0m\u001b[0;34m]\u001b[0m \u001b[0;34m*\u001b[0m \u001b[0;36m3\u001b[0m\u001b[0;34m\u001b[0m\u001b[0;34m\u001b[0m\u001b[0m\n\u001b[1;32m     22\u001b[0m \u001b[0;34m\u001b[0m\u001b[0m\n\u001b[0;32m---> 23\u001b[0;31m \u001b[0mtimeline\u001b[0m\u001b[0;34m(\u001b[0m\u001b[0;36m1244\u001b[0m\u001b[0;34m)\u001b[0m\u001b[0;34m.\u001b[0m\u001b[0mstyle\u001b[0m\u001b[0;34m.\u001b[0m\u001b[0mapply\u001b[0m\u001b[0;34m(\u001b[0m\u001b[0mhighlight\u001b[0m\u001b[0;34m,\u001b[0m \u001b[0maxis\u001b[0m\u001b[0;34m=\u001b[0m\u001b[0;36m1\u001b[0m\u001b[0;34m)\u001b[0m\u001b[0;34m\u001b[0m\u001b[0;34m\u001b[0m\u001b[0m\n\u001b[0m",
      "\u001b[0;32m<ipython-input-73-b81ff6209c24>\u001b[0m in \u001b[0;36mtimeline\u001b[0;34m(key)\u001b[0m\n\u001b[1;32m      3\u001b[0m     temp = pd.concat(\n\u001b[1;32m      4\u001b[0m         [\n\u001b[0;32m----> 5\u001b[0;31m             \u001b[0mdata_bulk_time\u001b[0m\u001b[0;34m[\u001b[0m\u001b[0mdata_bulk_time\u001b[0m\u001b[0;34m[\u001b[0m\u001b[0;34m'key'\u001b[0m\u001b[0;34m]\u001b[0m \u001b[0;34m==\u001b[0m \u001b[0mkey\u001b[0m\u001b[0;34m]\u001b[0m\u001b[0;34m.\u001b[0m\u001b[0mmelt\u001b[0m\u001b[0;34m(\u001b[0m\u001b[0mid_vars\u001b[0m \u001b[0;34m=\u001b[0m \u001b[0;34m'key'\u001b[0m\u001b[0;34m)\u001b[0m\u001b[0;34m.\u001b[0m\u001b[0mdropna\u001b[0m\u001b[0;34m(\u001b[0m\u001b[0;34m)\u001b[0m\u001b[0;34m,\u001b[0m\u001b[0;34m\u001b[0m\u001b[0;34m\u001b[0m\u001b[0m\n\u001b[0m\u001b[1;32m      6\u001b[0m             \u001b[0mdata_wire_time\u001b[0m\u001b[0;34m[\u001b[0m\u001b[0mdata_wire_time\u001b[0m\u001b[0;34m[\u001b[0m\u001b[0;34m'key'\u001b[0m\u001b[0;34m]\u001b[0m \u001b[0;34m==\u001b[0m \u001b[0mkey\u001b[0m\u001b[0;34m]\u001b[0m\u001b[0;34m.\u001b[0m\u001b[0mmelt\u001b[0m\u001b[0;34m(\u001b[0m\u001b[0mid_vars\u001b[0m \u001b[0;34m=\u001b[0m \u001b[0;34m'key'\u001b[0m\u001b[0;34m)\u001b[0m\u001b[0;34m.\u001b[0m\u001b[0mdropna\u001b[0m\u001b[0;34m(\u001b[0m\u001b[0;34m)\u001b[0m\u001b[0;34m,\u001b[0m\u001b[0;34m\u001b[0m\u001b[0;34m\u001b[0m\u001b[0m\n\u001b[1;32m      7\u001b[0m             data_arc[data_arc['key'] == key].melt(id_vars = 'key',\n",
      "\u001b[0;32m~/anaconda3/lib/python3.7/site-packages/pandas/core/frame.py\u001b[0m in \u001b[0;36m__getitem__\u001b[0;34m(self, key)\u001b[0m\n\u001b[1;32m   2978\u001b[0m             \u001b[0;32mif\u001b[0m \u001b[0mself\u001b[0m\u001b[0;34m.\u001b[0m\u001b[0mcolumns\u001b[0m\u001b[0;34m.\u001b[0m\u001b[0mnlevels\u001b[0m \u001b[0;34m>\u001b[0m \u001b[0;36m1\u001b[0m\u001b[0;34m:\u001b[0m\u001b[0;34m\u001b[0m\u001b[0;34m\u001b[0m\u001b[0m\n\u001b[1;32m   2979\u001b[0m                 \u001b[0;32mreturn\u001b[0m \u001b[0mself\u001b[0m\u001b[0;34m.\u001b[0m\u001b[0m_getitem_multilevel\u001b[0m\u001b[0;34m(\u001b[0m\u001b[0mkey\u001b[0m\u001b[0;34m)\u001b[0m\u001b[0;34m\u001b[0m\u001b[0;34m\u001b[0m\u001b[0m\n\u001b[0;32m-> 2980\u001b[0;31m             \u001b[0mindexer\u001b[0m \u001b[0;34m=\u001b[0m \u001b[0mself\u001b[0m\u001b[0;34m.\u001b[0m\u001b[0mcolumns\u001b[0m\u001b[0;34m.\u001b[0m\u001b[0mget_loc\u001b[0m\u001b[0;34m(\u001b[0m\u001b[0mkey\u001b[0m\u001b[0;34m)\u001b[0m\u001b[0;34m\u001b[0m\u001b[0;34m\u001b[0m\u001b[0m\n\u001b[0m\u001b[1;32m   2981\u001b[0m             \u001b[0;32mif\u001b[0m \u001b[0mis_integer\u001b[0m\u001b[0;34m(\u001b[0m\u001b[0mindexer\u001b[0m\u001b[0;34m)\u001b[0m\u001b[0;34m:\u001b[0m\u001b[0;34m\u001b[0m\u001b[0;34m\u001b[0m\u001b[0m\n\u001b[1;32m   2982\u001b[0m                 \u001b[0mindexer\u001b[0m \u001b[0;34m=\u001b[0m \u001b[0;34m[\u001b[0m\u001b[0mindexer\u001b[0m\u001b[0;34m]\u001b[0m\u001b[0;34m\u001b[0m\u001b[0;34m\u001b[0m\u001b[0m\n",
      "\u001b[0;32m~/anaconda3/lib/python3.7/site-packages/pandas/core/indexes/base.py\u001b[0m in \u001b[0;36mget_loc\u001b[0;34m(self, key, method, tolerance)\u001b[0m\n\u001b[1;32m   2897\u001b[0m                 \u001b[0;32mreturn\u001b[0m \u001b[0mself\u001b[0m\u001b[0;34m.\u001b[0m\u001b[0m_engine\u001b[0m\u001b[0;34m.\u001b[0m\u001b[0mget_loc\u001b[0m\u001b[0;34m(\u001b[0m\u001b[0mkey\u001b[0m\u001b[0;34m)\u001b[0m\u001b[0;34m\u001b[0m\u001b[0;34m\u001b[0m\u001b[0m\n\u001b[1;32m   2898\u001b[0m             \u001b[0;32mexcept\u001b[0m \u001b[0mKeyError\u001b[0m\u001b[0;34m:\u001b[0m\u001b[0;34m\u001b[0m\u001b[0;34m\u001b[0m\u001b[0m\n\u001b[0;32m-> 2899\u001b[0;31m                 \u001b[0;32mreturn\u001b[0m \u001b[0mself\u001b[0m\u001b[0;34m.\u001b[0m\u001b[0m_engine\u001b[0m\u001b[0;34m.\u001b[0m\u001b[0mget_loc\u001b[0m\u001b[0;34m(\u001b[0m\u001b[0mself\u001b[0m\u001b[0;34m.\u001b[0m\u001b[0m_maybe_cast_indexer\u001b[0m\u001b[0;34m(\u001b[0m\u001b[0mkey\u001b[0m\u001b[0;34m)\u001b[0m\u001b[0;34m)\u001b[0m\u001b[0;34m\u001b[0m\u001b[0;34m\u001b[0m\u001b[0m\n\u001b[0m\u001b[1;32m   2900\u001b[0m         \u001b[0mindexer\u001b[0m \u001b[0;34m=\u001b[0m \u001b[0mself\u001b[0m\u001b[0;34m.\u001b[0m\u001b[0mget_indexer\u001b[0m\u001b[0;34m(\u001b[0m\u001b[0;34m[\u001b[0m\u001b[0mkey\u001b[0m\u001b[0;34m]\u001b[0m\u001b[0;34m,\u001b[0m \u001b[0mmethod\u001b[0m\u001b[0;34m=\u001b[0m\u001b[0mmethod\u001b[0m\u001b[0;34m,\u001b[0m \u001b[0mtolerance\u001b[0m\u001b[0;34m=\u001b[0m\u001b[0mtolerance\u001b[0m\u001b[0;34m)\u001b[0m\u001b[0;34m\u001b[0m\u001b[0;34m\u001b[0m\u001b[0m\n\u001b[1;32m   2901\u001b[0m         \u001b[0;32mif\u001b[0m \u001b[0mindexer\u001b[0m\u001b[0;34m.\u001b[0m\u001b[0mndim\u001b[0m \u001b[0;34m>\u001b[0m \u001b[0;36m1\u001b[0m \u001b[0;32mor\u001b[0m \u001b[0mindexer\u001b[0m\u001b[0;34m.\u001b[0m\u001b[0msize\u001b[0m \u001b[0;34m>\u001b[0m \u001b[0;36m1\u001b[0m\u001b[0;34m:\u001b[0m\u001b[0;34m\u001b[0m\u001b[0;34m\u001b[0m\u001b[0m\n",
      "\u001b[0;32mpandas/_libs/index.pyx\u001b[0m in \u001b[0;36mpandas._libs.index.IndexEngine.get_loc\u001b[0;34m()\u001b[0m\n",
      "\u001b[0;32mpandas/_libs/index.pyx\u001b[0m in \u001b[0;36mpandas._libs.index.IndexEngine.get_loc\u001b[0;34m()\u001b[0m\n",
      "\u001b[0;32mpandas/_libs/hashtable_class_helper.pxi\u001b[0m in \u001b[0;36mpandas._libs.hashtable.PyObjectHashTable.get_item\u001b[0;34m()\u001b[0m\n",
      "\u001b[0;32mpandas/_libs/hashtable_class_helper.pxi\u001b[0m in \u001b[0;36mpandas._libs.hashtable.PyObjectHashTable.get_item\u001b[0;34m()\u001b[0m\n",
      "\u001b[0;31mKeyError\u001b[0m: 'key'"
     ]
    }
   ],
   "source": [
    "def timeline(key):\n",
    "    '''Построение таймлайна для партии с номером key'''\n",
    "    temp = pd.concat(\n",
    "        [\n",
    "            data_bulk_time[data_bulk_time['key'] == key].melt(id_vars = 'key').dropna(),\n",
    "            data_wire_time[data_wire_time['key'] == key].melt(id_vars = 'key').dropna(),\n",
    "            data_arc[data_arc['key'] == key].melt(id_vars = 'key',\n",
    "                                                  value_vars = ['Начало нагрева дугой', 'Конец нагрева дугой']),\n",
    "            data_temp[data_temp['key'] == key].melt(id_vars='key',\n",
    "                                                    value_vars = 'Время замера')\n",
    "        ]\n",
    "    ).sort_values('value').reset_index(drop=True)\n",
    "    temp.columns = ['Партия', 'Действие', 'Время']\n",
    "    temp.loc[temp['Действие'] == 'Время замера', 'Действие'] = 'Замер температуры'\n",
    "    return temp\n",
    "\n",
    "def highlight(row):         #для выделения цветом\n",
    "    color = 'white'\n",
    "    if row.values[1] == 'Замер температуры':\n",
    "        color = 'lightcoral'\n",
    "    return ['background-color: ' + color] * 3\n",
    "\n",
    "timeline(1244).style.apply(highlight, axis=1)"
   ]
  },
  {
   "cell_type": "markdown",
   "metadata": {},
   "source": [
    "На примере данной партии можно видеть, что подогрев стали, измерение температуры и добавление примесей могут выполняться по несколько раз за этап. Некоторые действия производятся уже после финального замера температуры - соответственно, на целевую переменную они не влияют.\n",
    "\n",
    "Исследуем данные в загруженных таблицах."
   ]
  },
  {
   "cell_type": "markdown",
   "metadata": {},
   "source": [
    "#### data_temp\n",
    "\n",
    "В ***data_temp*** содержатся результаты измерения температуры в разные моменты времени. Посмотрим информацию о таблице:"
   ]
  },
  {
   "cell_type": "code",
   "execution_count": null,
   "metadata": {},
   "outputs": [],
   "source": [
    "data_temp.info()"
   ]
  },
  {
   "cell_type": "markdown",
   "metadata": {},
   "source": [
    "В таблице 15907 записей, типы данных - int, float, datetime. В столбце **Температура** присутствуют пропуски.\n",
    "\n",
    "Изучим столбец **key** (номер партии). Посмотрим на количество партий, а также подсчитаем, сколько раз измерялась температура каждой партии:"
   ]
  },
  {
   "cell_type": "code",
   "execution_count": null,
   "metadata": {},
   "outputs": [],
   "source": [
    "print('Количество партий:', data_temp['key'].nunique())\n",
    "data_temp['key'].value_counts().hist(bins=16, figsize=(8,3))\n",
    "plt.title('Гистограмма количества замеров температуры')\n",
    "plt.show()"
   ]
  },
  {
   "cell_type": "markdown",
   "metadata": {},
   "source": [
    "Количество партий - 3216, количество замеров температуры - от 1 до 16 раз, в среднем температура измеряется 4-5 раз за этап.\n",
    "\n",
    "Найдем пропуски в столбце **Температура**:"
   ]
  },
  {
   "cell_type": "code",
   "execution_count": null,
   "metadata": {
    "scrolled": false
   },
   "outputs": [],
   "source": [
    "print(f'Пропусков в столбце Температура: {data_temp[\"Температура\"].isna().sum()}')\n",
    "data_temp[data_temp['Температура'].isna()]"
   ]
  },
  {
   "cell_type": "markdown",
   "metadata": {},
   "source": [
    "Начиная с 2500-ой партии возникли проблемы с сохранением значений температуры. Проверим, есть ли непустые записи после этого момента:"
   ]
  },
  {
   "cell_type": "code",
   "execution_count": null,
   "metadata": {
    "scrolled": false
   },
   "outputs": [],
   "source": [
    "data_temp.query('Температура != \"NaN\" and key >= 2500').head()"
   ]
  },
  {
   "cell_type": "markdown",
   "metadata": {},
   "source": [
    "Получается, что после 2500-ой партии в таблице сохранено только одно (первое) значение температуры для каждой партии, а  последующие показания датчика не фиксировались. Скорее всего это связано с ошибкой записи данных в базу.\n",
    "\n",
    "Поскольку у этих партий отсутствует финальная температура (целевой признак), для обучения и проверки модели они бесполезны. Удалим их из таблицы:"
   ]
  },
  {
   "cell_type": "code",
   "execution_count": null,
   "metadata": {},
   "outputs": [],
   "source": [
    "null_parties = data_temp[data_temp['Температура'].isna()]['key'].unique()\n",
    "data_temp = data_temp.query('key not in @null_parties')\n",
    "data_temp.info()"
   ]
  },
  {
   "cell_type": "markdown",
   "metadata": {},
   "source": [
    "Изучим распределение значений столбца **Температура**:"
   ]
  },
  {
   "cell_type": "code",
   "execution_count": null,
   "metadata": {},
   "outputs": [],
   "source": [
    "data_temp['Температура'].hist(bins = 50, figsize = (8, 3))\n",
    "plt.title('Температура')\n",
    "plt.show()\n",
    "data_temp['Температура'].describe()"
   ]
  },
  {
   "cell_type": "markdown",
   "metadata": {},
   "source": [
    "Большинство значений нормально распределены в области от 1550 до 1650 градусов, однако есть выбросы со значительно меньшими показателями (менее 1200 градусов). Найдем их:"
   ]
  },
  {
   "cell_type": "code",
   "execution_count": null,
   "metadata": {},
   "outputs": [],
   "source": [
    "data_temp[data_temp['Температура'] < 1500]"
   ]
  },
  {
   "cell_type": "markdown",
   "metadata": {},
   "source": [
    "Данные значения неправдоподобны (находятся [ниже температуры плавления стали](http://thermalinfo.ru/svojstva-materialov/metally-i-splavy/temperatura-plavleniya-i-kipeniya-metallov-plotnost-i-teploprovodnost#:~:text=%D0%A2%D0%B5%D0%BC%D0%BF%D0%B5%D1%80%D0%B0%D1%82%D1%83%D1%80%D0%B0%20%D0%BF%D0%BB%D0%B0%D0%B2%D0%BB%D0%B5%D0%BD%D0%B8%D1%8F%20%D1%81%D1%82%D0%B0%D0%BB%D0%B8%20%D0%BD%D0%B0%D1%85%D0%BE%D0%B4%D0%B8%D1%82%D1%81%D1%8F%20%D0%B2%20%D0%B4%D0%B8%D0%B0%D0%BF%D0%B0%D0%B7%D0%BE%D0%BD%D0%B5%20%D0%BE%D1%82%201350%20%D0%B4%D0%BE%201535%C2%B0%D0%A1.)) и, скорее всего, возникли из-за сбоя измерительной аппаратуры. \n",
    "\n",
    "Заменим эти значения на медиану столбца:"
   ]
  },
  {
   "cell_type": "code",
   "execution_count": null,
   "metadata": {},
   "outputs": [],
   "source": [
    "data_temp.loc[data_temp['Температура'] < 1500, 'Температура'] = data_temp['Температура'].median()\n",
    "data_temp['Температура'].hist(bins = 50, figsize = (8, 3))\n",
    "plt.title('Температура')\n",
    "plt.show()"
   ]
  },
  {
   "cell_type": "markdown",
   "metadata": {},
   "source": [
    "Согласно условию задачи, нас интересуют первая и последняя измеренная температура каждой партии. Найдем нужные значения и сохраним их в новую таблицу ***data_all***:"
   ]
  },
  {
   "cell_type": "code",
   "execution_count": null,
   "metadata": {},
   "outputs": [],
   "source": [
    "gr = data_temp.sort_values('Время замера').groupby('key')[['Температура','Время замера']]\n",
    "data_all = (gr.first().join(gr.last(), rsuffix='_'))\n",
    "data_all.columns = ['temp_0', 'temp_0_time', 'temp_final', 'temp_final_time']\n",
    "\n",
    "data_all.head()"
   ]
  },
  {
   "cell_type": "markdown",
   "metadata": {},
   "source": [
    "Найдем партии, у которых температура измерялась только один раз (**temp_0_time** равна **temp_final_time**):"
   ]
  },
  {
   "cell_type": "code",
   "execution_count": null,
   "metadata": {},
   "outputs": [],
   "source": [
    "data_all.query('temp_0_time == temp_final_time')"
   ]
  },
  {
   "cell_type": "markdown",
   "metadata": {},
   "source": [
    "Эти записи бесполезны для обучения (в них содержится только целевой признак). Удалим их из таблицы:"
   ]
  },
  {
   "cell_type": "code",
   "execution_count": null,
   "metadata": {},
   "outputs": [],
   "source": [
    "data_all = data_all.query('temp_0_time != temp_final_time')\n",
    "print('Размер выборки:', data_all.shape[0])"
   ]
  },
  {
   "cell_type": "markdown",
   "metadata": {},
   "source": [
    "Рассчитаем для каждой партии время, прошедшее между первым и последним замером температуры - это будет приблизительной оценкой длительности этапа обработки (приблизительной потому, что над сталью могли производится действия до и после измерений):"
   ]
  },
  {
   "cell_type": "code",
   "execution_count": null,
   "metadata": {},
   "outputs": [],
   "source": [
    "data_all['since_start'] = (data_all['temp_final_time'] - data_all['temp_0_time']).dt.seconds\n",
    "data_all['since_start'].hist(bins=50, figsize=((8,3)))\n",
    "plt.title('Время между первым и последним замером, секунд')\n",
    "plt.show()\n",
    "data_all['since_start'].describe()"
   ]
  },
  {
   "cell_type": "markdown",
   "metadata": {},
   "source": [
    "По большей части найденная величина лежит в области от нескольких минут до часа, однако отдельные партии, судя по графику, обрабатывались более 5 часов! Найдем одну из таких партий и посмотрим, в чем дело:"
   ]
  },
  {
   "cell_type": "code",
   "execution_count": null,
   "metadata": {},
   "outputs": [],
   "source": [
    "sample_index = data_all.sort_values('since_start', ascending=False).index[0]\n",
    "data_all.loc[sample_index: sample_index + 3, :]"
   ]
  },
  {
   "cell_type": "markdown",
   "metadata": {},
   "source": [
    "Итак, обработка партии 1689 начата в 15:28, а завершилась в 22:00, причем за это время через ковш успели пройти еще несколько партий. Очевидно, дело в том, что одной из последующих партий ошибочно был присвоен тот же номер, из-за чего они \"слиплись\" в базе данных. Возможно и другое объяснение - партия прошла обработку, а спустя некоторое время по каким-то причинам была возвращена обратно для дополнительных действий.\n",
    "\n",
    "В связи с тем, что запись под номером 1689 (и подобные ей) содержат данные более чем об одном этапе обработки, которые могли проходить по совершенно разным техпроцессам и в разных температурных режимах, для обучения модели они не подходят.\n",
    "\n",
    "Удалим из таблицы записи с длительностью более 2-х часов:"
   ]
  },
  {
   "cell_type": "code",
   "execution_count": null,
   "metadata": {},
   "outputs": [],
   "source": [
    "data_all = data_all.query('since_start < (2 * 60 * 60)')"
   ]
  },
  {
   "cell_type": "markdown",
   "metadata": {},
   "source": [
    "#### data_arc\n",
    "Теперь изучим таблицу ***data_arc***. "
   ]
  },
  {
   "cell_type": "code",
   "execution_count": null,
   "metadata": {},
   "outputs": [],
   "source": [
    "display(data_arc.head())\n",
    "data_arc.info()"
   ]
  },
  {
   "cell_type": "markdown",
   "metadata": {},
   "source": [
    "В таблице содержатся данные о подогреве стали электродами (время и мощность). Как и ранее, для каждой партии указано по несколько итераций подогрева.\n",
    "\n",
    "Взглянем на распределения значений активной и реактивной мощности:"
   ]
  },
  {
   "cell_type": "code",
   "execution_count": null,
   "metadata": {},
   "outputs": [],
   "source": [
    "data_arc[['Активная мощность', 'Реактивная мощность']].hist(bins=100, figsize = (12, 4))\n",
    "plt.show()"
   ]
  },
  {
   "cell_type": "markdown",
   "metadata": {},
   "source": [
    "Активная мощность вопросов не вызывает, а в гистограмме реактивной мощности присутствует сильный отрицательный выброс. Найдем соответствующую запись:"
   ]
  },
  {
   "cell_type": "code",
   "execution_count": null,
   "metadata": {},
   "outputs": [],
   "source": [
    "data_arc[data_arc['Реактивная мощность'] < 0]"
   ]
  },
  {
   "cell_type": "markdown",
   "metadata": {},
   "source": [
    "Данное измерение, очевидно, ошибочно. Приравняем реактивную мощность в этой записи к активной и заново построим графики:"
   ]
  },
  {
   "cell_type": "code",
   "execution_count": null,
   "metadata": {},
   "outputs": [],
   "source": [
    "data_arc.loc[9780, 'Реактивная мощность'] = data_arc.loc[9780, 'Активная мощность']\n",
    "(data_arc[['Активная мощность', 'Реактивная мощность']].hist(bins=100, figsize = (12, 4)))\n",
    "plt.show()"
   ]
  },
  {
   "cell_type": "markdown",
   "metadata": {},
   "source": [
    "Теперь все нормально.\n",
    "\n",
    "Найдем и изучим такую величину, как продолжительность нагрева стали (время от включения до выключения электрода):"
   ]
  },
  {
   "cell_type": "code",
   "execution_count": null,
   "metadata": {},
   "outputs": [],
   "source": [
    "data_arc['Продолжительность нагрева'] = (data_arc['Конец нагрева дугой'] - \n",
    "                                         data_arc['Начало нагрева дугой']).dt.seconds\n",
    "\n",
    "data_arc['Продолжительность нагрева'].hist(bins = 50, figsize = (10,3))\n",
    "plt.title('Продолжительность нагрева, секунд')\n",
    "plt.show()"
   ]
  },
  {
   "cell_type": "markdown",
   "metadata": {},
   "source": [
    "Как можно видеть, стадия подогрева может длиться от нескольких секунд до порядка 15 минут. В данном случае сильных выбросов и недопустимых значений нет.\n",
    "\n",
    "Рассчитаем для каждой итерации нагрева еще несколько дополнительных параметров:\n",
    "- полную мощность нагрева (складывается из активной и реактивной мощности по формуле $\\sqrt {P_a^2 + P_r^2}$);\n",
    "- работу, произведенную электродами ($P_a * t_{нагрева}$);\n",
    "- отношение активной и реактивной мощностей ($P_a / P_r$)."
   ]
  },
  {
   "cell_type": "code",
   "execution_count": null,
   "metadata": {},
   "outputs": [],
   "source": [
    "data_arc['Мощность'] = (data_arc['Активная мощность'] ** 2 + data_arc['Реактивная мощность'] ** 2) ** .5\n",
    "data_arc['Работа'] = data_arc['Активная мощность'] * data_arc['Продолжительность нагрева']\n",
    "data_arc['Отношение мощностей'] = data_arc['Активная мощность'] / data_arc['Реактивная мощность']\n",
    "data_arc.head(3)"
   ]
  },
  {
   "cell_type": "markdown",
   "metadata": {},
   "source": [
    "На основании рассчитаных величин добавим в таблицу с признаками (***data_all***) следующие столбцы:\n",
    "- суммарное время работы электродов;\n",
    "- суммарную произведенную работу;\n",
    "- количество включений электродов;\n",
    "- среднюю взвешенную мощность;\n",
    "- среднее взвешенное отношение мощностей.\n",
    "\n",
    "При этом учтем, что нам нужны только те циклы нагрева, которые произошли до финального замера температуры. Записи о работе электродов, которая произошла после финального замера, уберем из таблицы:"
   ]
  },
  {
   "cell_type": "code",
   "execution_count": null,
   "metadata": {},
   "outputs": [],
   "source": [
    "for key in data_all.index:\n",
    "    data_arc.loc[data_arc['key'] == key, 'temp_final_time'] = data_all.loc[key, 'temp_final_time']\n",
    "    \n",
    "data_arc = data_arc.loc[data_arc['Начало нагрева дугой'] < data_arc['temp_final_time']]\n",
    "print('Осталось записей:', data_arc.shape[0])"
   ]
  },
  {
   "cell_type": "markdown",
   "metadata": {},
   "source": [
    "Наконец, добавим вышеуказанные значения в общую таблицу:"
   ]
  },
  {
   "cell_type": "code",
   "execution_count": null,
   "metadata": {},
   "outputs": [],
   "source": [
    "data_arc['p_t'] = data_arc['Отношение мощностей'] * data_arc['Продолжительность нагрева'] #для расчета среднего взвешенного\n",
    "\n",
    "data_all[['heating_count',  \n",
    "          'heating_duration', \n",
    "          'total_work']] = data_arc.pivot_table(index='key', aggfunc={'Начало нагрева дугой': 'count',\n",
    "                                                                'Продолжительность нагрева':'sum',\n",
    "                                                                'Работа': 'sum',\n",
    "                                                         })\n",
    "data_all['power_mean'] = data_all['total_work'] / data_all['heating_duration']\n",
    "data_all['power_ratio_mean'] = data_arc.groupby('key')['p_t'].sum() / data_all['heating_duration']\n",
    "data_all.head(3)"
   ]
  },
  {
   "cell_type": "markdown",
   "metadata": {},
   "source": [
    "#### data_gas\n",
    "\n",
    "Изучим таблицу ***data_gas***:"
   ]
  },
  {
   "cell_type": "code",
   "execution_count": null,
   "metadata": {},
   "outputs": [],
   "source": [
    "data_gas.info()"
   ]
  },
  {
   "cell_type": "markdown",
   "metadata": {},
   "source": [
    "В таблице 3239 записей. При этом похоже, что каждая партия подвергалась продуву только один раз. Проверим это: посмотрим, есть ли дубликаты в столбце **key**:"
   ]
  },
  {
   "cell_type": "code",
   "execution_count": null,
   "metadata": {},
   "outputs": [],
   "source": [
    "print('Дубликатов', data_gas['key'].duplicated().sum())"
   ]
  },
  {
   "cell_type": "markdown",
   "metadata": {},
   "source": [
    "Изучим значения столбца **Газ 1**:"
   ]
  },
  {
   "cell_type": "code",
   "execution_count": null,
   "metadata": {},
   "outputs": [],
   "source": [
    "data_gas['Газ 1'].hist(bins = 100, figsize = (10,3))\n",
    "plt.show()"
   ]
  },
  {
   "cell_type": "markdown",
   "metadata": {},
   "source": [
    "Видим нормальное распределение с большинством значений в области от 0 до 20, а также несколько выбросов вплоть до 70 - 80. Поскольку мы не знаем, что за величина указана в столбце **Газ 1**, заключений о возможности и допустимости выбросов делать нельзя.\n",
    "\n",
    "Добавим информацию о продувке газом в нашу таблицу с признаками (***data_all***)"
   ]
  },
  {
   "cell_type": "code",
   "execution_count": null,
   "metadata": {},
   "outputs": [],
   "source": [
    "data_all['gas'] = data_gas.set_index('key')"
   ]
  },
  {
   "cell_type": "markdown",
   "metadata": {},
   "source": [
    "#### data_bulk, data_bulk_time\n",
    "\n",
    "В данных таблицах указаны, соответственно, объемы и время добавления в сталь сыпучих примесей:"
   ]
  },
  {
   "cell_type": "code",
   "execution_count": null,
   "metadata": {},
   "outputs": [],
   "source": [
    "data_bulk.info()"
   ]
  },
  {
   "cell_type": "code",
   "execution_count": null,
   "metadata": {},
   "outputs": [],
   "source": [
    "data_bulk_time.info()"
   ]
  },
  {
   "cell_type": "markdown",
   "metadata": {},
   "source": [
    "Данные таблицы, в отличие от предыдущих, имеют \"широкий\" формат. Для каждой партии в столбцах **Bulk 1** - **Bulk 15** указаны объем и время добавления соответствующей примеси.\n",
    "\n",
    "Проверим, есть ли несоответствия в этих двух таблицах (например, для определенной примеси указан объем, но отсутствует время добавления):"
   ]
  },
  {
   "cell_type": "code",
   "execution_count": null,
   "metadata": {},
   "outputs": [],
   "source": [
    "print('Расхождений в таблицах:', \n",
    "      ((data_bulk.isna() ^ data_bulk_time.isna()) # =0, если соответствующие ячейки обе пусты или обе не пусты\n",
    "      .sum().sum()))                              #суммируем по строкам и столбцам"
   ]
  },
  {
   "cell_type": "markdown",
   "metadata": {},
   "source": [
    "Построим гистограммы для различных примесей:"
   ]
  },
  {
   "cell_type": "code",
   "execution_count": null,
   "metadata": {},
   "outputs": [],
   "source": [
    "data_bulk.set_index('key', inplace=True)          #установим key в качестве индекса\n",
    "data_bulk_time.set_index('key', inplace=True)\n",
    "\n",
    "data_bulk.hist(bins = 25, figsize = (13, 10))\n",
    "plt.show()"
   ]
  },
  {
   "cell_type": "markdown",
   "metadata": {},
   "source": [
    "Гистограммы получились разнообразными по форме, что ожидаемо - для получения различных сортов стали нужны разные примеси и в разных количествах. Гребенчатый вид некоторых графиков объясняется либо малым количеством записей, либо технологическим процессом, который предусматривает добавление точных количеств примеси.\n",
    "\n",
    "Прежде чем добавить данные в таблицу с признаками, нужно убрать из информацию о примесях, которые были добавлены в сталь после последнего замера температуры: "
   ]
  },
  {
   "cell_type": "code",
   "execution_count": null,
   "metadata": {},
   "outputs": [],
   "source": [
    "data_bulk_time['final_time'] = data_all['temp_final_time'] #добавим столбец со временем финального замера t для партии\n",
    "for column in data_bulk_time.columns[:-1]:\n",
    "    data_bulk_time[column] = data_bulk_time[column] <= data_bulk_time['final_time']\n",
    "    \n",
    "data_bulk = data_bulk.where(data_bulk_time, 0)             #занулим пропуски и примеси, добавленные позже\n",
    "data_bulk.head()"
   ]
  },
  {
   "cell_type": "markdown",
   "metadata": {},
   "source": [
    "В результирующей таблице большая часть ячеек - нули. Посмотрим, сколько ненулевых значений в каждом столбце:"
   ]
  },
  {
   "cell_type": "code",
   "execution_count": null,
   "metadata": {},
   "outputs": [],
   "source": [
    "value_count = (data_bulk != 0).sum()\n",
    "value_count"
   ]
  },
  {
   "cell_type": "markdown",
   "metadata": {},
   "source": [
    "Как видим, в некоторых столбцах заполнено всего несколько десятков значений (тогда как записей в таблице около 3000). Такие признаки вредны для обучения, так как ухудшат обобщающую способность модели, поэтому их стоит исключить из рассмотрения. \n",
    "\n",
    "Оставим в таблице только те столбцы, которые имеют более ста ненулевых значений:"
   ]
  },
  {
   "cell_type": "code",
   "execution_count": null,
   "metadata": {},
   "outputs": [],
   "source": [
    "data_bulk = data_bulk[value_count[value_count > 100].index]"
   ]
  },
  {
   "cell_type": "markdown",
   "metadata": {},
   "source": [
    "Добавим информацию о примесях в общую таблицу:"
   ]
  },
  {
   "cell_type": "code",
   "execution_count": null,
   "metadata": {},
   "outputs": [],
   "source": [
    "data_all = data_all.join(data_bulk)"
   ]
  },
  {
   "cell_type": "markdown",
   "metadata": {},
   "source": [
    "#### data_wire\n",
    "Аналогичным образом изучим данные по легированию подачей проволоки:"
   ]
  },
  {
   "cell_type": "code",
   "execution_count": null,
   "metadata": {},
   "outputs": [],
   "source": [
    "data_wire.info()"
   ]
  },
  {
   "cell_type": "code",
   "execution_count": null,
   "metadata": {},
   "outputs": [],
   "source": [
    "data_wire_time.info()"
   ]
  },
  {
   "cell_type": "code",
   "execution_count": null,
   "metadata": {},
   "outputs": [],
   "source": [
    "print('Расхождений в таблицах:', \n",
    "      ((data_wire.isna() ^ data_wire_time.isna()) \n",
    "      .sum().sum()))  "
   ]
  },
  {
   "cell_type": "markdown",
   "metadata": {},
   "source": [
    "Построим гистограммы для каждого столбца:"
   ]
  },
  {
   "cell_type": "code",
   "execution_count": null,
   "metadata": {},
   "outputs": [],
   "source": [
    "data_wire.set_index('key', inplace=True)\n",
    "data_wire_time.set_index('key', inplace=True)\n",
    "data_wire.hist(bins = 25, figsize = (9, 7))\n",
    "plt.show()"
   ]
  },
  {
   "cell_type": "markdown",
   "metadata": {},
   "source": [
    "Как и в прошлом случае, исключим примеси, добавленные после финального замера температуры:"
   ]
  },
  {
   "cell_type": "code",
   "execution_count": 71,
   "metadata": {},
   "outputs": [
    {
     "ename": "TypeError",
     "evalue": "Invalid comparison between dtype=int64 and ndarray",
     "output_type": "error",
     "traceback": [
      "\u001b[0;31m---------------------------------------------------------------------------\u001b[0m",
      "\u001b[0;31mTypeError\u001b[0m                                 Traceback (most recent call last)",
      "\u001b[0;32m<ipython-input-71-cdd5a7f2aad5>\u001b[0m in \u001b[0;36m<module>\u001b[0;34m\u001b[0m\n\u001b[1;32m      1\u001b[0m \u001b[0mdata_wire_time\u001b[0m\u001b[0;34m[\u001b[0m\u001b[0;34m'final_time'\u001b[0m\u001b[0;34m]\u001b[0m \u001b[0;34m=\u001b[0m \u001b[0mdata_all\u001b[0m\u001b[0;34m[\u001b[0m\u001b[0;34m'temp_final_time'\u001b[0m\u001b[0;34m]\u001b[0m\u001b[0;34m\u001b[0m\u001b[0;34m\u001b[0m\u001b[0m\n\u001b[1;32m      2\u001b[0m \u001b[0;32mfor\u001b[0m \u001b[0mcolumn\u001b[0m \u001b[0;32min\u001b[0m \u001b[0mdata_wire_time\u001b[0m\u001b[0;34m.\u001b[0m\u001b[0mcolumns\u001b[0m\u001b[0;34m[\u001b[0m\u001b[0;34m:\u001b[0m\u001b[0;34m-\u001b[0m\u001b[0;36m1\u001b[0m\u001b[0;34m]\u001b[0m\u001b[0;34m:\u001b[0m\u001b[0;34m\u001b[0m\u001b[0;34m\u001b[0m\u001b[0m\n\u001b[0;32m----> 3\u001b[0;31m     \u001b[0mdata_wire_time\u001b[0m\u001b[0;34m[\u001b[0m\u001b[0mcolumn\u001b[0m\u001b[0;34m]\u001b[0m \u001b[0;34m=\u001b[0m \u001b[0mdata_wire_time\u001b[0m\u001b[0;34m[\u001b[0m\u001b[0mcolumn\u001b[0m\u001b[0;34m]\u001b[0m \u001b[0;34m<=\u001b[0m \u001b[0mdata_wire_time\u001b[0m\u001b[0;34m[\u001b[0m\u001b[0;34m'final_time'\u001b[0m\u001b[0;34m]\u001b[0m\u001b[0;34m\u001b[0m\u001b[0;34m\u001b[0m\u001b[0m\n\u001b[0m\u001b[1;32m      4\u001b[0m \u001b[0mdata_wire\u001b[0m \u001b[0;34m=\u001b[0m \u001b[0mdata_wire\u001b[0m\u001b[0;34m.\u001b[0m\u001b[0mwhere\u001b[0m\u001b[0;34m(\u001b[0m\u001b[0mdata_wire_time\u001b[0m\u001b[0;34m,\u001b[0m \u001b[0;36m0\u001b[0m\u001b[0;34m)\u001b[0m\u001b[0;34m\u001b[0m\u001b[0;34m\u001b[0m\u001b[0m\n",
      "\u001b[0;32m~/anaconda3/lib/python3.7/site-packages/pandas/core/ops/__init__.py\u001b[0m in \u001b[0;36mwrapper\u001b[0;34m(self, other, axis)\u001b[0m\n\u001b[1;32m   1194\u001b[0m         \u001b[0;32melif\u001b[0m \u001b[0misinstance\u001b[0m\u001b[0;34m(\u001b[0m\u001b[0mother\u001b[0m\u001b[0;34m,\u001b[0m \u001b[0mABCSeries\u001b[0m\u001b[0;34m)\u001b[0m\u001b[0;34m:\u001b[0m\u001b[0;34m\u001b[0m\u001b[0;34m\u001b[0m\u001b[0m\n\u001b[1;32m   1195\u001b[0m             \u001b[0;31m# By this point we have checked that self._indexed_same(other)\u001b[0m\u001b[0;34m\u001b[0m\u001b[0;34m\u001b[0m\u001b[0;34m\u001b[0m\u001b[0m\n\u001b[0;32m-> 1196\u001b[0;31m             \u001b[0mres_values\u001b[0m \u001b[0;34m=\u001b[0m \u001b[0mna_op\u001b[0m\u001b[0;34m(\u001b[0m\u001b[0mself\u001b[0m\u001b[0;34m.\u001b[0m\u001b[0mvalues\u001b[0m\u001b[0;34m,\u001b[0m \u001b[0mother\u001b[0m\u001b[0;34m.\u001b[0m\u001b[0mvalues\u001b[0m\u001b[0;34m)\u001b[0m\u001b[0;34m\u001b[0m\u001b[0;34m\u001b[0m\u001b[0m\n\u001b[0m\u001b[1;32m   1197\u001b[0m             \u001b[0;31m# rename is needed in case res_name is None and res_values.name\u001b[0m\u001b[0;34m\u001b[0m\u001b[0;34m\u001b[0m\u001b[0;34m\u001b[0m\u001b[0m\n\u001b[1;32m   1198\u001b[0m             \u001b[0;31m# is not.\u001b[0m\u001b[0;34m\u001b[0m\u001b[0;34m\u001b[0m\u001b[0;34m\u001b[0m\u001b[0m\n",
      "\u001b[0;32m~/anaconda3/lib/python3.7/site-packages/pandas/core/ops/__init__.py\u001b[0m in \u001b[0;36mna_op\u001b[0;34m(x, y)\u001b[0m\n\u001b[1;32m   1092\u001b[0m \u001b[0;34m\u001b[0m\u001b[0m\n\u001b[1;32m   1093\u001b[0m         \u001b[0;32melif\u001b[0m \u001b[0mis_datetimelike_v_numeric\u001b[0m\u001b[0;34m(\u001b[0m\u001b[0mx\u001b[0m\u001b[0;34m,\u001b[0m \u001b[0my\u001b[0m\u001b[0;34m)\u001b[0m\u001b[0;34m:\u001b[0m\u001b[0;34m\u001b[0m\u001b[0;34m\u001b[0m\u001b[0m\n\u001b[0;32m-> 1094\u001b[0;31m             \u001b[0;32mreturn\u001b[0m \u001b[0minvalid_comparison\u001b[0m\u001b[0;34m(\u001b[0m\u001b[0mx\u001b[0m\u001b[0;34m,\u001b[0m \u001b[0my\u001b[0m\u001b[0;34m,\u001b[0m \u001b[0mop\u001b[0m\u001b[0;34m)\u001b[0m\u001b[0;34m\u001b[0m\u001b[0;34m\u001b[0m\u001b[0m\n\u001b[0m\u001b[1;32m   1095\u001b[0m \u001b[0;34m\u001b[0m\u001b[0m\n\u001b[1;32m   1096\u001b[0m         \u001b[0;32melse\u001b[0m\u001b[0;34m:\u001b[0m\u001b[0;34m\u001b[0m\u001b[0;34m\u001b[0m\u001b[0m\n",
      "\u001b[0;32m~/anaconda3/lib/python3.7/site-packages/pandas/core/ops/__init__.py\u001b[0m in \u001b[0;36minvalid_comparison\u001b[0;34m(left, right, op)\u001b[0m\n\u001b[1;32m    495\u001b[0m         raise TypeError(\n\u001b[1;32m    496\u001b[0m             \"Invalid comparison between dtype={dtype} and {typ}\".format(\n\u001b[0;32m--> 497\u001b[0;31m                 \u001b[0mdtype\u001b[0m\u001b[0;34m=\u001b[0m\u001b[0mleft\u001b[0m\u001b[0;34m.\u001b[0m\u001b[0mdtype\u001b[0m\u001b[0;34m,\u001b[0m \u001b[0mtyp\u001b[0m\u001b[0;34m=\u001b[0m\u001b[0mtype\u001b[0m\u001b[0;34m(\u001b[0m\u001b[0mright\u001b[0m\u001b[0;34m)\u001b[0m\u001b[0;34m.\u001b[0m\u001b[0m__name__\u001b[0m\u001b[0;34m\u001b[0m\u001b[0;34m\u001b[0m\u001b[0m\n\u001b[0m\u001b[1;32m    498\u001b[0m             )\n\u001b[1;32m    499\u001b[0m         )\n",
      "\u001b[0;31mTypeError\u001b[0m: Invalid comparison between dtype=int64 and ndarray"
     ]
    }
   ],
   "source": [
    "data_wire_time['final_time'] = data_all['temp_final_time'] \n",
    "for column in data_wire_time.columns[:-1]:\n",
    "    data_wire_time[column] = data_wire_time[column] <= data_wire_time['final_time']\n",
    "data_wire = data_wire.where(data_wire_time, 0)"
   ]
  },
  {
   "cell_type": "markdown",
   "metadata": {},
   "source": [
    "Как и в случае с таблицей ***data_bulk***, исключим из рассмотрения примеси, присутствующие менее чем в 100 партиях:"
   ]
  },
  {
   "cell_type": "code",
   "execution_count": 103,
   "metadata": {},
   "outputs": [],
   "source": [
    "value_count = (data_wire != 0).sum()\n",
    "data_wire = data_wire[value_count[value_count > 100].index]"
   ]
  },
  {
   "cell_type": "markdown",
   "metadata": {},
   "source": [
    "Добавим данные в общую таблицу:"
   ]
  },
  {
   "cell_type": "code",
   "execution_count": 104,
   "metadata": {},
   "outputs": [],
   "source": [
    "data_all = data_all.join(data_wire)"
   ]
  },
  {
   "cell_type": "markdown",
   "metadata": {},
   "source": [
    "# 2. Подготовка признаков\n",
    "\n",
    "В итоге у нас получилась такая таблица признаков:"
   ]
  },
  {
   "cell_type": "code",
   "execution_count": 105,
   "metadata": {},
   "outputs": [
    {
     "data": {
      "text/html": [
       "<div>\n",
       "<style scoped>\n",
       "    .dataframe tbody tr th:only-of-type {\n",
       "        vertical-align: middle;\n",
       "    }\n",
       "\n",
       "    .dataframe tbody tr th {\n",
       "        vertical-align: top;\n",
       "    }\n",
       "\n",
       "    .dataframe thead th {\n",
       "        text-align: right;\n",
       "    }\n",
       "</style>\n",
       "<table border=\"1\" class=\"dataframe\">\n",
       "  <thead>\n",
       "    <tr style=\"text-align: right;\">\n",
       "      <th></th>\n",
       "      <th>temp_0</th>\n",
       "      <th>temp_final</th>\n",
       "      <th>since_start</th>\n",
       "      <th>heating_count</th>\n",
       "      <th>heating_duration</th>\n",
       "      <th>total_work</th>\n",
       "      <th>power_mean</th>\n",
       "      <th>power_ratio_mean</th>\n",
       "      <th>gas</th>\n",
       "      <th>Bulk 1</th>\n",
       "      <th>Bulk 3</th>\n",
       "      <th>Bulk 4</th>\n",
       "      <th>Bulk 6</th>\n",
       "      <th>Bulk 10</th>\n",
       "      <th>Bulk 11</th>\n",
       "      <th>Bulk 12</th>\n",
       "      <th>Bulk 14</th>\n",
       "      <th>Bulk 15</th>\n",
       "      <th>Wire 1</th>\n",
       "      <th>Wire 2</th>\n",
       "    </tr>\n",
       "    <tr>\n",
       "      <th>key</th>\n",
       "      <th></th>\n",
       "      <th></th>\n",
       "      <th></th>\n",
       "      <th></th>\n",
       "      <th></th>\n",
       "      <th></th>\n",
       "      <th></th>\n",
       "      <th></th>\n",
       "      <th></th>\n",
       "      <th></th>\n",
       "      <th></th>\n",
       "      <th></th>\n",
       "      <th></th>\n",
       "      <th></th>\n",
       "      <th></th>\n",
       "      <th></th>\n",
       "      <th></th>\n",
       "      <th></th>\n",
       "      <th></th>\n",
       "      <th></th>\n",
       "    </tr>\n",
       "  </thead>\n",
       "  <tbody>\n",
       "    <tr>\n",
       "      <td>1</td>\n",
       "      <td>1571.0</td>\n",
       "      <td>1613.0</td>\n",
       "      <td>861</td>\n",
       "      <td>5</td>\n",
       "      <td>1098</td>\n",
       "      <td>1207.804249</td>\n",
       "      <td>1.100004</td>\n",
       "      <td>1.534047</td>\n",
       "      <td>29.749986</td>\n",
       "      <td>0.0</td>\n",
       "      <td>0.0</td>\n",
       "      <td>43.0</td>\n",
       "      <td>0.0</td>\n",
       "      <td>0.0</td>\n",
       "      <td>0.0</td>\n",
       "      <td>206.0</td>\n",
       "      <td>150.0</td>\n",
       "      <td>154.0</td>\n",
       "      <td>60.059998</td>\n",
       "      <td>0.00000</td>\n",
       "    </tr>\n",
       "    <tr>\n",
       "      <td>2</td>\n",
       "      <td>1581.0</td>\n",
       "      <td>1602.0</td>\n",
       "      <td>1305</td>\n",
       "      <td>4</td>\n",
       "      <td>811</td>\n",
       "      <td>733.816470</td>\n",
       "      <td>0.904829</td>\n",
       "      <td>1.530791</td>\n",
       "      <td>12.555561</td>\n",
       "      <td>0.0</td>\n",
       "      <td>0.0</td>\n",
       "      <td>73.0</td>\n",
       "      <td>0.0</td>\n",
       "      <td>0.0</td>\n",
       "      <td>0.0</td>\n",
       "      <td>206.0</td>\n",
       "      <td>149.0</td>\n",
       "      <td>154.0</td>\n",
       "      <td>96.052315</td>\n",
       "      <td>0.00000</td>\n",
       "    </tr>\n",
       "    <tr>\n",
       "      <td>3</td>\n",
       "      <td>1596.0</td>\n",
       "      <td>1599.0</td>\n",
       "      <td>1300</td>\n",
       "      <td>5</td>\n",
       "      <td>655</td>\n",
       "      <td>443.583327</td>\n",
       "      <td>0.677226</td>\n",
       "      <td>1.579815</td>\n",
       "      <td>28.554793</td>\n",
       "      <td>0.0</td>\n",
       "      <td>0.0</td>\n",
       "      <td>34.0</td>\n",
       "      <td>0.0</td>\n",
       "      <td>0.0</td>\n",
       "      <td>0.0</td>\n",
       "      <td>205.0</td>\n",
       "      <td>152.0</td>\n",
       "      <td>153.0</td>\n",
       "      <td>91.160157</td>\n",
       "      <td>0.00000</td>\n",
       "    </tr>\n",
       "    <tr>\n",
       "      <td>4</td>\n",
       "      <td>1601.0</td>\n",
       "      <td>1625.0</td>\n",
       "      <td>388</td>\n",
       "      <td>4</td>\n",
       "      <td>741</td>\n",
       "      <td>670.663327</td>\n",
       "      <td>0.905079</td>\n",
       "      <td>1.561254</td>\n",
       "      <td>18.841219</td>\n",
       "      <td>0.0</td>\n",
       "      <td>0.0</td>\n",
       "      <td>81.0</td>\n",
       "      <td>0.0</td>\n",
       "      <td>0.0</td>\n",
       "      <td>0.0</td>\n",
       "      <td>207.0</td>\n",
       "      <td>153.0</td>\n",
       "      <td>154.0</td>\n",
       "      <td>89.063515</td>\n",
       "      <td>0.00000</td>\n",
       "    </tr>\n",
       "    <tr>\n",
       "      <td>5</td>\n",
       "      <td>1576.0</td>\n",
       "      <td>1602.0</td>\n",
       "      <td>762</td>\n",
       "      <td>4</td>\n",
       "      <td>869</td>\n",
       "      <td>997.496095</td>\n",
       "      <td>1.147867</td>\n",
       "      <td>1.488775</td>\n",
       "      <td>5.413692</td>\n",
       "      <td>0.0</td>\n",
       "      <td>0.0</td>\n",
       "      <td>78.0</td>\n",
       "      <td>0.0</td>\n",
       "      <td>0.0</td>\n",
       "      <td>0.0</td>\n",
       "      <td>203.0</td>\n",
       "      <td>151.0</td>\n",
       "      <td>152.0</td>\n",
       "      <td>89.238236</td>\n",
       "      <td>9.11456</td>\n",
       "    </tr>\n",
       "  </tbody>\n",
       "</table>\n",
       "</div>"
      ],
      "text/plain": [
       "     temp_0  temp_final  since_start  heating_count  heating_duration  \\\n",
       "key                                                                     \n",
       "1    1571.0      1613.0          861              5              1098   \n",
       "2    1581.0      1602.0         1305              4               811   \n",
       "3    1596.0      1599.0         1300              5               655   \n",
       "4    1601.0      1625.0          388              4               741   \n",
       "5    1576.0      1602.0          762              4               869   \n",
       "\n",
       "      total_work  power_mean  power_ratio_mean        gas  Bulk 1  Bulk 3  \\\n",
       "key                                                                         \n",
       "1    1207.804249    1.100004          1.534047  29.749986     0.0     0.0   \n",
       "2     733.816470    0.904829          1.530791  12.555561     0.0     0.0   \n",
       "3     443.583327    0.677226          1.579815  28.554793     0.0     0.0   \n",
       "4     670.663327    0.905079          1.561254  18.841219     0.0     0.0   \n",
       "5     997.496095    1.147867          1.488775   5.413692     0.0     0.0   \n",
       "\n",
       "     Bulk 4  Bulk 6  Bulk 10  Bulk 11  Bulk 12  Bulk 14  Bulk 15     Wire 1  \\\n",
       "key                                                                           \n",
       "1      43.0     0.0      0.0      0.0    206.0    150.0    154.0  60.059998   \n",
       "2      73.0     0.0      0.0      0.0    206.0    149.0    154.0  96.052315   \n",
       "3      34.0     0.0      0.0      0.0    205.0    152.0    153.0  91.160157   \n",
       "4      81.0     0.0      0.0      0.0    207.0    153.0    154.0  89.063515   \n",
       "5      78.0     0.0      0.0      0.0    203.0    151.0    152.0  89.238236   \n",
       "\n",
       "      Wire 2  \n",
       "key           \n",
       "1    0.00000  \n",
       "2    0.00000  \n",
       "3    0.00000  \n",
       "4    0.00000  \n",
       "5    9.11456  "
      ]
     },
     "metadata": {},
     "output_type": "display_data"
    },
    {
     "data": {
      "text/plain": [
       "(2456, 20)"
      ]
     },
     "metadata": {},
     "output_type": "display_data"
    }
   ],
   "source": [
    "data_all = data_all.drop(columns=['temp_0_time', 'temp_final_time']).fillna(0) # эти столбцы больше не нужны\n",
    "\n",
    "display(data_all.head(5), data_all.shape)"
   ]
  },
  {
   "cell_type": "markdown",
   "metadata": {},
   "source": [
    "Для обучения доступно 2456 примеров, каждый из которых содержит 19 признаков (не считая целевого).\n",
    "\n",
    "Выделим целевой признак в переменную ***target***, а остальные - в переменную ***features***:"
   ]
  },
  {
   "cell_type": "code",
   "execution_count": 106,
   "metadata": {},
   "outputs": [],
   "source": [
    "features = data_all.drop(columns = ['temp_final'])\n",
    "target = data_all['temp_final']"
   ]
  },
  {
   "cell_type": "markdown",
   "metadata": {},
   "source": [
    "Разобьем набор данных на обучающую, валидационную и проверочную подвыборки в соотношении 3:1:1."
   ]
  },
  {
   "cell_type": "code",
   "execution_count": 107,
   "metadata": {},
   "outputs": [
    {
     "name": "stdout",
     "output_type": "stream",
     "text": [
      "Размеры выборок:\n",
      "\n",
      "Обучающая \t 1473\n",
      "Валидационная \t 491\n",
      "Тестовая \t 492\n"
     ]
    }
   ],
   "source": [
    "tr_and_val_feats, test_feats, tr_and_val_target, test_target = train_test_split(features, target,\n",
    "                                                                                train_size = 0.8,   # 4:1\n",
    "                                                                                random_state = R)\n",
    "train_feats, valid_feats, train_target, valid_target = train_test_split(tr_and_val_feats, \n",
    "                                                                        tr_and_val_target,\n",
    "                                                                        train_size = 0.75,          # 3:1\n",
    "                                                                        random_state = R)\n",
    "\n",
    "print(f'''Размеры выборок:\n",
    "\n",
    "Обучающая \\t {train_feats.shape[0]}\n",
    "Валидационная \\t {valid_feats.shape[0]}\n",
    "Тестовая \\t {test_feats.shape[0]}''')"
   ]
  },
  {
   "cell_type": "markdown",
   "metadata": {},
   "source": [
    "# 3. Построение модели"
   ]
  },
  {
   "cell_type": "markdown",
   "metadata": {},
   "source": [
    "Для решения нашей задачи предлагается рассмотреть следующие алгоритмы машинного обучения:\n",
    "- Линейная регрессия;\n",
    "- Случайный лес;\n",
    "- Градиентный бустинг.\n",
    "    \n",
    "### Линейная регрессия\n",
    "\n",
    "Построим модель линейной регрессии, обучим ее на обучающих данных и найдем метрику качества на валидационном наборе:"
   ]
  },
  {
   "cell_type": "code",
   "execution_count": 108,
   "metadata": {},
   "outputs": [
    {
     "name": "stdout",
     "output_type": "stream",
     "text": [
      "Модель: Линейная регрессия\n",
      "MAE на тренировочных данных: 6.5261\n",
      "MAE на валидационных данных: 6.6067\n",
      "Время обучения: 0.002 с.\n"
     ]
    }
   ],
   "source": [
    "def model_quick_test(model, name):\n",
    "    '''Обучение модели на train и нахождение MAE на valid'''\n",
    "    t_0 = time()\n",
    "    model.fit(train_feats, train_target)\n",
    "    t_fit = time() - t_0\n",
    "    train_pred = model.predict(train_feats)\n",
    "    train_mae = mean_absolute_error(train_pred, train_target)\n",
    "    valid_pred = model.predict(valid_feats)\n",
    "    valid_mae = mean_absolute_error(valid_pred, valid_target)\n",
    "    print(f'Модель: {name}' +\n",
    "          f'\\nMAE на тренировочных данных: {round(train_mae, 4)}' +\n",
    "          f'\\nMAE на валидационных данных: {round(valid_mae, 4)}' +\n",
    "          f'\\nВремя обучения: {round(t_fit, 4)} с.')\n",
    "\n",
    "model_quick_test(LinearRegression(), 'Линейная регрессия')"
   ]
  },
  {
   "cell_type": "markdown",
   "metadata": {},
   "source": [
    "Получили неплохой результат - 6.6. Линейную регрессию будем использовать в качестве проверки остальных моделей \"на вменяемость\" - их результаты должны быть не хуже.\n",
    "\n",
    "### Случайный лес\n",
    "\n",
    "Теперь построим модель случайного леса (с гиперпараметрами по умолчанию):"
   ]
  },
  {
   "cell_type": "code",
   "execution_count": 109,
   "metadata": {},
   "outputs": [
    {
     "name": "stdout",
     "output_type": "stream",
     "text": [
      "Модель: Случайный лес\n",
      "MAE на тренировочных данных: 2.2467\n",
      "MAE на валидационных данных: 6.2051\n",
      "Время обучения: 1.0981 с.\n"
     ]
    }
   ],
   "source": [
    "model_quick_test(RandomForestRegressor(100), 'Случайный лес')"
   ]
  },
  {
   "cell_type": "markdown",
   "metadata": {},
   "source": [
    "Для случайного леса получили MAE на валидации ~ 6.2. Попробуем улучить качество, подобрав оптимальные гиперпараметры с помощью поиска по сетке. При этом, поскольку в GridSearchCV используется кросс-валидация, обучать его можно на объединенном обучающем и валидационном датасете:"
   ]
  },
  {
   "cell_type": "code",
   "execution_count": 110,
   "metadata": {},
   "outputs": [
    {
     "name": "stdout",
     "output_type": "stream",
     "text": [
      "Оптимальными параметрами для RandomForestClassifier являются {'max_depth': 25, 'n_estimators': 200}\n",
      "Средняя МАЕ: 6.0684\n"
     ]
    }
   ],
   "source": [
    "SKIP_GRID_SEARCH = True                                      # для экономии времени опускаем поиск по сетке\n",
    "\n",
    "if SKIP_GRID_SEARCH:                                        \n",
    "    parameters = {'n_estimators': [200], 'max_depth': [25]}\n",
    "else:                                                       \n",
    "    parameters = {'n_estimators': range(50, 201, 25),\n",
    "                  'max_depth': range(10, 31, 5)\n",
    "                  }\n",
    "\n",
    "grid = GridSearchCV(estimator = RandomForestRegressor(random_state = R),\n",
    "                    param_grid = parameters,\n",
    "                    scoring = 'neg_mean_absolute_error',\n",
    "                    cv = 5,\n",
    "                    verbose = False,\n",
    "                    n_jobs=-1)\n",
    "\n",
    "grid.fit(tr_and_val_feats, tr_and_val_target)\n",
    "\n",
    "print(f'Оптимальными параметрами для RandomForestClassifier являются {grid.best_params_}' +\n",
    "      f'\\nСредняя МАЕ: {-round(grid.best_score_, 4)}')"
   ]
  },
  {
   "cell_type": "markdown",
   "metadata": {},
   "source": [
    "После подбора параметров нам удалось еще улучшить МАЕ, снизив ее до 6,06.\n",
    "\n",
    "### Градиентный бустинг\n",
    "\n",
    "Для построения модели градиентного бустинга воспользуемся библиотекой LightGBM. Гиперпараметры пока оставим по умолчанию:"
   ]
  },
  {
   "cell_type": "code",
   "execution_count": 111,
   "metadata": {},
   "outputs": [
    {
     "name": "stdout",
     "output_type": "stream",
     "text": [
      "Модель: Градиентный бустинг\n",
      "MAE на тренировочных данных: 2.1094\n",
      "MAE на валидационных данных: 5.865\n",
      "Время обучения: 0.13 с.\n"
     ]
    }
   ],
   "source": [
    "model_quick_test(LGBMRegressor(random_state=R), 'Градиентный бустинг')"
   ]
  },
  {
   "cell_type": "markdown",
   "metadata": {},
   "source": [
    "Градиентный бустинг даже без дополнительных настроек превзошел рассмотренные ранее модели и показал на валидации МАЕ менее 6.\n",
    "Подберем для него оптимальные параметры с помощью GridSearchCV:"
   ]
  },
  {
   "cell_type": "code",
   "execution_count": 112,
   "metadata": {},
   "outputs": [
    {
     "name": "stdout",
     "output_type": "stream",
     "text": [
      "Оптимальными параметрами для LGBMRegressor являются {'learning_rate': 0.1, 'max_depth': -1, 'n_estimators': 100}\n",
      "Средняя МАЕ: 5.7961\n"
     ]
    }
   ],
   "source": [
    "SKIP_GRID_SEARCH = True                                      # для экономии времени опускаем поиск по сетке\n",
    "\n",
    "if SKIP_GRID_SEARCH: \n",
    "    parameters = {'max_depth': [-1], 'learning_rate': [0.1], 'n_estimators': [100]}\n",
    "else:\n",
    "    parameters = {'max_depth': [-1, 3, 5, 8],\n",
    "                  'learning_rate': [0.01, 0.05, 0.1, 0.5],\n",
    "                  'n_estimators': range(40, 101, 20)\n",
    "                  }\n",
    "\n",
    "grid = GridSearchCV(estimator = LGBMRegressor(random_state=R),\n",
    "                    param_grid = parameters,\n",
    "                    scoring = 'neg_mean_absolute_error',\n",
    "                    cv = 5,\n",
    "                    verbose = False,\n",
    "                    n_jobs=-1)\n",
    "\n",
    "grid.fit(tr_and_val_feats, tr_and_val_target)\n",
    "\n",
    "print(f'Оптимальными параметрами для LGBMRegressor являются {grid.best_params_}' +\n",
    "      f'\\nСредняя МАЕ: {-round(grid.best_score_, 4)}')"
   ]
  },
  {
   "cell_type": "markdown",
   "metadata": {},
   "source": [
    "C помощью подбора гиперпараметров нам удалось еще немного улучшить метрику качества."
   ]
  },
  {
   "cell_type": "markdown",
   "metadata": {},
   "source": [
    "# 4. Проверка модели на тестовом наборе\n",
    "Наилучший результат в предыдущем шаге показал градиентный бустинг. Построим модель с найденными оптимальными гиперпараметрами и проверим ее качество на тестовой выборке:"
   ]
  },
  {
   "cell_type": "code",
   "execution_count": 113,
   "metadata": {},
   "outputs": [
    {
     "name": "stdout",
     "output_type": "stream",
     "text": [
      "Результаты:\n",
      " MAE на тестовых данных: 5.3639,\n",
      " время обучения: 0.179 с.\n"
     ]
    }
   ],
   "source": [
    "t_0 = time()\n",
    "model = LGBMRegressor(**grid.best_params_, random_state=R)\n",
    "model.fit(tr_and_val_feats, tr_and_val_target)\n",
    "t_fit = time() - t_0\n",
    "test_pred = model.predict(test_feats)\n",
    "test_rmse = mean_absolute_error(test_pred, test_target)\n",
    "print('Результаты:\\n',\n",
    "     f'MAE на тестовых данных: {round(test_rmse, 4)},\\n',\n",
    "     f'время обучения: {round(t_fit, 4)} с.')"
   ]
  },
  {
   "cell_type": "markdown",
   "metadata": {},
   "source": [
    "Итоговый результат для выбранной нами модели: МАЕ = 5.3639\n",
    "\n",
    "Посмотрим, какие из признаков оказались наиболее важными для предсказания температуры:"
   ]
  },
  {
   "cell_type": "code",
   "execution_count": 114,
   "metadata": {},
   "outputs": [
    {
     "data": {
      "image/png": "[encoded data removed]",
      "text/plain": [
       "<Figure size 720x432 with 1 Axes>"
      ]
     },
     "metadata": {
      "needs_background": "light"
     },
     "output_type": "display_data"
    }
   ],
   "source": [
    "fig, ax = plt.subplots(figsize=(10, 6))\n",
    "plot_importance(model, ax=ax)\n",
    "plt.show()"
   ]
  },
  {
   "cell_type": "markdown",
   "metadata": {},
   "source": [
    "Как видно из графика, наибольшее значение имеет начальная температура стали (что вполне логично), а также продолжительность этапа и суммарная работа, произведенная нагревателями. Также довольно большое значение имеет объем добавленных примесей Wire 1 и Bulk 14 - возможно, они влияют на теплопроводность стали."
   ]
  },
  {
   "cell_type": "markdown",
   "metadata": {},
   "source": [
    "# 5. Отчет по решению\n",
    "\n",
    "В данной работе от нас требовалось построить модель регрессии, которая предсказывает температуру стали в конце этапа обработки. Готовая модель должна показывать на тестовом наборе МАЕ не менее 8.7.\n",
    "\n",
    "Для выполнения задания нами сделаны следующие шаги:\n",
    "\n",
    "***1. Анализ и предобработка входных данных.***\n",
    "\n",
    " В ходе изучения данных мы преобразовали их в нужный тип, избавились от пропусков и недопустимых значений. При этом были обнаружены следующие проблемы:\n",
    " - для ряда партий (начиная с 2500-ой и до конца датасета) в таблице ***data_temp*** сохранены только результаты первого замера температуры. Вероятно, это вызвано ошибкой записи в базу данных. Соответствующие записи были удалены из датасета, поскольку в них отсутствует целевой признак;\n",
    " - были обнаружены партии, обработка которых длилась аномально долго. Проанализировав эти записи, мы сделали вывод, что нескольким разным партиям был присвоен один и тот же номер, из-за чего они \"слиплись\" в таблице. Такие записи так же было решено удалить.\n",
    "\n",
    "***2. Создание и отбор признаков.***\n",
    "\n",
    "В качестве признаков мы использовали \n",
    " - начальную температуру стали;\n",
    " - продолжительность этапа обработки (время между первым и последним замером);\n",
    " - рассчитанные нами показатели работы нагревательных электродов (время нагрева, среднюю мощность и некоторые другие прочие);\n",
    " - данные о продувке стали газом;\n",
    " - объем добавленных примесей.\n",
    "\n",
    "Поскольку некоторые примеси используются очень редко, они были исключены из рассмотрения как шум.\n",
    "\n",
    "***3. Выбор модели.***\n",
    "\n",
    "Для решения нашей задачи мы попробовали следующие модели регрессии:\n",
    " - **Линейная регрессия** (sklearn.linear_model.LinearRegerssion). Полученная МАЕ на валидационном наборе - 6.61;\n",
    " - **Случайный лес** (sklearn..ensemble.RandomForestRegressor). После подбора гиперпараметров средняя МАЕ на кросс-валидации - 6.07;\n",
    " - **Градиентный бустинг** (lightgbm.LGBMRegressor(). Для модели с гиперпараметрами по умолчанию МАЕ на валидации составила 5.87; после подбора гиперпараметров с помощью поиска по сетке средняя МАЕ на кросс-валидации составила 5.79.\n",
    " \n",
    "Все модели показали хороший результат и уложились в требуемую метрику. Наилучшей же моделью стал LGBMRegressor с параметрами: *n_estimators* - 100, *learning_rate* - 0.1, остальные по умолчанию.\n",
    "\n",
    "Наиболее важными параметрами для регрессора оказались: начальная температура стали, продолжительность этапа, время нагрева, совершенная электродами работа, а также объем добавленных примесей Wire 1 и Bulk 14.\n",
    "\n",
    "***4. Проверка модели***\n",
    "\n",
    "Выбранная модель была заново обучена и проверена на тестовом наборе. Результирующая МАЕ составила **5.3639**."
   ]
  }
 ],
 "metadata": {
  "kernelspec": {
   "display_name": "Python 3",
   "language": "python",
   "name": "python3"
  },
  "language_info": {
   "codemirror_mode": {
    "name": "ipython",
    "version": 3
   },
   "file_extension": ".py",
   "mimetype": "text/x-python",
   "name": "python",
   "nbconvert_exporter": "python",
   "pygments_lexer": "ipython3",
   "version": "3.7.4"
  }
 },
 "nbformat": 4,
 "nbformat_minor": 2
}
