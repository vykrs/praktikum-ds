{
 "cells": [
  {
   "cell_type": "markdown",
   "metadata": {},
   "source": [
    "# Определение перспективного тарифа для телеком компании"
   ]
  },
  {
   "cell_type": "markdown",
   "metadata": {},
   "source": [
    "## Краткое описание проекта\n",
    "\n",
    "«Мегалайн» — федеральный оператор сотовой связи. Клиентам предлагают два тарифных плана: «Смарт» и «Ультра». Чтобы скорректировать рекламный бюджет, коммерческий департамент хочет понять, какой тариф приносит больше денег.\n",
    "Нам предстоит сделать предварительный анализ тарифов на небольшой выборке клиентов. В нашем распоряжении данные 500 пользователей «Мегалайна»: кто они, откуда, каким тарифом пользуются, сколько звонков и сообщений каждый отправил за 2018 год. Нужно проанализировать поведение клиентов и сделать вывод — какой тариф лучше.\n",
    "\n",
    "#### Описание тарифов:\n",
    "##### Тариф «Смарт»\n",
    "Ежемесячная плата: 550 рублей\n",
    "Включено 500 минут разговора, 50 сообщений и 15 Гб интернет-трафика\n",
    "Стоимость услуг сверх тарифного пакета:\n",
    "минута разговора: 3 рубля\n",
    "сообщение: 3 рубля\n",
    "1 Гб интернет-трафика: 200 рублей\n",
    "##### Тариф «Ультра»\n",
    "Ежемесячная плата: 1950 рублей\n",
    "Включено 3000 минут разговора, 1000 сообщений и 30 Гб интернет-трафика\n",
    "Стоимость услуг сверх тарифного пакета:\n",
    "минута разговора: 1 рубль\n",
    "сообщение: 1 рубль\n",
    "1 Гб интернет-трафика: 150 рублей\n",
    "\n",
    "## Формулировка задания\n",
    "\n",
    "1. Опишите поведение клиентов оператора, исходя из выборки. Сколько минут разговора, сколько сообщений и какой объём интернет-трафика требуется пользователям каждого тарифа в месяц? Посчитайте среднее количество, дисперсию и стандартное отклонение. Постройте гистограммы. Опишите распределения.\n",
    "2. Проверьте гипотезы:\n",
    " - Средняя выручка пользователей тарифов «Ультра» и «Смарт» различается;\n",
    " - Средняя выручка пользователей из Москвы отличается от выручки пользователей из других регионов.\n",
    "\n",
    "## Описание входных данных\n",
    "\n",
    "Файл ___users.csv___ (информация о пользователях):\n",
    "- _user_id_ — уникальный идентификатор пользователя\n",
    "- _first_name_ — имя пользователя\n",
    "- _last_name_ — фамилия пользователя\n",
    "- _age_ — возраст пользователя (годы)\n",
    "- _reg_date_ — дата подключения тарифа (день, месяц, год)\n",
    "- _churn_date_ — дата прекращения пользования тарифом (если значение пропущено, то тариф ещё действовал на момент выгрузки данных)\n",
    "- _city_ — город проживания пользователя\n",
    "- _tariff_ — название тарифного плана\n",
    "\n",
    "Файл ___calls.csv___ (информация о звонках):\n",
    "- _id_ — уникальный номер звонка\n",
    "- _call_date_ — дата звонка\n",
    "- _duration_ — длительность звонка в минутах\n",
    "- _user_id_ — идентификатор пользователя, сделавшего звонок\n",
    "\n",
    "Файл ___messages.csv___ (информация о сообщениях):\n",
    "- _id_ — уникальный номер сообщения\n",
    "- _message_date_ — дата сообщения\n",
    "- _user_id_ — идентификатор пользователя, отправившего сообщение\n",
    "\n",
    "Файл ___internet.csv___ (информация об интернет-сессиях):\n",
    "- _id_ — уникальный номер сессии\n",
    "- _mb_used_ — объём потраченного за сессию интернет-трафика (в мегабайтах)\n",
    "- _session_date_ — дата интернет-сессии\n",
    "- _user_id_ — идентификатор пользователя\n",
    "\n",
    "Файл ___tariffs.csv___ (информация о тарифах):\n",
    "- _tariff_name_ — название тарифа\n",
    "- _rub_monthly_fee_ — ежемесячная абонентская плата в рублях\n",
    "- _minutes_included_ — количество минут разговора в месяц, включённых в абонентскую плату\n",
    "- _messages_included_ — количество сообщений в месяц, включённых в абонентскую плату\n",
    "- _mb_per_month_included_ — объём интернет-трафика, включённого в абонентскую плату (в мегабайтах)\n",
    "- _rub_per_minute_ — стоимость минуты разговора сверх тарифного пакета (например, если в тарифе 100 минут разговора в месяц, то со 101 минуты будет взиматься плата)\n",
    "- _rub_per_message_ — стоимость отправки сообщения сверх тарифного пакета\n",
    "- _rub_per_gb_ — стоимость дополнительного гигабайта интернет-трафика сверх тарифного пакета (1 гигабайт = 1024 мегабайта)\n",
    "\n",
    "## План выполнения задания\n",
    "1. Изучить полученные данные, найти и исправить ошибки, привести к нужным типам;\n",
    "\n",
    "\n",
    "2. Посчитать для каждого пользователя:\n",
    " - количество сделанных звонков по месяцам;\n",
    " - количество израсходованных минут разговора по месяцам;\n",
    " - количество отправленных сообщений по месяцам;\n",
    " - объем израсходованного интернет-трафика по месяцам;\n",
    " - помесячную выручку с пользователя.\n",
    " \n",
    " \n",
    "3. Для каждого тарифа найти среднее значение, дисперсию и стандартное отклонение для следующих величин:\n",
    " - Количество минут разговора в месяц;\n",
    " - Количиство сообщений в месяц;\n",
    " - Объём интернет-трафика за месяц; \n",
    "   \n",
    "   Построить гистограммы получившихся распределений и описать их.\n",
    "   \n",
    "   \n",
    "4. Проверить гипотезы:\n",
    " - средняя выручка пользователей тарифов «Ультра» и «Смарт» различается;\n",
    " - средняя выручка пользователей из Москвы отличается от выручки пользователей из других регионов."
   ]
  },
  {
   "cell_type": "markdown",
   "metadata": {},
   "source": [
    "---\n",
    "## Комментарий от наставника\n",
    "\n",
    "Хорошее вступление в работу.\n",
    "\n",
    "---"
   ]
  },
  {
   "cell_type": "markdown",
   "metadata": {},
   "source": [
    "## Шаг 1. Первичное изучение данных"
   ]
  },
  {
   "cell_type": "markdown",
   "metadata": {},
   "source": [
    "Импортируем необходимые модули:"
   ]
  },
  {
   "cell_type": "code",
   "execution_count": 5,
   "metadata": {},
   "outputs": [],
   "source": [
    "import pandas as pd\n",
    "import numpy as np\n",
    "import matplotlib\n",
    "import matplotlib.pyplot as plt\n",
    "import scipy.stats as st\n",
    "from math import ceil\n",
    "from IPython.display import display\n",
    "\n",
    "matplotlib.rcParams['figure.figsize'] = (10.,5.)\n",
    "pd.set_option('display.max_columns', 100)"
   ]
  },
  {
   "cell_type": "markdown",
   "metadata": {
    "scrolled": false
   },
   "source": [
    "Нами получены файлы .csv с данными о пользователях. Откроем их и сохраним получившиеся таблицы в переменных __tariffs__, __users__, __calls__, __internet__ и __messages__:"
   ]
  },
  {
   "cell_type": "code",
   "execution_count": 6,
   "metadata": {},
   "outputs": [],
   "source": [
    "tariffs  = pd.read_csv('/datasets/tariffs.csv')\n",
    "users    = pd.read_csv('/datasets/users.csv')\n",
    "calls    = pd.read_csv('/datasets/calls.csv')\n",
    "internet = pd.read_csv('/datasets/internet.csv')\n",
    "messages = pd.read_csv('/datasets/messages.csv')"
   ]
  },
  {
   "cell_type": "markdown",
   "metadata": {},
   "source": [
    "#### 1. Таблица tariffs\n",
    "Изучим полученные данные. Начнем с таблицы __tariffs__ - выведем общую информацию и содержимое:"
   ]
  },
  {
   "cell_type": "code",
   "execution_count": 7,
   "metadata": {},
   "outputs": [
    {
     "data": {
      "text/html": [
       "<div>\n",
       "<style scoped>\n",
       "    .dataframe tbody tr th:only-of-type {\n",
       "        vertical-align: middle;\n",
       "    }\n",
       "\n",
       "    .dataframe tbody tr th {\n",
       "        vertical-align: top;\n",
       "    }\n",
       "\n",
       "    .dataframe thead th {\n",
       "        text-align: right;\n",
       "    }\n",
       "</style>\n",
       "<table border=\"1\" class=\"dataframe\">\n",
       "  <thead>\n",
       "    <tr style=\"text-align: right;\">\n",
       "      <th></th>\n",
       "      <th>messages_included</th>\n",
       "      <th>mb_included</th>\n",
       "      <th>minutes_included</th>\n",
       "      <th>rub_monthly_fee</th>\n",
       "      <th>rub_per_gb</th>\n",
       "      <th>rub_per_message</th>\n",
       "      <th>rub_per_minute</th>\n",
       "      <th>tariff_name</th>\n",
       "    </tr>\n",
       "  </thead>\n",
       "  <tbody>\n",
       "    <tr>\n",
       "      <td>0</td>\n",
       "      <td>50</td>\n",
       "      <td>15360</td>\n",
       "      <td>500</td>\n",
       "      <td>550</td>\n",
       "      <td>200</td>\n",
       "      <td>3</td>\n",
       "      <td>3</td>\n",
       "      <td>smart</td>\n",
       "    </tr>\n",
       "    <tr>\n",
       "      <td>1</td>\n",
       "      <td>1000</td>\n",
       "      <td>30720</td>\n",
       "      <td>3000</td>\n",
       "      <td>1950</td>\n",
       "      <td>150</td>\n",
       "      <td>1</td>\n",
       "      <td>1</td>\n",
       "      <td>ultra</td>\n",
       "    </tr>\n",
       "  </tbody>\n",
       "</table>\n",
       "</div>"
      ],
      "text/plain": [
       "   messages_included  mb_included  minutes_included  rub_monthly_fee  \\\n",
       "0                 50        15360               500              550   \n",
       "1               1000        30720              3000             1950   \n",
       "\n",
       "   rub_per_gb  rub_per_message  rub_per_minute tariff_name  \n",
       "0         200                3               3       smart  \n",
       "1         150                1               1       ultra  "
      ]
     },
     "metadata": {},
     "output_type": "display_data"
    },
    {
     "name": "stdout",
     "output_type": "stream",
     "text": [
      "<class 'pandas.core.frame.DataFrame'>\n",
      "RangeIndex: 2 entries, 0 to 1\n",
      "Data columns (total 8 columns):\n",
      "messages_included    2 non-null int64\n",
      "mb_included          2 non-null int64\n",
      "minutes_included     2 non-null int64\n",
      "rub_monthly_fee      2 non-null int64\n",
      "rub_per_gb           2 non-null int64\n",
      "rub_per_message      2 non-null int64\n",
      "rub_per_minute       2 non-null int64\n",
      "tariff_name          2 non-null object\n",
      "dtypes: int64(7), object(1)\n",
      "memory usage: 256.0+ bytes\n",
      "None\n"
     ]
    }
   ],
   "source": [
    "tariffs.rename(columns = {'mg_per_month_included':'mb_included'}, inplace = True) #исправим опечатку\n",
    "\n",
    "display(tariffs)\n",
    "print(tariffs.info())"
   ]
  },
  {
   "cell_type": "markdown",
   "metadata": {},
   "source": [
    "Тут все понятно: в таблице содержится информация о тарифах оператора. Все данные в представлены подходящими типами, пропусков и ошибок нет.\n",
    "\n",
    "Для удобства дальнейшей работы сделаем столбец __tariff_name__ индексом таблицы:"
   ]
  },
  {
   "cell_type": "code",
   "execution_count": 8,
   "metadata": {},
   "outputs": [],
   "source": [
    "tariffs.set_index('tariff_name', inplace = True, drop = True)\n",
    "# tariffs     #Проверка"
   ]
  },
  {
   "cell_type": "markdown",
   "metadata": {},
   "source": [
    "#### 2. Таблица users\n",
    "Далее рассмотрим таблицу __users__ - выведем для наглядности несколько строк, а также общую информацию о ней:"
   ]
  },
  {
   "cell_type": "code",
   "execution_count": 9,
   "metadata": {},
   "outputs": [
    {
     "data": {
      "text/html": [
       "<div>\n",
       "<style scoped>\n",
       "    .dataframe tbody tr th:only-of-type {\n",
       "        vertical-align: middle;\n",
       "    }\n",
       "\n",
       "    .dataframe tbody tr th {\n",
       "        vertical-align: top;\n",
       "    }\n",
       "\n",
       "    .dataframe thead th {\n",
       "        text-align: right;\n",
       "    }\n",
       "</style>\n",
       "<table border=\"1\" class=\"dataframe\">\n",
       "  <thead>\n",
       "    <tr style=\"text-align: right;\">\n",
       "      <th></th>\n",
       "      <th>user_id</th>\n",
       "      <th>age</th>\n",
       "      <th>churn_date</th>\n",
       "      <th>city</th>\n",
       "      <th>first_name</th>\n",
       "      <th>last_name</th>\n",
       "      <th>reg_date</th>\n",
       "      <th>tariff</th>\n",
       "    </tr>\n",
       "  </thead>\n",
       "  <tbody>\n",
       "    <tr>\n",
       "      <td>36</td>\n",
       "      <td>1036</td>\n",
       "      <td>47</td>\n",
       "      <td>NaN</td>\n",
       "      <td>Санкт-Петербург</td>\n",
       "      <td>Анжелика</td>\n",
       "      <td>Андропова</td>\n",
       "      <td>2018-07-14</td>\n",
       "      <td>smart</td>\n",
       "    </tr>\n",
       "    <tr>\n",
       "      <td>289</td>\n",
       "      <td>1289</td>\n",
       "      <td>20</td>\n",
       "      <td>NaN</td>\n",
       "      <td>Москва</td>\n",
       "      <td>Таисия</td>\n",
       "      <td>Богданова</td>\n",
       "      <td>2018-09-01</td>\n",
       "      <td>ultra</td>\n",
       "    </tr>\n",
       "    <tr>\n",
       "      <td>407</td>\n",
       "      <td>1407</td>\n",
       "      <td>40</td>\n",
       "      <td>NaN</td>\n",
       "      <td>Челябинск</td>\n",
       "      <td>Элла</td>\n",
       "      <td>Пирогова</td>\n",
       "      <td>2018-08-14</td>\n",
       "      <td>smart</td>\n",
       "    </tr>\n",
       "    <tr>\n",
       "      <td>113</td>\n",
       "      <td>1113</td>\n",
       "      <td>52</td>\n",
       "      <td>NaN</td>\n",
       "      <td>Чита</td>\n",
       "      <td>Харитон</td>\n",
       "      <td>Булгаков</td>\n",
       "      <td>2018-01-24</td>\n",
       "      <td>smart</td>\n",
       "    </tr>\n",
       "    <tr>\n",
       "      <td>488</td>\n",
       "      <td>1488</td>\n",
       "      <td>47</td>\n",
       "      <td>NaN</td>\n",
       "      <td>Новороссийск</td>\n",
       "      <td>Вадим</td>\n",
       "      <td>Филатов</td>\n",
       "      <td>2018-11-07</td>\n",
       "      <td>smart</td>\n",
       "    </tr>\n",
       "  </tbody>\n",
       "</table>\n",
       "</div>"
      ],
      "text/plain": [
       "     user_id  age churn_date             city first_name  last_name  \\\n",
       "36      1036   47        NaN  Санкт-Петербург   Анжелика  Андропова   \n",
       "289     1289   20        NaN           Москва     Таисия  Богданова   \n",
       "407     1407   40        NaN        Челябинск       Элла   Пирогова   \n",
       "113     1113   52        NaN             Чита    Харитон   Булгаков   \n",
       "488     1488   47        NaN     Новороссийск      Вадим    Филатов   \n",
       "\n",
       "       reg_date tariff  \n",
       "36   2018-07-14  smart  \n",
       "289  2018-09-01  ultra  \n",
       "407  2018-08-14  smart  \n",
       "113  2018-01-24  smart  \n",
       "488  2018-11-07  smart  "
      ]
     },
     "metadata": {},
     "output_type": "display_data"
    },
    {
     "name": "stdout",
     "output_type": "stream",
     "text": [
      "<class 'pandas.core.frame.DataFrame'>\n",
      "RangeIndex: 500 entries, 0 to 499\n",
      "Data columns (total 8 columns):\n",
      "user_id       500 non-null int64\n",
      "age           500 non-null int64\n",
      "churn_date    38 non-null object\n",
      "city          500 non-null object\n",
      "first_name    500 non-null object\n",
      "last_name     500 non-null object\n",
      "reg_date      500 non-null object\n",
      "tariff        500 non-null object\n",
      "dtypes: int64(2), object(6)\n",
      "memory usage: 31.4+ KB\n",
      "None\n"
     ]
    }
   ],
   "source": [
    "display(users.sample(5))\n",
    "print(users.info())"
   ]
  },
  {
   "cell_type": "markdown",
   "metadata": {},
   "source": [
    "Таблица состоит из 500 записей, в которых содержаться сведения о пользователях оператора: их личные данные и информация о подключенном тарифе. Типы данных - строковый (object) , целочисленный (int). \n",
    "\n",
    "В столбце __churn_date__ (дата прекращения пользования тарифом) присутствуют пропущенные значения, которые означают, что тариф на момент выгрузки данных был активен. Поскольку наше исследование будет охватывать только 2018 год, мы можем заполнить пропуски в данном поле значением ___\"2018-12-31\"___ (последний день года)."
   ]
  },
  {
   "cell_type": "code",
   "execution_count": 10,
   "metadata": {},
   "outputs": [
    {
     "name": "stdout",
     "output_type": "stream",
     "text": [
      "Пропусков в столбце churn_date: 0\n"
     ]
    }
   ],
   "source": [
    "users['churn_date'].fillna('2018-12-31', inplace = True)\n",
    "print('Пропусков в столбце churn_date:', users['churn_date'].isna().sum())                     #проверка"
   ]
  },
  {
   "cell_type": "markdown",
   "metadata": {},
   "source": [
    "Поскольку каждая строка таблицы соответствует одному пользователю, сделаем столбец __user_id__ индексом таблицы:"
   ]
  },
  {
   "cell_type": "code",
   "execution_count": 11,
   "metadata": {},
   "outputs": [],
   "source": [
    "users.set_index('user_id', inplace = True, drop = True)"
   ]
  },
  {
   "cell_type": "markdown",
   "metadata": {},
   "source": [
    "В остальном проблем с данной таблицей нет.\n",
    "#### 3. Таблица calls\n",
    "Теперь изучим таблицу __calls__:"
   ]
  },
  {
   "cell_type": "code",
   "execution_count": 12,
   "metadata": {},
   "outputs": [
    {
     "data": {
      "text/html": [
       "<div>\n",
       "<style scoped>\n",
       "    .dataframe tbody tr th:only-of-type {\n",
       "        vertical-align: middle;\n",
       "    }\n",
       "\n",
       "    .dataframe tbody tr th {\n",
       "        vertical-align: top;\n",
       "    }\n",
       "\n",
       "    .dataframe thead th {\n",
       "        text-align: right;\n",
       "    }\n",
       "</style>\n",
       "<table border=\"1\" class=\"dataframe\">\n",
       "  <thead>\n",
       "    <tr style=\"text-align: right;\">\n",
       "      <th></th>\n",
       "      <th>id</th>\n",
       "      <th>call_date</th>\n",
       "      <th>duration</th>\n",
       "      <th>user_id</th>\n",
       "    </tr>\n",
       "  </thead>\n",
       "  <tbody>\n",
       "    <tr>\n",
       "      <td>152436</td>\n",
       "      <td>1380_71</td>\n",
       "      <td>2018-11-07</td>\n",
       "      <td>6.84</td>\n",
       "      <td>1380</td>\n",
       "    </tr>\n",
       "    <tr>\n",
       "      <td>90227</td>\n",
       "      <td>1225_487</td>\n",
       "      <td>2018-05-30</td>\n",
       "      <td>10.24</td>\n",
       "      <td>1225</td>\n",
       "    </tr>\n",
       "    <tr>\n",
       "      <td>119266</td>\n",
       "      <td>1308_52</td>\n",
       "      <td>2018-04-08</td>\n",
       "      <td>2.09</td>\n",
       "      <td>1308</td>\n",
       "    </tr>\n",
       "    <tr>\n",
       "      <td>119422</td>\n",
       "      <td>1308_208</td>\n",
       "      <td>2018-10-19</td>\n",
       "      <td>7.52</td>\n",
       "      <td>1308</td>\n",
       "    </tr>\n",
       "    <tr>\n",
       "      <td>45099</td>\n",
       "      <td>1113_515</td>\n",
       "      <td>2018-06-06</td>\n",
       "      <td>0.15</td>\n",
       "      <td>1113</td>\n",
       "    </tr>\n",
       "  </tbody>\n",
       "</table>\n",
       "</div>"
      ],
      "text/plain": [
       "              id   call_date  duration  user_id\n",
       "152436   1380_71  2018-11-07      6.84     1380\n",
       "90227   1225_487  2018-05-30     10.24     1225\n",
       "119266   1308_52  2018-04-08      2.09     1308\n",
       "119422  1308_208  2018-10-19      7.52     1308\n",
       "45099   1113_515  2018-06-06      0.15     1113"
      ]
     },
     "metadata": {},
     "output_type": "display_data"
    },
    {
     "name": "stdout",
     "output_type": "stream",
     "text": [
      "<class 'pandas.core.frame.DataFrame'>\n",
      "RangeIndex: 202607 entries, 0 to 202606\n",
      "Data columns (total 4 columns):\n",
      "id           202607 non-null object\n",
      "call_date    202607 non-null object\n",
      "duration     202607 non-null float64\n",
      "user_id      202607 non-null int64\n",
      "dtypes: float64(1), int64(1), object(2)\n",
      "memory usage: 6.2+ MB\n",
      "None\n"
     ]
    }
   ],
   "source": [
    "display(calls.sample(5))\n",
    "print(calls.info())"
   ]
  },
  {
   "cell_type": "markdown",
   "metadata": {},
   "source": [
    "В данной таблице указана информация совершенных пользователями звонках (продолжительность, дата, идентификатор пользователя; всего 202607 записей). Изучим подробнее значения столбца __duration__ (продолжительность звонка) - построим гистограмму и найдем основные метрики:"
   ]
  },
  {
   "cell_type": "code",
   "execution_count": 13,
   "metadata": {},
   "outputs": [
    {
     "data": {
      "image/png": "[encoded data removed]",
      "text/plain": [
       "<Figure size 720x360 with 1 Axes>"
      ]
     },
     "metadata": {
      "needs_background": "light"
     },
     "output_type": "display_data"
    }
   ],
   "source": [
    "calls['duration'].plot(kind = 'hist', bins = 100, title = 'Гистограмма параметра duration')\n",
    "plt.xlabel('Время разговора')\n",
    "plt.ylabel('Частота')\n",
    "plt.show()"
   ]
  },
  {
   "cell_type": "markdown",
   "metadata": {},
   "source": [
    "Можно заметить, что значительная доля звонков имеет продолжительность 0.0 минут. Найдем их точное количество:"
   ]
  },
  {
   "cell_type": "code",
   "execution_count": 14,
   "metadata": {},
   "outputs": [
    {
     "name": "stdout",
     "output_type": "stream",
     "text": [
      "Звонков с нулевой продолжительностью: 39613\n"
     ]
    }
   ],
   "source": [
    "print('Звонков с нулевой продолжительностью:', calls['duration'].value_counts()[0.0])"
   ]
  },
  {
   "cell_type": "markdown",
   "metadata": {},
   "source": [
    "Мы видим, что значений ___0.0___ в столбце - почти 40000, или 20 процентов от общего числа. \n",
    "\n",
    "Посмотрим, есть ли какая-либо закономерность в появлении таких записей. Для этого сначала посчитаем для каждого клиента общее количество совершенных звонков и количество звонков с нулевой продолжительностью, а также их соотношение: "
   ]
  },
  {
   "cell_type": "code",
   "execution_count": 15,
   "metadata": {},
   "outputs": [
    {
     "data": {
      "text/html": [
       "<div>\n",
       "<style scoped>\n",
       "    .dataframe tbody tr th:only-of-type {\n",
       "        vertical-align: middle;\n",
       "    }\n",
       "\n",
       "    .dataframe tbody tr th {\n",
       "        vertical-align: top;\n",
       "    }\n",
       "\n",
       "    .dataframe thead th {\n",
       "        text-align: right;\n",
       "    }\n",
       "</style>\n",
       "<table border=\"1\" class=\"dataframe\">\n",
       "  <thead>\n",
       "    <tr style=\"text-align: right;\">\n",
       "      <th></th>\n",
       "      <th>duration</th>\n",
       "      <th>duration_is_0</th>\n",
       "      <th>ratio</th>\n",
       "    </tr>\n",
       "    <tr>\n",
       "      <th>user_id</th>\n",
       "      <th></th>\n",
       "      <th></th>\n",
       "      <th></th>\n",
       "    </tr>\n",
       "  </thead>\n",
       "  <tbody>\n",
       "    <tr>\n",
       "      <td>1000</td>\n",
       "      <td>368</td>\n",
       "      <td>75</td>\n",
       "      <td>0.203804</td>\n",
       "    </tr>\n",
       "    <tr>\n",
       "      <td>1001</td>\n",
       "      <td>122</td>\n",
       "      <td>30</td>\n",
       "      <td>0.245902</td>\n",
       "    </tr>\n",
       "    <tr>\n",
       "      <td>1002</td>\n",
       "      <td>217</td>\n",
       "      <td>44</td>\n",
       "      <td>0.202765</td>\n",
       "    </tr>\n",
       "    <tr>\n",
       "      <td>1003</td>\n",
       "      <td>520</td>\n",
       "      <td>92</td>\n",
       "      <td>0.176923</td>\n",
       "    </tr>\n",
       "    <tr>\n",
       "      <td>1004</td>\n",
       "      <td>176</td>\n",
       "      <td>37</td>\n",
       "      <td>0.210227</td>\n",
       "    </tr>\n",
       "  </tbody>\n",
       "</table>\n",
       "</div>"
      ],
      "text/plain": [
       "         duration  duration_is_0     ratio\n",
       "user_id                                   \n",
       "1000          368             75  0.203804\n",
       "1001          122             30  0.245902\n",
       "1002          217             44  0.202765\n",
       "1003          520             92  0.176923\n",
       "1004          176             37  0.210227"
      ]
     },
     "execution_count": 15,
     "metadata": {},
     "output_type": "execute_result"
    }
   ],
   "source": [
    "calls_by_client = (calls.pivot_table(index = 'user_id', \n",
    "                                     values = 'duration', \n",
    "                                     aggfunc = 'count')\n",
    "                        .join(calls.query('duration == 0').pivot_table(index = 'user_id', \n",
    "                                                                       values = 'duration', \n",
    "                                                                       aggfunc = 'count'), \n",
    "                              rsuffix = '_is_0'))\n",
    "calls_by_client['ratio'] = calls_by_client['duration_is_0'] / calls_by_client['duration'] \n",
    "calls_by_client.head()"
   ]
  },
  {
   "cell_type": "markdown",
   "metadata": {},
   "source": [
    "Изучим значения столбца __ratio__:"
   ]
  },
  {
   "cell_type": "code",
   "execution_count": 16,
   "metadata": {},
   "outputs": [
    {
     "data": {
      "text/plain": [
       "count    492.000000\n",
       "mean       0.196122\n",
       "std        0.029508\n",
       "min        0.087719\n",
       "25%        0.180864\n",
       "50%        0.195652\n",
       "75%        0.209269\n",
       "max        0.500000\n",
       "Name: ratio, dtype: float64"
      ]
     },
     "execution_count": 16,
     "metadata": {},
     "output_type": "execute_result"
    }
   ],
   "source": [
    "calls_by_client['ratio'].describe()"
   ]
  },
  {
   "cell_type": "markdown",
   "metadata": {},
   "source": [
    "Мы видим следующее:\n",
    "- \"Нулевые\" звонки встречаются у каждого пользователя (нет записей с __ratio__, равным 0);\n",
    "- Максимальная доля таких звонков - 50 процентов;\n",
    "- В среднем такие звонки составляют около 20 процентов от общего количества (доля такая же, как в целом по выборке).\n",
    "\n",
    "Скорее всего, появление записей со значением ___0.0___ в столбце __duration__ обусловлено техническими особенностями работы оператора. Например, такие записи возникают, когда абонент не дозвонился по набранному номеру, или при звонках на бесплатные номера.\n",
    "\n",
    "Поскольку для дальнейших расчетов нас в первую очередь будет интересовать именно длительность звонков, записи со значением ___0.0___ поля __duration__ можно убрать из таблицы."
   ]
  },
  {
   "cell_type": "code",
   "execution_count": 17,
   "metadata": {},
   "outputs": [
    {
     "data": {
      "image/png": "[encoded data removed]",
      "text/plain": [
       "<Figure size 720x360 with 1 Axes>"
      ]
     },
     "metadata": {
      "needs_background": "light"
     },
     "output_type": "display_data"
    }
   ],
   "source": [
    "calls = calls.query('duration != 0')\n",
    "# Построим гистограмму после удаления пропусков\n",
    "calls['duration'].plot(kind = 'hist', bins = 100, title = 'Гистограмма параметра duration')\n",
    "plt.xlabel('Время разговора')\n",
    "plt.ylabel('Частота')\n",
    "plt.show()"
   ]
  },
  {
   "cell_type": "markdown",
   "metadata": {},
   "source": [
    "Теперь картина стала похожа на ожидаемую - форма распределения близка к пуассоновской, среднее значение продолжительности звонка находится в районе 5-10 минут."
   ]
  },
  {
   "cell_type": "markdown",
   "metadata": {},
   "source": [
    "#### 4. Таблица internet"
   ]
  },
  {
   "cell_type": "markdown",
   "metadata": {},
   "source": [
    "Проведем аналогичные действия для таблицы __internet__. Выведем общую информацию и несколько строк таблицы:"
   ]
  },
  {
   "cell_type": "code",
   "execution_count": 18,
   "metadata": {},
   "outputs": [
    {
     "data": {
      "text/html": [
       "<div>\n",
       "<style scoped>\n",
       "    .dataframe tbody tr th:only-of-type {\n",
       "        vertical-align: middle;\n",
       "    }\n",
       "\n",
       "    .dataframe tbody tr th {\n",
       "        vertical-align: top;\n",
       "    }\n",
       "\n",
       "    .dataframe thead th {\n",
       "        text-align: right;\n",
       "    }\n",
       "</style>\n",
       "<table border=\"1\" class=\"dataframe\">\n",
       "  <thead>\n",
       "    <tr style=\"text-align: right;\">\n",
       "      <th></th>\n",
       "      <th>id</th>\n",
       "      <th>mb_used</th>\n",
       "      <th>session_date</th>\n",
       "      <th>user_id</th>\n",
       "    </tr>\n",
       "  </thead>\n",
       "  <tbody>\n",
       "    <tr>\n",
       "      <td>51667</td>\n",
       "      <td>1175_320</td>\n",
       "      <td>564.99</td>\n",
       "      <td>2018-11-10</td>\n",
       "      <td>1175</td>\n",
       "    </tr>\n",
       "    <tr>\n",
       "      <td>38201</td>\n",
       "      <td>1134_256</td>\n",
       "      <td>395.34</td>\n",
       "      <td>2018-04-30</td>\n",
       "      <td>1134</td>\n",
       "    </tr>\n",
       "    <tr>\n",
       "      <td>37570</td>\n",
       "      <td>1131_0</td>\n",
       "      <td>677.85</td>\n",
       "      <td>2018-12-27</td>\n",
       "      <td>1131</td>\n",
       "    </tr>\n",
       "    <tr>\n",
       "      <td>70470</td>\n",
       "      <td>1240_138</td>\n",
       "      <td>445.02</td>\n",
       "      <td>2018-12-12</td>\n",
       "      <td>1240</td>\n",
       "    </tr>\n",
       "    <tr>\n",
       "      <td>58023</td>\n",
       "      <td>1196_21</td>\n",
       "      <td>443.98</td>\n",
       "      <td>2018-12-14</td>\n",
       "      <td>1196</td>\n",
       "    </tr>\n",
       "  </tbody>\n",
       "</table>\n",
       "</div>"
      ],
      "text/plain": [
       "             id  mb_used session_date  user_id\n",
       "51667  1175_320   564.99   2018-11-10     1175\n",
       "38201  1134_256   395.34   2018-04-30     1134\n",
       "37570    1131_0   677.85   2018-12-27     1131\n",
       "70470  1240_138   445.02   2018-12-12     1240\n",
       "58023   1196_21   443.98   2018-12-14     1196"
      ]
     },
     "metadata": {},
     "output_type": "display_data"
    },
    {
     "name": "stdout",
     "output_type": "stream",
     "text": [
      "<class 'pandas.core.frame.DataFrame'>\n",
      "RangeIndex: 149396 entries, 0 to 149395\n",
      "Data columns (total 4 columns):\n",
      "id              149396 non-null object\n",
      "mb_used         149396 non-null float64\n",
      "session_date    149396 non-null object\n",
      "user_id         149396 non-null int64\n",
      "dtypes: float64(1), int64(1), object(2)\n",
      "memory usage: 4.6+ MB\n",
      "None\n"
     ]
    }
   ],
   "source": [
    "display(internet.sample(5))\n",
    "print(internet.info())"
   ]
  },
  {
   "cell_type": "markdown",
   "metadata": {},
   "source": [
    "В этой таблице указаны сведения об интернет-сессиях пользователей. Количество записей - 149396.\n",
    "\n",
    "По аналогии с предыдущим пунктом изучим столбец __mb_used__ (объем израсходованного трафика):"
   ]
  },
  {
   "cell_type": "code",
   "execution_count": 19,
   "metadata": {},
   "outputs": [
    {
     "data": {
      "image/png": "[encoded data removed]",
      "text/plain": [
       "<Figure size 720x360 with 1 Axes>"
      ]
     },
     "metadata": {
      "needs_background": "light"
     },
     "output_type": "display_data"
    }
   ],
   "source": [
    "internet['mb_used'].plot(kind = 'hist', bins = 100, title = 'Гистограмма параметра duration')\n",
    "plt.xlabel('Объем (мб)')\n",
    "plt.ylabel('Частота')\n",
    "plt.show()"
   ]
  },
  {
   "cell_type": "markdown",
   "metadata": {},
   "source": [
    "Видим такую же картину, как и со звонками - значительное количество сессий прошли без расходования трафика (ноль в столбце __mb_used__ )."
   ]
  },
  {
   "cell_type": "code",
   "execution_count": 20,
   "metadata": {},
   "outputs": [
    {
     "name": "stdout",
     "output_type": "stream",
     "text": [
      "Сессий с нулевым трафиком: 19598\n"
     ]
    }
   ],
   "source": [
    "print('Сессий с нулевым трафиком:', internet['mb_used'].value_counts()[0.0])"
   ]
  },
  {
   "cell_type": "markdown",
   "metadata": {},
   "source": [
    "Посмотрим, какова в среднем доля таких сессий:"
   ]
  },
  {
   "cell_type": "code",
   "execution_count": 21,
   "metadata": {},
   "outputs": [
    {
     "data": {
      "text/plain": [
       "count    494.000000\n",
       "mean       0.126604\n",
       "std        0.056198\n",
       "min        0.008264\n",
       "25%        0.063419\n",
       "50%        0.146459\n",
       "75%        0.168578\n",
       "max        0.250000\n",
       "Name: ratio, dtype: float64"
      ]
     },
     "execution_count": 21,
     "metadata": {},
     "output_type": "execute_result"
    }
   ],
   "source": [
    "net_by_client = (internet.pivot_table(index = 'user_id', \n",
    "                                      values = 'mb_used', \n",
    "                                      aggfunc = 'count').\n",
    "                 join(internet.query('mb_used == 0').pivot_table(index='user_id', \n",
    "                                                                 values='mb_used', \n",
    "                                                                 aggfunc = 'count'), \n",
    "                      rsuffix = '_is_0'))\n",
    "net_by_client['ratio'] = net_by_client['mb_used_is_0'] / net_by_client['mb_used']\n",
    "net_by_client['ratio'].describe()"
   ]
  },
  {
   "cell_type": "markdown",
   "metadata": {},
   "source": [
    "Картина схожа со звонками: интернет-сессии с нулевым трафиком встречаются у каждого пользователя, их доля в среднем составляет около 15 процентов от всех соединений.\n",
    "\n",
    "Удалим записи со значением _0.0_ в поле __mb_used__ из таблицы - для расчета выручки нам нужны только сессии с ненулевым трафиком:"
   ]
  },
  {
   "cell_type": "code",
   "execution_count": 22,
   "metadata": {},
   "outputs": [
    {
     "data": {
      "image/png": "[encoded data removed]",
      "text/plain": [
       "<Figure size 720x360 with 1 Axes>"
      ]
     },
     "metadata": {
      "needs_background": "light"
     },
     "output_type": "display_data"
    }
   ],
   "source": [
    "internet = internet.query('mb_used != 0')\n",
    "#Построим гистограмму по обновленным данным\n",
    "internet['mb_used'].plot(kind = 'hist', bins = 100, title = 'Гистограмма параметра duration')\n",
    "plt.xlabel('Объем (мб)')\n",
    "plt.ylabel('Частота')\n",
    "plt.show()"
   ]
  },
  {
   "cell_type": "markdown",
   "metadata": {},
   "source": [
    "Получили близкое к пуассоновскому распределение с макисмумом в районе 250 - 500 мегабайт за сессию, что в принципе соответствует ожиданиям.\n",
    "#### 5. Таблица messages\n",
    "Наконец, проверим таблицу __messages__:"
   ]
  },
  {
   "cell_type": "code",
   "execution_count": 23,
   "metadata": {},
   "outputs": [
    {
     "data": {
      "text/html": [
       "<div>\n",
       "<style scoped>\n",
       "    .dataframe tbody tr th:only-of-type {\n",
       "        vertical-align: middle;\n",
       "    }\n",
       "\n",
       "    .dataframe tbody tr th {\n",
       "        vertical-align: top;\n",
       "    }\n",
       "\n",
       "    .dataframe thead th {\n",
       "        text-align: right;\n",
       "    }\n",
       "</style>\n",
       "<table border=\"1\" class=\"dataframe\">\n",
       "  <thead>\n",
       "    <tr style=\"text-align: right;\">\n",
       "      <th></th>\n",
       "      <th>id</th>\n",
       "      <th>message_date</th>\n",
       "      <th>user_id</th>\n",
       "    </tr>\n",
       "  </thead>\n",
       "  <tbody>\n",
       "    <tr>\n",
       "      <td>96906</td>\n",
       "      <td>1396_557</td>\n",
       "      <td>2018-04-21</td>\n",
       "      <td>1396</td>\n",
       "    </tr>\n",
       "    <tr>\n",
       "      <td>41073</td>\n",
       "      <td>1174_418</td>\n",
       "      <td>2018-10-08</td>\n",
       "      <td>1174</td>\n",
       "    </tr>\n",
       "    <tr>\n",
       "      <td>19709</td>\n",
       "      <td>1087_107</td>\n",
       "      <td>2018-10-09</td>\n",
       "      <td>1087</td>\n",
       "    </tr>\n",
       "    <tr>\n",
       "      <td>51225</td>\n",
       "      <td>1227_250</td>\n",
       "      <td>2018-07-20</td>\n",
       "      <td>1227</td>\n",
       "    </tr>\n",
       "    <tr>\n",
       "      <td>80909</td>\n",
       "      <td>1338_107</td>\n",
       "      <td>2018-07-04</td>\n",
       "      <td>1338</td>\n",
       "    </tr>\n",
       "  </tbody>\n",
       "</table>\n",
       "</div>"
      ],
      "text/plain": [
       "             id message_date  user_id\n",
       "96906  1396_557   2018-04-21     1396\n",
       "41073  1174_418   2018-10-08     1174\n",
       "19709  1087_107   2018-10-09     1087\n",
       "51225  1227_250   2018-07-20     1227\n",
       "80909  1338_107   2018-07-04     1338"
      ]
     },
     "metadata": {},
     "output_type": "display_data"
    },
    {
     "name": "stdout",
     "output_type": "stream",
     "text": [
      "<class 'pandas.core.frame.DataFrame'>\n",
      "RangeIndex: 123036 entries, 0 to 123035\n",
      "Data columns (total 3 columns):\n",
      "id              123036 non-null object\n",
      "message_date    123036 non-null object\n",
      "user_id         123036 non-null int64\n",
      "dtypes: int64(1), object(2)\n",
      "memory usage: 2.8+ MB\n",
      "None\n"
     ]
    }
   ],
   "source": [
    "display(messages.sample(5))\n",
    "print(messages.info())"
   ]
  },
  {
   "cell_type": "markdown",
   "metadata": {},
   "source": [
    "В этой таблице содержатся записи об отправленных сообщениях (123036 строк). Проблем с данными в таблице нет.\n",
    "\n",
    "## Вывод\n",
    "На этом шаге мы изучили полученные данные и устранили найденные в них пропуски и ошибки:\n",
    "- Пропуски в столбце __churn_date__ таблицы __users__ - заменены значением 2018-12-31 (если дата прекращения пользования тарифом не указана, значит он был активен как минимум до конца исследуемого года);\n",
    "- В таблицах __calls__ и __internet__ обнаружены записи о звонках продолжительностью ___0.0___ минут и интернет-соединениях с объемом трафика ___0.0___ мегабайт соответственно. Каких-либо закономерностей возникновения этих записей не обнаружено. По всей видимости, их появление обусловлено техническими аспектами заполнения таблиц - например, оператор в таком виде может сохранять информацию о непринятых звонках и неуспешных подключениях. Данные записи удалены из соответствующих таблиц."
   ]
  },
  {
   "cell_type": "markdown",
   "metadata": {},
   "source": [
    "## Шаг 2. Подготовка данных\n",
    "#### 1. Преобразование типов\n",
    "В таблице __users__ преобразуем столбцы __churn_date__ и __reg_date__ в тип datetime:"
   ]
  },
  {
   "cell_type": "code",
   "execution_count": 24,
   "metadata": {},
   "outputs": [],
   "source": [
    "users['churn_date'], users['reg_date'] = pd.to_datetime(users['churn_date']), pd.to_datetime(users['reg_date'])"
   ]
  },
  {
   "cell_type": "markdown",
   "metadata": {},
   "source": [
    "Что касается звонков, сообщений и интернет-сессий, то для наших расчетов нам нужен только месяц, когда была оказана соответствующая услуга связи. \n",
    "\n",
    "Добавим в каждую таблицу столбец __month__, где будет указан номер месяца."
   ]
  },
  {
   "cell_type": "code",
   "execution_count": 25,
   "metadata": {},
   "outputs": [],
   "source": [
    "calls['month']    = pd.to_datetime(calls['call_date']).dt.month\n",
    "internet['month'] = pd.to_datetime(internet['session_date']).dt.month\n",
    "messages['month'] = pd.to_datetime(messages['message_date']).dt.month"
   ]
  },
  {
   "cell_type": "markdown",
   "metadata": {},
   "source": [
    "Также приведем к целочисленному типу (int) значения в столбцах __duration__ и __mb_used__, округлив их вверх (именно так при расчетах поступает оператор):"
   ]
  },
  {
   "cell_type": "code",
   "execution_count": 26,
   "metadata": {},
   "outputs": [
    {
     "data": {
      "text/html": [
       "<div>\n",
       "<style scoped>\n",
       "    .dataframe tbody tr th:only-of-type {\n",
       "        vertical-align: middle;\n",
       "    }\n",
       "\n",
       "    .dataframe tbody tr th {\n",
       "        vertical-align: top;\n",
       "    }\n",
       "\n",
       "    .dataframe thead th {\n",
       "        text-align: right;\n",
       "    }\n",
       "</style>\n",
       "<table border=\"1\" class=\"dataframe\">\n",
       "  <thead>\n",
       "    <tr style=\"text-align: right;\">\n",
       "      <th></th>\n",
       "      <th>id</th>\n",
       "      <th>call_date</th>\n",
       "      <th>duration</th>\n",
       "      <th>user_id</th>\n",
       "      <th>month</th>\n",
       "    </tr>\n",
       "  </thead>\n",
       "  <tbody>\n",
       "    <tr>\n",
       "      <td>2</td>\n",
       "      <td>1000_2</td>\n",
       "      <td>2018-06-11</td>\n",
       "      <td>3</td>\n",
       "      <td>1000</td>\n",
       "      <td>6</td>\n",
       "    </tr>\n",
       "    <tr>\n",
       "      <td>3</td>\n",
       "      <td>1000_3</td>\n",
       "      <td>2018-09-21</td>\n",
       "      <td>14</td>\n",
       "      <td>1000</td>\n",
       "      <td>9</td>\n",
       "    </tr>\n",
       "    <tr>\n",
       "      <td>4</td>\n",
       "      <td>1000_4</td>\n",
       "      <td>2018-12-15</td>\n",
       "      <td>6</td>\n",
       "      <td>1000</td>\n",
       "      <td>12</td>\n",
       "    </tr>\n",
       "  </tbody>\n",
       "</table>\n",
       "</div>"
      ],
      "text/plain": [
       "       id   call_date  duration  user_id  month\n",
       "2  1000_2  2018-06-11         3     1000      6\n",
       "3  1000_3  2018-09-21        14     1000      9\n",
       "4  1000_4  2018-12-15         6     1000     12"
      ]
     },
     "metadata": {},
     "output_type": "display_data"
    },
    {
     "data": {
      "text/html": [
       "<div>\n",
       "<style scoped>\n",
       "    .dataframe tbody tr th:only-of-type {\n",
       "        vertical-align: middle;\n",
       "    }\n",
       "\n",
       "    .dataframe tbody tr th {\n",
       "        vertical-align: top;\n",
       "    }\n",
       "\n",
       "    .dataframe thead th {\n",
       "        text-align: right;\n",
       "    }\n",
       "</style>\n",
       "<table border=\"1\" class=\"dataframe\">\n",
       "  <thead>\n",
       "    <tr style=\"text-align: right;\">\n",
       "      <th></th>\n",
       "      <th>id</th>\n",
       "      <th>mb_used</th>\n",
       "      <th>session_date</th>\n",
       "      <th>user_id</th>\n",
       "      <th>month</th>\n",
       "    </tr>\n",
       "  </thead>\n",
       "  <tbody>\n",
       "    <tr>\n",
       "      <td>0</td>\n",
       "      <td>1000_0</td>\n",
       "      <td>113</td>\n",
       "      <td>2018-11-25</td>\n",
       "      <td>1000</td>\n",
       "      <td>11</td>\n",
       "    </tr>\n",
       "    <tr>\n",
       "      <td>1</td>\n",
       "      <td>1000_1</td>\n",
       "      <td>1053</td>\n",
       "      <td>2018-09-07</td>\n",
       "      <td>1000</td>\n",
       "      <td>9</td>\n",
       "    </tr>\n",
       "    <tr>\n",
       "      <td>2</td>\n",
       "      <td>1000_2</td>\n",
       "      <td>1198</td>\n",
       "      <td>2018-06-25</td>\n",
       "      <td>1000</td>\n",
       "      <td>6</td>\n",
       "    </tr>\n",
       "  </tbody>\n",
       "</table>\n",
       "</div>"
      ],
      "text/plain": [
       "       id  mb_used session_date  user_id  month\n",
       "0  1000_0      113   2018-11-25     1000     11\n",
       "1  1000_1     1053   2018-09-07     1000      9\n",
       "2  1000_2     1198   2018-06-25     1000      6"
      ]
     },
     "metadata": {},
     "output_type": "display_data"
    },
    {
     "data": {
      "text/html": [
       "<div>\n",
       "<style scoped>\n",
       "    .dataframe tbody tr th:only-of-type {\n",
       "        vertical-align: middle;\n",
       "    }\n",
       "\n",
       "    .dataframe tbody tr th {\n",
       "        vertical-align: top;\n",
       "    }\n",
       "\n",
       "    .dataframe thead th {\n",
       "        text-align: right;\n",
       "    }\n",
       "</style>\n",
       "<table border=\"1\" class=\"dataframe\">\n",
       "  <thead>\n",
       "    <tr style=\"text-align: right;\">\n",
       "      <th></th>\n",
       "      <th>id</th>\n",
       "      <th>message_date</th>\n",
       "      <th>user_id</th>\n",
       "      <th>month</th>\n",
       "    </tr>\n",
       "  </thead>\n",
       "  <tbody>\n",
       "    <tr>\n",
       "      <td>0</td>\n",
       "      <td>1000_0</td>\n",
       "      <td>2018-06-27</td>\n",
       "      <td>1000</td>\n",
       "      <td>6</td>\n",
       "    </tr>\n",
       "    <tr>\n",
       "      <td>1</td>\n",
       "      <td>1000_1</td>\n",
       "      <td>2018-10-08</td>\n",
       "      <td>1000</td>\n",
       "      <td>10</td>\n",
       "    </tr>\n",
       "    <tr>\n",
       "      <td>2</td>\n",
       "      <td>1000_2</td>\n",
       "      <td>2018-08-04</td>\n",
       "      <td>1000</td>\n",
       "      <td>8</td>\n",
       "    </tr>\n",
       "  </tbody>\n",
       "</table>\n",
       "</div>"
      ],
      "text/plain": [
       "       id message_date  user_id  month\n",
       "0  1000_0   2018-06-27     1000      6\n",
       "1  1000_1   2018-10-08     1000     10\n",
       "2  1000_2   2018-08-04     1000      8"
      ]
     },
     "metadata": {},
     "output_type": "display_data"
    }
   ],
   "source": [
    "calls['duration']   = calls['duration'].apply(ceil)              #функция ceil() возвращает int\n",
    "internet['mb_used'] = internet['mb_used'].apply(ceil)\n",
    "\n",
    "display(calls.head(3), internet.head(3), messages.head(3))       #Проверка"
   ]
  },
  {
   "cell_type": "markdown",
   "metadata": {},
   "source": [
    "#### 2. Расчет помесячного использования услуг и выручки с каждого пользователя\n",
    "Создадим таблицу __usage_per_month__, в которой для всех пользователей будут посчитаны по месяцам:\n",
    "- суммарная продолжительность звонков;\n",
    "- суммарный объем интернет-трафика;\n",
    "- количество отправленных сообщений;\n",
    "- тариф пользователя."
   ]
  },
  {
   "cell_type": "code",
   "execution_count": 27,
   "metadata": {},
   "outputs": [
    {
     "data": {
      "text/html": [
       "<div>\n",
       "<style scoped>\n",
       "    .dataframe tbody tr th:only-of-type {\n",
       "        vertical-align: middle;\n",
       "    }\n",
       "\n",
       "    .dataframe tbody tr th {\n",
       "        vertical-align: top;\n",
       "    }\n",
       "\n",
       "    .dataframe thead th {\n",
       "        text-align: right;\n",
       "    }\n",
       "</style>\n",
       "<table border=\"1\" class=\"dataframe\">\n",
       "  <thead>\n",
       "    <tr style=\"text-align: right;\">\n",
       "      <th></th>\n",
       "      <th>user_id</th>\n",
       "      <th>month</th>\n",
       "      <th>duration</th>\n",
       "      <th>mb_used</th>\n",
       "      <th>messages</th>\n",
       "      <th>tariff</th>\n",
       "    </tr>\n",
       "  </thead>\n",
       "  <tbody>\n",
       "    <tr>\n",
       "      <td>0</td>\n",
       "      <td>1000</td>\n",
       "      <td>5</td>\n",
       "      <td>159.0</td>\n",
       "      <td>2256.0</td>\n",
       "      <td>22.0</td>\n",
       "      <td>ultra</td>\n",
       "    </tr>\n",
       "    <tr>\n",
       "      <td>1</td>\n",
       "      <td>1000</td>\n",
       "      <td>6</td>\n",
       "      <td>172.0</td>\n",
       "      <td>23257.0</td>\n",
       "      <td>60.0</td>\n",
       "      <td>ultra</td>\n",
       "    </tr>\n",
       "    <tr>\n",
       "      <td>2</td>\n",
       "      <td>1000</td>\n",
       "      <td>7</td>\n",
       "      <td>340.0</td>\n",
       "      <td>14016.0</td>\n",
       "      <td>75.0</td>\n",
       "      <td>ultra</td>\n",
       "    </tr>\n",
       "    <tr>\n",
       "      <td>3</td>\n",
       "      <td>1000</td>\n",
       "      <td>8</td>\n",
       "      <td>408.0</td>\n",
       "      <td>14070.0</td>\n",
       "      <td>81.0</td>\n",
       "      <td>ultra</td>\n",
       "    </tr>\n",
       "    <tr>\n",
       "      <td>4</td>\n",
       "      <td>1000</td>\n",
       "      <td>9</td>\n",
       "      <td>466.0</td>\n",
       "      <td>14581.0</td>\n",
       "      <td>57.0</td>\n",
       "      <td>ultra</td>\n",
       "    </tr>\n",
       "    <tr>\n",
       "      <td>5</td>\n",
       "      <td>1000</td>\n",
       "      <td>10</td>\n",
       "      <td>350.0</td>\n",
       "      <td>14717.0</td>\n",
       "      <td>73.0</td>\n",
       "      <td>ultra</td>\n",
       "    </tr>\n",
       "    <tr>\n",
       "      <td>6</td>\n",
       "      <td>1000</td>\n",
       "      <td>11</td>\n",
       "      <td>338.0</td>\n",
       "      <td>14768.0</td>\n",
       "      <td>58.0</td>\n",
       "      <td>ultra</td>\n",
       "    </tr>\n",
       "    <tr>\n",
       "      <td>7</td>\n",
       "      <td>1000</td>\n",
       "      <td>12</td>\n",
       "      <td>333.0</td>\n",
       "      <td>9827.0</td>\n",
       "      <td>70.0</td>\n",
       "      <td>ultra</td>\n",
       "    </tr>\n",
       "    <tr>\n",
       "      <td>8</td>\n",
       "      <td>1001</td>\n",
       "      <td>11</td>\n",
       "      <td>430.0</td>\n",
       "      <td>18452.0</td>\n",
       "      <td>NaN</td>\n",
       "      <td>smart</td>\n",
       "    </tr>\n",
       "    <tr>\n",
       "      <td>9</td>\n",
       "      <td>1001</td>\n",
       "      <td>12</td>\n",
       "      <td>414.0</td>\n",
       "      <td>14053.0</td>\n",
       "      <td>NaN</td>\n",
       "      <td>smart</td>\n",
       "    </tr>\n",
       "  </tbody>\n",
       "</table>\n",
       "</div>"
      ],
      "text/plain": [
       "   user_id  month  duration  mb_used  messages tariff\n",
       "0     1000      5     159.0   2256.0      22.0  ultra\n",
       "1     1000      6     172.0  23257.0      60.0  ultra\n",
       "2     1000      7     340.0  14016.0      75.0  ultra\n",
       "3     1000      8     408.0  14070.0      81.0  ultra\n",
       "4     1000      9     466.0  14581.0      57.0  ultra\n",
       "5     1000     10     350.0  14717.0      73.0  ultra\n",
       "6     1000     11     338.0  14768.0      58.0  ultra\n",
       "7     1000     12     333.0   9827.0      70.0  ultra\n",
       "8     1001     11     430.0  18452.0       NaN  smart\n",
       "9     1001     12     414.0  14053.0       NaN  smart"
      ]
     },
     "execution_count": 27,
     "metadata": {},
     "output_type": "execute_result"
    }
   ],
   "source": [
    "#Создадим отдельные сводные таблицы по звонкам, сообщениям и мегабайтам, затем объединим их в одну\n",
    "calls_per_month = calls.pivot_table(index = ['user_id', 'month'], values = 'duration', aggfunc = 'sum')\n",
    "inet_per_month  = internet.pivot_table(index = ['user_id', 'month'], values = 'mb_used', aggfunc = 'sum')\n",
    "msgs_per_month  = messages.pivot_table(index=['user_id', 'month'], values = 'id', aggfunc = 'count')\n",
    "\n",
    "usage_per_month = (calls_per_month\n",
    "                   .join(inet_per_month, on = ['user_id', 'month'], how = 'outer')\n",
    "                   .join(msgs_per_month, on = ['user_id', 'month'], how = 'outer')\n",
    "                   .reset_index())\n",
    "usage_per_month.rename(columns = {'id':'messages'}, inplace=True)\n",
    "#Добавим столбец с названием тарифа, взяв его из users\n",
    "usage_per_month['tariff'] = usage_per_month['user_id'].apply(lambda x: users.loc[x, 'tariff'])\n",
    "\n",
    "usage_per_month.head(10)"
   ]
  },
  {
   "cell_type": "markdown",
   "metadata": {},
   "source": [
    "Теперь рассчитаем для каждого пользователя затраты на услуги связи за каждый месяц пользования тарифом. Рассчет будем производить по следующей формуле:\n",
    "\n",
    "    Общая сумма расходов = Ежемесячная абонентская плата +\n",
    "                         + Количество минут звонков сверх лимита, помноженное на стоимость одной минуты +\n",
    "                         + Количество сообщений сверх лимита, помноженное на стоимость одного сообщения +\n",
    "                         + Объем интернет-трафика сверх лимита (в Гб), помноженный на стоимость одного гигабайта"
   ]
  },
  {
   "cell_type": "code",
   "execution_count": 28,
   "metadata": {},
   "outputs": [
    {
     "data": {
      "text/html": [
       "<div>\n",
       "<style scoped>\n",
       "    .dataframe tbody tr th:only-of-type {\n",
       "        vertical-align: middle;\n",
       "    }\n",
       "\n",
       "    .dataframe tbody tr th {\n",
       "        vertical-align: top;\n",
       "    }\n",
       "\n",
       "    .dataframe thead th {\n",
       "        text-align: right;\n",
       "    }\n",
       "</style>\n",
       "<table border=\"1\" class=\"dataframe\">\n",
       "  <thead>\n",
       "    <tr style=\"text-align: right;\">\n",
       "      <th></th>\n",
       "      <th>user_id</th>\n",
       "      <th>month</th>\n",
       "      <th>duration</th>\n",
       "      <th>mb_used</th>\n",
       "      <th>messages</th>\n",
       "      <th>tariff</th>\n",
       "      <th>total_cost</th>\n",
       "    </tr>\n",
       "  </thead>\n",
       "  <tbody>\n",
       "    <tr>\n",
       "      <td>154</td>\n",
       "      <td>1022</td>\n",
       "      <td>12</td>\n",
       "      <td>267.0</td>\n",
       "      <td>15456.0</td>\n",
       "      <td>10.0</td>\n",
       "      <td>smart</td>\n",
       "      <td>750</td>\n",
       "    </tr>\n",
       "    <tr>\n",
       "      <td>720</td>\n",
       "      <td>1116</td>\n",
       "      <td>4</td>\n",
       "      <td>168.0</td>\n",
       "      <td>9619.0</td>\n",
       "      <td>NaN</td>\n",
       "      <td>smart</td>\n",
       "      <td>550</td>\n",
       "    </tr>\n",
       "    <tr>\n",
       "      <td>2700</td>\n",
       "      <td>1425</td>\n",
       "      <td>11</td>\n",
       "      <td>585.0</td>\n",
       "      <td>16144.0</td>\n",
       "      <td>86.0</td>\n",
       "      <td>smart</td>\n",
       "      <td>1113</td>\n",
       "    </tr>\n",
       "    <tr>\n",
       "      <td>2576</td>\n",
       "      <td>1407</td>\n",
       "      <td>12</td>\n",
       "      <td>291.0</td>\n",
       "      <td>16871.0</td>\n",
       "      <td>41.0</td>\n",
       "      <td>smart</td>\n",
       "      <td>950</td>\n",
       "    </tr>\n",
       "    <tr>\n",
       "      <td>2016</td>\n",
       "      <td>1323</td>\n",
       "      <td>8</td>\n",
       "      <td>481.0</td>\n",
       "      <td>17018.0</td>\n",
       "      <td>59.0</td>\n",
       "      <td>smart</td>\n",
       "      <td>977</td>\n",
       "    </tr>\n",
       "  </tbody>\n",
       "</table>\n",
       "</div>"
      ],
      "text/plain": [
       "      user_id  month  duration  mb_used  messages tariff  total_cost\n",
       "154      1022     12     267.0  15456.0      10.0  smart         750\n",
       "720      1116      4     168.0   9619.0       NaN  smart         550\n",
       "2700     1425     11     585.0  16144.0      86.0  smart        1113\n",
       "2576     1407     12     291.0  16871.0      41.0  smart         950\n",
       "2016     1323      8     481.0  17018.0      59.0  smart         977"
      ]
     },
     "execution_count": 28,
     "metadata": {},
     "output_type": "execute_result"
    }
   ],
   "source": [
    "def count_monthly_cost(usage):\n",
    "    \n",
    "    #Функция для расчета помесячной выручки\n",
    "    \n",
    "    usage  = usage.fillna(0)                  # Для расчетов избавимся от NaN\n",
    "    tariff = tariffs.loc[usage['tariff'], :]  \n",
    "     \n",
    "    extra_minutes  = usage['duration'] - tariff['minutes_included'] \n",
    "    extra_min_cost = extra_minutes * tariff['rub_per_minute'] if extra_minutes > 0 else 0    \n",
    "\n",
    "    extra_messages = usage['messages'] - tariff['messages_included']\n",
    "    extra_msg_cost = extra_messages * tariff['rub_per_message'] if extra_messages > 0 else 0\n",
    "\n",
    "    extra_gbs      = ceil((usage['mb_used'] - tariff['mb_included']) / 1024)  #гигабайты округляем вверх\n",
    "    extra_gb_cost  = extra_gbs * tariff['rub_per_gb'] if extra_gbs > 0 else 0\n",
    "    \n",
    "    total = tariff['rub_monthly_fee'] + extra_min_cost + extra_msg_cost + extra_gb_cost\n",
    "    return int(total)\n",
    "\n",
    "\n",
    "usage_per_month['total_cost'] = usage_per_month.apply(count_monthly_cost, axis = 1)\n",
    "usage_per_month.sample(5)"
   ]
  },
  {
   "cell_type": "markdown",
   "metadata": {},
   "source": [
    "## Вывод\n",
    "Нами произведено преобразование данных к нужным типам, а также рассчет для каждого пользователя:\n",
    "- общей продолжительности звонков за месяц;\n",
    "- общего объема интернет-трафика за месяц;\n",
    "- количества сообщений за месяц;\n",
    "- помесячной выручки оператора."
   ]
  },
  {
   "cell_type": "markdown",
   "metadata": {},
   "source": [
    "## Шаг 3. Анализ данных\n",
    "\n",
    "Изучим поведение пользователей разных тарифов, исходя полученных нами расчетных значений.\n",
    "#### 1. Продолжительность звонков:\n",
    "Построим гистограммы количества минут, которые требуются абонентам в месяц (отдельно для каждого тарифа):"
   ]
  },
  {
   "cell_type": "code",
   "execution_count": 29,
   "metadata": {},
   "outputs": [
    {
     "data": {
      "image/png": "[encoded data removed]",
      "text/plain": [
       "<Figure size 720x360 with 1 Axes>"
      ]
     },
     "metadata": {
      "needs_background": "light"
     },
     "output_type": "display_data"
    },
    {
     "data": {
      "text/html": [
       "<div>\n",
       "<style scoped>\n",
       "    .dataframe tbody tr th:only-of-type {\n",
       "        vertical-align: middle;\n",
       "    }\n",
       "\n",
       "    .dataframe tbody tr th {\n",
       "        vertical-align: top;\n",
       "    }\n",
       "\n",
       "    .dataframe thead th {\n",
       "        text-align: right;\n",
       "    }\n",
       "</style>\n",
       "<table border=\"1\" class=\"dataframe\">\n",
       "  <thead>\n",
       "    <tr style=\"text-align: right;\">\n",
       "      <th></th>\n",
       "      <th>Медиана</th>\n",
       "      <th>Среднее</th>\n",
       "      <th>Ст. отклонение</th>\n",
       "      <th>Дисперсия</th>\n",
       "    </tr>\n",
       "    <tr>\n",
       "      <th>tariff</th>\n",
       "      <th></th>\n",
       "      <th></th>\n",
       "      <th></th>\n",
       "      <th></th>\n",
       "    </tr>\n",
       "  </thead>\n",
       "  <tbody>\n",
       "    <tr>\n",
       "      <td>smart</td>\n",
       "      <td>423.0</td>\n",
       "      <td>419.440342</td>\n",
       "      <td>188.992403</td>\n",
       "      <td>35718.128534</td>\n",
       "    </tr>\n",
       "    <tr>\n",
       "      <td>ultra</td>\n",
       "      <td>529.0</td>\n",
       "      <td>547.755016</td>\n",
       "      <td>305.513385</td>\n",
       "      <td>93338.428291</td>\n",
       "    </tr>\n",
       "  </tbody>\n",
       "</table>\n",
       "</div>"
      ],
      "text/plain": [
       "        Медиана     Среднее  Ст. отклонение     Дисперсия\n",
       "tariff                                                   \n",
       "smart     423.0  419.440342      188.992403  35718.128534\n",
       "ultra     529.0  547.755016      305.513385  93338.428291"
      ]
     },
     "execution_count": 29,
     "metadata": {},
     "output_type": "execute_result"
    }
   ],
   "source": [
    "def build_hists(column, xlabel, title):\n",
    "    usage_per_month.query('tariff == \"smart\"')[column].plot(kind = 'hist', alpha = 0.5, \n",
    "                                                            density = True, bins = 30)\n",
    "    usage_per_month.query('tariff == \"ultra\"')[column].plot(kind = 'hist', alpha = 0.5, \n",
    "                                                            density = True, bins = 30)\n",
    "    plt.legend(['Smart', 'Ultra'])\n",
    "    plt.xlabel(xlabel)\n",
    "    plt.ylabel('Частота')\n",
    "    plt.title(title)\n",
    "    plt.show()\n",
    "    \n",
    "    \n",
    "build_hists('duration', 'Минуты', 'Количество минут разговора в месяц')\n",
    "\n",
    "duration_metrics = usage_per_month.pivot_table(index = 'tariff', \n",
    "                                               values = 'duration', \n",
    "                                               aggfunc = ['median', 'mean', np.std, np.var])\n",
    "duration_metrics.columns = ['Медиана', 'Среднее', 'Ст. отклонение', 'Дисперсия']\n",
    "\n",
    "duration_metrics"
   ]
  },
  {
   "cell_type": "markdown",
   "metadata": {},
   "source": [
    "По графикам видно следующее:\n",
    "- Оба распределения близки к нормальным симметричным. У графика тарифа ___\"Smart\"___ присутствует незначительная скошенность влево, для ___\"Ultra\"___ - вправо;\n",
    "- Средние значения распределений близки: 419 минут для пользователей тарифа ___\"Smart\"___ , 547 минут - для ___\"Ultra\"___;\n",
    "- Распределение для тарифа ___\"Ultra\"___ имеет намного больший разброс значений, чем ___\"Smart\"___, что заметно и по графику, и по метрикам разброса (стандартному отклонению и дисперсии).\n",
    "\n",
    "Помимо этого интересно отметить, что максимальная суммарная длительность звонков находится в районе 1700 минут, что почти вдвое меньше включенных в тариф ___\"Ultra\"___ 3000 минут. Можно сделать вывод, что лимит по минутам для данного тарифа сильно завышен, и его можно уменьшить. \n",
    "\n",
    "Что же касается тарифа ___\"Smart\"___, то тут лимит (500 минут) установлен правильно и близок к среднему значению соответствующей выборки. Посчитаем ради интереса, как часто пользователи тарифа \"выговаривают\" лимит:"
   ]
  },
  {
   "cell_type": "code",
   "execution_count": 30,
   "metadata": {},
   "outputs": [
    {
     "name": "stdout",
     "output_type": "stream",
     "text": [
      "Это происходит в 34% процентах случаев\n"
     ]
    }
   ],
   "source": [
    "print('Это происходит в {:.0%} процентах случаев'\n",
    "      .format(usage_per_month.query('tariff == \"smart\" and duration > 500').shape[0] / \n",
    "              usage_per_month.query('tariff == \"smart\"').shape[0]))"
   ]
  },
  {
   "cell_type": "markdown",
   "metadata": {},
   "source": [
    "#### 2. Сообщения\n",
    "\n",
    "Построим такие же графики для количества отправленных за месяц сообщений:"
   ]
  },
  {
   "cell_type": "code",
   "execution_count": 31,
   "metadata": {},
   "outputs": [
    {
     "data": {
      "image/png": "[encoded data removed]",
      "text/plain": [
       "<Figure size 720x360 with 1 Axes>"
      ]
     },
     "metadata": {
      "needs_background": "light"
     },
     "output_type": "display_data"
    },
    {
     "data": {
      "text/html": [
       "<div>\n",
       "<style scoped>\n",
       "    .dataframe tbody tr th:only-of-type {\n",
       "        vertical-align: middle;\n",
       "    }\n",
       "\n",
       "    .dataframe tbody tr th {\n",
       "        vertical-align: top;\n",
       "    }\n",
       "\n",
       "    .dataframe thead th {\n",
       "        text-align: right;\n",
       "    }\n",
       "</style>\n",
       "<table border=\"1\" class=\"dataframe\">\n",
       "  <thead>\n",
       "    <tr style=\"text-align: right;\">\n",
       "      <th></th>\n",
       "      <th>Медиана</th>\n",
       "      <th>Среднее</th>\n",
       "      <th>Ст. отклонение</th>\n",
       "      <th>Дисперсия</th>\n",
       "    </tr>\n",
       "    <tr>\n",
       "      <th>tariff</th>\n",
       "      <th></th>\n",
       "      <th></th>\n",
       "      <th></th>\n",
       "      <th></th>\n",
       "    </tr>\n",
       "  </thead>\n",
       "  <tbody>\n",
       "    <tr>\n",
       "      <td>smart</td>\n",
       "      <td>34.0</td>\n",
       "      <td>38.716441</td>\n",
       "      <td>26.787949</td>\n",
       "      <td>717.594201</td>\n",
       "    </tr>\n",
       "    <tr>\n",
       "      <td>ultra</td>\n",
       "      <td>51.0</td>\n",
       "      <td>61.161006</td>\n",
       "      <td>45.931026</td>\n",
       "      <td>2109.659183</td>\n",
       "    </tr>\n",
       "  </tbody>\n",
       "</table>\n",
       "</div>"
      ],
      "text/plain": [
       "        Медиана    Среднее  Ст. отклонение    Дисперсия\n",
       "tariff                                                 \n",
       "smart      34.0  38.716441       26.787949   717.594201\n",
       "ultra      51.0  61.161006       45.931026  2109.659183"
      ]
     },
     "execution_count": 31,
     "metadata": {},
     "output_type": "execute_result"
    }
   ],
   "source": [
    "build_hists('messages', 'Сообщений', 'Количество сообщений в месяц')\n",
    "\n",
    "msg_metrics = usage_per_month.pivot_table(index = 'tariff', \n",
    "                                          values = 'messages', \n",
    "                                          aggfunc = ['median', 'mean', np.std, np.var])\n",
    "msg_metrics.columns = ['Медиана', 'Среднее', 'Ст. отклонение', 'Дисперсия']\n",
    "\n",
    "msg_metrics"
   ]
  },
  {
   "cell_type": "markdown",
   "metadata": {},
   "source": [
    "В среднем пользователи тарифов ___\"Smart\"___ и ___\"Ultra\"___ отправляют по 39 и 61 сообщению в месяц соответственно.\n",
    "При этом, как и в случае со звонками, разброс значений для тарифа ___\"Ultra\"___ больше, чем для ___\"Smart\"___, хоть и не так сильно. Оба графика расположены близко к нулю и имеют значительное количество нулевых значений, из чего можно сделать вывод, что сообщения являются наименее востребованной услугой связи. \n",
    "\n",
    "И опять-таки, лимит тарифа ___\"Ultra\"___ в 1000 сообщений в месяц очень завышен (максимальное число сообщений в месяц - около 230). Что же касается пользователей ___\"Smart\"___, посмотрим, как часто превышают лимит они:"
   ]
  },
  {
   "cell_type": "code",
   "execution_count": 32,
   "metadata": {},
   "outputs": [
    {
     "name": "stdout",
     "output_type": "stream",
     "text": [
      "Это происходит в 25% процентах случаев\n"
     ]
    }
   ],
   "source": [
    "print('Это происходит в {:.0%} процентах случаев'\n",
    "      .format(usage_per_month.query('tariff == \"smart\" and messages > 50').shape[0] / \n",
    "              usage_per_month.query('tariff == \"smart\"').shape[0]))"
   ]
  },
  {
   "cell_type": "markdown",
   "metadata": {},
   "source": [
    "#### 3. Использование интернета\n",
    "\n",
    "Исследуем теперь месячный объем интернет-трафика пользователей:"
   ]
  },
  {
   "cell_type": "code",
   "execution_count": 33,
   "metadata": {},
   "outputs": [
    {
     "data": {
      "image/png": "[encoded data removed]",
      "text/plain": [
       "<Figure size 720x360 with 1 Axes>"
      ]
     },
     "metadata": {
      "needs_background": "light"
     },
     "output_type": "display_data"
    },
    {
     "data": {
      "text/html": [
       "<div>\n",
       "<style scoped>\n",
       "    .dataframe tbody tr th:only-of-type {\n",
       "        vertical-align: middle;\n",
       "    }\n",
       "\n",
       "    .dataframe tbody tr th {\n",
       "        vertical-align: top;\n",
       "    }\n",
       "\n",
       "    .dataframe thead th {\n",
       "        text-align: right;\n",
       "    }\n",
       "</style>\n",
       "<table border=\"1\" class=\"dataframe\">\n",
       "  <thead>\n",
       "    <tr style=\"text-align: right;\">\n",
       "      <th></th>\n",
       "      <th>Медиана</th>\n",
       "      <th>Среднее</th>\n",
       "      <th>Ст. отклонение</th>\n",
       "      <th>Дисперсия</th>\n",
       "    </tr>\n",
       "    <tr>\n",
       "      <th>tariff</th>\n",
       "      <th></th>\n",
       "      <th></th>\n",
       "      <th></th>\n",
       "      <th></th>\n",
       "    </tr>\n",
       "  </thead>\n",
       "  <tbody>\n",
       "    <tr>\n",
       "      <td>smart</td>\n",
       "      <td>16533.0</td>\n",
       "      <td>16243.763359</td>\n",
       "      <td>5860.041941</td>\n",
       "      <td>3.434009e+07</td>\n",
       "    </tr>\n",
       "    <tr>\n",
       "      <td>ultra</td>\n",
       "      <td>19427.5</td>\n",
       "      <td>19706.979466</td>\n",
       "      <td>9937.127298</td>\n",
       "      <td>9.874650e+07</td>\n",
       "    </tr>\n",
       "  </tbody>\n",
       "</table>\n",
       "</div>"
      ],
      "text/plain": [
       "        Медиана       Среднее  Ст. отклонение     Дисперсия\n",
       "tariff                                                     \n",
       "smart   16533.0  16243.763359     5860.041941  3.434009e+07\n",
       "ultra   19427.5  19706.979466     9937.127298  9.874650e+07"
      ]
     },
     "execution_count": 33,
     "metadata": {},
     "output_type": "execute_result"
    }
   ],
   "source": [
    "build_hists('mb_used', 'Мб', 'Объем трафика в месяц')\n",
    "\n",
    "mb_metrics = usage_per_month.pivot_table(index = 'tariff', \n",
    "                                         values = 'mb_used',\n",
    "                                         aggfunc = ['median', 'mean', np.std, np.var])\n",
    "mb_metrics.columns = ['Медиана', 'Среднее', 'Ст. отклонение', 'Дисперсия']\n",
    "\n",
    "mb_metrics"
   ]
  },
  {
   "cell_type": "markdown",
   "metadata": {},
   "source": [
    "Тут мы тоже наблюдаем близкие к нормальным распределения. Для тарифа ___\"Smart\"___ среднее значение равно 16.5 Гб в месяц, для ___\"Ultra\"___ - 19.5 Гб в месяц. Разброс значений у второго тарифа также больше, чем у первого.\n",
    "\n",
    "Посмотрим, как часто пользователи обоих тарифов превышают месячный лимит интернет-трафика:"
   ]
  },
  {
   "cell_type": "code",
   "execution_count": 34,
   "metadata": {},
   "outputs": [
    {
     "name": "stdout",
     "output_type": "stream",
     "text": [
      "\"Smart\" - в 59% процентах случаев\n",
      "\"Ultra\" - в 14% процентах случаев\n"
     ]
    }
   ],
   "source": [
    "print('\"Smart\" - в {:.0%} процентах случаев'\n",
    "      .format(usage_per_month.query('tariff == \"smart\" and mb_used > 15360').shape[0] / \n",
    "              usage_per_month.query('tariff == \"smart\"').shape[0]))\n",
    "print('\"Ultra\" - в {:.0%} процентах случаев'\n",
    "      .format(usage_per_month.query('tariff == \"ultra\" and mb_used > 30720').shape[0] / \n",
    "              usage_per_month.query('tariff == \"ultra\"').shape[0]))"
   ]
  },
  {
   "cell_type": "markdown",
   "metadata": {},
   "source": [
    "Посчитаем, как часто пользователи \"Smart\" в принципе платят больше 550 рублей (ежемесячной абонентской платы):"
   ]
  },
  {
   "cell_type": "code",
   "execution_count": 35,
   "metadata": {},
   "outputs": [
    {
     "name": "stdout",
     "output_type": "stream",
     "text": [
      "Это происходит в 75% процентах случаев\n"
     ]
    }
   ],
   "source": [
    "print('Это происходит в {:.0%} процентах случаев'\n",
    "      .format(usage_per_month.query('tariff == \"smart\" and total_cost > 550').shape[0] / \n",
    "              usage_per_month.query('tariff == \"smart\"').shape[0]))"
   ]
  },
  {
   "cell_type": "markdown",
   "metadata": {},
   "source": [
    "## Вывод\n",
    "По результатам анализа данных выборки можно заключить следующее:\n",
    "1. В среднем пользователям тарифа ___\"Smart\"___ в месяц требуется порядка 419 минут звонков, 39 сообщений и 16.5 гигабайт трафика. Для пользователей ___\"Ultra\"___ эти показатели равны соответственно 548 минут, 61 сообщение и 19.7 Гб.\n",
    "2. Разброс, стандартное отклонение и дисперсия полученных значений у пользователей тарифа ___\"Ultra\"___ больше, чем у пользователей ___\"Smart\"___.\n",
    "3. Пользователи тарифа ___\"Ultra\"___ обычно не переплачивают за услуги связи сверх абонентской платы; лимиты минут и сообщений для этого тарифа в 2 - 4 раза превосходят максимальные зафиксированные значения, лимит по трафику превышается в 14 процентах случаев.\n",
    "4. Для тарифа ___\"Smart\"___, наоборот, выручка часто превышает абонентскую плату;\n",
    "5. Наиболее востребованной услугой является интернет (чаще всего превышается лимит), наименее востребованной - сообщения (лимит превышается редко, много нулевых значений)."
   ]
  },
  {
   "cell_type": "markdown",
   "metadata": {},
   "source": [
    "## Шаг 4. Проверка гипотез\n",
    "\n",
    "#### 1. средняя выручка пользователей тарифов «Ультра» и «Смарт» различается.\n",
    "\n",
    "Проверим данное предположение. Нулевой гипотезой в этом случае будет утверждение:\n",
    "        \n",
    ">__H0:__  _Средняя выручка пользователей тарифа ___\"Smart\"___ равна средней выручке пользователей тарифа ___\"Ultra\"___._\n",
    "   \n",
    "Альтернативной гипотезой будет утверждение:\n",
    "\n",
    ">__H1:__  _Средняя выручка пользователей тарифа ___\"Smart\"___ не равна средней выручке пользователей тарифа ___\"Ultra\"___._\n",
    "\n",
    "Для проверки гипотезы воспользуемся методом `ttest_ind()` из модуля `scipy.stats`: рассчитаем значение __p-value__ и сравним с пороговым. Пороговое значение зададим равным 5 %."
   ]
  },
  {
   "cell_type": "code",
   "execution_count": 37,
   "metadata": {},
   "outputs": [
    {
     "name": "stdout",
     "output_type": "stream",
     "text": [
      "p-значение: 2.7240946993530846e-246\n",
      "Нулевая гипотеза неверна.\n"
     ]
    }
   ],
   "source": [
    "ttest_tariffs = st.ttest_ind(usage_per_month.query('tariff == \"smart\"')['total_cost'],\n",
    "                             usage_per_month.query('tariff == \"ultra\"')['total_cost'],\n",
    "                             equal_var = False)\n",
    "print('p-значение:', ttest_tariffs.pvalue)\n",
    "if ttest_tariffs.pvalue < .05:\n",
    "    print('Нулевая гипотеза неверна.')\n",
    "else:\n",
    "    print('Нулевая гипотеза верна')"
   ]
  },
  {
   "cell_type": "markdown",
   "metadata": {},
   "source": [
    "Исходя из полученного результата можно отвергнуть нулевую гипотезу. Следовательно, наше изначальное предположение, что средняя выручка пользователей двух тарифов различается, подтвердилось. \n",
    "\n",
    "Это ожидаемый результат, если учесть, что, например, выручка пользователей тарифа ___\"Ultra\"___ в принципе не может быть меньше 1950 рублей в месяц, в то время как пользователям ___\"Smart\"___ нужно довольно сильно превысить все лимиты, чтобы достичь такой цифры.\n",
    "\n",
    "#### 2. Cредняя выручка пользователей из Москвы отличается от выручки пользователей из других регионов.\n",
    "\n",
    "В этом случае сформулируем нулевую и альтернативную гипотезы следующим образом:\n",
    "\n",
    ">__H0:__  _Средняя выручка пользователей из Москвы равна средней выручке пользователей из других регионов._\n",
    "   \n",
    "Альтернативной гипотезой будет утверждение:\n",
    "\n",
    ">__H1:__  _Средняя выручка пользователей из Москвы не равна средней выручке пользователей из других регионов._\n",
    "\n",
    "Для начала добавим в таблицу __usage_per_month__ столбец с городом проживания пользователя:"
   ]
  },
  {
   "cell_type": "code",
   "execution_count": 38,
   "metadata": {},
   "outputs": [],
   "source": [
    "usage_per_month['city'] = usage_per_month['user_id'].apply(lambda x: users.loc[x, 'city'])"
   ]
  },
  {
   "cell_type": "markdown",
   "metadata": {},
   "source": [
    "Теперь проверим нашу гипотезу. Пороговое значение, как и в прошлый раз, зададим равным 5 %:"
   ]
  },
  {
   "cell_type": "code",
   "execution_count": 39,
   "metadata": {},
   "outputs": [
    {
     "name": "stdout",
     "output_type": "stream",
     "text": [
      "p-значение:  0.531666503831252\n",
      "Нулевая гипотеза верна\n"
     ]
    }
   ],
   "source": [
    "ttest_city = st.ttest_ind(usage_per_month.query('city == \"Москва\"')['total_cost'],\n",
    "                          usage_per_month.query('city != \"Москва\"')['total_cost'])\n",
    "print('p-значение: ', ttest_city.pvalue)\n",
    "\n",
    "if ttest_city.pvalue < .05:\n",
    "    print('Нулевая гипотеза неверна.')\n",
    "else:\n",
    "    print('Нулевая гипотеза верна')"
   ]
  },
  {
   "cell_type": "markdown",
   "metadata": {},
   "source": [
    "Нулевая гипотеза верна. Таким образом, наше утверждение о том, что средняя выручка пользователей из Москвы отличается от выручки пользователей из других регионов, не подтвердилось. Действительно, нет никаких предпосылок считать, что объем необходимых услуг связи сильно различается от города к городу, соответственно и расходы при равной стоимости тарифов будут схожи.\n",
    "\n",
    "Чтобы еще раз убедиться в этом, сравним графики распределения месячной выручки в Москве и регионах:"
   ]
  },
  {
   "cell_type": "code",
   "execution_count": 41,
   "metadata": {},
   "outputs": [
    {
     "data": {
      "image/png": "[encoded data removed]",
      "text/plain": [
       "<Figure size 720x360 with 1 Axes>"
      ]
     },
     "metadata": {
      "needs_background": "light"
     },
     "output_type": "display_data"
    }
   ],
   "source": [
    "usage_per_month.query('city == \"Москва\"')['total_cost'].plot(kind = 'hist', alpha = 0.5, \n",
    "                                                            density = True, bins = 50)\n",
    "usage_per_month.query('city != \"Москва\"')['total_cost'].plot(kind = 'hist', alpha = 0.5, \n",
    "                                                            density = True, bins = 50)\n",
    "plt.legend(['Москва', 'Прочие'])\n",
    "plt.ylabel('Частота')\n",
    "plt.show()"
   ]
  },
  {
   "cell_type": "markdown",
   "metadata": {},
   "source": [
    "Как можно видеть, графики практически совпадают. "
   ]
  },
  {
   "cell_type": "markdown",
   "metadata": {},
   "source": [
    "## Вывод\n",
    "После проверки выдвинутых гипотез первую (средняя выручка пользователей разных тарифов отличается) можно считать подтвердившейся, вторая (средняя выручка пользователей из Москвы отличается от выручки пользователей из других регионов) оказалась неверна."
   ]
  },
  {
   "cell_type": "markdown",
   "metadata": {},
   "source": [
    "## Общий вывод\n",
    "В данной работе нами был исследована выборка клиентов оператора связи. Мы изучили полученный датасет, заполнили пропуски и обработали ошибочные значения. Далее нами для каждого клиента были рассчитаны по месяцам следующие показатели:\n",
    "- Суммарная продолжительность телефонных разговоров;\n",
    "- Общий интернет-трафик;\n",
    "- Количество отправленных сообщений.   \n",
    "\n",
    "На основании полученных значений произведен рассчет помесячной выручки с каждого клиента.\n",
    "\n",
    "Далее мы исследовали, как различается поведение пользователей различных тарифов. Как и ожидалось, пользователям тарифа ___\"Ultra\"___ в среднем требуется больше минут, мегабайт трафика и сообщений в месяц - средние значения соответствующих показателей выше, чем для тарифа ___\"Smart\"___. В то же время отмечено, что разброс значений в первом тарифе существенно больше, чем во втором.  \n",
    "\n",
    "Также мы увидели, что пользователи ___\"Ultra\"___ редко платят больше абонентской платы, что связано с достаточно высокими лимитами на минуты вызовов, сообщения и интернет в этом тарифе. С другой стороны, расходы пользователей ___\"Smart\"___ в более чем 70 процентах случаев превышают абонентскую плату.   \n",
    "\n",
    "Исходя из полученных распределений также сделан вывод о том, что наиболее востребованной услугой является интернет, а наименее востребованной - отправка сообщений.\n",
    "\n",
    "Наконец, нами были проверены две гипотезы:\n",
    "- средняя выручка пользователей тарифов «Ультра» и «Смарт» различается;\n",
    "- средняя выручка пользователей из Москвы отличается от выручки пользователей из других регионов.\n",
    "\n",
    "Первая гипотеза подтвердилась, что в принципе соответствует нашим ожиданиям. Вторая гипотеза была нами опровергнута, что также не вызвало вопросов.\n"
   ]
  }
 ],
 "metadata": {
  "kernelspec": {
   "display_name": "Python 3",
   "language": "python",
   "name": "python3"
  },
  "language_info": {
   "codemirror_mode": {
    "name": "ipython",
    "version": 3
   },
   "file_extension": ".py",
   "mimetype": "text/x-python",
   "name": "python",
   "nbconvert_exporter": "python",
   "pygments_lexer": "ipython3",
   "version": "3.7.4"
  }
 },
 "nbformat": 4,
 "nbformat_minor": 2
}
