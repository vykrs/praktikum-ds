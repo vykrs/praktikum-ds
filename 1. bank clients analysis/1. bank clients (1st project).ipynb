{
 "cells": [
  {
   "cell_type": "markdown",
   "metadata": {},
   "source": [
    "# Исследование надёжности заёмщиков\n",
    "\n"
   ]
  },
  {
   "cell_type": "markdown",
   "metadata": {},
   "source": [
    "#### Краткое описание проекта\n",
    "\n",
    "Заказчик — кредитный отдел банка. Нужно разобраться, влияет ли семейное положение и количество детей клиента на факт погашения кредита в срок. Входные данные от банка — статистика о платёжеспособности клиентов.\n",
    "\n",
    "Результаты исследования будут учтены при построении модели **кредитного скоринга** — специальной системы, которая оценивает способность потенциального заёмщика вернуть кредит банку.\n",
    "\n",
    "#### Описание входных данных\n",
    "\n",
    "Файл __clients.csv,__ содержащий в табличном виде информацию о клиентах кредитного отдела банка. Таблица содержит следующие столбцы:\n",
    "\n",
    "- children — количество детей в семье\n",
    "- days_employed — общий трудовой стаж в днях\n",
    "- dob_years — возраст клиента в годах\n",
    "- education — уровень образования клиента\n",
    "- education_id — идентификатор уровня образования\n",
    "- family_status — семейное положение\n",
    "- family_status_id — идентификатор семейного положения\n",
    "- gender — пол клиента\n",
    "- income_type — тип занятости\n",
    "- debt — имел ли клиент задолженность по возврату кредитов\n",
    "- total_income — ежемесячный доход\n",
    "- purpose — цель получения кредита\n",
    "\n",
    "#### Формулировка задания\n",
    "\n",
    "Ответить на вопросы:\n",
    "1. Есть ли зависимость между наличием детей и возвратом кредита в срок?\n",
    "2. Есть ли зависимость между семейным положением и возвратом кредита в срок?\n",
    "3. Есть ли зависимость между уровнем дохода и возвратом кредита в срок?\n",
    "4. Как разные цели кредита влияют на его возврат в срок?"
   ]
  },
  {
   "cell_type": "markdown",
   "metadata": {},
   "source": [
    "## План действий\n",
    "\n",
    "1. Открыть полученный файл и изучить общую информацию о таблице;\n",
    "2. Произвести предобработку данных:\n",
    " - Обработку пропусков;\n",
    " - Обработку дубликатов;\n",
    " - Замену типов данных;\n",
    " - Лемматизацию данных\n",
    "3. Выделить различные категории клиентов по интересующим нас признакам (уровень дохода, цель кредита, количество детей, семейное положение);\n",
    "3. Для каждой из категорий рассчитать относительное количество клиентов, имевших задолженность по кредиту, и на основании получившихся показателей сделать вывод о существовании и характере зависимости."
   ]
  },
  {
   "cell_type": "markdown",
   "metadata": {},
   "source": [
    "### Шаг 1. Изучение полученных данных. \n",
    "\n",
    "Сначала импортируем необходимые нам модули."
   ]
  },
  {
   "cell_type": "code",
   "execution_count": 369,
   "metadata": {},
   "outputs": [],
   "source": [
    "%matplotlib inline                                            \n",
    "import pandas as pd                                         \n",
    "from collections import Counter\n",
    "import matplotlib.pyplot as plt\n",
    "import matplotlib\n",
    "matplotlib.rcParams['figure.figsize'] = (15.0, 3.0)"
   ]
  },
  {
   "cell_type": "markdown",
   "metadata": {},
   "source": [
    "Откроем полученный файл и сохраним полученную таблицу в переменную __clients__. Выведем для наглядности первые несколько строк таблицы."
   ]
  },
  {
   "cell_type": "code",
   "execution_count": 370,
   "metadata": {
    "scrolled": false
   },
   "outputs": [
    {
     "data": {
      "text/html": [
       "<div>\n",
       "<style scoped>\n",
       "    .dataframe tbody tr th:only-of-type {\n",
       "        vertical-align: middle;\n",
       "    }\n",
       "\n",
       "    .dataframe tbody tr th {\n",
       "        vertical-align: top;\n",
       "    }\n",
       "\n",
       "    .dataframe thead th {\n",
       "        text-align: right;\n",
       "    }\n",
       "</style>\n",
       "<table border=\"1\" class=\"dataframe\">\n",
       "  <thead>\n",
       "    <tr style=\"text-align: right;\">\n",
       "      <th></th>\n",
       "      <th>children</th>\n",
       "      <th>days_employed</th>\n",
       "      <th>dob_years</th>\n",
       "      <th>education</th>\n",
       "      <th>education_id</th>\n",
       "      <th>family_status</th>\n",
       "      <th>family_status_id</th>\n",
       "      <th>gender</th>\n",
       "      <th>income_type</th>\n",
       "      <th>debt</th>\n",
       "      <th>total_income</th>\n",
       "      <th>purpose</th>\n",
       "    </tr>\n",
       "  </thead>\n",
       "  <tbody>\n",
       "    <tr>\n",
       "      <td>0</td>\n",
       "      <td>1</td>\n",
       "      <td>-8437.673028</td>\n",
       "      <td>42</td>\n",
       "      <td>высшее</td>\n",
       "      <td>0</td>\n",
       "      <td>женат / замужем</td>\n",
       "      <td>0</td>\n",
       "      <td>F</td>\n",
       "      <td>сотрудник</td>\n",
       "      <td>0</td>\n",
       "      <td>253875.639453</td>\n",
       "      <td>покупка жилья</td>\n",
       "    </tr>\n",
       "    <tr>\n",
       "      <td>1</td>\n",
       "      <td>1</td>\n",
       "      <td>-4024.803754</td>\n",
       "      <td>36</td>\n",
       "      <td>среднее</td>\n",
       "      <td>1</td>\n",
       "      <td>женат / замужем</td>\n",
       "      <td>0</td>\n",
       "      <td>F</td>\n",
       "      <td>сотрудник</td>\n",
       "      <td>0</td>\n",
       "      <td>112080.014102</td>\n",
       "      <td>приобретение автомобиля</td>\n",
       "    </tr>\n",
       "    <tr>\n",
       "      <td>2</td>\n",
       "      <td>0</td>\n",
       "      <td>-5623.422610</td>\n",
       "      <td>33</td>\n",
       "      <td>Среднее</td>\n",
       "      <td>1</td>\n",
       "      <td>женат / замужем</td>\n",
       "      <td>0</td>\n",
       "      <td>M</td>\n",
       "      <td>сотрудник</td>\n",
       "      <td>0</td>\n",
       "      <td>145885.952297</td>\n",
       "      <td>покупка жилья</td>\n",
       "    </tr>\n",
       "    <tr>\n",
       "      <td>3</td>\n",
       "      <td>3</td>\n",
       "      <td>-4124.747207</td>\n",
       "      <td>32</td>\n",
       "      <td>среднее</td>\n",
       "      <td>1</td>\n",
       "      <td>женат / замужем</td>\n",
       "      <td>0</td>\n",
       "      <td>M</td>\n",
       "      <td>сотрудник</td>\n",
       "      <td>0</td>\n",
       "      <td>267628.550329</td>\n",
       "      <td>дополнительное образование</td>\n",
       "    </tr>\n",
       "    <tr>\n",
       "      <td>4</td>\n",
       "      <td>0</td>\n",
       "      <td>340266.072047</td>\n",
       "      <td>53</td>\n",
       "      <td>среднее</td>\n",
       "      <td>1</td>\n",
       "      <td>гражданский брак</td>\n",
       "      <td>1</td>\n",
       "      <td>F</td>\n",
       "      <td>пенсионер</td>\n",
       "      <td>0</td>\n",
       "      <td>158616.077870</td>\n",
       "      <td>сыграть свадьбу</td>\n",
       "    </tr>\n",
       "  </tbody>\n",
       "</table>\n",
       "</div>"
      ],
      "text/plain": [
       "   children  days_employed  dob_years education  education_id  \\\n",
       "0         1   -8437.673028         42    высшее             0   \n",
       "1         1   -4024.803754         36   среднее             1   \n",
       "2         0   -5623.422610         33   Среднее             1   \n",
       "3         3   -4124.747207         32   среднее             1   \n",
       "4         0  340266.072047         53   среднее             1   \n",
       "\n",
       "      family_status  family_status_id gender income_type  debt   total_income  \\\n",
       "0   женат / замужем                 0      F   сотрудник     0  253875.639453   \n",
       "1   женат / замужем                 0      F   сотрудник     0  112080.014102   \n",
       "2   женат / замужем                 0      M   сотрудник     0  145885.952297   \n",
       "3   женат / замужем                 0      M   сотрудник     0  267628.550329   \n",
       "4  гражданский брак                 1      F   пенсионер     0  158616.077870   \n",
       "\n",
       "                      purpose  \n",
       "0               покупка жилья  \n",
       "1     приобретение автомобиля  \n",
       "2               покупка жилья  \n",
       "3  дополнительное образование  \n",
       "4             сыграть свадьбу  "
      ]
     },
     "execution_count": 370,
     "metadata": {},
     "output_type": "execute_result"
    }
   ],
   "source": [
    "clients = pd.read_csv('/datasets/data.csv')\n",
    "clients.head()"
   ]
  },
  {
   "cell_type": "markdown",
   "metadata": {},
   "source": [
    "Изучим общую информацию о нашей таблице:"
   ]
  },
  {
   "cell_type": "code",
   "execution_count": 371,
   "metadata": {},
   "outputs": [
    {
     "name": "stdout",
     "output_type": "stream",
     "text": [
      "<class 'pandas.core.frame.DataFrame'>\n",
      "RangeIndex: 21525 entries, 0 to 21524\n",
      "Data columns (total 12 columns):\n",
      "children            21525 non-null int64\n",
      "days_employed       19351 non-null float64\n",
      "dob_years           21525 non-null int64\n",
      "education           21525 non-null object\n",
      "education_id        21525 non-null int64\n",
      "family_status       21525 non-null object\n",
      "family_status_id    21525 non-null int64\n",
      "gender              21525 non-null object\n",
      "income_type         21525 non-null object\n",
      "debt                21525 non-null int64\n",
      "total_income        19351 non-null float64\n",
      "purpose             21525 non-null object\n",
      "dtypes: float64(2), int64(5), object(5)\n",
      "memory usage: 2.0+ MB\n"
     ]
    }
   ],
   "source": [
    "clients.info()"
   ]
  },
  {
   "cell_type": "markdown",
   "metadata": {},
   "source": [
    "Таблица содержит 21525 строк и 12 столбцов. В столбцах указана информация о клиентах: количество детей, трудовой стаж, образование, семейное положение и так далее. Типы данных: целочисленный (__int64__), численный с плавающей точкой (__float64__), строковый (__object__).\n",
    "\n",
    "Посмотрим, какие значения встречаются в столбцах исследуемой таблицы:"
   ]
  },
  {
   "cell_type": "code",
   "execution_count": 372,
   "metadata": {
    "scrolled": false
   },
   "outputs": [
    {
     "name": "stdout",
     "output_type": "stream",
     "text": [
      "Значения в столбце \"children\":\n",
      "От -1 до 20 \n",
      "\n",
      "Значения в столбце \"days_employed\":\n",
      "От -18389 до 401755 \n",
      "\n",
      "Значения в столбце \"dob_years\":\n",
      "От 0 до 75 \n",
      "\n",
      "Значения в столбце \"education\":\n",
      "высшее, среднее, Среднее, СРЕДНЕЕ, ВЫСШЕЕ, неоконченное высшее, начальное, Высшее, НЕОКОНЧЕННОЕ ВЫСШЕЕ, Неоконченное высшее \n",
      "\n",
      "Значения в столбце \"education_id\":\n",
      "От 0 до 4 \n",
      "\n",
      "Значения в столбце \"family_status\":\n",
      "женат / замужем, гражданский брак, вдовец / вдова, в разводе, Не женат / не замужем \n",
      "\n",
      "Значения в столбце \"family_status_id\":\n",
      "От 0 до 4 \n",
      "\n",
      "Значения в столбце \"gender\":\n",
      "F, M, XNA \n",
      "\n",
      "Значения в столбце \"income_type\":\n",
      "сотрудник, пенсионер, компаньон, госслужащий, безработный, предприниматель, студент, в декрете \n",
      "\n",
      "Значения в столбце \"debt\":\n",
      "От 0 до 1 \n",
      "\n",
      "Значения в столбце \"total_income\":\n",
      "От 20667 до 2265604 \n",
      "\n",
      "Значения в столбце \"purpose\":\n",
      "покупка жилья, приобретение автомобиля, дополнительное образование, сыграть свадьбу, операции с жильем, образование, на проведение свадьбы, покупка жилья для семьи, покупка недвижимости, покупка коммерческой недвижимости \n",
      "\n"
     ]
    }
   ],
   "source": [
    "for column in clients.columns:\n",
    "    print('Значения в столбце \"{}\":'.format(column))\n",
    "    try:                 #Конструкция try-except разделяет обработку для разных типов данных \n",
    "        print('От {:.0f} до {:.0f}'.format(clients[column].min(), clients[column].max()), '\\n')#Для чисел выведем диапазон значений\n",
    "    except:\n",
    "        print(', '.join(map(str, clients[column].unique()[:10])), '\\n') #для строковых значений выведем несколько примеров"
   ]
  },
  {
   "cell_type": "markdown",
   "metadata": {},
   "source": [
    "### Вывод"
   ]
  },
  {
   "cell_type": "markdown",
   "metadata": {},
   "source": [
    "Полученная от заказчика таблица содержит 21525 строк и 12 столбцов. Каждая строка соответствует записи о клиенте кредитного отдела банка, для которого указаны различные данные: количество детей, трудовой стаж, образование, семейное положение и прочие. \n",
    "\n",
    "Для решения поставленной задачи нас интересуют данные столбцов __children__ (количество детей), __family_status__ (семейное положение), __total_income__ (ежемесячный доход), __purpose__ (цель получения кредита) и __debt__ (имел ли клиент задолженность по кредиту).\n",
    "\n",
    "При просмотре общих сведений о таблице, а также встречающихся в ней значений выявлены следующие проблемы: \n",
    "+ столбцы __children__, __days_employed__, __dob_years__, __total_income__ - пропуски или недопустимые значения;\n",
    "+ столбцы __days_employed__, __total_income__ - числовые значения в формате float (для удобства анализа и отображения целесообразно перевести в целые числа);\n",
    "+ столбцы __education__, __purpose__ - дубликаты значений, записанные в разных регистрах или формулировках.\n",
    "\n",
    "На следующем шаге мы исследуем найденные нами ошибки и пропуски в данных, попытаемся определить возможные причины их появления, после чего произведем их обработку."
   ]
  },
  {
   "cell_type": "markdown",
   "metadata": {},
   "source": [
    "### Шаг 2. Предобработка данных"
   ]
  },
  {
   "cell_type": "markdown",
   "metadata": {},
   "source": [
    "### 1. Обработка пропусков\n",
    "Сначала избавимся от пропусков данных в интересующих нас столбцах.\n",
    "\n",
    "Начнем со столбца __children__. Пропусков в нем нет, но для некоторых клиентов указаны явно недопустимые значения -1 и 20:"
   ]
  },
  {
   "cell_type": "code",
   "execution_count": 373,
   "metadata": {},
   "outputs": [
    {
     "name": "stdout",
     "output_type": "stream",
     "text": [
      "Количество различных значений столбца children:\n",
      " 0     14149\n",
      " 1      4818\n",
      " 2      2055\n",
      " 3       330\n",
      " 20       76\n",
      "-1        47\n",
      " 4        41\n",
      " 5         9\n",
      "Name: children, dtype: int64\n",
      "\n",
      "Доля записей с недопустимым значением \"children\": 0.6%\n"
     ]
    }
   ],
   "source": [
    "children_distr = clients['children'].value_counts()\n",
    "print('Количество различных значений столбца children:')\n",
    "print(children_distr)\n",
    "print('\\nДоля записей с недопустимым значением \"children\": {:.1%}'.format((children_distr[-1] + children_distr[20])/21525))"
   ]
  },
  {
   "cell_type": "markdown",
   "metadata": {},
   "source": [
    "Как видно, поле __children__ неправильно заполнено менее чем у одного процента клиентов, что не окажет какого-либо ощутимого влияния на наш анализ. \n",
    "\n",
    "Заменим недопустимые значения этого столбца на медианное значение."
   ]
  },
  {
   "cell_type": "code",
   "execution_count": 374,
   "metadata": {},
   "outputs": [
    {
     "data": {
      "text/plain": [
       "0    14272\n",
       "1     4818\n",
       "2     2055\n",
       "3      330\n",
       "4       41\n",
       "5        9\n",
       "Name: children, dtype: int64"
      ]
     },
     "execution_count": 374,
     "metadata": {},
     "output_type": "execute_result"
    }
   ],
   "source": [
    "med_children = clients['children'].median()  #посчитаем медиану\n",
    "clients.loc[(clients['children'] == 20) | (clients['children'] == -1), 'children'] = int(med_children)\n",
    "clients['children'].value_counts()                            #Проверка"
   ]
  },
  {
   "cell_type": "markdown",
   "metadata": {},
   "source": [
    "Далее рассмотрим столбцы __days_employed__ и __total_income__. Как мы увидели на прошлом шаге, в этих столбцах есть пропуски. "
   ]
  },
  {
   "cell_type": "code",
   "execution_count": 375,
   "metadata": {},
   "outputs": [
    {
     "name": "stdout",
     "output_type": "stream",
     "text": [
      "Количество пропущенных значений:\n",
      "days_employed    2174\n",
      "total_income     2174\n",
      "dtype: int64\n"
     ]
    }
   ],
   "source": [
    "print('Количество пропущенных значений:')\n",
    "print(clients[['days_employed','total_income']].isna().sum())"
   ]
  },
  {
   "cell_type": "markdown",
   "metadata": {},
   "source": [
    "Как мы видим, количество пропусков в этих столбцах одинаково. Кроме этого, при просмотре таблицы видно, что пропуски встречаются попарно. Проверим, так ли это для всей таблицы (существуют ли строки, где значение пропущено только в одном из столбцов):"
   ]
  },
  {
   "cell_type": "code",
   "execution_count": 376,
   "metadata": {},
   "outputs": [
    {
     "name": "stdout",
     "output_type": "stream",
     "text": [
      "Таких записей 0\n"
     ]
    }
   ],
   "source": [
    "print('Таких записей',\n",
    "      clients[(clients['total_income'].isna() == True) & (clients['days_employed'].isna() != True)]['debt'].count())"
   ]
  },
  {
   "cell_type": "markdown",
   "metadata": {},
   "source": [
    "Проверим, свойственно ли наличие пропусков в столбце __total_income__ клиентам с определенными типами занятости (например, безработным или студентам):"
   ]
  },
  {
   "cell_type": "code",
   "execution_count": 377,
   "metadata": {},
   "outputs": [
    {
     "name": "stdout",
     "output_type": "stream",
     "text": [
      "Количество пропущенных значений по каждому типу занятости:\n"
     ]
    },
    {
     "data": {
      "text/plain": [
       "income_type\n",
       "госслужащий         147\n",
       "компаньон           508\n",
       "пенсионер           413\n",
       "предприниматель       1\n",
       "сотрудник          1105\n",
       "Name: debt, dtype: int64"
      ]
     },
     "execution_count": 377,
     "metadata": {},
     "output_type": "execute_result"
    }
   ],
   "source": [
    "print('Количество пропущенных значений по каждому типу занятости:')\n",
    "clients[clients['total_income'].isna() == True].groupby('income_type')['debt'].count()"
   ]
  },
  {
   "cell_type": "markdown",
   "metadata": {},
   "source": [
    "Как видно, зависимости от типа занятости не наблюдается. \n",
    "\n",
    "Можно предположить, что пропуски в столбцах __days_employed__ и __total_income__ появляются, когда в базе данных отсутствует информация о трудовой деятельности клиента - в этом случае не сохраняется ни стаж, ни ежемесячный доход."
   ]
  },
  {
   "cell_type": "markdown",
   "metadata": {},
   "source": [
    "Обработаем пропуски в столбце __total_income__. В связи с большим разбросом значений самым разумным видится их заполнение медианными значениями, посчитанными отдельно для каждой категории занятости:   "
   ]
  },
  {
   "cell_type": "code",
   "execution_count": 378,
   "metadata": {},
   "outputs": [
    {
     "name": "stdout",
     "output_type": "stream",
     "text": [
      "Проверка: пропусков в столбце \"total_income\" после обработки: 0\n"
     ]
    }
   ],
   "source": [
    "for i in clients['income_type'].unique():\n",
    "    med = clients.loc[clients['income_type'] == i,'total_income'].median()  #Рассчет медианы для каждой категории\n",
    "    clients.loc[clients['income_type'] == i, 'total_income'] = clients.loc[clients['income_type'] == i,'total_income'].fillna(value=med) #Замена\n",
    "print('Проверка: пропусков в столбце \"total_income\" после обработки:', clients['total_income'].isna().sum())   #Проверка"
   ]
  },
  {
   "cell_type": "markdown",
   "metadata": {},
   "source": [
    "Теперь разберемся со столбцом __days_employed__. Данные о трудовом стаже не нужны для решения нашей задачи, однако беглый просмотр показывает, что его заполнение происходит некорректно (присутствуют нереалистично большие величины, отрицательные значения, пропуски), о чем стоит сообщить заказчику. Посмотрим подробнее на диапазоны значений столбца по типам занятости:"
   ]
  },
  {
   "cell_type": "code",
   "execution_count": 379,
   "metadata": {},
   "outputs": [
    {
     "data": {
      "text/html": [
       "<div>\n",
       "<style scoped>\n",
       "    .dataframe tbody tr th:only-of-type {\n",
       "        vertical-align: middle;\n",
       "    }\n",
       "\n",
       "    .dataframe tbody tr th {\n",
       "        vertical-align: top;\n",
       "    }\n",
       "\n",
       "    .dataframe thead th {\n",
       "        text-align: right;\n",
       "    }\n",
       "</style>\n",
       "<table border=\"1\" class=\"dataframe\">\n",
       "  <thead>\n",
       "    <tr style=\"text-align: right;\">\n",
       "      <th>income_type</th>\n",
       "      <th>безработный</th>\n",
       "      <th>в декрете</th>\n",
       "      <th>госслужащий</th>\n",
       "      <th>компаньон</th>\n",
       "      <th>пенсионер</th>\n",
       "      <th>предприниматель</th>\n",
       "      <th>сотрудник</th>\n",
       "      <th>студент</th>\n",
       "    </tr>\n",
       "  </thead>\n",
       "  <tbody>\n",
       "    <tr>\n",
       "      <td>минимальный стаж</td>\n",
       "      <td>337524.466835</td>\n",
       "      <td>-3296.759962</td>\n",
       "      <td>-15193.032201</td>\n",
       "      <td>-17615.563266</td>\n",
       "      <td>328728.720605</td>\n",
       "      <td>-520.848083</td>\n",
       "      <td>-18388.949901</td>\n",
       "      <td>-578.751554</td>\n",
       "    </tr>\n",
       "    <tr>\n",
       "      <td>максимальный стаж</td>\n",
       "      <td>395302.838654</td>\n",
       "      <td>-3296.759962</td>\n",
       "      <td>-39.954170</td>\n",
       "      <td>-30.195337</td>\n",
       "      <td>401755.400475</td>\n",
       "      <td>-520.848083</td>\n",
       "      <td>-24.141633</td>\n",
       "      <td>-578.751554</td>\n",
       "    </tr>\n",
       "  </tbody>\n",
       "</table>\n",
       "</div>"
      ],
      "text/plain": [
       "income_type          безработный    в декрете   госслужащий     компаньон  \\\n",
       "минимальный стаж   337524.466835 -3296.759962 -15193.032201 -17615.563266   \n",
       "максимальный стаж  395302.838654 -3296.759962    -39.954170    -30.195337   \n",
       "\n",
       "income_type            пенсионер  предприниматель     сотрудник     студент  \n",
       "минимальный стаж   328728.720605      -520.848083 -18388.949901 -578.751554  \n",
       "максимальный стаж  401755.400475      -520.848083    -24.141633 -578.751554  "
      ]
     },
     "execution_count": 379,
     "metadata": {},
     "output_type": "execute_result"
    }
   ],
   "source": [
    "days_distr = clients.pivot_table(index='income_type', values='days_employed', aggfunc=['min', 'max']).transpose()\n",
    "days_distr.index = ['минимальный стаж', 'максимальный стаж']\n",
    "days_distr"
   ]
  },
  {
   "cell_type": "markdown",
   "metadata": {},
   "source": [
    "Можно заметить следующее:\n",
    "+ У всех клиентов-пенсионеров и клиентов-безработных значение величины трудового стажа принимает недопустимые значения (свыше 900 лет);\n",
    "+ Для всех остальных значение трудового стажа указано с отрицательным знаком.\n",
    "\n",
    "Данные наблюдения указывают на ошибку при сборе или сохранении информации: Например, если стаж считается как разность между текущей датой и датой начала трудовой деятельности, отрицательные значения могут возникать, если эти даты по ошибке поменять местами. Для пенсионеров и безработных ошибочные значения могут получаться из-за некорректной обработки программой даты окончания трудовой деятельности.\n",
    "\n",
    "С учетом того, что величина трудового стажа не будет задействоваться в дальнейшем анализе, а также того, что \"выбросы\" характерны только для двух категорий, заменять их на рассчитанные характерные значения мы не будем. Обработаем столбец __days_employed__ следующим образом:\n",
    "1. Поменяем знак у отрицательных значений;\n",
    "2. Выбросы заменим на индикаторную величину 0;\n",
    "3. Пропуски заменим на среднее значение, рассчитанное по каждой категории."
   ]
  },
  {
   "cell_type": "code",
   "execution_count": 380,
   "metadata": {},
   "outputs": [
    {
     "name": "stdout",
     "output_type": "stream",
     "text": [
      "Проверка: пропусков в столбце \"days_employed\": 0\n"
     ]
    }
   ],
   "source": [
    "clients['days_employed'] = clients['days_employed'].abs()                   #берем значения столбца по модулю\n",
    "clients.loc[clients['days_employed'] > (100*365), 'days_employed'] = 0      #меняем слишком большие значения на 0\n",
    "for i in clients['income_type'].unique():\n",
    "    avg_days = clients.loc[clients['income_type'] == i,'days_employed'].mean()  #Рассчет среднего\n",
    "    clients.loc[clients['income_type'] == i, 'days_employed'] = clients.loc[clients['income_type'] == i,'days_employed'].fillna(value=avg_days)\n",
    "print('Проверка: пропусков в столбце \"days_employed\":', clients['days_employed'].isna().sum())"
   ]
  },
  {
   "cell_type": "markdown",
   "metadata": {},
   "source": [
    "Также избавимся от значений 0 в столбце __dob_years__. Заменим его на среднее значение возраста по каждому типу занятости."
   ]
  },
  {
   "cell_type": "code",
   "execution_count": 381,
   "metadata": {},
   "outputs": [
    {
     "name": "stdout",
     "output_type": "stream",
     "text": [
      "Диапазон значений столбца после обработки : 19 - 75\n"
     ]
    }
   ],
   "source": [
    "for i in clients['income_type'].unique():\n",
    "    avg_age = clients.loc[(clients['income_type'] == i) & (clients['dob_years'] != 0),'dob_years'].mean()  #Рассчет среднего\n",
    "    clients.loc[(clients['income_type'] == i) & (clients['dob_years'] == 0), 'dob_years'] = int(avg_age) #Замена\n",
    "print('Диапазон значений столбца после обработки :', clients['dob_years'].min(), '-', clients['dob_years'].max())     #Проверка"
   ]
  },
  {
   "cell_type": "markdown",
   "metadata": {},
   "source": [
    "Наконец, рассмотрим столбец __gender__. Посчитаем количество ошибочных значений (XNA), которые мы выявили на прошлом шаге."
   ]
  },
  {
   "cell_type": "code",
   "execution_count": 382,
   "metadata": {},
   "outputs": [
    {
     "name": "stdout",
     "output_type": "stream",
     "text": [
      "Значений XNA: 1\n"
     ]
    }
   ],
   "source": [
    "print('Значений XNA: {}'.format(clients['gender'].value_counts()['XNA']))"
   ]
  },
  {
   "cell_type": "markdown",
   "metadata": {},
   "source": [
    "Недопустимое значение всего одно. Вероятно, оно возникло в результате ошибки при заполнении соответствующего поля. Для наших задач пол клиента не важен, так что обрабатывать эту запись мы не будем."
   ]
  },
  {
   "cell_type": "markdown",
   "metadata": {},
   "source": [
    "### Вывод"
   ]
  },
  {
   "cell_type": "markdown",
   "metadata": {},
   "source": [
    "Нами обработаны пропуски и недопустимые значения в столбцах полученной таблицы. Причинами возникновения ошибочных значений могут быть:\n",
    "+ отсутствие информации (клиент мог не указать соответствующую информацию при оформлении кредита;\n",
    "+ единичные ошибки при вводе/сохранении/выгрузке информации;\n",
    "\n",
    "Пропуски в столбцах _\"total_income\"_ , _\"dob_years\"_ удалены путем их замены на медиану и среднее значение соответствующей величины, посчитанное для каждого типа занятости. Пропуски в столбце _\"children\"_ заполнены медианой, посчитанной по всей таблице.\n",
    "\n",
    "Также нами обнаружено, что столбец _\"days_employed\"_ содержит большое количество ошибок, связанных, по всей видимости, с неправильным механизмом сохранения информации либо какой-то системной ошибкой, о чем следует сообщить заказчику.\n",
    " "
   ]
  },
  {
   "cell_type": "markdown",
   "metadata": {},
   "source": [
    "### 2. Замена типа данных"
   ]
  },
  {
   "cell_type": "markdown",
   "metadata": {},
   "source": [
    "Столбцы __days_employed__ и __total_income__ имеют вещественный (float64) тип. Остальные численные данные хранятся в формате int64. Указанные типы для наших целей избыточны, а в случае стажа и месячного дохода - бессмысленны.\n",
    "\n",
    "Для удобства расчетов и большей ясности отображения заменим тип данных в этих столбцах на целочисленный без знака:"
   ]
  },
  {
   "cell_type": "code",
   "execution_count": 383,
   "metadata": {},
   "outputs": [
    {
     "data": {
      "text/plain": [
       "children             uint8\n",
       "days_employed       uint16\n",
       "dob_years            uint8\n",
       "education           object\n",
       "education_id         uint8\n",
       "family_status       object\n",
       "family_status_id     uint8\n",
       "gender              object\n",
       "income_type         object\n",
       "debt                 uint8\n",
       "total_income        uint32\n",
       "purpose             object\n",
       "dtype: object"
      ]
     },
     "execution_count": 383,
     "metadata": {},
     "output_type": "execute_result"
    }
   ],
   "source": [
    "clients[['total_income', 'days_employed']] = clients[['total_income', 'days_employed']].astype('uint')\n",
    "\n",
    "for column in clients.columns:\n",
    "    try:\n",
    "        clients[column] = pd.to_numeric(clients[column], downcast='unsigned')\n",
    "    except:\n",
    "        continue\n",
    "\n",
    "clients.dtypes #Проверка"
   ]
  },
  {
   "cell_type": "markdown",
   "metadata": {},
   "source": [
    "### Вывод"
   ]
  },
  {
   "cell_type": "markdown",
   "metadata": {},
   "source": [
    "Для численных данных в таблице использовались типы данных int64 и float64. Для нашего удобства мы заменили их на тип uint (целое число без знака) с использованием функции `Pands.to_numeric`. Засчет использования параметра downcast мы также уменьшили объем используемой памяти. "
   ]
  },
  {
   "cell_type": "markdown",
   "metadata": {},
   "source": [
    "### 3. Обработка дубликатов"
   ]
  },
  {
   "cell_type": "markdown",
   "metadata": {},
   "source": [
    "Столбец __education__ содержит дублированные значения в разных регистрах. Приведем их к одному регистру:"
   ]
  },
  {
   "cell_type": "code",
   "execution_count": 384,
   "metadata": {},
   "outputs": [],
   "source": [
    "clients['education'] = clients['education'].str.lower()"
   ]
  },
  {
   "cell_type": "markdown",
   "metadata": {},
   "source": [
    "В столбцах _\"education\"_ и _\"education_id\"_ содержится идентичная информация, просто в первом случае она представлена в виде строки, а во втором - в виде соответствующего идентификатора. Аналогичная ситуаци со столбцами _\"family_status\"_ и _\"family_status_id\"_ . Для удобства оставим в нашей таблице только идентификаторы, а их расшифровку вынесем в отдельные таблицы-словари:"
   ]
  },
  {
   "cell_type": "code",
   "execution_count": 385,
   "metadata": {},
   "outputs": [
    {
     "data": {
      "text/html": [
       "<div>\n",
       "<style scoped>\n",
       "    .dataframe tbody tr th:only-of-type {\n",
       "        vertical-align: middle;\n",
       "    }\n",
       "\n",
       "    .dataframe tbody tr th {\n",
       "        vertical-align: top;\n",
       "    }\n",
       "\n",
       "    .dataframe thead th {\n",
       "        text-align: right;\n",
       "    }\n",
       "</style>\n",
       "<table border=\"1\" class=\"dataframe\">\n",
       "  <thead>\n",
       "    <tr style=\"text-align: right;\">\n",
       "      <th></th>\n",
       "      <th>education</th>\n",
       "      <th>education_id</th>\n",
       "    </tr>\n",
       "  </thead>\n",
       "  <tbody>\n",
       "    <tr>\n",
       "      <td>0</td>\n",
       "      <td>высшее</td>\n",
       "      <td>0</td>\n",
       "    </tr>\n",
       "    <tr>\n",
       "      <td>1</td>\n",
       "      <td>среднее</td>\n",
       "      <td>1</td>\n",
       "    </tr>\n",
       "    <tr>\n",
       "      <td>2</td>\n",
       "      <td>неоконченное высшее</td>\n",
       "      <td>2</td>\n",
       "    </tr>\n",
       "    <tr>\n",
       "      <td>3</td>\n",
       "      <td>начальное</td>\n",
       "      <td>3</td>\n",
       "    </tr>\n",
       "    <tr>\n",
       "      <td>4</td>\n",
       "      <td>ученая степень</td>\n",
       "      <td>4</td>\n",
       "    </tr>\n",
       "  </tbody>\n",
       "</table>\n",
       "</div>"
      ],
      "text/plain": [
       "             education  education_id\n",
       "0               высшее             0\n",
       "1              среднее             1\n",
       "2  неоконченное высшее             2\n",
       "3            начальное             3\n",
       "4       ученая степень             4"
      ]
     },
     "execution_count": 385,
     "metadata": {},
     "output_type": "execute_result"
    }
   ],
   "source": [
    "edu_dict = clients[['education','education_id']].drop_duplicates().reset_index(drop=True)\n",
    "edu_dict"
   ]
  },
  {
   "cell_type": "code",
   "execution_count": 386,
   "metadata": {},
   "outputs": [
    {
     "data": {
      "text/html": [
       "<div>\n",
       "<style scoped>\n",
       "    .dataframe tbody tr th:only-of-type {\n",
       "        vertical-align: middle;\n",
       "    }\n",
       "\n",
       "    .dataframe tbody tr th {\n",
       "        vertical-align: top;\n",
       "    }\n",
       "\n",
       "    .dataframe thead th {\n",
       "        text-align: right;\n",
       "    }\n",
       "</style>\n",
       "<table border=\"1\" class=\"dataframe\">\n",
       "  <thead>\n",
       "    <tr style=\"text-align: right;\">\n",
       "      <th></th>\n",
       "      <th>family_status</th>\n",
       "      <th>family_status_id</th>\n",
       "    </tr>\n",
       "  </thead>\n",
       "  <tbody>\n",
       "    <tr>\n",
       "      <td>0</td>\n",
       "      <td>женат / замужем</td>\n",
       "      <td>0</td>\n",
       "    </tr>\n",
       "    <tr>\n",
       "      <td>1</td>\n",
       "      <td>гражданский брак</td>\n",
       "      <td>1</td>\n",
       "    </tr>\n",
       "    <tr>\n",
       "      <td>2</td>\n",
       "      <td>вдовец / вдова</td>\n",
       "      <td>2</td>\n",
       "    </tr>\n",
       "    <tr>\n",
       "      <td>3</td>\n",
       "      <td>в разводе</td>\n",
       "      <td>3</td>\n",
       "    </tr>\n",
       "    <tr>\n",
       "      <td>4</td>\n",
       "      <td>Не женат / не замужем</td>\n",
       "      <td>4</td>\n",
       "    </tr>\n",
       "  </tbody>\n",
       "</table>\n",
       "</div>"
      ],
      "text/plain": [
       "           family_status  family_status_id\n",
       "0        женат / замужем                 0\n",
       "1       гражданский брак                 1\n",
       "2         вдовец / вдова                 2\n",
       "3              в разводе                 3\n",
       "4  Не женат / не замужем                 4"
      ]
     },
     "execution_count": 386,
     "metadata": {},
     "output_type": "execute_result"
    }
   ],
   "source": [
    "fam_dict = clients[['family_status', 'family_status_id']].drop_duplicates().reset_index(drop=True)\n",
    "clients.drop(['family_status', 'education'], axis=1, inplace=True)        #уберем столбцы из таблицы\n",
    "fam_dict"
   ]
  },
  {
   "cell_type": "markdown",
   "metadata": {},
   "source": [
    "Теперь проверим нашу таблицу на наличие идентичных строк:"
   ]
  },
  {
   "cell_type": "code",
   "execution_count": 387,
   "metadata": {},
   "outputs": [
    {
     "name": "stdout",
     "output_type": "stream",
     "text": [
      "Дублированных строк: 71\n"
     ]
    }
   ],
   "source": [
    "print('Дублированных строк:', clients.duplicated().sum())"
   ]
  },
  {
   "cell_type": "markdown",
   "metadata": {},
   "source": [
    "Удалим дубликаты с помощью метода `.drop_duplicates()`:"
   ]
  },
  {
   "cell_type": "code",
   "execution_count": 388,
   "metadata": {},
   "outputs": [
    {
     "name": "stdout",
     "output_type": "stream",
     "text": [
      "Проверка: Дублированных строк: 0\n"
     ]
    }
   ],
   "source": [
    "clients = clients.drop_duplicates().reset_index(drop=True)\n",
    "print('Проверка: Дублированных строк:', clients.duplicated().sum())"
   ]
  },
  {
   "cell_type": "markdown",
   "metadata": {},
   "source": [
    "### Вывод"
   ]
  },
  {
   "cell_type": "markdown",
   "metadata": {},
   "source": [
    "В столбце _\"education\"_ присутствовали одинаковые значения, записанные в разных регистрах (например, для клиентов со средним образованием в нем могли встретиться значения \"среднее\", \"Среднее\", \"СРЕДНЕЕ\"). Предполагаем, что возникновение записей такого вида связано с тем, что информация об образовании вводится вручную, вместо того, чтобы выбираться из списка. \n",
    "\n",
    "Столбец приведен к нижнему регистру с помощью метода `.str.lower()`, после чего дубликатов в нем не осталось.\n",
    "\n",
    "После этого мы проверили таблицу на наличие дублированных записей (их оказалось 71) и удалили найденные дубликаты.\n",
    "\n",
    "Одновременно для удобства отбражения мы оставили в нашей таблице только индикаторы образования и семейного положения, выделив соответствующие им значения полей __education__ и __family_status__ в отдельные словари __edu_dict__ и __fam_dict__."
   ]
  },
  {
   "cell_type": "markdown",
   "metadata": {},
   "source": [
    "<font color=blue> Данный пункт исправлен. Здорово."
   ]
  },
  {
   "cell_type": "markdown",
   "metadata": {},
   "source": [
    "### 4. Лемматизация"
   ]
  },
  {
   "cell_type": "markdown",
   "metadata": {},
   "source": [
    "В столбце _\"purpose\"_ указаны цели взятия кредита в разнообразных формулировках. Проведем лемматизацию значений данного столбца."
   ]
  },
  {
   "cell_type": "code",
   "execution_count": 389,
   "metadata": {},
   "outputs": [
    {
     "name": "stdout",
     "output_type": "stream",
     "text": [
      "Столбец \"purpose\" после лемматизации:\n",
      "0                 [покупка,  , жилье, \\n]\n",
      "1       [приобретение,  , автомобиль, \\n]\n",
      "2                 [покупка,  , жилье, \\n]\n",
      "3    [дополнительный,  , образование, \\n]\n",
      "4               [сыграть,  , свадьба, \\n]\n",
      "Name: purpose, dtype: object\n"
     ]
    }
   ],
   "source": [
    "from pymystem3 import Mystem\n",
    "from collections import Counter\n",
    "m = Mystem()\n",
    "clients['purpose'] = clients['purpose'].apply(m.lemmatize)\n",
    "print('Столбец \"purpose\" после лемматизации:')\n",
    "print( clients['purpose'].head())                   #Проверка"
   ]
  },
  {
   "cell_type": "markdown",
   "metadata": {},
   "source": [
    "### Вывод"
   ]
  },
  {
   "cell_type": "markdown",
   "metadata": {},
   "source": [
    "Произведена лемматизация столбца _\"purpose\"_ с использованием метода `.lemmatize()` из модуля Mystem"
   ]
  },
  {
   "cell_type": "markdown",
   "metadata": {},
   "source": [
    "### 5. Категоризация данных\n",
    "Произведем категоризацию данных столбца __total_income__. Сначала оценим распределение ежемесячных доходов клиентов:"
   ]
  },
  {
   "cell_type": "code",
   "execution_count": 390,
   "metadata": {},
   "outputs": [
    {
     "data": {
      "image/png": "[encoded data removed]",
      "text/plain": [
       "<Figure size 1080x216 with 1 Axes>"
      ]
     },
     "metadata": {
      "needs_background": "light"
     },
     "output_type": "display_data"
    }
   ],
   "source": [
    "clients['total_income'].hist(bins=200)\n",
    "plt.show()"
   ]
  },
  {
   "cell_type": "markdown",
   "metadata": {},
   "source": [
    "Как видно по графику, основная масса клиентов имеет ежемесячный доход в районе 50-300 тысяч рублей, а также присутствует длинный \"хвост\" с максимальным значением более 2 миллионов рублей в месяц. Выделим следующие категории:\n",
    "+ менее 100000 руб./месяц;\n",
    "+ 100000 - 125000 руб./месяц;\n",
    "+ 125000 - 150000 руб./месяц;\n",
    "+ 150000 - 175000 руб./месяц;\n",
    "+ 175000 - 225000 руб./месяц;\n",
    "+ 225000 - 300000 руб./месяц;\n",
    "+ более 300000 руб./месяц."
   ]
  },
  {
   "cell_type": "code",
   "execution_count": 407,
   "metadata": {},
   "outputs": [
    {
     "name": "stdout",
     "output_type": "stream",
     "text": [
      "Проверка:\n",
      "   total_income income_cat\n",
      "0        253875  до 300000\n",
      "1        112080  до 125000\n",
      "2        145885  до 150000\n",
      "3        267628  до 300000\n",
      "4        158616  до 175000\n"
     ]
    }
   ],
   "source": [
    "categories_list = ['до 100000', 'до 125000', 'до 150000', 'до 175000', \n",
    "                            'до 225000', 'до 300000', 'свыше 300000']\n",
    "def income_categorizer(income):\n",
    "    margins = [100000, 125000, 150000, 175000, 225000, 300000]\n",
    "    cat = 0\n",
    "    for i in margins:\n",
    "        if income > i:\n",
    "            cat +=1\n",
    "    return(categories_list[cat])\n",
    "clients['income_cat']=clients['total_income'].apply(income_categorizer)\n",
    "print('Проверка:')\n",
    "print(clients[['total_income','income_cat']].head())"
   ]
  },
  {
   "cell_type": "markdown",
   "metadata": {},
   "source": [
    "Теперь произведем категоризацию значений столбца _\"purpose\"_. Посмотрим, какие леммы есть в этом столбце:"
   ]
  },
  {
   "cell_type": "code",
   "execution_count": 392,
   "metadata": {},
   "outputs": [
    {
     "name": "stdout",
     "output_type": "stream",
     "text": [
      "Различные леммы в столбце \"purpose\"\n",
      "[('недвижимость', 6351), ('покупка', 5897), ('жилье', 4460), ('автомобиль', 4306), ('образование', 4013), ('операция', 2604), ('свадьба', 2324), ('строительство', 1878), ('высокий', 1374), ('получение', 1314), ('коммерческий', 1311), ('жилой', 1230), ('сделка', 941), ('дополнительный', 906), ('заниматься', 904), ('проведение', 768), ('сыграть', 765), ('сдача', 651), ('семья', 638), ('собственный', 635), ('ремонт', 607), ('подержанный', 486), ('подержать', 478), ('приобретение', 461), ('профильный', 436)]\n"
     ]
    }
   ],
   "source": [
    "all_lemmas = []\n",
    "clients['purpose'].apply(all_lemmas.extend)  # создадим список всех лемм в столбце\n",
    "all_lemmas = Counter(all_lemmas)\n",
    "for i in list(all_lemmas):\n",
    "    if len(i) < 5:                        #уберем из полученного списка лемм пробелы, знаки перехода строки и предлоги\n",
    "        all_lemmas.pop(i)\n",
    "print('Различные леммы в столбце \"purpose\"')\n",
    "print(all_lemmas.most_common())"
   ]
  },
  {
   "cell_type": "markdown",
   "metadata": {},
   "source": [
    "Мы видим, что все записи по цели кредита можно разделить на следующие категории:\n",
    "+ Ремонт жилья\n",
    "+ Покупка жилья\n",
    "+ Покупка коммерческой недвижимости\n",
    "+ Покупка автомобиля\n",
    "+ Оплата свадебных расходов\n",
    "\n",
    "Добавим к таблице столбец, в котором будет указана категория цели кредита:"
   ]
  },
  {
   "cell_type": "code",
   "execution_count": 393,
   "metadata": {},
   "outputs": [],
   "source": [
    "def cat2(lst):\n",
    "    category_id = 0\n",
    "    categories = [['коммерческая недвижимость','коммерческий'],\n",
    "                  ['жилье', 'недвижимость'], \n",
    "                  ['дополнительное образование', 'дополнительный'],\n",
    "                  ['высшее образование', 'образование'],\n",
    "                  ['ремонт'],\n",
    "                  ['автомобиль'],\n",
    "                  ['свадьба']]\n",
    "    result = ''\n",
    "    for i in categories:\n",
    "        if set(i) & set(lst):\n",
    "            return i[0]\n",
    "clients['purpose_cat'] = clients['purpose'].apply(cat2)\n",
    "clients.drop(['purpose'], axis=1, inplace=True)           #столбец purpose нам больше не понадобится"
   ]
  },
  {
   "cell_type": "markdown",
   "metadata": {},
   "source": [
    "### Вывод"
   ]
  },
  {
   "cell_type": "markdown",
   "metadata": {},
   "source": [
    "Нами произведена категоризация клиентов банка по уровню доходов и по цели взятия кредита."
   ]
  },
  {
   "cell_type": "markdown",
   "metadata": {},
   "source": [
    "---\n",
    "## Комментарий от наставника\n",
    "\n",
    "Тут все хорошо. Верная категоризация.\n",
    "\n",
    "-----"
   ]
  },
  {
   "cell_type": "markdown",
   "metadata": {},
   "source": [
    "### Шаг 3. Анализ полученных данных\n",
    "Для оценки результатов нашего анализа сперва вычислим среднюю долю клиентов, имеющих задолженность по кредиту, для всей таблицы:"
   ]
  },
  {
   "cell_type": "code",
   "execution_count": 398,
   "metadata": {},
   "outputs": [
    {
     "name": "stdout",
     "output_type": "stream",
     "text": [
      "Она составляет 8.12%\n"
     ]
    }
   ],
   "source": [
    "debt_share = clients['debt'].mean()\n",
    "print('Она составляет {:.2%}'.format(debt_share))"
   ]
  },
  {
   "cell_type": "markdown",
   "metadata": {},
   "source": [
    "### 1. Есть ли зависимость между наличием детей и возвратом кредита в срок?"
   ]
  },
  {
   "cell_type": "markdown",
   "metadata": {},
   "source": [
    "Рассмотрим, как изменяется доля клиентов, имевших задолженность по кредиту, в зависимости от количества детей:"
   ]
  },
  {
   "cell_type": "code",
   "execution_count": 395,
   "metadata": {},
   "outputs": [
    {
     "data": {
      "text/html": [
       "<div>\n",
       "<style scoped>\n",
       "    .dataframe tbody tr th:only-of-type {\n",
       "        vertical-align: middle;\n",
       "    }\n",
       "\n",
       "    .dataframe tbody tr th {\n",
       "        vertical-align: top;\n",
       "    }\n",
       "\n",
       "    .dataframe thead th {\n",
       "        text-align: right;\n",
       "    }\n",
       "</style>\n",
       "<table border=\"1\" class=\"dataframe\">\n",
       "  <thead>\n",
       "    <tr style=\"text-align: right;\">\n",
       "      <th></th>\n",
       "      <th>Доля должников</th>\n",
       "      <th>Кол-во должников</th>\n",
       "      <th>Общее кол-во</th>\n",
       "    </tr>\n",
       "    <tr>\n",
       "      <th>children</th>\n",
       "      <th></th>\n",
       "      <th></th>\n",
       "      <th></th>\n",
       "    </tr>\n",
       "  </thead>\n",
       "  <tbody>\n",
       "    <tr>\n",
       "      <td>0</td>\n",
       "      <td>7.54%</td>\n",
       "      <td>1072.0</td>\n",
       "      <td>14214</td>\n",
       "    </tr>\n",
       "    <tr>\n",
       "      <td>1</td>\n",
       "      <td>9.23%</td>\n",
       "      <td>444.0</td>\n",
       "      <td>4808</td>\n",
       "    </tr>\n",
       "    <tr>\n",
       "      <td>2</td>\n",
       "      <td>9.45%</td>\n",
       "      <td>194.0</td>\n",
       "      <td>2052</td>\n",
       "    </tr>\n",
       "    <tr>\n",
       "      <td>3</td>\n",
       "      <td>8.18%</td>\n",
       "      <td>27.0</td>\n",
       "      <td>330</td>\n",
       "    </tr>\n",
       "    <tr>\n",
       "      <td>4</td>\n",
       "      <td>9.76%</td>\n",
       "      <td>4.0</td>\n",
       "      <td>41</td>\n",
       "    </tr>\n",
       "    <tr>\n",
       "      <td>5</td>\n",
       "      <td>0.00%</td>\n",
       "      <td>0.0</td>\n",
       "      <td>9</td>\n",
       "    </tr>\n",
       "  </tbody>\n",
       "</table>\n",
       "</div>"
      ],
      "text/plain": [
       "         Доля должников  Кол-во должников  Общее кол-во\n",
       "children                                               \n",
       "0                 7.54%            1072.0         14214\n",
       "1                 9.23%             444.0          4808\n",
       "2                 9.45%             194.0          2052\n",
       "3                 8.18%              27.0           330\n",
       "4                 9.76%               4.0            41\n",
       "5                 0.00%               0.0             9"
      ]
     },
     "execution_count": 395,
     "metadata": {},
     "output_type": "execute_result"
    }
   ],
   "source": [
    "def pivot(column):\n",
    "    debt_by_column = clients.pivot_table(index=column, values='debt', aggfunc=[lambda x: format(x.mean(), '.2%'), \n",
    "                                                                              'sum', 'count'])\n",
    "    debt_by_column.set_axis(['Доля должников', 'Кол-во должников', 'Общее кол-во'], axis='columns', inplace=True )\n",
    "    return debt_by_column\n",
    "debt_by_children = pivot('children')\n",
    "debt_by_children"
   ]
  },
  {
   "cell_type": "markdown",
   "metadata": {},
   "source": [
    "Для клиентов с 4 и 5 детьми значение доли должников не показательно, поскольку их очень мало (50 записей из 21525).\n",
    "Объединим клиентов с 3, 4 и 5 детьми в категорию \"3 и больше детей\":"
   ]
  },
  {
   "cell_type": "code",
   "execution_count": 396,
   "metadata": {},
   "outputs": [
    {
     "data": {
      "text/html": [
       "<div>\n",
       "<style scoped>\n",
       "    .dataframe tbody tr th:only-of-type {\n",
       "        vertical-align: middle;\n",
       "    }\n",
       "\n",
       "    .dataframe tbody tr th {\n",
       "        vertical-align: top;\n",
       "    }\n",
       "\n",
       "    .dataframe thead th {\n",
       "        text-align: right;\n",
       "    }\n",
       "</style>\n",
       "<table border=\"1\" class=\"dataframe\">\n",
       "  <thead>\n",
       "    <tr style=\"text-align: right;\">\n",
       "      <th></th>\n",
       "      <th>Доля должников</th>\n",
       "      <th>Кол-во должников</th>\n",
       "      <th>Общее кол-во</th>\n",
       "    </tr>\n",
       "    <tr>\n",
       "      <th>children</th>\n",
       "      <th></th>\n",
       "      <th></th>\n",
       "      <th></th>\n",
       "    </tr>\n",
       "  </thead>\n",
       "  <tbody>\n",
       "    <tr>\n",
       "      <td>0</td>\n",
       "      <td>7.54%</td>\n",
       "      <td>1072.0</td>\n",
       "      <td>14214</td>\n",
       "    </tr>\n",
       "    <tr>\n",
       "      <td>1</td>\n",
       "      <td>9.23%</td>\n",
       "      <td>444.0</td>\n",
       "      <td>4808</td>\n",
       "    </tr>\n",
       "    <tr>\n",
       "      <td>2</td>\n",
       "      <td>9.45%</td>\n",
       "      <td>194.0</td>\n",
       "      <td>2052</td>\n",
       "    </tr>\n",
       "    <tr>\n",
       "      <td>3 и больше</td>\n",
       "      <td>8.16%</td>\n",
       "      <td>31.0</td>\n",
       "      <td>380</td>\n",
       "    </tr>\n",
       "  </tbody>\n",
       "</table>\n",
       "</div>"
      ],
      "text/plain": [
       "           Доля должников  Кол-во должников  Общее кол-во\n",
       "children                                                 \n",
       "0                   7.54%            1072.0         14214\n",
       "1                   9.23%             444.0          4808\n",
       "2                   9.45%             194.0          2052\n",
       "3 и больше          8.16%              31.0           380"
      ]
     },
     "execution_count": 396,
     "metadata": {},
     "output_type": "execute_result"
    }
   ],
   "source": [
    "debt_by_children.loc['3 и больше'] = [format(31/380, '.2%'), 31, 380]\n",
    "debt_by_children.drop([3,4,5])"
   ]
  },
  {
   "cell_type": "markdown",
   "metadata": {},
   "source": [
    "Как можно видеть, для клиентов с детьми вероятность наличия задолженности по кредиту\n",
    "Посчитаем, насколько больше вероятность того, что клиенты с детьми будут иметь задолженность по кредиту, относительно бездетных клиентов:"
   ]
  },
  {
   "cell_type": "code",
   "execution_count": 397,
   "metadata": {},
   "outputs": [
    {
     "name": "stdout",
     "output_type": "stream",
     "text": [
      "Для клиентов с 1 ребенком она выше на 22.41%\n",
      "Для клиентов с 2 детьми она выше на 25.33%\n",
      "Для клиентов с 3 и более детьми она выше на 8.22%\n"
     ]
    }
   ],
   "source": [
    "print('Для клиентов с 1 ребенком она выше на {:.2%}'.format((923 - 754)/754))\n",
    "print('Для клиентов с 2 детьми она выше на {:.2%}'.format((945 - 754)/754))\n",
    "print('Для клиентов с 3 и более детьми она выше на {:.2%}'.format((816 - 754)/754))"
   ]
  },
  {
   "cell_type": "markdown",
   "metadata": {},
   "source": [
    "### Вывод\n",
    "Мы видим, что зависимость вероятности возврата кредита от количества детей существует: среди клиентов с 1 - 2 детьми доля должников в среднем больше, чем у бездетных, на 2 процента. Или, говоря относительно, вероятность, что клиенты с 1 - 2 детьми будут иметь задолженность, на 22 - 25 процентов больше, чем у бездетных.\n",
    "\n",
    "Для многодетных же клиентов (3 и более детей) вероятность, что они не вернут кредит в срок, на 8.66% выше, чем у бездетных."
   ]
  },
  {
   "cell_type": "markdown",
   "metadata": {},
   "source": [
    "### 2. Есть ли зависимость между семейным положением и возвратом кредита в срок?\n",
    "\n",
    "Построим аналогичную сводную таблицу для признака __family_status__ :"
   ]
  },
  {
   "cell_type": "code",
   "execution_count": 402,
   "metadata": {},
   "outputs": [
    {
     "data": {
      "text/html": [
       "<div>\n",
       "<style scoped>\n",
       "    .dataframe tbody tr th:only-of-type {\n",
       "        vertical-align: middle;\n",
       "    }\n",
       "\n",
       "    .dataframe tbody tr th {\n",
       "        vertical-align: top;\n",
       "    }\n",
       "\n",
       "    .dataframe thead th {\n",
       "        text-align: right;\n",
       "    }\n",
       "</style>\n",
       "<table border=\"1\" class=\"dataframe\">\n",
       "  <thead>\n",
       "    <tr style=\"text-align: right;\">\n",
       "      <th></th>\n",
       "      <th>Доля должников</th>\n",
       "      <th>Кол-во должников</th>\n",
       "      <th>Общее кол-во</th>\n",
       "      <th>Семейное положение</th>\n",
       "    </tr>\n",
       "    <tr>\n",
       "      <th>family_status_id</th>\n",
       "      <th></th>\n",
       "      <th></th>\n",
       "      <th></th>\n",
       "      <th></th>\n",
       "    </tr>\n",
       "  </thead>\n",
       "  <tbody>\n",
       "    <tr>\n",
       "      <td>0</td>\n",
       "      <td>7.55%</td>\n",
       "      <td>931.0</td>\n",
       "      <td>12339</td>\n",
       "      <td>женат / замужем</td>\n",
       "    </tr>\n",
       "    <tr>\n",
       "      <td>1</td>\n",
       "      <td>9.35%</td>\n",
       "      <td>388.0</td>\n",
       "      <td>4151</td>\n",
       "      <td>гражданский брак</td>\n",
       "    </tr>\n",
       "    <tr>\n",
       "      <td>2</td>\n",
       "      <td>6.57%</td>\n",
       "      <td>63.0</td>\n",
       "      <td>959</td>\n",
       "      <td>вдовец / вдова</td>\n",
       "    </tr>\n",
       "    <tr>\n",
       "      <td>3</td>\n",
       "      <td>7.11%</td>\n",
       "      <td>85.0</td>\n",
       "      <td>1195</td>\n",
       "      <td>в разводе</td>\n",
       "    </tr>\n",
       "    <tr>\n",
       "      <td>4</td>\n",
       "      <td>9.75%</td>\n",
       "      <td>274.0</td>\n",
       "      <td>2810</td>\n",
       "      <td>Не женат / не замужем</td>\n",
       "    </tr>\n",
       "  </tbody>\n",
       "</table>\n",
       "</div>"
      ],
      "text/plain": [
       "                 Доля должников  Кол-во должников  Общее кол-во  \\\n",
       "family_status_id                                                  \n",
       "0                         7.55%             931.0         12339   \n",
       "1                         9.35%             388.0          4151   \n",
       "2                         6.57%              63.0           959   \n",
       "3                         7.11%              85.0          1195   \n",
       "4                         9.75%             274.0          2810   \n",
       "\n",
       "                     Семейное положение  \n",
       "family_status_id                         \n",
       "0                       женат / замужем  \n",
       "1                      гражданский брак  \n",
       "2                        вдовец / вдова  \n",
       "3                             в разводе  \n",
       "4                 Не женат / не замужем  "
      ]
     },
     "execution_count": 402,
     "metadata": {},
     "output_type": "execute_result"
    }
   ],
   "source": [
    "debt_by_fam = pivot('family_status_id')\n",
    "debt_by_fam['Семейное положение'] = fam_dict['family_status']\n",
    "debt_by_fam"
   ]
  },
  {
   "cell_type": "markdown",
   "metadata": {},
   "source": [
    "Самая много численная категория - женатые/замужние клиенты. Рассчитаем, как относительно этой категории изменяется вероятность наличия задолженности:"
   ]
  },
  {
   "cell_type": "code",
   "execution_count": 403,
   "metadata": {},
   "outputs": [
    {
     "name": "stdout",
     "output_type": "stream",
     "text": [
      "Для категории \"неженат/не замужем\" она выше на 29.14%\n",
      "Для категории \"гражданский брак\" она выше на 23.84%\n",
      "Для категории \"в разводе\" она ниже на 5.83%\n",
      "Для категории \"вдовец / вдова\" она ниже на 12.98%\n"
     ]
    }
   ],
   "source": [
    "print('Для категории \"неженат/не замужем\" она выше на {:.2%}'.format((975 - 755)/755))\n",
    "print('Для категории \"гражданский брак\" она выше на {:.2%}'.format((935 - 755)/755))\n",
    "print('Для категории \"в разводе\" она ниже на {:.2%}'.format((755 - 711)/755))\n",
    "print('Для категории \"вдовец / вдова\" она ниже на {:.2%}'.format((755 - 657)/755))"
   ]
  },
  {
   "cell_type": "markdown",
   "metadata": {},
   "source": [
    "### Вывод"
   ]
  },
  {
   "cell_type": "markdown",
   "metadata": {},
   "source": [
    "Зависимость возврата кредита в срок от семейного положения есть. Наименьшее количество должников (6.57%) - среди клиентов, которые указали семейное положение \"Вдовец/вдова\"; больше всего должников среди неженатых/незамужних клиентов, либо клиентов, состоящих в гражданском браке. Интересно, что клиенты, указавшие, что состоят в разводе, имеют задолженности по кредиту в среднем реже, чем все остальные, за исключением вдовцов. "
   ]
  },
  {
   "cell_type": "markdown",
   "metadata": {},
   "source": [
    "### 3. Есть ли зависимость между уровнем дохода и возвратом кредита в срок?\n",
    "Для выделенных нами на предыдущем шаге категорий клиентов по уровню дохода сводная  таблица будет выглядеть так:"
   ]
  },
  {
   "cell_type": "code",
   "execution_count": 408,
   "metadata": {},
   "outputs": [
    {
     "data": {
      "text/html": [
       "<div>\n",
       "<style scoped>\n",
       "    .dataframe tbody tr th:only-of-type {\n",
       "        vertical-align: middle;\n",
       "    }\n",
       "\n",
       "    .dataframe tbody tr th {\n",
       "        vertical-align: top;\n",
       "    }\n",
       "\n",
       "    .dataframe thead th {\n",
       "        text-align: right;\n",
       "    }\n",
       "</style>\n",
       "<table border=\"1\" class=\"dataframe\">\n",
       "  <thead>\n",
       "    <tr style=\"text-align: right;\">\n",
       "      <th></th>\n",
       "      <th>Доля должников</th>\n",
       "      <th>Кол-во должников</th>\n",
       "      <th>Общее кол-во</th>\n",
       "    </tr>\n",
       "    <tr>\n",
       "      <th>income_cat</th>\n",
       "      <th></th>\n",
       "      <th></th>\n",
       "      <th></th>\n",
       "    </tr>\n",
       "  </thead>\n",
       "  <tbody>\n",
       "    <tr>\n",
       "      <td>до 100000</td>\n",
       "      <td>7.93%</td>\n",
       "      <td>354.0</td>\n",
       "      <td>4463</td>\n",
       "    </tr>\n",
       "    <tr>\n",
       "      <td>до 125000</td>\n",
       "      <td>8.78%</td>\n",
       "      <td>289.0</td>\n",
       "      <td>3292</td>\n",
       "    </tr>\n",
       "    <tr>\n",
       "      <td>до 150000</td>\n",
       "      <td>8.66%</td>\n",
       "      <td>335.0</td>\n",
       "      <td>3868</td>\n",
       "    </tr>\n",
       "    <tr>\n",
       "      <td>до 175000</td>\n",
       "      <td>8.35%</td>\n",
       "      <td>255.0</td>\n",
       "      <td>3053</td>\n",
       "    </tr>\n",
       "    <tr>\n",
       "      <td>до 225000</td>\n",
       "      <td>8.02%</td>\n",
       "      <td>241.0</td>\n",
       "      <td>3004</td>\n",
       "    </tr>\n",
       "    <tr>\n",
       "      <td>до 300000</td>\n",
       "      <td>7.03%</td>\n",
       "      <td>161.0</td>\n",
       "      <td>2291</td>\n",
       "    </tr>\n",
       "    <tr>\n",
       "      <td>свыше 300000</td>\n",
       "      <td>7.15%</td>\n",
       "      <td>106.0</td>\n",
       "      <td>1483</td>\n",
       "    </tr>\n",
       "  </tbody>\n",
       "</table>\n",
       "</div>"
      ],
      "text/plain": [
       "             Доля должников  Кол-во должников  Общее кол-во\n",
       "income_cat                                                 \n",
       "до 100000             7.93%             354.0          4463\n",
       "до 125000             8.78%             289.0          3292\n",
       "до 150000             8.66%             335.0          3868\n",
       "до 175000             8.35%             255.0          3053\n",
       "до 225000             8.02%             241.0          3004\n",
       "до 300000             7.03%             161.0          2291\n",
       "свыше 300000          7.15%             106.0          1483"
      ]
     },
     "execution_count": 408,
     "metadata": {},
     "output_type": "execute_result"
    }
   ],
   "source": [
    "debt_by_income = pivot('income_cat')\n",
    "debt_by_income"
   ]
  },
  {
   "cell_type": "markdown",
   "metadata": {},
   "source": [
    "Посчитаем разницу между категориями с самым большим и самым маленьким количеством должников:"
   ]
  },
  {
   "cell_type": "code",
   "execution_count": 410,
   "metadata": {},
   "outputs": [
    {
     "name": "stdout",
     "output_type": "stream",
     "text": [
      "Она составляет 19.93%\n"
     ]
    }
   ],
   "source": [
    "print('Она составляет {:.2%}'.format((878 - 703)/878))"
   ]
  },
  {
   "cell_type": "markdown",
   "metadata": {},
   "source": [
    "### Вывод"
   ]
  },
  {
   "cell_type": "markdown",
   "metadata": {},
   "source": [
    "Как мы видим, зависимость между уровнем дохода и возвратом кредита в срок менее явно выражена, чем для других признаков. Наибольшая часть должников приходится на клиентов с месячным доходом от 100 до 175 тысяч рублей. При дальнейшем росте зарплаты она снижается."
   ]
  },
  {
   "cell_type": "markdown",
   "metadata": {},
   "source": [
    "### 4. Как разные цели кредита влияют на его возврат в срок?"
   ]
  },
  {
   "cell_type": "code",
   "execution_count": 411,
   "metadata": {},
   "outputs": [
    {
     "data": {
      "text/html": [
       "<div>\n",
       "<style scoped>\n",
       "    .dataframe tbody tr th:only-of-type {\n",
       "        vertical-align: middle;\n",
       "    }\n",
       "\n",
       "    .dataframe tbody tr th {\n",
       "        vertical-align: top;\n",
       "    }\n",
       "\n",
       "    .dataframe thead th {\n",
       "        text-align: right;\n",
       "    }\n",
       "</style>\n",
       "<table border=\"1\" class=\"dataframe\">\n",
       "  <thead>\n",
       "    <tr style=\"text-align: right;\">\n",
       "      <th></th>\n",
       "      <th>Доля должников</th>\n",
       "      <th>Кол-во должников</th>\n",
       "      <th>Общее кол-во</th>\n",
       "    </tr>\n",
       "    <tr>\n",
       "      <th>purpose_cat</th>\n",
       "      <th></th>\n",
       "      <th></th>\n",
       "      <th></th>\n",
       "    </tr>\n",
       "  </thead>\n",
       "  <tbody>\n",
       "    <tr>\n",
       "      <td>автомобиль</td>\n",
       "      <td>9.36%</td>\n",
       "      <td>403.0</td>\n",
       "      <td>4306</td>\n",
       "    </tr>\n",
       "    <tr>\n",
       "      <td>высшее образование</td>\n",
       "      <td>9.04%</td>\n",
       "      <td>281.0</td>\n",
       "      <td>3107</td>\n",
       "    </tr>\n",
       "    <tr>\n",
       "      <td>дополнительное образование</td>\n",
       "      <td>9.82%</td>\n",
       "      <td>89.0</td>\n",
       "      <td>906</td>\n",
       "    </tr>\n",
       "    <tr>\n",
       "      <td>жилье</td>\n",
       "      <td>7.19%</td>\n",
       "      <td>683.0</td>\n",
       "      <td>9500</td>\n",
       "    </tr>\n",
       "    <tr>\n",
       "      <td>коммерческая недвижимость</td>\n",
       "      <td>7.55%</td>\n",
       "      <td>99.0</td>\n",
       "      <td>1311</td>\n",
       "    </tr>\n",
       "    <tr>\n",
       "      <td>свадьба</td>\n",
       "      <td>8.00%</td>\n",
       "      <td>186.0</td>\n",
       "      <td>2324</td>\n",
       "    </tr>\n",
       "  </tbody>\n",
       "</table>\n",
       "</div>"
      ],
      "text/plain": [
       "                           Доля должников  Кол-во должников  Общее кол-во\n",
       "purpose_cat                                                              \n",
       "автомобиль                          9.36%             403.0          4306\n",
       "высшее образование                  9.04%             281.0          3107\n",
       "дополнительное образование          9.82%              89.0           906\n",
       "жилье                               7.19%             683.0          9500\n",
       "коммерческая недвижимость           7.55%              99.0          1311\n",
       "свадьба                             8.00%             186.0          2324"
      ]
     },
     "execution_count": 411,
     "metadata": {},
     "output_type": "execute_result"
    }
   ],
   "source": [
    "pivot('purpose_cat')"
   ]
  },
  {
   "cell_type": "markdown",
   "metadata": {},
   "source": [
    "### Вывод"
   ]
  },
  {
   "cell_type": "markdown",
   "metadata": {},
   "source": [
    "Зависимость между целью кредита и возвратом его в срок существует. Наибольшая доля должников - среди клиентов, которые взяли кредит на образование (высшее или дополнительное) и покупку автомобиля. Меньше всего задолженностей у клиентов, которые брали кредит на покупку жилой или коммерческой недвижимости."
   ]
  },
  {
   "cell_type": "markdown",
   "metadata": {},
   "source": [
    "### Шаг 4. Общий вывод"
   ]
  },
  {
   "cell_type": "markdown",
   "metadata": {},
   "source": [
    "Нами проанализирована полученная от заказчика таблица с информацией о клиентах кредитного отдела банка. Задача: определить на основе предоставленных данных, зависит ли наличие задолженности по кредиту у клиента от следующих факторов: \n",
    "+ семейное положение;\n",
    "+ количество детей;\n",
    "+ уровень дохода;\n",
    "+ цель взятия кредита.\n",
    "\n",
    "При просмотре таблицы выявлен ряд проблем с заполнением ее столбцов: пропуски данных, недопустимые значения, дубликаты и нелемматизированные значения, которые были устранены в ходе предобработки данных.\n",
    "\n",
    "После этого нами оценена доля клиентов, имеющих задолженность по кредиту, по каждой из вышеуказанных категорий.\n",
    "В результате мы выяснили следующее:\n",
    "1. Клиенты с детьми в среднем чаще не возвращают кредит в срок, чем клиенты без детей. Особенно это выражено для клиентов с 1 или 2 детьми (доля должников среди них на 22-25 процентов выше, чем у бездетных). Причиной этому можно считать тот факт, что семьи с детьми обычно несут большие ежемесячные расходы, что может сказаться на возможности клиентов вернуть кредитные средства.\n",
    "\n",
    "\n",
    "2. Наблюдается значительный разброс доли клиентов-\"должников\" в зависимости от семейного положения. Больше всего их среди клиентов, не состоящих в браке, либо состоящих в гражданском браке. Для заемщиков, которые указали семейное положение \"вдовец/вдова\" и \"в разводе\", соотношение, наоборот, меньше среднего. Для определения причины такого разброса полученных нами результатов недостаточно. Можно предположить, что состоящим в браке заемщикам проще выплатить в срок долг по кредиту, поскольку в случае необходимости они могут привлечь средства из семейного бюджета, в отличие от холостых; однако это не объясняет показатели для клиентов-\"вдовцов\" и разведенных. Можно предположить, что тут оказывают влияние прочие, неисследованные нами в рамках этого задания факторы - возраст, трудовой стаж и прочие.\n",
    "\n",
    "\n",
    "3. Зависимость вероятности наличия задолженности по кредиту от благосостояния клиента также существует, но она намного менее ярко выражена, чем от прочих рассмотренных факторов: при возрастании ежемесячного дохода доля заемщиков-\"должников\" немного снижается. Предполагаем, что такая картина может быть вызвана тем фактом, что более обеспеченные люди, как правило, берут кредиты на более крупные суммы, в связи с чем вероятность не вернуть требуемые средства в срок остается относительно неизменной.\n",
    "\n",
    "\n",
    "4. Также наблюдается значительная разница в относительном количестве должников по кредиту в зависимости от указанной цели получения средств: самая популярная цель - приобретение жилья (и прочей недвижимости) также является и наиболее безопасной с точки зрения наличия задолженности. Заемщики, которые указали в качестве цели кредита покупку автомобиля или получение образования, наоборот, менее надежны. Как и в п.2, предполагаем, что это связано с другими факторами - возрастом и образованием. "
   ]
  }
 ],
 "metadata": {
  "kernelspec": {
   "display_name": "Python 3",
   "language": "python",
   "name": "python3"
  },
  "language_info": {
   "codemirror_mode": {
    "name": "ipython",
    "version": 3
   },
   "file_extension": ".py",
   "mimetype": "text/x-python",
   "name": "python",
   "nbconvert_exporter": "python",
   "pygments_lexer": "ipython3",
   "version": "3.7.4"
  }
 },
 "nbformat": 4,
 "nbformat_minor": 2
}
