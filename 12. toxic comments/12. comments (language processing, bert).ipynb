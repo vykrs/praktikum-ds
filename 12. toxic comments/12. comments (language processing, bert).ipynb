{
 "cells": [
  {
   "cell_type": "markdown",
   "metadata": {},
   "source": [
    "# Определение токсичности комментариев\n",
    "\n",
    "Необходимо построить модель для поиска токсичных текстовых комментариев. Требуемое значение метрики качества *F1*  - не меньше 0.75. \n",
    "\n",
    "\n",
    "### Описание данных\n",
    "\n",
    "Данные находятся в файле ***toxic_comments.csv***. Столбец **text** в нём содержит текст комментария, а **toxic** — целевой признак."
   ]
  },
  {
   "cell_type": "markdown",
   "metadata": {},
   "source": [
    "# 1. Подготовка"
   ]
  },
  {
   "cell_type": "markdown",
   "metadata": {},
   "source": [
    "Импорт модулей:"
   ]
  },
  {
   "cell_type": "code",
   "execution_count": 104,
   "metadata": {},
   "outputs": [
    {
     "name": "stdout",
     "output_type": "stream",
     "text": [
      "\u001b[38;5;2m✔ Download and installation successful\u001b[0m\r\n",
      "You can now load the model via spacy.load('en_core_web_sm')\r\n",
      "\u001b[38;5;2m✔ Linking successful\u001b[0m\r\n",
      "/home/vykers/anaconda3/envs/p36/lib/python3.6/site-packages/en_core_web_sm -->\r\n",
      "/home/vykers/anaconda3/envs/p36/lib/python3.6/site-packages/spacy/data/en\r\n",
      "You can now load the model via spacy.load('en')\r\n"
     ]
    }
   ],
   "source": [
    "!python -m pip install spacy -q \n",
    "!python -m spacy download en -q\n",
    "!python -m pip install profanityfilter -q\n",
    "!python -m pip install pyspellchecker -q"
   ]
  },
  {
   "cell_type": "code",
   "execution_count": 105,
   "metadata": {},
   "outputs": [],
   "source": [
    "import numpy as np\n",
    "import pandas as pd\n",
    "import re\n",
    "import string\n",
    "import matplotlib\n",
    "import matplotlib.pyplot as plt\n",
    "import seaborn as sns\n",
    "import scipy.sparse as sps\n",
    "import lightgbm as lgb\n",
    "from profanityfilter import ProfanityFilter\n",
    "from spellchecker import SpellChecker\n",
    "\n",
    "from sklearn.feature_extraction.text import TfidfVectorizer\n",
    "from sklearn.model_selection import train_test_split\n",
    "from sklearn.preprocessing import RobustScaler\n",
    "from sklearn.metrics import f1_score\n",
    "from sklearn.linear_model import LogisticRegression\n",
    "\n",
    "import nltk\n",
    "from nltk.tokenize import sent_tokenize, word_tokenize\n",
    "from nltk.corpus import stopwords\n",
    "\n",
    "import spacy\n",
    "spacy.prefer_gpu()\n",
    "nlp = spacy.load('en', disable=['parser', 'ner'])\n",
    "\n",
    "stopwords_ = set(stopwords.words('english'))\n",
    "    \n",
    "R = 10000"
   ]
  },
  {
   "cell_type": "code",
   "execution_count": 106,
   "metadata": {},
   "outputs": [
    {
     "name": "stderr",
     "output_type": "stream",
     "text": [
      "[nltk_data] Downloading package averaged_perceptron_tagger to\n",
      "[nltk_data]     /home/vykers/nltk_data...\n",
      "[nltk_data]   Package averaged_perceptron_tagger is already up-to-\n",
      "[nltk_data]       date!\n",
      "[nltk_data] Downloading package punkt to /home/vykers/nltk_data...\n",
      "[nltk_data]   Package punkt is already up-to-date!\n",
      "[nltk_data] Downloading package wordnet to /home/vykers/nltk_data...\n",
      "[nltk_data]   Package wordnet is already up-to-date!\n"
     ]
    },
    {
     "data": {
      "text/plain": [
       "True"
      ]
     },
     "execution_count": 106,
     "metadata": {},
     "output_type": "execute_result"
    }
   ],
   "source": [
    "nltk.download('averaged_perceptron_tagger')\n",
    "nltk.download('punkt')\n",
    "nltk.download('wordnet')"
   ]
  },
  {
   "cell_type": "markdown",
   "metadata": {},
   "source": [
    "Откроем датасет:"
   ]
  },
  {
   "cell_type": "code",
   "execution_count": 107,
   "metadata": {},
   "outputs": [
    {
     "data": {
      "text/html": [
       "<div>\n",
       "<style scoped>\n",
       "    .dataframe tbody tr th:only-of-type {\n",
       "        vertical-align: middle;\n",
       "    }\n",
       "\n",
       "    .dataframe tbody tr th {\n",
       "        vertical-align: top;\n",
       "    }\n",
       "\n",
       "    .dataframe thead th {\n",
       "        text-align: right;\n",
       "    }\n",
       "</style>\n",
       "<table border=\"1\" class=\"dataframe\">\n",
       "  <thead>\n",
       "    <tr style=\"text-align: right;\">\n",
       "      <th></th>\n",
       "      <th>text</th>\n",
       "      <th>toxic</th>\n",
       "    </tr>\n",
       "  </thead>\n",
       "  <tbody>\n",
       "    <tr>\n",
       "      <th>78757</th>\n",
       "      <td>That's not universally correct. Many non-Chris...</td>\n",
       "      <td>0</td>\n",
       "    </tr>\n",
       "    <tr>\n",
       "      <th>28455</th>\n",
       "      <td>User:Abd is muslim cr@p</td>\n",
       "      <td>1</td>\n",
       "    </tr>\n",
       "    <tr>\n",
       "      <th>146262</th>\n",
       "      <td>January 2010 \\n Please stop your disruptive ed...</td>\n",
       "      <td>0</td>\n",
       "    </tr>\n",
       "    <tr>\n",
       "      <th>49009</th>\n",
       "      <td>I think I've made it clear why I've chosen to ...</td>\n",
       "      <td>1</td>\n",
       "    </tr>\n",
       "    <tr>\n",
       "      <th>147635</th>\n",
       "      <td>Mariana Championship \\n\\nWanted to let you kno...</td>\n",
       "      <td>0</td>\n",
       "    </tr>\n",
       "  </tbody>\n",
       "</table>\n",
       "</div>"
      ],
      "text/plain": [
       "                                                     text  toxic\n",
       "78757   That's not universally correct. Many non-Chris...      0\n",
       "28455                             User:Abd is muslim cr@p      1\n",
       "146262  January 2010 \\n Please stop your disruptive ed...      0\n",
       "49009   I think I've made it clear why I've chosen to ...      1\n",
       "147635  Mariana Championship \\n\\nWanted to let you kno...      0"
      ]
     },
     "execution_count": 107,
     "metadata": {},
     "output_type": "execute_result"
    }
   ],
   "source": [
    "dirname = './datasets/'\n",
    "comments = pd.read_csv(dirname + 'toxic_comments.csv')\n",
    "\n",
    "comments.sample(5, random_state=R)"
   ]
  },
  {
   "cell_type": "markdown",
   "metadata": {},
   "source": [
    "Изучим информацию о таблице:"
   ]
  },
  {
   "cell_type": "code",
   "execution_count": 108,
   "metadata": {},
   "outputs": [
    {
     "name": "stdout",
     "output_type": "stream",
     "text": [
      "<class 'pandas.core.frame.DataFrame'>\n",
      "RangeIndex: 159571 entries, 0 to 159570\n",
      "Data columns (total 2 columns):\n",
      " #   Column  Non-Null Count   Dtype \n",
      "---  ------  --------------   ----- \n",
      " 0   text    159571 non-null  object\n",
      " 1   toxic   159571 non-null  int64 \n",
      "dtypes: int64(1), object(1)\n",
      "memory usage: 2.4+ MB\n"
     ]
    }
   ],
   "source": [
    "comments.info()"
   ]
  },
  {
   "cell_type": "markdown",
   "metadata": {},
   "source": [
    "В таблице 159571 запись, пропусков нет. "
   ]
  },
  {
   "cell_type": "markdown",
   "metadata": {},
   "source": [
    "# 2. Анализ данных\n",
    "\n",
    "### Изучение классов и текстов сообщений:\n",
    "Изучим соотношение классов целевого признака:"
   ]
  },
  {
   "cell_type": "code",
   "execution_count": 109,
   "metadata": {
    "scrolled": true
   },
   "outputs": [
    {
     "data": {
      "image/png": "[encoded data removed]",
      "text/plain": [
       "<Figure size 432x288 with 1 Axes>"
      ]
     },
     "metadata": {
      "needs_background": "light"
     },
     "output_type": "display_data"
    }
   ],
   "source": [
    "sns.countplot(comments['toxic']).set_title('Классы целевого признака')\n",
    "plt.show()"
   ]
  },
  {
   "cell_type": "markdown",
   "metadata": {},
   "source": [
    "Имеется сильный дисбаланс классов - \"токсичных\" записей намного меньше, чем обычных.\n",
    "\n",
    "Посмотрим на несколько примеров для каждого класса:"
   ]
  },
  {
   "cell_type": "code",
   "execution_count": 110,
   "metadata": {},
   "outputs": [
    {
     "name": "stdout",
     "output_type": "stream",
     "text": [
      "Нормальные комментарии:\n",
      "\n",
      "TEXT: \"\n",
      "\n",
      "Endorse. Please take a look at this diff  where David states having anti-Islamic sentiment. In order to cite one example, please take a look at this diff  where he renames \"\"Listed terrorist organisations\"\" to \"\"Islam-inspired listed terrorist organisations\"\".  \" \n",
      "TOXIC: 0\n",
      "\n",
      "TEXT: (personal opinion, but I can't imagine that you would openly lie, given the administration powers). \n",
      "TOXIC: 0\n",
      "\n",
      "TEXT: May 2013 (UTC)\n",
      "No worries.  Is it correct that I ask users for a co-nomination statement?  Just want to be sure I don't inadvertently breach WP:CANVASS.  And would you say there's an appropriate number of co-nominators to seek?  Looking through the past RFAs it seems to range from none to two.  Hope \n",
      "TOXIC: 0\n",
      "\n",
      "TEXT: Re:Disam \n",
      "\n",
      "Why thank you! ) I really appreciate that. Yes, it's all done manually. I never have mastered TWINKLE or any of the other tools. Anyway, I truly appreciate the compliment. It means alot to me. Woohoo! \n",
      "TOXIC: 0\n"
     ]
    }
   ],
   "source": [
    "print('Нормальные комментарии:')\n",
    "for x, y in comments.query('toxic == 0').sample(4, random_state=R).values:\n",
    "    print('\\nTEXT:', x[: 300], '\\nTOXIC:', y)"
   ]
  },
  {
   "cell_type": "code",
   "execution_count": 111,
   "metadata": {},
   "outputs": [
    {
     "name": "stdout",
     "output_type": "stream",
     "text": [
      "Токсичные комментарии:\n",
      "\n",
      "TEXT: The EA Prayer \n",
      "\n",
      "Dear lord, please let EA not fuck this one up, like they fucked up Renegade and Generals... amen. \n",
      "TOXIC: 1\n",
      "\n",
      "TEXT: WIKIBITCH \n",
      "\n",
      "YO LIL PUNKASS AINT SHIT OUT ON DA STREETS NIGGA \n",
      "TOXIC: 1\n",
      "\n",
      "TEXT: NOOOO! \n",
      "\n",
      "How dare you block my best enemy Yesmoredonkeys from Wikipedia? His articles were the best thing there. Now nothing can replace him, not even your ugly face! Now nobody will want to visit Wikipedia, jerk! Now I am going to give you two options: suffer the consequences, or pay the price. Pic \n",
      "TOXIC: 1\n",
      "\n",
      "TEXT: Eric W.Bragg's Surrealism: SIDEWALK STAINS\n",
      "\n",
      "In my lifetime, I have seen some of the most stupidest crap that my eyes have unfortunately seen! However, this tops them all, Eric W.Bragg presents, SIDEWALK STAINS! (I am not making this up):\n",
      "\n",
      "http://www.surrealcoconut.com/surrealism_gallery/Found_Object \n",
      "TOXIC: 1\n"
     ]
    }
   ],
   "source": [
    "print('Токсичные комментарии:')\n",
    "for x, y in comments.query('toxic == 1').sample(4, random_state=R).values:\n",
    "    print('\\nTEXT:', x[: 300], '\\nTOXIC:', y)"
   ]
  },
  {
   "cell_type": "markdown",
   "metadata": {},
   "source": [
    "Можно заметить, что в текстах сообщений присутствуют URL-адреса, юзернеймы, различная капитализация слов, пунктуация и прочие символы.\n",
    "\n",
    "Проанализируем такую величину, как количество символов в тексте комментария:"
   ]
  },
  {
   "cell_type": "code",
   "execution_count": 112,
   "metadata": {},
   "outputs": [
    {
     "data": {
      "image/png": "[encoded data removed]",
      "text/plain": [
       "<Figure size 720x288 with 1 Axes>"
      ]
     },
     "metadata": {
      "needs_background": "light"
     },
     "output_type": "display_data"
    }
   ],
   "source": [
    "comments['n_characters'] = comments['text'].str.len()\n",
    "plt.figure(figsize=(10,4))\n",
    "sns.distplot(comments['n_characters'])\n",
    "plt.show()"
   ]
  },
  {
   "cell_type": "markdown",
   "metadata": {},
   "source": [
    "Можно видеть, что большая часть комментариев не превышает 500 - 1000 знаков. Максимальный размер сообщения равен 5000. Посмотрим ради примера на несколько таких сообщений."
   ]
  },
  {
   "cell_type": "code",
   "execution_count": 113,
   "metadata": {},
   "outputs": [
    {
     "data": {
      "text/plain": [
       "array(['ii CAN STILL POST WITH THIS COMPUTER...I SAID BLOCK ME, COME THE FUCK DOWN HERE AND ARREST ME...SAN DIEGO CALIFORNIA, CHULA VISTA, FUCKING GET YOUR INFORMATION RIGHT FAGGOT SHITHEAD!!i CAN STILL POST WITH THIS COMPUTER...I SAID BLOCK ME, COME THE FUCK DOWN HERE AND ARREST ME...SAN DIEGO CALIFORNIA, ',\n",
       "       'SECURITYFUCK HOMELAND SECURITYFUCK HOMELAND SECURITYFUCK HOMELAND SECURITYFUCK HOMELAND SECURITYFUCK HOMELAND SECURITYFUCK HOMELAND SECURITYFUCK HOMELAND SECURITYFUCK HOMELAND SECURITYFUCK HOMELAND SECURITYFUCK HOMELAND SECURITYFUCK HOMELAND SECURITYFUCK HOMELAND SECURITYFUCK HOMELAND SECURITYFUCK H',\n",
       "       'BALLS BALLS BALLS BALLS BALLS BALLS BALLS BALLS BALLS BALLS BALLS BALLS BALLS BALLS BALLS BALLS BALLS BALLS BALLS BALLS BALLS BALLS BALLS BALLS BALLS BALLS BALLS BALLS BALLS BALLS BALLS BALLS BALLS BALLS BALLS BALLS BALLS BALLS BALLS BALLS BALLS BALLS BALLS BALLS BALLS BALLS BALLS BALLS BALLS BALLS '],\n",
       "      dtype=object)"
      ]
     },
     "execution_count": 113,
     "metadata": {},
     "output_type": "execute_result"
    }
   ],
   "source": [
    "(comments.loc[comments['n_characters'] == 5000, 'text']\n",
    "         .head(3)\n",
    "         .str.slice(0, 300)                          # ограничим вывод\n",
    "         .values)"
   ]
  },
  {
   "cell_type": "markdown",
   "metadata": {},
   "source": [
    "Видим, что в основном такие длинные комментарии являются копипастом одной-двух коротких фраз до достижения лимита знаков. Наличие таких спам-сообщений может повлиять на работу модели (испортить статистику использования различных слов), поэтому далее мы разберемся, как их исправить.\n",
    "\n",
    "Посмотрим также на самые короткие сообщения:"
   ]
  },
  {
   "cell_type": "code",
   "execution_count": 114,
   "metadata": {},
   "outputs": [
    {
     "data": {
      "text/html": [
       "<div>\n",
       "<style scoped>\n",
       "    .dataframe tbody tr th:only-of-type {\n",
       "        vertical-align: middle;\n",
       "    }\n",
       "\n",
       "    .dataframe tbody tr th {\n",
       "        vertical-align: top;\n",
       "    }\n",
       "\n",
       "    .dataframe thead th {\n",
       "        text-align: right;\n",
       "    }\n",
       "</style>\n",
       "<table border=\"1\" class=\"dataframe\">\n",
       "  <thead>\n",
       "    <tr style=\"text-align: right;\">\n",
       "      <th></th>\n",
       "      <th>text</th>\n",
       "      <th>toxic</th>\n",
       "      <th>n_characters</th>\n",
       "    </tr>\n",
       "  </thead>\n",
       "  <tbody>\n",
       "    <tr>\n",
       "      <th>137062</th>\n",
       "      <td>~ J.Lo</td>\n",
       "      <td>0</td>\n",
       "      <td>6</td>\n",
       "    </tr>\n",
       "    <tr>\n",
       "      <th>52442</th>\n",
       "      <td>14:53,</td>\n",
       "      <td>0</td>\n",
       "      <td>6</td>\n",
       "    </tr>\n",
       "    <tr>\n",
       "      <th>109985</th>\n",
       "      <td>{{unbloc</td>\n",
       "      <td>0</td>\n",
       "      <td>8</td>\n",
       "    </tr>\n",
       "    <tr>\n",
       "      <th>121074</th>\n",
       "      <td>you suck</td>\n",
       "      <td>1</td>\n",
       "      <td>8</td>\n",
       "    </tr>\n",
       "    <tr>\n",
       "      <th>118850</th>\n",
       "      <td>FUCK YOU</td>\n",
       "      <td>1</td>\n",
       "      <td>8</td>\n",
       "    </tr>\n",
       "  </tbody>\n",
       "</table>\n",
       "</div>"
      ],
      "text/plain": [
       "            text  toxic  n_characters\n",
       "137062    ~ J.Lo      0             6\n",
       "52442     14:53,      0             6\n",
       "109985  {{unbloc      0             8\n",
       "121074  you suck      1             8\n",
       "118850  FUCK YOU      1             8"
      ]
     },
     "execution_count": 114,
     "metadata": {},
     "output_type": "execute_result"
    }
   ],
   "source": [
    "comments.sort_values('n_characters').head(5)"
   ]
  },
  {
   "cell_type": "markdown",
   "metadata": {},
   "source": [
    "Как видим, среди коротких сообщений есть и бессмысленные, и осмысленные тексты."
   ]
  },
  {
   "cell_type": "markdown",
   "metadata": {},
   "source": [
    "### Создание дополнительных признаков\n",
    "\n",
    "Прежде чем приступить к очистке и векторизации текстов комментариев, попробуем извлечь из них метапризнаки, которые могут коррелировать с классом целевой переменной. В качестве таких признаков предлагается рассмотреть:\n",
    "\n",
    "- Количество слов, предложений и абзацев в комментарии;\n",
    "- Количество слов, набранных капсом;\n",
    "- Количество стоп-слов;\n",
    "- Количество знаков препинания (восклицательных, вопросительных и остальных.\n",
    "\n",
    "Информация об этих признаках пропадет после очистки текста, так что их следует создать заранее. После очистки текста дополнительно выделим следующие признаки:\n",
    "- Количество уникальных слов;\n",
    "- Количество мата;\n",
    "- Количество опечаток.\n",
    "\n",
    "При этом, с учетом большого разброса комментариев по длине, признаки будем нормировать относительно количества знаков:"
   ]
  },
  {
   "cell_type": "code",
   "execution_count": 115,
   "metadata": {},
   "outputs": [],
   "source": [
    "#Слова\n",
    "comments['num_words'] = comments['text'].apply(lambda t: len(t.split()))\n",
    "#Капс\n",
    "comments['n_caps'] = comments['text'].apply(lambda t: sum(1 for c in t if c.isupper()))\n",
    "#Стоп-слова\n",
    "comments['n_stopwords'] = comments['text'].apply(lambda t: sum(t.count(w) for w in set(stopwords_)))\n",
    "#Воскл. знаки\n",
    "comments['n_excl_marks'] = comments['text'].apply(lambda t: t.count('!'))\n",
    "#Вопр. знаки\n",
    "comments['n_q_marks'] = comments['text'].apply(lambda t: t.count('?'))\n",
    "#Пунктуация\n",
    "comments['n_punkt'] = comments['text'].apply(lambda t: sum(t.count(w) for w in string.punctuation))\n",
    "#Абзацы\n",
    "comments['n_paragraphs'] = comments['text'].apply(lambda t: t.count('\\n') + 1)\n",
    "#Предложения\n",
    "comments['n_sentences']=comments[\"text\"].apply(lambda x: len(sent_tokenize(x)))\n",
    "\n",
    "#Нормализация\n",
    "for column in comments.iloc[:, 3:].columns:\n",
    "    comments[column + '_norm'] = comments[column] / comments['n_characters']"
   ]
  },
  {
   "cell_type": "markdown",
   "metadata": {},
   "source": [
    "Посмотрим на таблицу:"
   ]
  },
  {
   "cell_type": "code",
   "execution_count": 116,
   "metadata": {},
   "outputs": [
    {
     "data": {
      "text/html": [
       "<div>\n",
       "<style scoped>\n",
       "    .dataframe tbody tr th:only-of-type {\n",
       "        vertical-align: middle;\n",
       "    }\n",
       "\n",
       "    .dataframe tbody tr th {\n",
       "        vertical-align: top;\n",
       "    }\n",
       "\n",
       "    .dataframe thead th {\n",
       "        text-align: right;\n",
       "    }\n",
       "</style>\n",
       "<table border=\"1\" class=\"dataframe\">\n",
       "  <thead>\n",
       "    <tr style=\"text-align: right;\">\n",
       "      <th></th>\n",
       "      <th>text</th>\n",
       "      <th>toxic</th>\n",
       "      <th>n_characters</th>\n",
       "      <th>num_words</th>\n",
       "      <th>n_caps</th>\n",
       "      <th>n_stopwords</th>\n",
       "      <th>n_excl_marks</th>\n",
       "      <th>n_q_marks</th>\n",
       "      <th>n_punkt</th>\n",
       "      <th>n_paragraphs</th>\n",
       "      <th>n_sentences</th>\n",
       "      <th>num_words_norm</th>\n",
       "      <th>n_caps_norm</th>\n",
       "      <th>n_stopwords_norm</th>\n",
       "      <th>n_excl_marks_norm</th>\n",
       "      <th>n_q_marks_norm</th>\n",
       "      <th>n_punkt_norm</th>\n",
       "      <th>n_paragraphs_norm</th>\n",
       "      <th>n_sentences_norm</th>\n",
       "    </tr>\n",
       "  </thead>\n",
       "  <tbody>\n",
       "    <tr>\n",
       "      <th>0</th>\n",
       "      <td>Explanation\\nWhy the edits made under my usern...</td>\n",
       "      <td>0</td>\n",
       "      <td>264</td>\n",
       "      <td>43</td>\n",
       "      <td>17</td>\n",
       "      <td>143</td>\n",
       "      <td>0</td>\n",
       "      <td>1</td>\n",
       "      <td>10</td>\n",
       "      <td>2</td>\n",
       "      <td>3</td>\n",
       "      <td>0.162879</td>\n",
       "      <td>0.064394</td>\n",
       "      <td>0.541667</td>\n",
       "      <td>0.000000</td>\n",
       "      <td>0.003788</td>\n",
       "      <td>0.037879</td>\n",
       "      <td>0.007576</td>\n",
       "      <td>0.011364</td>\n",
       "    </tr>\n",
       "    <tr>\n",
       "      <th>1</th>\n",
       "      <td>D'aww! He matches this background colour I'm s...</td>\n",
       "      <td>0</td>\n",
       "      <td>112</td>\n",
       "      <td>17</td>\n",
       "      <td>8</td>\n",
       "      <td>41</td>\n",
       "      <td>1</td>\n",
       "      <td>0</td>\n",
       "      <td>12</td>\n",
       "      <td>1</td>\n",
       "      <td>4</td>\n",
       "      <td>0.151786</td>\n",
       "      <td>0.071429</td>\n",
       "      <td>0.366071</td>\n",
       "      <td>0.008929</td>\n",
       "      <td>0.000000</td>\n",
       "      <td>0.107143</td>\n",
       "      <td>0.008929</td>\n",
       "      <td>0.035714</td>\n",
       "    </tr>\n",
       "    <tr>\n",
       "      <th>2</th>\n",
       "      <td>Hey man, I'm really not trying to edit war. It...</td>\n",
       "      <td>0</td>\n",
       "      <td>233</td>\n",
       "      <td>42</td>\n",
       "      <td>4</td>\n",
       "      <td>159</td>\n",
       "      <td>0</td>\n",
       "      <td>0</td>\n",
       "      <td>6</td>\n",
       "      <td>1</td>\n",
       "      <td>3</td>\n",
       "      <td>0.180258</td>\n",
       "      <td>0.017167</td>\n",
       "      <td>0.682403</td>\n",
       "      <td>0.000000</td>\n",
       "      <td>0.000000</td>\n",
       "      <td>0.025751</td>\n",
       "      <td>0.004292</td>\n",
       "      <td>0.012876</td>\n",
       "    </tr>\n",
       "    <tr>\n",
       "      <th>3</th>\n",
       "      <td>\"\\nMore\\nI can't make any real suggestions on ...</td>\n",
       "      <td>0</td>\n",
       "      <td>622</td>\n",
       "      <td>113</td>\n",
       "      <td>11</td>\n",
       "      <td>369</td>\n",
       "      <td>0</td>\n",
       "      <td>0</td>\n",
       "      <td>21</td>\n",
       "      <td>5</td>\n",
       "      <td>4</td>\n",
       "      <td>0.181672</td>\n",
       "      <td>0.017685</td>\n",
       "      <td>0.593248</td>\n",
       "      <td>0.000000</td>\n",
       "      <td>0.000000</td>\n",
       "      <td>0.033762</td>\n",
       "      <td>0.008039</td>\n",
       "      <td>0.006431</td>\n",
       "    </tr>\n",
       "    <tr>\n",
       "      <th>4</th>\n",
       "      <td>You, sir, are my hero. Any chance you remember...</td>\n",
       "      <td>0</td>\n",
       "      <td>67</td>\n",
       "      <td>13</td>\n",
       "      <td>2</td>\n",
       "      <td>36</td>\n",
       "      <td>0</td>\n",
       "      <td>1</td>\n",
       "      <td>5</td>\n",
       "      <td>1</td>\n",
       "      <td>2</td>\n",
       "      <td>0.194030</td>\n",
       "      <td>0.029851</td>\n",
       "      <td>0.537313</td>\n",
       "      <td>0.000000</td>\n",
       "      <td>0.014925</td>\n",
       "      <td>0.074627</td>\n",
       "      <td>0.014925</td>\n",
       "      <td>0.029851</td>\n",
       "    </tr>\n",
       "  </tbody>\n",
       "</table>\n",
       "</div>"
      ],
      "text/plain": [
       "                                                text  toxic  n_characters  \\\n",
       "0  Explanation\\nWhy the edits made under my usern...      0           264   \n",
       "1  D'aww! He matches this background colour I'm s...      0           112   \n",
       "2  Hey man, I'm really not trying to edit war. It...      0           233   \n",
       "3  \"\\nMore\\nI can't make any real suggestions on ...      0           622   \n",
       "4  You, sir, are my hero. Any chance you remember...      0            67   \n",
       "\n",
       "   num_words  n_caps  n_stopwords  n_excl_marks  n_q_marks  n_punkt  \\\n",
       "0         43      17          143             0          1       10   \n",
       "1         17       8           41             1          0       12   \n",
       "2         42       4          159             0          0        6   \n",
       "3        113      11          369             0          0       21   \n",
       "4         13       2           36             0          1        5   \n",
       "\n",
       "   n_paragraphs  n_sentences  num_words_norm  n_caps_norm  n_stopwords_norm  \\\n",
       "0             2            3        0.162879     0.064394          0.541667   \n",
       "1             1            4        0.151786     0.071429          0.366071   \n",
       "2             1            3        0.180258     0.017167          0.682403   \n",
       "3             5            4        0.181672     0.017685          0.593248   \n",
       "4             1            2        0.194030     0.029851          0.537313   \n",
       "\n",
       "   n_excl_marks_norm  n_q_marks_norm  n_punkt_norm  n_paragraphs_norm  \\\n",
       "0           0.000000        0.003788      0.037879           0.007576   \n",
       "1           0.008929        0.000000      0.107143           0.008929   \n",
       "2           0.000000        0.000000      0.025751           0.004292   \n",
       "3           0.000000        0.000000      0.033762           0.008039   \n",
       "4           0.000000        0.014925      0.074627           0.014925   \n",
       "\n",
       "   n_sentences_norm  \n",
       "0          0.011364  \n",
       "1          0.035714  \n",
       "2          0.012876  \n",
       "3          0.006431  \n",
       "4          0.029851  "
      ]
     },
     "execution_count": 116,
     "metadata": {},
     "output_type": "execute_result"
    }
   ],
   "source": [
    "comments.head()"
   ]
  },
  {
   "cell_type": "markdown",
   "metadata": {},
   "source": [
    "### Очистка текста\n",
    "\n",
    "Очистим текст сообщений от знаков препинания, ссылок, юзернеймов и прочих ненужных символов. Определим функцию clean_text:"
   ]
  },
  {
   "cell_type": "code",
   "execution_count": 117,
   "metadata": {},
   "outputs": [
    {
     "name": "stdout",
     "output_type": "stream",
     "text": [
      "Проверка: до очистки: <b>User:john should CHECK out http://www.ya.ru 😀!!!\n",
      "It's cool</b>\n",
      "\n",
      "После очистки: should check out it cool\n"
     ]
    }
   ],
   "source": [
    "def clean_text(text):\n",
    "    \n",
    "    username_pattern = re.compile(r'user\\S*')                 #юзернеймы\n",
    "    url_pattern = re.compile(r'https?://\\S+|www\\.\\S+')        #ссылки\n",
    "    html_tag_pattern = re.compile(r'<.*?>')                   #html-тэги\n",
    "    char_pattern = re.compile(r'[^a-z]')                      #все, кроме латинских букв\n",
    "    for pattern in [username_pattern, url_pattern, html_tag_pattern, char_pattern]:\n",
    "        text = pattern.sub(r' ',text.lower())\n",
    "    return ' '.join([w for w in text.split() if (1 < len(w) < 25)]) #ограничим длину слов\n",
    "\n",
    "#Проверка\n",
    "example = \"<b>User:john should CHECK out http://www.hh.ru \\U0001F600!!!\\nIt's cool</b>\"\n",
    "print('Проверка: до очистки:', example)\n",
    "print('\\nПосле очистки:', clean_text(example))"
   ]
  },
  {
   "cell_type": "markdown",
   "metadata": {},
   "source": [
    "Применим функцию clean_text к столбцу с комментариями:"
   ]
  },
  {
   "cell_type": "code",
   "execution_count": 118,
   "metadata": {},
   "outputs": [],
   "source": [
    "comments['clean_text'] = comments['text'].apply(clean_text)\n",
    "comments.drop(columns=['text'], inplace=True)"
   ]
  },
  {
   "cell_type": "markdown",
   "metadata": {},
   "source": [
    "Прежде чем продолжить, выделим еще несколько признаков: количество уникальных слов, мата и опечаток:"
   ]
  },
  {
   "cell_type": "code",
   "execution_count": 119,
   "metadata": {},
   "outputs": [],
   "source": [
    "#Уникальные слова\n",
    "comments['n_unique_words'] = comments['clean_text'].apply(lambda t: len(set(w for w in t.split())))\n",
    "comments['unique_words_norm'] = comments['n_unique_words'] / comments['n_characters']"
   ]
  },
  {
   "cell_type": "markdown",
   "metadata": {},
   "source": [
    "Для мата воспользуемся словарем из модуля ProfanityFilter:"
   ]
  },
  {
   "cell_type": "code",
   "execution_count": 120,
   "metadata": {},
   "outputs": [],
   "source": [
    "#Мат\n",
    "pf = ProfanityFilter()\n",
    "badwords = set(x.lower() for x in pf.get_profane_words())\n",
    "\n",
    "comments['n_profanities'] = comments['clean_text'].apply(lambda t: len([w for w in t.split() if w in badwords]))\n",
    "comments['prof_norm'] = comments['n_profanities'] / comments['n_characters']"
   ]
  },
  {
   "cell_type": "markdown",
   "metadata": {},
   "source": [
    "Для подсчета опечаток используем модуль pyspellchecker. Исправлять опечатки не будем (функция correct на нашем датасете работает слишком долго):"
   ]
  },
  {
   "cell_type": "code",
   "execution_count": 121,
   "metadata": {},
   "outputs": [],
   "source": [
    "#Опечатки\n",
    "sc = SpellChecker()\n",
    "\n",
    "comments['n_typos'] = comments['clean_text'].apply(lambda t: len(sc.unknown(t.split())))\n",
    "comments['typos_norm'] = comments['n_typos'] / comments['n_characters']"
   ]
  },
  {
   "cell_type": "markdown",
   "metadata": {},
   "source": [
    "На основании количества уникальных слов произведем обрезку спам-комментов. Спамом будем считать комментарии, у которых большая длина, а количество уникальных слов мало:"
   ]
  },
  {
   "cell_type": "code",
   "execution_count": 122,
   "metadata": {},
   "outputs": [
    {
     "name": "stdout",
     "output_type": "stream",
     "text": [
      "['hi wikipedia hi wikipedia hi wikipedia hi wikipedia hi wikipedia hi wikipedia hi wikipedia hi wikipedia hi wikipedia hi wikipedia hi wikipedia hi wikipedia hi wikipedia hi wikipedia hi wikipedia hi wikipedia hi wikipedia hi wikipedia hi wikipedia hi wikipedia hi wikipedia hi wikipedia hi wikipedia h']\n",
      "\n",
      " ['hi wikipedia hi wikipedia']\n"
     ]
    }
   ],
   "source": [
    "def spam_trimmer(inp):\n",
    "    text, n_unique, unique_norm = inp.values\n",
    "    if 0 < unique_norm < 0.02:            # значение 0.02 подобрано опытным путем                   \n",
    "        text = ' '.join(text.split()[0: 2 * n_unique])\n",
    "    return text\n",
    "#Проверка\n",
    "print(comments.query('0 < unique_words_norm < 0.02').tail(1)['clean_text'].str.slice(0, 300).values)\n",
    "print('\\n', comments.query('0 < unique_words_norm < 0.02').tail(1)\n",
    "      [['clean_text', 'n_unique_words', 'unique_words_norm']].apply(spam_trimmer, axis=1).values)"
   ]
  },
  {
   "cell_type": "markdown",
   "metadata": {},
   "source": [
    "Применим функцию к тексту:"
   ]
  },
  {
   "cell_type": "code",
   "execution_count": 123,
   "metadata": {
    "scrolled": true
   },
   "outputs": [],
   "source": [
    "comments['clean_text'] = (comments[['clean_text', 'n_unique_words', 'unique_words_norm']]\n",
    "                          .apply(spam_trimmer, axis=1))"
   ]
  },
  {
   "cell_type": "markdown",
   "metadata": {},
   "source": [
    "### Изучение признаков\n",
    "\n",
    "Мы создали большое количество дополнительных признаков. Посмотрим, как они коррелируют с целевой переменной, и на основании этого отберем из них самые важные:"
   ]
  },
  {
   "cell_type": "code",
   "execution_count": 124,
   "metadata": {},
   "outputs": [
    {
     "data": {
      "image/png": "[encoded data removed]",
      "text/plain": [
       "<Figure size 216x720 with 2 Axes>"
      ]
     },
     "metadata": {
      "needs_background": "light"
     },
     "output_type": "display_data"
    }
   ],
   "source": [
    "new_features = comments.drop(columns = ['clean_text', 'toxic']).columns\n",
    "\n",
    "correlations = [comments[f].corr(comments['toxic']) for f in new_features]\n",
    "correlations = pd.DataFrame(index = new_features, data = correlations).sort_values(0)\n",
    "\n",
    "plt.figure(figsize=(3,10))\n",
    "sns.heatmap(correlations, annot=True, vmin=-0.25, vmax=0.25, center=0.0)\n",
    "plt.show()"
   ]
  },
  {
   "cell_type": "markdown",
   "metadata": {},
   "source": [
    "Видим следующее:\n",
    "1. Корреляция с нормированными признаками проявляется сильнее, чем с обычными, что логично, учитывая большую разницу в длине комментариев;\n",
    "2. Наиболее сильно целевой признак связан с количеством ругательств и количеством слов, набранных капсом (что вполне логично). Также положительная корреляция присутствует с относительным количеством восклицательных знаков, предложений и абзацев;\n",
    "3. Отрицательная корреляция выявлена с количеством стоп-слов и, в меньшей степени, уникальных слов.\n",
    "\n",
    "Оставим только те признаки, у которых коэффициент корреляции по модулю не меньше 0.09:"
   ]
  },
  {
   "cell_type": "code",
   "execution_count": 125,
   "metadata": {
    "scrolled": true
   },
   "outputs": [
    {
     "data": {
      "text/plain": [
       "(159571, 13)"
      ]
     },
     "execution_count": 125,
     "metadata": {},
     "output_type": "execute_result"
    }
   ],
   "source": [
    "comments = comments.drop(columns=correlations.loc[abs(correlations[0]) < 0.09].index)\n",
    "comments.shape"
   ]
  },
  {
   "cell_type": "code",
   "execution_count": 126,
   "metadata": {},
   "outputs": [],
   "source": [
    "comments.to_csv('comments_after_cleaning.csv', index=False) #Промежуточное сохранение\n",
    "# comments = pd.read_csv('comments_after_cleaning.csv')"
   ]
  },
  {
   "cell_type": "markdown",
   "metadata": {},
   "source": [
    "Перед тем, как переходить к лемматизации текста и рассчету TF/IDF, проверим, нет ли комментариев, у которых в поле **clean_text** после всех преобразований ничего не осталось:"
   ]
  },
  {
   "cell_type": "code",
   "execution_count": 127,
   "metadata": {},
   "outputs": [
    {
     "data": {
      "text/html": [
       "<div>\n",
       "<style scoped>\n",
       "    .dataframe tbody tr th:only-of-type {\n",
       "        vertical-align: middle;\n",
       "    }\n",
       "\n",
       "    .dataframe tbody tr th {\n",
       "        vertical-align: top;\n",
       "    }\n",
       "\n",
       "    .dataframe thead th {\n",
       "        text-align: right;\n",
       "    }\n",
       "</style>\n",
       "<table border=\"1\" class=\"dataframe\">\n",
       "  <thead>\n",
       "    <tr style=\"text-align: right;\">\n",
       "      <th></th>\n",
       "      <th>toxic</th>\n",
       "      <th>num_words_norm</th>\n",
       "      <th>n_caps_norm</th>\n",
       "      <th>n_stopwords_norm</th>\n",
       "      <th>n_excl_marks_norm</th>\n",
       "      <th>n_paragraphs_norm</th>\n",
       "      <th>n_sentences_norm</th>\n",
       "      <th>clean_text</th>\n",
       "      <th>n_unique_words</th>\n",
       "      <th>unique_words_norm</th>\n",
       "      <th>n_profanities</th>\n",
       "      <th>prof_norm</th>\n",
       "      <th>typos_norm</th>\n",
       "    </tr>\n",
       "  </thead>\n",
       "  <tbody>\n",
       "    <tr>\n",
       "      <th>1490</th>\n",
       "      <td>0</td>\n",
       "      <td>0.200000</td>\n",
       "      <td>0.023077</td>\n",
       "      <td>0.200000</td>\n",
       "      <td>0.0</td>\n",
       "      <td>0.030769</td>\n",
       "      <td>0.007692</td>\n",
       "      <td></td>\n",
       "      <td>0</td>\n",
       "      <td>0.0</td>\n",
       "      <td>0</td>\n",
       "      <td>0.0</td>\n",
       "      <td>0.0</td>\n",
       "    </tr>\n",
       "    <tr>\n",
       "      <th>4482</th>\n",
       "      <td>0</td>\n",
       "      <td>0.171875</td>\n",
       "      <td>0.000000</td>\n",
       "      <td>0.000000</td>\n",
       "      <td>0.0</td>\n",
       "      <td>0.328125</td>\n",
       "      <td>0.015625</td>\n",
       "      <td></td>\n",
       "      <td>0</td>\n",
       "      <td>0.0</td>\n",
       "      <td>0</td>\n",
       "      <td>0.0</td>\n",
       "      <td>0.0</td>\n",
       "    </tr>\n",
       "    <tr>\n",
       "      <th>6063</th>\n",
       "      <td>1</td>\n",
       "      <td>0.521739</td>\n",
       "      <td>0.000000</td>\n",
       "      <td>0.173913</td>\n",
       "      <td>0.0</td>\n",
       "      <td>0.043478</td>\n",
       "      <td>0.043478</td>\n",
       "      <td></td>\n",
       "      <td>0</td>\n",
       "      <td>0.0</td>\n",
       "      <td>0</td>\n",
       "      <td>0.0</td>\n",
       "      <td>0.0</td>\n",
       "    </tr>\n",
       "    <tr>\n",
       "      <th>6193</th>\n",
       "      <td>0</td>\n",
       "      <td>0.028169</td>\n",
       "      <td>0.000000</td>\n",
       "      <td>0.281690</td>\n",
       "      <td>0.0</td>\n",
       "      <td>0.014085</td>\n",
       "      <td>0.014085</td>\n",
       "      <td></td>\n",
       "      <td>0</td>\n",
       "      <td>0.0</td>\n",
       "      <td>0</td>\n",
       "      <td>0.0</td>\n",
       "      <td>0.0</td>\n",
       "    </tr>\n",
       "    <tr>\n",
       "      <th>6300</th>\n",
       "      <td>0</td>\n",
       "      <td>0.100000</td>\n",
       "      <td>0.000000</td>\n",
       "      <td>0.000000</td>\n",
       "      <td>0.0</td>\n",
       "      <td>0.050000</td>\n",
       "      <td>0.050000</td>\n",
       "      <td></td>\n",
       "      <td>0</td>\n",
       "      <td>0.0</td>\n",
       "      <td>0</td>\n",
       "      <td>0.0</td>\n",
       "      <td>0.0</td>\n",
       "    </tr>\n",
       "  </tbody>\n",
       "</table>\n",
       "</div>"
      ],
      "text/plain": [
       "      toxic  num_words_norm  n_caps_norm  n_stopwords_norm  n_excl_marks_norm  \\\n",
       "1490      0        0.200000     0.023077          0.200000                0.0   \n",
       "4482      0        0.171875     0.000000          0.000000                0.0   \n",
       "6063      1        0.521739     0.000000          0.173913                0.0   \n",
       "6193      0        0.028169     0.000000          0.281690                0.0   \n",
       "6300      0        0.100000     0.000000          0.000000                0.0   \n",
       "\n",
       "      n_paragraphs_norm  n_sentences_norm clean_text  n_unique_words  \\\n",
       "1490           0.030769          0.007692                          0   \n",
       "4482           0.328125          0.015625                          0   \n",
       "6063           0.043478          0.043478                          0   \n",
       "6193           0.014085          0.014085                          0   \n",
       "6300           0.050000          0.050000                          0   \n",
       "\n",
       "      unique_words_norm  n_profanities  prof_norm  typos_norm  \n",
       "1490                0.0              0        0.0         0.0  \n",
       "4482                0.0              0        0.0         0.0  \n",
       "6063                0.0              0        0.0         0.0  \n",
       "6193                0.0              0        0.0         0.0  \n",
       "6300                0.0              0        0.0         0.0  "
      ]
     },
     "execution_count": 127,
     "metadata": {},
     "output_type": "execute_result"
    }
   ],
   "source": [
    "comments.loc[comments['clean_text'] == ''].head()"
   ]
  },
  {
   "cell_type": "markdown",
   "metadata": {},
   "source": [
    "Такие записи есть (в них содержались либо URL-адреса, либо числа, символы и отдельные буквы, которые мы удалили). Чтобы избежать ошибок в дальнейшем, заполним пропуски в поле **clean_text** значением \"no_text\"."
   ]
  },
  {
   "cell_type": "code",
   "execution_count": 128,
   "metadata": {},
   "outputs": [],
   "source": [
    "comments.loc[comments['clean_text'] == '', 'clean_text'] = 'no_text'"
   ]
  },
  {
   "cell_type": "markdown",
   "metadata": {},
   "source": [
    "### Лемматизация\n",
    "Произведем лемматизацию текста с использованием библиотеки spaCy. Определим функцию lemmatize_text:"
   ]
  },
  {
   "cell_type": "code",
   "execution_count": 129,
   "metadata": {},
   "outputs": [
    {
     "name": "stdout",
     "output_type": "stream",
     "text": [
      "hey man really not trying to edit war it just that this guy is constantly removing relevant information and talking to me through edits instead of my talk page he seems to care more about the formatting than the actual info \n",
      "\n",
      "hey man really try edit war -PRON- guy constantly remove relevant information talk -PRON- edit instead -PRON- talk page -PRON- seem care formatting actual info\n"
     ]
    }
   ],
   "source": [
    "def lemmatize_text(text):\n",
    "    res = []\n",
    "    sentence = nlp(text)\n",
    "    for token in sentence:\n",
    "        lemm = token.lemma_\n",
    "        if lemm not in stopwords_:\n",
    "            res.append(lemm)\n",
    "    return ' '.join(res)\n",
    "print(comments['clean_text'][2], '\\n')\n",
    "print(lemmatize_text(comments['clean_text'][2]))"
   ]
  },
  {
   "cell_type": "markdown",
   "metadata": {},
   "source": [
    "Применим функцию к столбцу **clean_text**:"
   ]
  },
  {
   "cell_type": "code",
   "execution_count": 130,
   "metadata": {
    "scrolled": true
   },
   "outputs": [],
   "source": [
    "comments['clean_text'] = comments['clean_text'].apply(lemmatize_text)"
   ]
  },
  {
   "cell_type": "code",
   "execution_count": 131,
   "metadata": {},
   "outputs": [],
   "source": [
    "# comments.to_csv('comments_after_lemmatization.csv', index=False) #Промежуточное сохранение\n",
    "# comments = pd.read_csv('comments_after_lemmatization.csv')"
   ]
  },
  {
   "cell_type": "markdown",
   "metadata": {},
   "source": [
    "# 3. Векторизация текста\n",
    "### TF/IDF для слов\n",
    "Произведем рассчет TF/IDF для текстов. Рассчет следует проводить по тренировочной выборке, так что разобьем датасет на тренировочную и тестовую часть:"
   ]
  },
  {
   "cell_type": "code",
   "execution_count": 132,
   "metadata": {},
   "outputs": [
    {
     "name": "stdout",
     "output_type": "stream",
     "text": [
      "Размеры выборок:\n",
      "\n",
      "Обучающая \t 127656\n",
      "Тестовая \t 31915\n"
     ]
    }
   ],
   "source": [
    "feats = comments.drop(columns=['toxic'])\n",
    "target = comments['toxic']\n",
    "train_feats, test_feats, train_target, test_target = train_test_split(feats, target, \n",
    "                                                                      test_size=0.2, \n",
    "                                                                      random_state=R) \n",
    "print(f'''Размеры выборок:\n",
    "\n",
    "Обучающая \\t {train_feats.shape[0]}\n",
    "Тестовая \\t {test_feats.shape[0]}''')"
   ]
  },
  {
   "cell_type": "markdown",
   "metadata": {},
   "source": [
    "Создадим корпусы из обучающей и тестовой выборок:"
   ]
  },
  {
   "cell_type": "code",
   "execution_count": 133,
   "metadata": {},
   "outputs": [],
   "source": [
    "train_corpus = train_feats['clean_text'].values.astype('U')\n",
    "test_corpus = test_feats['clean_text'].values.astype('U')"
   ]
  },
  {
   "cell_type": "markdown",
   "metadata": {},
   "source": [
    "Создадим векторизатор TF/IDF и обучим его на тренировочной выборке, после чего векторизуем весь датасет:"
   ]
  },
  {
   "cell_type": "code",
   "execution_count": 134,
   "metadata": {},
   "outputs": [],
   "source": [
    "tfidf = TfidfVectorizer(sublinear_tf=True, max_features=100000)\n",
    "\n",
    "tf_idf_train = tfidf.fit_transform(train_corpus)\n",
    "tf_idf_test = tfidf.transform(test_corpus)"
   ]
  },
  {
   "cell_type": "markdown",
   "metadata": {},
   "source": [
    "Посмотрим на размер полученной матрицы:"
   ]
  },
  {
   "cell_type": "code",
   "execution_count": 135,
   "metadata": {},
   "outputs": [
    {
     "data": {
      "text/plain": [
       "(127656, 100000)"
      ]
     },
     "execution_count": 135,
     "metadata": {},
     "output_type": "execute_result"
    }
   ],
   "source": [
    "tf_idf_train.shape"
   ]
  },
  {
   "cell_type": "markdown",
   "metadata": {},
   "source": [
    "Не забудем также добавить к выборкам рассчитанные на прошлом шаге метапризнаки, предварительно нормировав их с помощью RobustScaler. Результаты векторизации сохранены в виде разреженной матрицы, так что рассчетные признаки также переведем в этот вид:"
   ]
  },
  {
   "cell_type": "code",
   "execution_count": 136,
   "metadata": {},
   "outputs": [],
   "source": [
    "num_features = train_feats.drop(columns = ['clean_text']).columns\n",
    "\n",
    "skl = RobustScaler()\n",
    "\n",
    "train_num_features = sps.csr_matrix(skl.fit_transform(train_feats[num_features]))\n",
    "test_num_features = sps.csr_matrix(skl.transform(test_feats[num_features]))\n",
    "\n",
    "all_train_features = sps.hstack([tf_idf_train, train_num_features]).tocsr()\n",
    "all_test_features = sps.hstack([tf_idf_test, test_num_features]).tocsr()"
   ]
  },
  {
   "cell_type": "code",
   "execution_count": 137,
   "metadata": {},
   "outputs": [],
   "source": [
    "# sps.save_npz('train_features_tf.npz', all_train_features)\n",
    "# sps.save_npz('test_features_tf.npz', all_test_features)"
   ]
  },
  {
   "cell_type": "markdown",
   "metadata": {},
   "source": [
    "### Символьные n-граммы\n",
    "\n",
    "Рассчитаем также TF/IDF для n-грамм символов (n возьмем равным 3):"
   ]
  },
  {
   "cell_type": "code",
   "execution_count": 138,
   "metadata": {},
   "outputs": [],
   "source": [
    "char_vectorizer = TfidfVectorizer(\n",
    "    analyzer='char_wb',         #n-граммы будут браться в границах слов\n",
    "    ngram_range=(3, 3))\n",
    "tf_idf_char_train = char_vectorizer.fit_transform(train_corpus)\n",
    "tf_idf_char_test = char_vectorizer.transform(test_corpus)"
   ]
  },
  {
   "cell_type": "markdown",
   "metadata": {},
   "source": [
    "Добавим полученные векторы к нашей матрице признаков:"
   ]
  },
  {
   "cell_type": "code",
   "execution_count": 139,
   "metadata": {},
   "outputs": [
    {
     "data": {
      "text/plain": [
       "(127656, 113717)"
      ]
     },
     "execution_count": 139,
     "metadata": {},
     "output_type": "execute_result"
    }
   ],
   "source": [
    "all_train_features = sps.hstack([all_train_features, tf_idf_char_train]).tocsr()\n",
    "all_test_features = sps.hstack([all_test_features, tf_idf_char_test]).tocsr()\n",
    "all_train_features.shape"
   ]
  },
  {
   "cell_type": "markdown",
   "metadata": {},
   "source": [
    "# 3. Обучение моделей\n",
    "\n",
    "### Логистическая регрессия\n",
    "Обучим модель логистической регрессии:"
   ]
  },
  {
   "cell_type": "code",
   "execution_count": 140,
   "metadata": {},
   "outputs": [
    {
     "data": {
      "text/plain": [
       "LogisticRegression(C=1.0, class_weight=None, dual=False, fit_intercept=True,\n",
       "                   intercept_scaling=1, l1_ratio=None, max_iter=200,\n",
       "                   multi_class='auto', n_jobs=None, penalty='l2',\n",
       "                   random_state=None, solver='liblinear', tol=0.0001, verbose=0,\n",
       "                   warm_start=False)"
      ]
     },
     "execution_count": 140,
     "metadata": {},
     "output_type": "execute_result"
    }
   ],
   "source": [
    "logreg_model = LogisticRegression(solver='liblinear', max_iter=200)\n",
    "logreg_model.fit(all_train_features, train_target)"
   ]
  },
  {
   "cell_type": "markdown",
   "metadata": {},
   "source": [
    "Найдем значение f1-меры на тестовом наборе:"
   ]
  },
  {
   "cell_type": "code",
   "execution_count": 150,
   "metadata": {},
   "outputs": [
    {
     "name": "stdout",
     "output_type": "stream",
     "text": [
      "F1 для логистической регрессии 0.7860473147988257\n"
     ]
    }
   ],
   "source": [
    "lr_predictions = logreg_model.predict(all_test_features)\n",
    "print('F1 для логистической регрессии', f1_score(lr_predictions, test_target))"
   ]
  },
  {
   "cell_type": "markdown",
   "metadata": {},
   "source": [
    "Получили значение f1 в районе 0.78, что вполне неплохо и укладывается в задание (более 0.75)."
   ]
  },
  {
   "cell_type": "markdown",
   "metadata": {},
   "source": [
    "### LGBM\n",
    "\n",
    "Попробуем улучшить результат линейной модели. Построим модель градиентного бустинга с использованием Light-GBM:"
   ]
  },
  {
   "cell_type": "markdown",
   "metadata": {},
   "source": [
    "Преобразуем выборки в формат lgb.Dataset:"
   ]
  },
  {
   "cell_type": "code",
   "execution_count": 142,
   "metadata": {},
   "outputs": [],
   "source": [
    "train_lgb = lgb.Dataset(all_train_features, train_target)\n",
    "test_lgb = lgb.Dataset(all_test_features, test_target)"
   ]
  },
  {
   "cell_type": "markdown",
   "metadata": {},
   "source": [
    "Определим свою функцию валидации (Light-GBM предсказывает не класс, а вероятность класса наблюдения, что не подходит для рассчета f1-меры): "
   ]
  },
  {
   "cell_type": "code",
   "execution_count": 143,
   "metadata": {},
   "outputs": [],
   "source": [
    "def lgb_f1(pred, data):\n",
    "    y_true = data.get_label()\n",
    "    pred = np.where(pred < 0.7, 0, 1)\n",
    "    return 'f1', f1_score(y_true, pred), True"
   ]
  },
  {
   "cell_type": "markdown",
   "metadata": {},
   "source": [
    "Обучим модель на тренировочном датасете:"
   ]
  },
  {
   "cell_type": "code",
   "execution_count": null,
   "metadata": {},
   "outputs": [],
   "source": [
    "params = {'boosting_type': 'gbdt',\n",
    "          'objective': 'binary',\n",
    "          'is_unbalance': True,\n",
    "          'seed': R,\n",
    "          'max_depth': 15,\n",
    "          'feature_fraction': 0.4,\n",
    "          'learning_rate': 0.1\n",
    "         }\n",
    "\n",
    "lgb_model = lgb.train(params=params, train_set=train_lgb, num_boost_round=675, feval=lgb_f1,\n",
    "                      valid_sets=[train_lgb], verbose_eval=50)"
   ]
  },
  {
   "cell_type": "markdown",
   "metadata": {},
   "source": [
    "Проверим работу модели на тестовом наборе:"
   ]
  },
  {
   "cell_type": "code",
   "execution_count": 176,
   "metadata": {},
   "outputs": [
    {
     "name": "stdout",
     "output_type": "stream",
     "text": [
      "F1 для LGBM 0.8098569157392688\n"
     ]
    }
   ],
   "source": [
    "predictions = lgb_model.predict(all_test_features)\n",
    "predictions =  np.where(predictions > 0.7, 1, 0)\n",
    "print('F1 для LGBM', f1_score(predictions, test_target))"
   ]
  },
  {
   "cell_type": "markdown",
   "metadata": {},
   "source": [
    "В итоге при использовании модели градиентного бустинга мы смогли получить значение F1 около 0.81.\n",
    "\n",
    "# Вывод\n",
    "\n",
    "В данной работе требовалось построить и обучить модель, которая классифицирует текстовые комментарии как токсичные или нет. В нашем распоряжении имелся размеченный датасет с текстами сообщений. Нами выполнены следующие шаги:\n",
    "1. Исследовательский анализ данных: \n",
    " - мы рассмотрели баланс классов сообщений и выяснили, что нормальных комментариев намного больше, чем токсичных;\n",
    " - изучили отдельные тексты и выявили бросающиеся в глаза признаки: наличие/отсутствие мата, капса и прочего;\n",
    " - рассчитали вспомогательные численные признаки сообщений: их длину, количество предложений и абзацев, знаков препинания, матерных слов и т.д., нашли корреляции данных признаков с целевым и отобрали наиболее характерные из них.\n",
    "2. Предобработка данных. Для преобразования текста в необходимую для обучения форму мы выполнили:\n",
    " - очистку и токенизацию текста (удалены знаки препинания и прочие символы, стоп-слова, интернет-ссылки;\n",
    " - лемматизацию слов (с использованием библиотеки SpaCy)\n",
    " - векторизацию текстов путем рассчета величин TF-IDF как для отдельных слов, так и для символьных n-грамм.\n",
    "3. Построение и обучение моделей. Нами были исследованы две модели классификации:\n",
    " - логистическая регрессия (baseline-модель). Полученное значение метрики - 0.78;\n",
    " - градиентный бустинг с использованием библиотеки Light-GBM. Данная модель показала наилучшие результаты, F1-мера на тестовых данных составила **0.81**."
   ]
  }
 ],
 "metadata": {
  "kernelspec": {
   "display_name": "Python 3",
   "language": "python",
   "name": "python3"
  },
  "language_info": {
   "codemirror_mode": {
    "name": "ipython",
    "version": 3
   },
   "file_extension": ".py",
   "mimetype": "text/x-python",
   "name": "python",
   "nbconvert_exporter": "python",
   "pygments_lexer": "ipython3",
   "version": "3.7.4"
  }
 },
 "nbformat": 4,
 "nbformat_minor": 2
}
