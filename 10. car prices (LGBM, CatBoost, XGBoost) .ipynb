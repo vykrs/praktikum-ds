{
 "cells": [
  {
   "cell_type": "markdown",
   "metadata": {},
   "source": [
    "## Комментарий наставника\n",
    "Привет, Антон! Меня зовут Александр и я буду проверять твой проект. Спасибо за твою работу:) Далее по ходу работы я оставлю свои комментарии и предложения. Постарайся их учесть в этом и дальнейших проектах. Комментарии ты можешь найти в текстовой ячейке с заголовком «Комментарий наставника» (как здесь) либо в ячейках с кодом в следующем виде: «#Комментарий наставника: <сам комментарий>». \\\n",
    "Часть комментариев может быть выделена цветом: \\\n",
    "<span style=\"color:green\">Зелёный цвет символизирует, что всё отлично</span> \\\n",
    "<span style=\"color:orange\">Оранжевый цвет символизирует рекомендации</span> \\\n",
    "<span style=\"color:red\">Красный цвет символизирует недочёты</span>"
   ]
  },
  {
   "cell_type": "markdown",
   "metadata": {},
   "source": [
    "# Описание проекта\n",
    "\n",
    "Сервис по продаже автомобилей с пробегом «Не бит, не крашен» разрабатывает приложение для привлечения новых клиентов. В нём можно быстро узнать рыночную стоимость своего автомобиля. В вашем распоряжении исторические данные: технические характеристики, комплектации и цены автомобилей. Вам нужно построить модель для определения стоимости.\n",
    "Заказчику важны:\n",
    "- качество предсказания;\n",
    "- скорость предсказания;\n",
    "- время обучения.\n",
    "\n",
    "# Описание данных\n",
    "\n",
    "Данные находятся в файле ***autos.csv***.\n",
    "\n",
    "Признаки:\n",
    "\n",
    "**DateCrawled** — дата скачивания анкеты из базы   \n",
    "**VehicleType** — тип автомобильного кузова   \n",
    "**RegistrationYear** — год регистрации автомобиля   \n",
    "**Gearbox** — тип коробки передач   \n",
    "**Power** — мощность (л. с.)   \n",
    "**Model** — модель автомобиля   \n",
    "**Kilometer** — пробег (км)   \n",
    "**RegistrationMonth** — месяц регистрации автомобиля   \n",
    "**FuelType** — тип топлива   \n",
    "**Brand** — марка автомобиля   \n",
    "**NotRepaired** — была машина в ремонте или нет   \n",
    "**DateCreated** — дата создания анкеты   \n",
    "**NumberOfPictures** — количество фотографий автомобиля   \n",
    "**PostalCode** — почтовый индекс владельца анкеты (пользователя)   \n",
    "**LastSeen** — дата последней активности пользователя   \n",
    "\n",
    "Целевой признак:\n",
    "\n",
    "**Price** — цена (евро)\n",
    "\n",
    "# Порядок выполнения проекта\n",
    "\n",
    "1. Загрузить и подготовить данные;\n",
    "2. Обучить разные модели с различными гиперпараметрами;\n",
    "3. Проанализировать скорость работы и качество моделей.\n",
    "\n",
    "Примечания:\n",
    "\n",
    "1. Для построения моделей градиентного бустинга необходимо использовать библиотеку LightGBM;\n",
    "2. Для оценки качества модели - использовать RMSE."
   ]
  },
  {
   "cell_type": "markdown",
   "metadata": {},
   "source": [
    "# 1. Подготовка данных"
   ]
  },
  {
   "cell_type": "markdown",
   "metadata": {},
   "source": [
    "Импортируем необходимые модули:"
   ]
  },
  {
   "cell_type": "code",
   "execution_count": 3,
   "metadata": {},
   "outputs": [],
   "source": [
    "import numpy as np\n",
    "import pandas as pd\n",
    "import seaborn as sns\n",
    "import matplotlib\n",
    "import matplotlib.pyplot as plt\n",
    "from time import time\n",
    "from IPython.display import display\n",
    "\n",
    "import lightgbm as lgb\n",
    "import catboost as cat\n",
    "import xgboost as xgb\n",
    "\n",
    "from sklearn.metrics import mean_squared_error\n",
    "from sklearn.preprocessing import OrdinalEncoder\n",
    "from sklearn.model_selection import train_test_split\n",
    "from sklearn.dummy import DummyRegressor\n",
    "from sklearn.ensemble import RandomForestRegressor\n",
    "\n",
    "\n",
    "R = 987             #Random State\n",
    "matplotlib.rcParams['figure.figsize'] = (10, 4)"
   ]
  },
  {
   "cell_type": "markdown",
   "metadata": {},
   "source": [
    "Изучим полученный датасет:"
   ]
  },
  {
   "cell_type": "code",
   "execution_count": 8,
   "metadata": {},
   "outputs": [
    {
     "data": {
      "text/html": [
       "<style  type=\"text/css\" >\n",
       "    #T_60e322f8_7daa_11ea_b841_5391a4b1a9d5row0_col7 {\n",
       "            background-color:  yellow;\n",
       "        }    #T_60e322f8_7daa_11ea_b841_5391a4b1a9d5row0_col13 {\n",
       "            background-color:  yellow;\n",
       "        }    #T_60e322f8_7daa_11ea_b841_5391a4b1a9d5row1_col1 {\n",
       "            background-color:  yellow;\n",
       "        }    #T_60e322f8_7daa_11ea_b841_5391a4b1a9d5row1_col3 {\n",
       "            background-color:  yellow;\n",
       "        }    #T_60e322f8_7daa_11ea_b841_5391a4b1a9d5row1_col5 {\n",
       "            background-color:  yellow;\n",
       "        }    #T_60e322f8_7daa_11ea_b841_5391a4b1a9d5row1_col13 {\n",
       "            background-color:  yellow;\n",
       "        }    #T_60e322f8_7daa_11ea_b841_5391a4b1a9d5row2_col8 {\n",
       "            background-color:  yellow;\n",
       "        }    #T_60e322f8_7daa_11ea_b841_5391a4b1a9d5row2_col13 {\n",
       "            background-color:  yellow;\n",
       "        }    #T_60e322f8_7daa_11ea_b841_5391a4b1a9d5row3_col7 {\n",
       "            background-color:  yellow;\n",
       "        }    #T_60e322f8_7daa_11ea_b841_5391a4b1a9d5row3_col13 {\n",
       "            background-color:  yellow;\n",
       "        }    #T_60e322f8_7daa_11ea_b841_5391a4b1a9d5row3_col14 {\n",
       "            background-color:  yellow;\n",
       "        }    #T_60e322f8_7daa_11ea_b841_5391a4b1a9d5row4_col13 {\n",
       "            background-color:  yellow;\n",
       "        }</style><table id=\"T_60e322f8_7daa_11ea_b841_5391a4b1a9d5\" ><thead>    <tr>        <th class=\"blank level0\" ></th>        <th class=\"col_heading level0 col0\" >DateCrawled</th>        <th class=\"col_heading level0 col1\" >Price</th>        <th class=\"col_heading level0 col2\" >VehicleType</th>        <th class=\"col_heading level0 col3\" >RegistrationYear</th>        <th class=\"col_heading level0 col4\" >Gearbox</th>        <th class=\"col_heading level0 col5\" >Power</th>        <th class=\"col_heading level0 col6\" >Model</th>        <th class=\"col_heading level0 col7\" >Kilometer</th>        <th class=\"col_heading level0 col8\" >RegistrationMonth</th>        <th class=\"col_heading level0 col9\" >FuelType</th>        <th class=\"col_heading level0 col10\" >Brand</th>        <th class=\"col_heading level0 col11\" >NotRepaired</th>        <th class=\"col_heading level0 col12\" >DateCreated</th>        <th class=\"col_heading level0 col13\" >NumberOfPictures</th>        <th class=\"col_heading level0 col14\" >PostalCode</th>        <th class=\"col_heading level0 col15\" >LastSeen</th>    </tr></thead><tbody>\n",
       "                <tr>\n",
       "                        <th id=\"T_60e322f8_7daa_11ea_b841_5391a4b1a9d5level0_row0\" class=\"row_heading level0 row0\" >0</th>\n",
       "                        <td id=\"T_60e322f8_7daa_11ea_b841_5391a4b1a9d5row0_col0\" class=\"data row0 col0\" >2016-03-24 11:52:17</td>\n",
       "                        <td id=\"T_60e322f8_7daa_11ea_b841_5391a4b1a9d5row0_col1\" class=\"data row0 col1\" >480</td>\n",
       "                        <td id=\"T_60e322f8_7daa_11ea_b841_5391a4b1a9d5row0_col2\" class=\"data row0 col2\" >nan</td>\n",
       "                        <td id=\"T_60e322f8_7daa_11ea_b841_5391a4b1a9d5row0_col3\" class=\"data row0 col3\" >1993</td>\n",
       "                        <td id=\"T_60e322f8_7daa_11ea_b841_5391a4b1a9d5row0_col4\" class=\"data row0 col4\" >manual</td>\n",
       "                        <td id=\"T_60e322f8_7daa_11ea_b841_5391a4b1a9d5row0_col5\" class=\"data row0 col5\" >0</td>\n",
       "                        <td id=\"T_60e322f8_7daa_11ea_b841_5391a4b1a9d5row0_col6\" class=\"data row0 col6\" >golf</td>\n",
       "                        <td id=\"T_60e322f8_7daa_11ea_b841_5391a4b1a9d5row0_col7\" class=\"data row0 col7\" >150000</td>\n",
       "                        <td id=\"T_60e322f8_7daa_11ea_b841_5391a4b1a9d5row0_col8\" class=\"data row0 col8\" >0</td>\n",
       "                        <td id=\"T_60e322f8_7daa_11ea_b841_5391a4b1a9d5row0_col9\" class=\"data row0 col9\" >petrol</td>\n",
       "                        <td id=\"T_60e322f8_7daa_11ea_b841_5391a4b1a9d5row0_col10\" class=\"data row0 col10\" >volkswagen</td>\n",
       "                        <td id=\"T_60e322f8_7daa_11ea_b841_5391a4b1a9d5row0_col11\" class=\"data row0 col11\" >nan</td>\n",
       "                        <td id=\"T_60e322f8_7daa_11ea_b841_5391a4b1a9d5row0_col12\" class=\"data row0 col12\" >2016-03-24 00:00:00</td>\n",
       "                        <td id=\"T_60e322f8_7daa_11ea_b841_5391a4b1a9d5row0_col13\" class=\"data row0 col13\" >0</td>\n",
       "                        <td id=\"T_60e322f8_7daa_11ea_b841_5391a4b1a9d5row0_col14\" class=\"data row0 col14\" >70435</td>\n",
       "                        <td id=\"T_60e322f8_7daa_11ea_b841_5391a4b1a9d5row0_col15\" class=\"data row0 col15\" >2016-04-07 03:16:57</td>\n",
       "            </tr>\n",
       "            <tr>\n",
       "                        <th id=\"T_60e322f8_7daa_11ea_b841_5391a4b1a9d5level0_row1\" class=\"row_heading level0 row1\" >1</th>\n",
       "                        <td id=\"T_60e322f8_7daa_11ea_b841_5391a4b1a9d5row1_col0\" class=\"data row1 col0\" >2016-03-24 10:58:45</td>\n",
       "                        <td id=\"T_60e322f8_7daa_11ea_b841_5391a4b1a9d5row1_col1\" class=\"data row1 col1\" >18300</td>\n",
       "                        <td id=\"T_60e322f8_7daa_11ea_b841_5391a4b1a9d5row1_col2\" class=\"data row1 col2\" >coupe</td>\n",
       "                        <td id=\"T_60e322f8_7daa_11ea_b841_5391a4b1a9d5row1_col3\" class=\"data row1 col3\" >2011</td>\n",
       "                        <td id=\"T_60e322f8_7daa_11ea_b841_5391a4b1a9d5row1_col4\" class=\"data row1 col4\" >manual</td>\n",
       "                        <td id=\"T_60e322f8_7daa_11ea_b841_5391a4b1a9d5row1_col5\" class=\"data row1 col5\" >190</td>\n",
       "                        <td id=\"T_60e322f8_7daa_11ea_b841_5391a4b1a9d5row1_col6\" class=\"data row1 col6\" >nan</td>\n",
       "                        <td id=\"T_60e322f8_7daa_11ea_b841_5391a4b1a9d5row1_col7\" class=\"data row1 col7\" >125000</td>\n",
       "                        <td id=\"T_60e322f8_7daa_11ea_b841_5391a4b1a9d5row1_col8\" class=\"data row1 col8\" >5</td>\n",
       "                        <td id=\"T_60e322f8_7daa_11ea_b841_5391a4b1a9d5row1_col9\" class=\"data row1 col9\" >gasoline</td>\n",
       "                        <td id=\"T_60e322f8_7daa_11ea_b841_5391a4b1a9d5row1_col10\" class=\"data row1 col10\" >audi</td>\n",
       "                        <td id=\"T_60e322f8_7daa_11ea_b841_5391a4b1a9d5row1_col11\" class=\"data row1 col11\" >yes</td>\n",
       "                        <td id=\"T_60e322f8_7daa_11ea_b841_5391a4b1a9d5row1_col12\" class=\"data row1 col12\" >2016-03-24 00:00:00</td>\n",
       "                        <td id=\"T_60e322f8_7daa_11ea_b841_5391a4b1a9d5row1_col13\" class=\"data row1 col13\" >0</td>\n",
       "                        <td id=\"T_60e322f8_7daa_11ea_b841_5391a4b1a9d5row1_col14\" class=\"data row1 col14\" >66954</td>\n",
       "                        <td id=\"T_60e322f8_7daa_11ea_b841_5391a4b1a9d5row1_col15\" class=\"data row1 col15\" >2016-04-07 01:46:50</td>\n",
       "            </tr>\n",
       "            <tr>\n",
       "                        <th id=\"T_60e322f8_7daa_11ea_b841_5391a4b1a9d5level0_row2\" class=\"row_heading level0 row2\" >2</th>\n",
       "                        <td id=\"T_60e322f8_7daa_11ea_b841_5391a4b1a9d5row2_col0\" class=\"data row2 col0\" >2016-03-14 12:52:21</td>\n",
       "                        <td id=\"T_60e322f8_7daa_11ea_b841_5391a4b1a9d5row2_col1\" class=\"data row2 col1\" >9800</td>\n",
       "                        <td id=\"T_60e322f8_7daa_11ea_b841_5391a4b1a9d5row2_col2\" class=\"data row2 col2\" >suv</td>\n",
       "                        <td id=\"T_60e322f8_7daa_11ea_b841_5391a4b1a9d5row2_col3\" class=\"data row2 col3\" >2004</td>\n",
       "                        <td id=\"T_60e322f8_7daa_11ea_b841_5391a4b1a9d5row2_col4\" class=\"data row2 col4\" >auto</td>\n",
       "                        <td id=\"T_60e322f8_7daa_11ea_b841_5391a4b1a9d5row2_col5\" class=\"data row2 col5\" >163</td>\n",
       "                        <td id=\"T_60e322f8_7daa_11ea_b841_5391a4b1a9d5row2_col6\" class=\"data row2 col6\" >grand</td>\n",
       "                        <td id=\"T_60e322f8_7daa_11ea_b841_5391a4b1a9d5row2_col7\" class=\"data row2 col7\" >125000</td>\n",
       "                        <td id=\"T_60e322f8_7daa_11ea_b841_5391a4b1a9d5row2_col8\" class=\"data row2 col8\" >8</td>\n",
       "                        <td id=\"T_60e322f8_7daa_11ea_b841_5391a4b1a9d5row2_col9\" class=\"data row2 col9\" >gasoline</td>\n",
       "                        <td id=\"T_60e322f8_7daa_11ea_b841_5391a4b1a9d5row2_col10\" class=\"data row2 col10\" >jeep</td>\n",
       "                        <td id=\"T_60e322f8_7daa_11ea_b841_5391a4b1a9d5row2_col11\" class=\"data row2 col11\" >nan</td>\n",
       "                        <td id=\"T_60e322f8_7daa_11ea_b841_5391a4b1a9d5row2_col12\" class=\"data row2 col12\" >2016-03-14 00:00:00</td>\n",
       "                        <td id=\"T_60e322f8_7daa_11ea_b841_5391a4b1a9d5row2_col13\" class=\"data row2 col13\" >0</td>\n",
       "                        <td id=\"T_60e322f8_7daa_11ea_b841_5391a4b1a9d5row2_col14\" class=\"data row2 col14\" >90480</td>\n",
       "                        <td id=\"T_60e322f8_7daa_11ea_b841_5391a4b1a9d5row2_col15\" class=\"data row2 col15\" >2016-04-05 12:47:46</td>\n",
       "            </tr>\n",
       "            <tr>\n",
       "                        <th id=\"T_60e322f8_7daa_11ea_b841_5391a4b1a9d5level0_row3\" class=\"row_heading level0 row3\" >3</th>\n",
       "                        <td id=\"T_60e322f8_7daa_11ea_b841_5391a4b1a9d5row3_col0\" class=\"data row3 col0\" >2016-03-17 16:54:04</td>\n",
       "                        <td id=\"T_60e322f8_7daa_11ea_b841_5391a4b1a9d5row3_col1\" class=\"data row3 col1\" >1500</td>\n",
       "                        <td id=\"T_60e322f8_7daa_11ea_b841_5391a4b1a9d5row3_col2\" class=\"data row3 col2\" >small</td>\n",
       "                        <td id=\"T_60e322f8_7daa_11ea_b841_5391a4b1a9d5row3_col3\" class=\"data row3 col3\" >2001</td>\n",
       "                        <td id=\"T_60e322f8_7daa_11ea_b841_5391a4b1a9d5row3_col4\" class=\"data row3 col4\" >manual</td>\n",
       "                        <td id=\"T_60e322f8_7daa_11ea_b841_5391a4b1a9d5row3_col5\" class=\"data row3 col5\" >75</td>\n",
       "                        <td id=\"T_60e322f8_7daa_11ea_b841_5391a4b1a9d5row3_col6\" class=\"data row3 col6\" >golf</td>\n",
       "                        <td id=\"T_60e322f8_7daa_11ea_b841_5391a4b1a9d5row3_col7\" class=\"data row3 col7\" >150000</td>\n",
       "                        <td id=\"T_60e322f8_7daa_11ea_b841_5391a4b1a9d5row3_col8\" class=\"data row3 col8\" >6</td>\n",
       "                        <td id=\"T_60e322f8_7daa_11ea_b841_5391a4b1a9d5row3_col9\" class=\"data row3 col9\" >petrol</td>\n",
       "                        <td id=\"T_60e322f8_7daa_11ea_b841_5391a4b1a9d5row3_col10\" class=\"data row3 col10\" >volkswagen</td>\n",
       "                        <td id=\"T_60e322f8_7daa_11ea_b841_5391a4b1a9d5row3_col11\" class=\"data row3 col11\" >no</td>\n",
       "                        <td id=\"T_60e322f8_7daa_11ea_b841_5391a4b1a9d5row3_col12\" class=\"data row3 col12\" >2016-03-17 00:00:00</td>\n",
       "                        <td id=\"T_60e322f8_7daa_11ea_b841_5391a4b1a9d5row3_col13\" class=\"data row3 col13\" >0</td>\n",
       "                        <td id=\"T_60e322f8_7daa_11ea_b841_5391a4b1a9d5row3_col14\" class=\"data row3 col14\" >91074</td>\n",
       "                        <td id=\"T_60e322f8_7daa_11ea_b841_5391a4b1a9d5row3_col15\" class=\"data row3 col15\" >2016-03-17 17:40:17</td>\n",
       "            </tr>\n",
       "            <tr>\n",
       "                        <th id=\"T_60e322f8_7daa_11ea_b841_5391a4b1a9d5level0_row4\" class=\"row_heading level0 row4\" >4</th>\n",
       "                        <td id=\"T_60e322f8_7daa_11ea_b841_5391a4b1a9d5row4_col0\" class=\"data row4 col0\" >2016-03-31 17:25:20</td>\n",
       "                        <td id=\"T_60e322f8_7daa_11ea_b841_5391a4b1a9d5row4_col1\" class=\"data row4 col1\" >3600</td>\n",
       "                        <td id=\"T_60e322f8_7daa_11ea_b841_5391a4b1a9d5row4_col2\" class=\"data row4 col2\" >small</td>\n",
       "                        <td id=\"T_60e322f8_7daa_11ea_b841_5391a4b1a9d5row4_col3\" class=\"data row4 col3\" >2008</td>\n",
       "                        <td id=\"T_60e322f8_7daa_11ea_b841_5391a4b1a9d5row4_col4\" class=\"data row4 col4\" >manual</td>\n",
       "                        <td id=\"T_60e322f8_7daa_11ea_b841_5391a4b1a9d5row4_col5\" class=\"data row4 col5\" >69</td>\n",
       "                        <td id=\"T_60e322f8_7daa_11ea_b841_5391a4b1a9d5row4_col6\" class=\"data row4 col6\" >fabia</td>\n",
       "                        <td id=\"T_60e322f8_7daa_11ea_b841_5391a4b1a9d5row4_col7\" class=\"data row4 col7\" >90000</td>\n",
       "                        <td id=\"T_60e322f8_7daa_11ea_b841_5391a4b1a9d5row4_col8\" class=\"data row4 col8\" >7</td>\n",
       "                        <td id=\"T_60e322f8_7daa_11ea_b841_5391a4b1a9d5row4_col9\" class=\"data row4 col9\" >gasoline</td>\n",
       "                        <td id=\"T_60e322f8_7daa_11ea_b841_5391a4b1a9d5row4_col10\" class=\"data row4 col10\" >skoda</td>\n",
       "                        <td id=\"T_60e322f8_7daa_11ea_b841_5391a4b1a9d5row4_col11\" class=\"data row4 col11\" >no</td>\n",
       "                        <td id=\"T_60e322f8_7daa_11ea_b841_5391a4b1a9d5row4_col12\" class=\"data row4 col12\" >2016-03-31 00:00:00</td>\n",
       "                        <td id=\"T_60e322f8_7daa_11ea_b841_5391a4b1a9d5row4_col13\" class=\"data row4 col13\" >0</td>\n",
       "                        <td id=\"T_60e322f8_7daa_11ea_b841_5391a4b1a9d5row4_col14\" class=\"data row4 col14\" >60437</td>\n",
       "                        <td id=\"T_60e322f8_7daa_11ea_b841_5391a4b1a9d5row4_col15\" class=\"data row4 col15\" >2016-04-06 10:17:21</td>\n",
       "            </tr>\n",
       "    </tbody></table>"
      ],
      "text/plain": [
       "<pandas.io.formats.style.Styler at 0x7f3e7a3e07b8>"
      ]
     },
     "execution_count": 8,
     "metadata": {},
     "output_type": "execute_result"
    }
   ],
   "source": [
    "try:\n",
    "    autos = pd.read_csv('/datasets/autos.csv')\n",
    "except:\n",
    "    autos = pd.read_csv('~/datasets/autos.csv')\n",
    "autos.head()"
   ]
  },
  {
   "cell_type": "code",
   "execution_count": 3,
   "metadata": {},
   "outputs": [
    {
     "name": "stdout",
     "output_type": "stream",
     "text": [
      "<class 'pandas.core.frame.DataFrame'>\n",
      "RangeIndex: 354369 entries, 0 to 354368\n",
      "Data columns (total 16 columns):\n",
      "DateCrawled          354369 non-null object\n",
      "Price                354369 non-null int64\n",
      "VehicleType          316879 non-null object\n",
      "RegistrationYear     354369 non-null int64\n",
      "Gearbox              334536 non-null object\n",
      "Power                354369 non-null int64\n",
      "Model                334664 non-null object\n",
      "Kilometer            354369 non-null int64\n",
      "RegistrationMonth    354369 non-null int64\n",
      "FuelType             321474 non-null object\n",
      "Brand                354369 non-null object\n",
      "NotRepaired          283215 non-null object\n",
      "DateCreated          354369 non-null object\n",
      "NumberOfPictures     354369 non-null int64\n",
      "PostalCode           354369 non-null int64\n",
      "LastSeen             354369 non-null object\n",
      "dtypes: int64(7), object(9)\n",
      "memory usage: 43.3+ MB\n"
     ]
    }
   ],
   "source": [
    "autos.info()"
   ]
  },
  {
   "cell_type": "markdown",
   "metadata": {},
   "source": [
    "В полученной таблице 354369 строк, 16 столбцов. Типы данных: *object* (строковый) и *int64* (целочисленный). В некоторых столбцах (**VehicleType**, **Gearbox**, **Model**, **FuelType** и **NotRepaired**) присутствуют пропуски.\n",
    "\n",
    "Прежде чем производить предобработку данных, определимся с тем, какие признаки необходимы для построения модели. Целевым признаком является цена автомобиля (столбец **Price**). Логично предположить, что цена не будет зависеть от таких параметров, как дата скачивания анкеты из базы, количество фотографий, почтовый индекс продавца и некоторых других. Выделим список признаков, которые нам не понадобятся, и уберем соответствующие столбцы из таблицы:"
   ]
  },
  {
   "cell_type": "code",
   "execution_count": 4,
   "metadata": {},
   "outputs": [
    {
     "data": {
      "text/plain": [
       "(354369, 10)"
      ]
     },
     "execution_count": 4,
     "metadata": {},
     "output_type": "execute_result"
    }
   ],
   "source": [
    "redundant_feats = [\n",
    "                   'DateCrawled', \n",
    "                   'DateCreated',\n",
    "                   'RegistrationMonth',\n",
    "                   'NumberOfPictures', \n",
    "                   'PostalCode', \n",
    "                   'LastSeen',\n",
    "                  ]\n",
    "features = autos.drop(columns = redundant_feats)\n",
    "features.shape"
   ]
  },
  {
   "cell_type": "markdown",
   "metadata": {},
   "source": [
    "## Комментарий наставника\n",
    "<span style=\"color:green\">Прекрасно!</span>"
   ]
  },
  {
   "cell_type": "markdown",
   "metadata": {},
   "source": [
    "Оставшиеся признаки разберем подробнее. Начнем с целевого признака (цена). Построим гистограмму распределения:"
   ]
  },
  {
   "cell_type": "code",
   "execution_count": 5,
   "metadata": {},
   "outputs": [
    {
     "data": {
      "image/png": "[encoded data removed]",
      "text/plain": [
       "<Figure size 720x288 with 1 Axes>"
      ]
     },
     "metadata": {
      "needs_background": "light"
     },
     "output_type": "display_data"
    }
   ],
   "source": [
    "sns.distplot(features['Price'], bins=100)\n",
    "plt.title('Цена (евро)')\n",
    "plt.show()"
   ]
  },
  {
   "cell_type": "markdown",
   "metadata": {},
   "source": [
    "В целом распределение похоже на нормальное, если не считать максимума рядом с нулем. Гребенчатый вид графика можно объяснить тем, что цену, как правило, устанавливают кратной 50/100/500 евро. Посмотрим подробнее на значения целевой переменной вблизи 0:"
   ]
  },
  {
   "cell_type": "code",
   "execution_count": 6,
   "metadata": {},
   "outputs": [
    {
     "data": {
      "text/plain": [
       "0       10772\n",
       "500      5670\n",
       "1500     5394\n",
       "1000     4649\n",
       "1200     4594\n",
       "Name: Price, dtype: int64"
      ]
     },
     "execution_count": 6,
     "metadata": {},
     "output_type": "execute_result"
    }
   ],
   "source": [
    "features['Price'].value_counts().head(5)"
   ]
  },
  {
   "cell_type": "markdown",
   "metadata": {},
   "source": [
    "Цены начиная от 500 евро вполне правдоподобны, а вот нулевые значения являются пропусками и для построения модели бесполезны. Удалим соответствующие записи из таблицы:"
   ]
  },
  {
   "cell_type": "code",
   "execution_count": 7,
   "metadata": {},
   "outputs": [
    {
     "name": "stdout",
     "output_type": "stream",
     "text": [
      "Осталось записей: 343597\n"
     ]
    }
   ],
   "source": [
    "features = features.loc[features['Price'] != 0]\n",
    "print('Осталось записей:', features.shape[0])"
   ]
  },
  {
   "cell_type": "markdown",
   "metadata": {},
   "source": [
    "## Комментарий наставника\n",
    "<span style=\"color:green\">Верное решение.</span>"
   ]
  },
  {
   "cell_type": "markdown",
   "metadata": {},
   "source": [
    "Разберемся с остальными признаками:\n",
    "\n",
    "### RegistrationYear"
   ]
  },
  {
   "cell_type": "code",
   "execution_count": 8,
   "metadata": {
    "scrolled": false
   },
   "outputs": [
    {
     "data": {
      "text/plain": [
       "count    343597.000000\n",
       "mean       2004.089797\n",
       "std          78.413225\n",
       "min        1000.000000\n",
       "25%        1999.000000\n",
       "50%        2003.000000\n",
       "75%        2008.000000\n",
       "max        9999.000000\n",
       "Name: RegistrationYear, dtype: float64"
      ]
     },
     "execution_count": 8,
     "metadata": {},
     "output_type": "execute_result"
    }
   ],
   "source": [
    "features['RegistrationYear'].describe()"
   ]
  },
  {
   "cell_type": "markdown",
   "metadata": {},
   "source": [
    "Столбец принимает значения от 1000 до 9999, что, конечно же, неверно. Возможно, недопустимые значения связаны с ошибками при ручном вводе значений либо при их сохранении. Ограничим допустимые даты регистрации диапазоном 1970 - 2020, а остальные записи удалим:"
   ]
  },
  {
   "cell_type": "code",
   "execution_count": 9,
   "metadata": {},
   "outputs": [
    {
     "name": "stdout",
     "output_type": "stream",
     "text": [
      "Осталось записей: 342052\n"
     ]
    }
   ],
   "source": [
    "features = features.query('1970 < RegistrationYear < 2020')\n",
    "print('Осталось записей:', features.shape[0])"
   ]
  },
  {
   "cell_type": "markdown",
   "metadata": {},
   "source": [
    "Посмотрим распределение значений столбца:"
   ]
  },
  {
   "cell_type": "code",
   "execution_count": 10,
   "metadata": {},
   "outputs": [
    {
     "data": {
      "image/png": "[encoded data removed]",
      "text/plain": [
       "<Figure size 720x288 with 1 Axes>"
      ]
     },
     "metadata": {
      "needs_background": "light"
     },
     "output_type": "display_data"
    }
   ],
   "source": [
    "sns.distplot(features['RegistrationYear'], bins=50)\n",
    "plt.title('Возраст автомобиля')\n",
    "plt.show()"
   ]
  },
  {
   "cell_type": "markdown",
   "metadata": {},
   "source": [
    "Теперь распределение похоже на настоящее."
   ]
  },
  {
   "cell_type": "markdown",
   "metadata": {},
   "source": [
    "## Комментарий наставника\n",
    "<span style=\"color:green\">Класс!</span>"
   ]
  },
  {
   "cell_type": "markdown",
   "metadata": {},
   "source": [
    "### Power\n",
    "Теперь изучим столбец **Power**:"
   ]
  },
  {
   "cell_type": "code",
   "execution_count": 11,
   "metadata": {},
   "outputs": [
    {
     "data": {
      "text/plain": [
       "count    342052.000000\n",
       "mean        111.142356\n",
       "std         186.130530\n",
       "min           0.000000\n",
       "25%          69.000000\n",
       "50%         105.000000\n",
       "75%         143.000000\n",
       "max       20000.000000\n",
       "Name: Power, dtype: float64"
      ]
     },
     "execution_count": 11,
     "metadata": {},
     "output_type": "execute_result"
    }
   ],
   "source": [
    "features['Power'].describe()"
   ]
  },
  {
   "cell_type": "markdown",
   "metadata": {},
   "source": [
    "Тут, как видно, также есть недопустимые значения. Значение 0, скорее всего, означает, что мощность не была указана, а значения выше 500 - ошибочно введенные или сохраненные значения. Отбросим записи, в которых указана мощность двигателя менее 50 или более 500 л.с.:"
   ]
  },
  {
   "cell_type": "code",
   "execution_count": 12,
   "metadata": {},
   "outputs": [
    {
     "name": "stdout",
     "output_type": "stream",
     "text": [
      "Осталось записей: 296033\n"
     ]
    },
    {
     "data": {
      "image/png": "[encoded data removed]",
      "text/plain": [
       "<Figure size 720x288 with 1 Axes>"
      ]
     },
     "metadata": {
      "needs_background": "light"
     },
     "output_type": "display_data"
    }
   ],
   "source": [
    "features = features.query('50 < Power < 500')\n",
    "print('Осталось записей:', features.shape[0])\n",
    "sns.distplot(features['Power'], bins=50)\n",
    "plt.title('Мощность двигателя')\n",
    "plt.show()"
   ]
  },
  {
   "cell_type": "markdown",
   "metadata": {},
   "source": [
    "### Kilometer\n",
    "Рассмотрим значения столбца **Kilometer**:"
   ]
  },
  {
   "cell_type": "code",
   "execution_count": 13,
   "metadata": {},
   "outputs": [
    {
     "data": {
      "text/plain": [
       "150000    197751\n",
       "125000     31510\n",
       "100000     12570\n",
       "90000      10189\n",
       "80000       8937\n",
       "70000       7693\n",
       "60000       6722\n",
       "50000       5588\n",
       "40000       4422\n",
       "30000       3838\n",
       "20000       3205\n",
       "5000        2739\n",
       "10000        869\n",
       "Name: Kilometer, dtype: int64"
      ]
     },
     "execution_count": 13,
     "metadata": {},
     "output_type": "execute_result"
    }
   ],
   "source": [
    "features['Kilometer'].value_counts()"
   ]
  },
  {
   "cell_type": "markdown",
   "metadata": {},
   "source": [
    "Здесь видно, что, во-первых, значения пробега квантованы с шагом 10000 (в среднем), а также тот факт, что большая часть значений находится в точке 150000. Предположительно, пробег автомобиля выбирается из списка вида 'до 10000 км, до 20000 км..., свыше 150000 км'. Поскольку таблица содержит предложения о продаже подержанных автомобилей, логично, что максимум значения находится в точке 150000 (пробег выше 150 тысяч км).\n",
    "\n",
    "Поскольку все значения кратны тысяче, укажем в данном столбце пробег в тысячах км:"
   ]
  },
  {
   "cell_type": "code",
   "execution_count": 14,
   "metadata": {},
   "outputs": [
    {
     "data": {
      "text/plain": [
       "150.0    197751\n",
       "125.0     31510\n",
       "100.0     12570\n",
       "90.0      10189\n",
       "80.0       8937\n",
       "70.0       7693\n",
       "60.0       6722\n",
       "50.0       5588\n",
       "40.0       4422\n",
       "30.0       3838\n",
       "20.0       3205\n",
       "5.0        2739\n",
       "10.0        869\n",
       "Name: Kilometer, dtype: int64"
      ]
     },
     "execution_count": 14,
     "metadata": {},
     "output_type": "execute_result"
    }
   ],
   "source": [
    "features['Kilometer'] = features['Kilometer'] / 1000\n",
    "features['Kilometer'].value_counts()"
   ]
  },
  {
   "cell_type": "markdown",
   "metadata": {},
   "source": [
    "## Комментарий наставника\n",
    "<span style=\"color:orange\">Можно было добавить масштабирование всех численных признаков, оно бы выполнило за нас и эту задачу, но намного эффективнее.</span>"
   ]
  },
  {
   "cell_type": "markdown",
   "metadata": {},
   "source": [
    "Теперь перейдем к категориальным данным:\n",
    "\n",
    "### FuelType\n",
    "\n",
    "Изучим признак **FuelType**:"
   ]
  },
  {
   "cell_type": "code",
   "execution_count": 15,
   "metadata": {},
   "outputs": [
    {
     "data": {
      "text/plain": [
       "petrol      183309\n",
       "gasoline     88676\n",
       "NaN          18500\n",
       "lpg           4763\n",
       "cng            493\n",
       "hybrid         204\n",
       "other           55\n",
       "electric        33\n",
       "Name: FuelType, dtype: int64"
      ]
     },
     "execution_count": 15,
     "metadata": {},
     "output_type": "execute_result"
    }
   ],
   "source": [
    "features['FuelType'].fillna('NaN').value_counts()"
   ]
  },
  {
   "cell_type": "markdown",
   "metadata": {},
   "source": [
    "Пропуски в данном случае возникают, если тип топлива не указан. Поскольку их довольно много, заменим из значением *unknown* (неизвестно). Также отметим, что *petrol* и *gasoline* по сути являются синонимами и их можно привести к одному значению:"
   ]
  },
  {
   "cell_type": "code",
   "execution_count": 16,
   "metadata": {},
   "outputs": [
    {
     "data": {
      "text/plain": [
       "gasoline    271985\n",
       "unknown      18500\n",
       "lpg           4763\n",
       "cng            493\n",
       "hybrid         204\n",
       "other           55\n",
       "electric        33\n",
       "Name: FuelType, dtype: int64"
      ]
     },
     "execution_count": 16,
     "metadata": {},
     "output_type": "execute_result"
    }
   ],
   "source": [
    "features['FuelType'].fillna('unknown', inplace=True)\n",
    "features['FuelType'].mask(features['FuelType'] == 'petrol', 'gasoline', inplace=True)\n",
    "features['FuelType'].value_counts() # Проверка"
   ]
  },
  {
   "cell_type": "markdown",
   "metadata": {},
   "source": [
    "## Комментарий наставника\n",
    "<span style=\"color:green\">Вопросов нет.</span>"
   ]
  },
  {
   "cell_type": "markdown",
   "metadata": {},
   "source": [
    "### Gearbox\n",
    "\n",
    "Рассмотрим значения признака **Gearbox**:"
   ]
  },
  {
   "cell_type": "code",
   "execution_count": 17,
   "metadata": {},
   "outputs": [
    {
     "data": {
      "text/plain": [
       "manual    231374\n",
       "auto       59206\n",
       "NaN         5453\n",
       "Name: Gearbox, dtype: int64"
      ]
     },
     "execution_count": 17,
     "metadata": {},
     "output_type": "execute_result"
    }
   ],
   "source": [
    "features['Gearbox'].fillna('NaN').value_counts()"
   ]
  },
  {
   "cell_type": "markdown",
   "metadata": {},
   "source": [
    "Пропуски в этом поле, на наш взгляд, целесообразно заполнить наиболее частым значением (*manual*):"
   ]
  },
  {
   "cell_type": "code",
   "execution_count": 18,
   "metadata": {},
   "outputs": [
    {
     "data": {
      "text/plain": [
       "manual    236827\n",
       "auto       59206\n",
       "Name: Gearbox, dtype: int64"
      ]
     },
     "execution_count": 18,
     "metadata": {},
     "output_type": "execute_result"
    }
   ],
   "source": [
    "features['Gearbox'].fillna('manual', inplace = True)\n",
    "features['Gearbox'].value_counts()"
   ]
  },
  {
   "cell_type": "markdown",
   "metadata": {},
   "source": [
    "### Not repaired"
   ]
  },
  {
   "cell_type": "code",
   "execution_count": 19,
   "metadata": {},
   "outputs": [
    {
     "data": {
      "text/plain": [
       "no     223377\n",
       "NaN     44378\n",
       "yes     28278\n",
       "Name: NotRepaired, dtype: int64"
      ]
     },
     "execution_count": 19,
     "metadata": {},
     "output_type": "execute_result"
    }
   ],
   "source": [
    "features['NotRepaired'].fillna('NaN').value_counts()"
   ]
  },
  {
   "cell_type": "markdown",
   "metadata": {},
   "source": [
    "В столбце **NotRepaired** пропусков достаточно много, при этом данная информация может быть важна при определении цены. Заполним пропуски значением *unknown*:"
   ]
  },
  {
   "cell_type": "code",
   "execution_count": 20,
   "metadata": {},
   "outputs": [
    {
     "data": {
      "text/plain": [
       "no         223377\n",
       "unknown     44378\n",
       "yes         28278\n",
       "Name: NotRepaired, dtype: int64"
      ]
     },
     "execution_count": 20,
     "metadata": {},
     "output_type": "execute_result"
    }
   ],
   "source": [
    "features['NotRepaired'].fillna('unknown', inplace = True)\n",
    "features['NotRepaired'].value_counts()"
   ]
  },
  {
   "cell_type": "markdown",
   "metadata": {},
   "source": [
    "### Model\n",
    "\n",
    "Модель автомобиля, как видится, является определяющим признаком для рассчета цены, поэтому записи, где данный признак отсутствует, для обучения модели не подходят. удалим их:"
   ]
  },
  {
   "cell_type": "code",
   "execution_count": 21,
   "metadata": {},
   "outputs": [
    {
     "name": "stdout",
     "output_type": "stream",
     "text": [
      "Осталось записей: 284599\n"
     ]
    }
   ],
   "source": [
    "features.dropna(subset=['Model'], inplace=True)\n",
    "print('Осталось записей:', features.shape[0])"
   ]
  },
  {
   "cell_type": "markdown",
   "metadata": {},
   "source": [
    "## Комментарий наставника\n",
    "<span style=\"color:green\">Окей.</span>"
   ]
  },
  {
   "cell_type": "markdown",
   "metadata": {},
   "source": [
    "### VehicleType\n",
    "Что касается типа кузова, можно попробовать заполнить пропуски на основании записей, где модель автомобиля та же, у тип кузова указан:"
   ]
  },
  {
   "cell_type": "code",
   "execution_count": 22,
   "metadata": {},
   "outputs": [
    {
     "name": "stdout",
     "output_type": "stream",
     "text": [
      "В столбце VehicleType осталось 0 пропусков\n"
     ]
    }
   ],
   "source": [
    "def fill_na_by_category(column_to_fill, category, aggfunc = 'mean'):\n",
    "\n",
    "    ''' Функция для заполнения пропусков рассчетным значением по категории'''\n",
    "\n",
    "    filled_vals_dict = (features.groupby(category)[column_to_fill]\n",
    "                        .transform(aggfunc))  #группируем по категории и находим расчетное значение для группы\n",
    "    features[column_to_fill].fillna(filled_vals_dict, inplace = True) # заполняем пропуски рассчетным значением\n",
    "    print(f'В столбце {column_to_fill} осталось {features[column_to_fill].isna().sum()} пропусков') # проверка\n",
    "\n",
    "fill_na_by_category('VehicleType', \n",
    "                    ['Brand', 'Model'], \n",
    "                    lambda x:x.mode()[0])"
   ]
  },
  {
   "cell_type": "markdown",
   "metadata": {},
   "source": [
    "С помощью функции *fill_na_by_category* мы сделали следующее: сгруппировали все записи по марке и модели автомобиля, для каждой группы нашли наиболее частое значение (моду) и у тех автомобилей, где не указан тип кузова, заполнили пропуски этим значением. Понятно, что бывают модели, которые выпускаются в нескольких типах кузова (седан и хэтчбек, например), но как представляется, на итоговую работу модели это повлияет не сильно."
   ]
  },
  {
   "cell_type": "markdown",
   "metadata": {},
   "source": [
    "## Комментарий наставника\n",
    "<span style=\"color:green\">К первому этапу проекта вопросов нет, идём дальше:)</span>"
   ]
  },
  {
   "cell_type": "markdown",
   "metadata": {},
   "source": [
    "# 2. Предобработка данных\n",
    "\n",
    "Выделим целевой признак в переменную ***target***:"
   ]
  },
  {
   "cell_type": "code",
   "execution_count": 23,
   "metadata": {},
   "outputs": [
    {
     "data": {
      "text/html": [
       "<div>\n",
       "<style scoped>\n",
       "    .dataframe tbody tr th:only-of-type {\n",
       "        vertical-align: middle;\n",
       "    }\n",
       "\n",
       "    .dataframe tbody tr th {\n",
       "        vertical-align: top;\n",
       "    }\n",
       "\n",
       "    .dataframe thead th {\n",
       "        text-align: right;\n",
       "    }\n",
       "</style>\n",
       "<table border=\"1\" class=\"dataframe\">\n",
       "  <thead>\n",
       "    <tr style=\"text-align: right;\">\n",
       "      <th></th>\n",
       "      <th>VehicleType</th>\n",
       "      <th>RegistrationYear</th>\n",
       "      <th>Gearbox</th>\n",
       "      <th>Power</th>\n",
       "      <th>Model</th>\n",
       "      <th>Kilometer</th>\n",
       "      <th>FuelType</th>\n",
       "      <th>Brand</th>\n",
       "      <th>NotRepaired</th>\n",
       "    </tr>\n",
       "  </thead>\n",
       "  <tbody>\n",
       "    <tr>\n",
       "      <td>2</td>\n",
       "      <td>suv</td>\n",
       "      <td>2004</td>\n",
       "      <td>auto</td>\n",
       "      <td>163</td>\n",
       "      <td>grand</td>\n",
       "      <td>125.0</td>\n",
       "      <td>gasoline</td>\n",
       "      <td>jeep</td>\n",
       "      <td>unknown</td>\n",
       "    </tr>\n",
       "    <tr>\n",
       "      <td>3</td>\n",
       "      <td>small</td>\n",
       "      <td>2001</td>\n",
       "      <td>manual</td>\n",
       "      <td>75</td>\n",
       "      <td>golf</td>\n",
       "      <td>150.0</td>\n",
       "      <td>gasoline</td>\n",
       "      <td>volkswagen</td>\n",
       "      <td>no</td>\n",
       "    </tr>\n",
       "    <tr>\n",
       "      <td>4</td>\n",
       "      <td>small</td>\n",
       "      <td>2008</td>\n",
       "      <td>manual</td>\n",
       "      <td>69</td>\n",
       "      <td>fabia</td>\n",
       "      <td>90.0</td>\n",
       "      <td>gasoline</td>\n",
       "      <td>skoda</td>\n",
       "      <td>no</td>\n",
       "    </tr>\n",
       "    <tr>\n",
       "      <td>5</td>\n",
       "      <td>sedan</td>\n",
       "      <td>1995</td>\n",
       "      <td>manual</td>\n",
       "      <td>102</td>\n",
       "      <td>3er</td>\n",
       "      <td>150.0</td>\n",
       "      <td>gasoline</td>\n",
       "      <td>bmw</td>\n",
       "      <td>yes</td>\n",
       "    </tr>\n",
       "    <tr>\n",
       "      <td>6</td>\n",
       "      <td>convertible</td>\n",
       "      <td>2004</td>\n",
       "      <td>manual</td>\n",
       "      <td>109</td>\n",
       "      <td>2_reihe</td>\n",
       "      <td>150.0</td>\n",
       "      <td>gasoline</td>\n",
       "      <td>peugeot</td>\n",
       "      <td>no</td>\n",
       "    </tr>\n",
       "  </tbody>\n",
       "</table>\n",
       "</div>"
      ],
      "text/plain": [
       "   VehicleType  RegistrationYear Gearbox  Power    Model  Kilometer  FuelType  \\\n",
       "2          suv              2004    auto    163    grand      125.0  gasoline   \n",
       "3        small              2001  manual     75     golf      150.0  gasoline   \n",
       "4        small              2008  manual     69    fabia       90.0  gasoline   \n",
       "5        sedan              1995  manual    102      3er      150.0  gasoline   \n",
       "6  convertible              2004  manual    109  2_reihe      150.0  gasoline   \n",
       "\n",
       "        Brand NotRepaired  \n",
       "2        jeep     unknown  \n",
       "3  volkswagen          no  \n",
       "4       skoda          no  \n",
       "5         bmw         yes  \n",
       "6     peugeot          no  "
      ]
     },
     "execution_count": 23,
     "metadata": {},
     "output_type": "execute_result"
    }
   ],
   "source": [
    "target = features['Price']\n",
    "features.drop(columns = 'Price', inplace = True)\n",
    "features.head()"
   ]
  },
  {
   "cell_type": "markdown",
   "metadata": {},
   "source": [
    "Категориальные признаки закодируем с помощью OrdinalEncoder:"
   ]
  },
  {
   "cell_type": "code",
   "execution_count": 24,
   "metadata": {},
   "outputs": [
    {
     "data": {
      "text/html": [
       "<div>\n",
       "<style scoped>\n",
       "    .dataframe tbody tr th:only-of-type {\n",
       "        vertical-align: middle;\n",
       "    }\n",
       "\n",
       "    .dataframe tbody tr th {\n",
       "        vertical-align: top;\n",
       "    }\n",
       "\n",
       "    .dataframe thead th {\n",
       "        text-align: right;\n",
       "    }\n",
       "</style>\n",
       "<table border=\"1\" class=\"dataframe\">\n",
       "  <thead>\n",
       "    <tr style=\"text-align: right;\">\n",
       "      <th></th>\n",
       "      <th>VehicleType</th>\n",
       "      <th>RegistrationYear</th>\n",
       "      <th>Gearbox</th>\n",
       "      <th>Power</th>\n",
       "      <th>Model</th>\n",
       "      <th>Kilometer</th>\n",
       "      <th>FuelType</th>\n",
       "      <th>Brand</th>\n",
       "      <th>NotRepaired</th>\n",
       "    </tr>\n",
       "  </thead>\n",
       "  <tbody>\n",
       "    <tr>\n",
       "      <td>2</td>\n",
       "      <td>6.0</td>\n",
       "      <td>2004</td>\n",
       "      <td>0.0</td>\n",
       "      <td>163</td>\n",
       "      <td>116.0</td>\n",
       "      <td>125.0</td>\n",
       "      <td>2.0</td>\n",
       "      <td>14.0</td>\n",
       "      <td>1.0</td>\n",
       "    </tr>\n",
       "    <tr>\n",
       "      <td>3</td>\n",
       "      <td>5.0</td>\n",
       "      <td>2001</td>\n",
       "      <td>1.0</td>\n",
       "      <td>75</td>\n",
       "      <td>115.0</td>\n",
       "      <td>150.0</td>\n",
       "      <td>2.0</td>\n",
       "      <td>37.0</td>\n",
       "      <td>0.0</td>\n",
       "    </tr>\n",
       "    <tr>\n",
       "      <td>4</td>\n",
       "      <td>5.0</td>\n",
       "      <td>2008</td>\n",
       "      <td>1.0</td>\n",
       "      <td>69</td>\n",
       "      <td>100.0</td>\n",
       "      <td>90.0</td>\n",
       "      <td>2.0</td>\n",
       "      <td>31.0</td>\n",
       "      <td>0.0</td>\n",
       "    </tr>\n",
       "    <tr>\n",
       "      <td>5</td>\n",
       "      <td>4.0</td>\n",
       "      <td>1995</td>\n",
       "      <td>1.0</td>\n",
       "      <td>102</td>\n",
       "      <td>11.0</td>\n",
       "      <td>150.0</td>\n",
       "      <td>2.0</td>\n",
       "      <td>2.0</td>\n",
       "      <td>2.0</td>\n",
       "    </tr>\n",
       "    <tr>\n",
       "      <td>6</td>\n",
       "      <td>1.0</td>\n",
       "      <td>2004</td>\n",
       "      <td>1.0</td>\n",
       "      <td>109</td>\n",
       "      <td>8.0</td>\n",
       "      <td>150.0</td>\n",
       "      <td>2.0</td>\n",
       "      <td>25.0</td>\n",
       "      <td>0.0</td>\n",
       "    </tr>\n",
       "  </tbody>\n",
       "</table>\n",
       "</div>"
      ],
      "text/plain": [
       "   VehicleType  RegistrationYear  Gearbox  Power  Model  Kilometer  FuelType  \\\n",
       "2          6.0              2004      0.0    163  116.0      125.0       2.0   \n",
       "3          5.0              2001      1.0     75  115.0      150.0       2.0   \n",
       "4          5.0              2008      1.0     69  100.0       90.0       2.0   \n",
       "5          4.0              1995      1.0    102   11.0      150.0       2.0   \n",
       "6          1.0              2004      1.0    109    8.0      150.0       2.0   \n",
       "\n",
       "   Brand  NotRepaired  \n",
       "2   14.0          1.0  \n",
       "3   37.0          0.0  \n",
       "4   31.0          0.0  \n",
       "5    2.0          2.0  \n",
       "6   25.0          0.0  "
      ]
     },
     "execution_count": 24,
     "metadata": {},
     "output_type": "execute_result"
    }
   ],
   "source": [
    "encoder = OrdinalEncoder()\n",
    "cat_features_list = [\n",
    "                     'VehicleType', \n",
    "                     'Gearbox', \n",
    "                     'Model', \n",
    "                     'FuelType', \n",
    "                     'Brand',\n",
    "                     'NotRepaired'\n",
    "                    ]\n",
    "features[cat_features_list] = encoder.fit_transform(features[cat_features_list])\n",
    "features.head()"
   ]
  },
  {
   "cell_type": "markdown",
   "metadata": {},
   "source": [
    "Преобразуем признаки в тип int:"
   ]
  },
  {
   "cell_type": "code",
   "execution_count": 25,
   "metadata": {},
   "outputs": [
    {
     "data": {
      "text/html": [
       "<div>\n",
       "<style scoped>\n",
       "    .dataframe tbody tr th:only-of-type {\n",
       "        vertical-align: middle;\n",
       "    }\n",
       "\n",
       "    .dataframe tbody tr th {\n",
       "        vertical-align: top;\n",
       "    }\n",
       "\n",
       "    .dataframe thead th {\n",
       "        text-align: right;\n",
       "    }\n",
       "</style>\n",
       "<table border=\"1\" class=\"dataframe\">\n",
       "  <thead>\n",
       "    <tr style=\"text-align: right;\">\n",
       "      <th></th>\n",
       "      <th>VehicleType</th>\n",
       "      <th>RegistrationYear</th>\n",
       "      <th>Gearbox</th>\n",
       "      <th>Power</th>\n",
       "      <th>Model</th>\n",
       "      <th>Kilometer</th>\n",
       "      <th>FuelType</th>\n",
       "      <th>Brand</th>\n",
       "      <th>NotRepaired</th>\n",
       "    </tr>\n",
       "  </thead>\n",
       "  <tbody>\n",
       "    <tr>\n",
       "      <td>2</td>\n",
       "      <td>6</td>\n",
       "      <td>2004</td>\n",
       "      <td>0</td>\n",
       "      <td>163</td>\n",
       "      <td>116</td>\n",
       "      <td>125</td>\n",
       "      <td>2</td>\n",
       "      <td>14</td>\n",
       "      <td>1</td>\n",
       "    </tr>\n",
       "    <tr>\n",
       "      <td>3</td>\n",
       "      <td>5</td>\n",
       "      <td>2001</td>\n",
       "      <td>1</td>\n",
       "      <td>75</td>\n",
       "      <td>115</td>\n",
       "      <td>150</td>\n",
       "      <td>2</td>\n",
       "      <td>37</td>\n",
       "      <td>0</td>\n",
       "    </tr>\n",
       "    <tr>\n",
       "      <td>4</td>\n",
       "      <td>5</td>\n",
       "      <td>2008</td>\n",
       "      <td>1</td>\n",
       "      <td>69</td>\n",
       "      <td>100</td>\n",
       "      <td>90</td>\n",
       "      <td>2</td>\n",
       "      <td>31</td>\n",
       "      <td>0</td>\n",
       "    </tr>\n",
       "    <tr>\n",
       "      <td>5</td>\n",
       "      <td>4</td>\n",
       "      <td>1995</td>\n",
       "      <td>1</td>\n",
       "      <td>102</td>\n",
       "      <td>11</td>\n",
       "      <td>150</td>\n",
       "      <td>2</td>\n",
       "      <td>2</td>\n",
       "      <td>2</td>\n",
       "    </tr>\n",
       "    <tr>\n",
       "      <td>6</td>\n",
       "      <td>1</td>\n",
       "      <td>2004</td>\n",
       "      <td>1</td>\n",
       "      <td>109</td>\n",
       "      <td>8</td>\n",
       "      <td>150</td>\n",
       "      <td>2</td>\n",
       "      <td>25</td>\n",
       "      <td>0</td>\n",
       "    </tr>\n",
       "  </tbody>\n",
       "</table>\n",
       "</div>"
      ],
      "text/plain": [
       "   VehicleType  RegistrationYear  Gearbox  Power  Model  Kilometer  FuelType  \\\n",
       "2            6              2004        0    163    116        125         2   \n",
       "3            5              2001        1     75    115        150         2   \n",
       "4            5              2008        1     69    100         90         2   \n",
       "5            4              1995        1    102     11        150         2   \n",
       "6            1              2004        1    109      8        150         2   \n",
       "\n",
       "   Brand  NotRepaired  \n",
       "2     14            1  \n",
       "3     37            0  \n",
       "4     31            0  \n",
       "5      2            2  \n",
       "6     25            0  "
      ]
     },
     "execution_count": 25,
     "metadata": {},
     "output_type": "execute_result"
    }
   ],
   "source": [
    "features = features.astype('int16')\n",
    "features.head()"
   ]
  },
  {
   "cell_type": "markdown",
   "metadata": {},
   "source": [
    "Выделим обучающую, валидационную и тестовую выборки:"
   ]
  },
  {
   "cell_type": "code",
   "execution_count": 26,
   "metadata": {},
   "outputs": [
    {
     "name": "stdout",
     "output_type": "stream",
     "text": [
      "Размеры выборок:\n",
      "\n",
      "Обучающая \t 170759\n",
      "Валидационная \t 56920\n",
      "Тестовая \t 56920\n"
     ]
    }
   ],
   "source": [
    "train_feats, valid_feats, train_target, valid_target = train_test_split(features, \n",
    "                                                                        target, \n",
    "                                                                        train_size = 0.6,\n",
    "                                                                        random_state = R)\n",
    "valid_feats, test_feats, valid_target, test_target = train_test_split(valid_feats, \n",
    "                                                                      valid_target, \n",
    "                                                                      train_size = 0.5,\n",
    "                                                                      random_state = R)\n",
    "\n",
    "print(f'''Размеры выборок:\n",
    "\n",
    "Обучающая \\t {train_feats.shape[0]}\n",
    "Валидационная \\t {valid_feats.shape[0]}\n",
    "Тестовая \\t {test_feats.shape[0]}''')"
   ]
  },
  {
   "cell_type": "code",
   "execution_count": null,
   "metadata": {},
   "outputs": [],
   "source": []
  },
  {
   "cell_type": "markdown",
   "metadata": {},
   "source": [
    "## Комментарий наставника\n",
    "<span style=\"color:green\">Кодирование и разбивка верные.</span>"
   ]
  },
  {
   "cell_type": "markdown",
   "metadata": {},
   "source": [
    "# 3. Обучение моделей"
   ]
  },
  {
   "cell_type": "markdown",
   "metadata": {},
   "source": [
    "В качестве моделей регрессии воспользуемся регрессорами на основе градиентного бустинга из библиотек LightGBM, CatBoost и XGBoost. Для каждой модели определим время обучения, скорость предсказания и качество модели (по метрике RMSE).\n",
    "\n",
    "Но сперва для оценки качества наших моделей построим пару простых моделей, по которым будем оценивать вменяемость. В качестве одной из них используем dummy-регрессор, возвращающий медианное значение цены:"
   ]
  },
  {
   "cell_type": "code",
   "execution_count": 27,
   "metadata": {},
   "outputs": [
    {
     "name": "stdout",
     "output_type": "stream",
     "text": [
      "RMSE для dummy-модели: 4905.505345962037\n"
     ]
    }
   ],
   "source": [
    "dummy_model = DummyRegressor(strategy='median')\n",
    "dummy_model.fit(train_feats, train_target)\n",
    "prediction = dummy_model.predict(valid_feats)\n",
    "dummy_rmse = mean_squared_error(valid_target, prediction)**0.5\n",
    "print('RMSE для dummy-модели:', dummy_rmse)"
   ]
  },
  {
   "cell_type": "markdown",
   "metadata": {},
   "source": [
    "Как видим, ошибка весьма значительна, особенно если учесть, что средняя цена находится в районе 3 - 4 тысяч евро.\n",
    "\n",
    "Также попробуем построить модель на основе алгоритма \"Случайный лес\". Для нее найдем ошшибку на валидационных и тестовых данных, а также время обучения и предсказания:"
   ]
  },
  {
   "cell_type": "code",
   "execution_count": 28,
   "metadata": {},
   "outputs": [
    {
     "name": "stdout",
     "output_type": "stream",
     "text": [
      "Обучение закончено. Время обучения 53.443 секунд\n"
     ]
    }
   ],
   "source": [
    "rf_model = RandomForestRegressor(n_estimators = 100, criterion='mse') #параметры по умолчанию\n",
    "\n",
    "t = time()\n",
    "rf_model.fit(train_feats, train_target)\n",
    "t_fit = time() - t\n",
    "print(f'Обучение закончено. Время обучения {round(t_fit, 3)} секунд')"
   ]
  },
  {
   "cell_type": "code",
   "execution_count": 29,
   "metadata": {},
   "outputs": [
    {
     "name": "stdout",
     "output_type": "stream",
     "text": [
      "Предсказание закончено. Время предсказания 2.519 секунд\n"
     ]
    }
   ],
   "source": [
    "t = time()\n",
    "prediction = rf_model.predict(valid_feats)\n",
    "t_predict = time() - t\n",
    "print(f'Предсказание закончено. Время предсказания {round(t_predict, 3)} секунд')"
   ]
  },
  {
   "cell_type": "code",
   "execution_count": 30,
   "metadata": {
    "scrolled": true
   },
   "outputs": [
    {
     "data": {
      "text/html": [
       "<div>\n",
       "<style scoped>\n",
       "    .dataframe tbody tr th:only-of-type {\n",
       "        vertical-align: middle;\n",
       "    }\n",
       "\n",
       "    .dataframe tbody tr th {\n",
       "        vertical-align: top;\n",
       "    }\n",
       "\n",
       "    .dataframe thead th {\n",
       "        text-align: right;\n",
       "    }\n",
       "</style>\n",
       "<table border=\"1\" class=\"dataframe\">\n",
       "  <thead>\n",
       "    <tr style=\"text-align: right;\">\n",
       "      <th></th>\n",
       "      <th>RMSE на валидации</th>\n",
       "      <th>RMSE на тестовом наборе</th>\n",
       "      <th>Время обучения</th>\n",
       "      <th>Время предсказания</th>\n",
       "    </tr>\n",
       "  </thead>\n",
       "  <tbody>\n",
       "    <tr>\n",
       "      <td>Random Forest</td>\n",
       "      <td>1617.910505</td>\n",
       "      <td>1611.02517</td>\n",
       "      <td>53.443079</td>\n",
       "      <td>2.518729</td>\n",
       "    </tr>\n",
       "  </tbody>\n",
       "</table>\n",
       "</div>"
      ],
      "text/plain": [
       "               RMSE на валидации  RMSE на тестовом наборе  Время обучения  \\\n",
       "Random Forest        1617.910505               1611.02517       53.443079   \n",
       "\n",
       "               Время предсказания  \n",
       "Random Forest            2.518729  "
      ]
     },
     "execution_count": 30,
     "metadata": {},
     "output_type": "execute_result"
    }
   ],
   "source": [
    "rf_rmse_valid = np.sqrt(mean_squared_error(valid_target, prediction))\n",
    "rf_rmse_test = np.sqrt(mean_squared_error(test_target, rf_model.predict(test_feats)))\n",
    "# датасет для результатов:\n",
    "results = pd.DataFrame(columns=['RMSE на валидации', \n",
    "                                'RMSE на тестовом наборе', \n",
    "                                'Время обучения', \n",
    "                                'Время предсказания'])\n",
    "results.loc['Random Forest'] = rf_rmse_valid, rf_rmse_test, t_fit, t_predict\n",
    "results"
   ]
  },
  {
   "cell_type": "markdown",
   "metadata": {},
   "source": [
    "У случайного леса даже без подбора гиперпараметров RMSE ощутимо лучше, чем у Dummy. В дальнейшем наши модели будем сравнивать с результатами случайного леса\n",
    "\n",
    "Теперь перейдем к построению моделей градиентного бустинга:"
   ]
  },
  {
   "cell_type": "markdown",
   "metadata": {},
   "source": [
    "## Комментарий наставника\n",
    "<span style=\"color:green\">Всё верно.</span>"
   ]
  },
  {
   "cell_type": "markdown",
   "metadata": {},
   "source": [
    "## LightGBM\n",
    "\n",
    "Приведем данные к требуемому формату (lightgbm.Dataset):"
   ]
  },
  {
   "cell_type": "code",
   "execution_count": 31,
   "metadata": {},
   "outputs": [],
   "source": [
    "lgb_train = lgb.Dataset(train_feats, train_target, free_raw_data=False, categorical_feature=cat_features_list)\n",
    "lgb_valid = lgb.Dataset(valid_feats, valid_target, free_raw_data=False, categorical_feature=cat_features_list)"
   ]
  },
  {
   "cell_type": "markdown",
   "metadata": {},
   "source": [
    "Построим модель и обучим ее на тренировочных данных:"
   ]
  },
  {
   "cell_type": "code",
   "execution_count": 32,
   "metadata": {
    "scrolled": true
   },
   "outputs": [
    {
     "name": "stderr",
     "output_type": "stream",
     "text": [
      "/opt/conda/lib/python3.7/site-packages/lightgbm/basic.py:1291: UserWarning: Using categorical_feature in Dataset.\n",
      "  warnings.warn('Using categorical_feature in Dataset.')\n"
     ]
    },
    {
     "name": "stdout",
     "output_type": "stream",
     "text": [
      "[25]\ttraining's rmse: 1823.92\tvalid_1's rmse: 1843.94\n",
      "[50]\ttraining's rmse: 1650.93\tvalid_1's rmse: 1675.97\n",
      "[75]\ttraining's rmse: 1602.7\tvalid_1's rmse: 1636.45\n",
      "[100]\ttraining's rmse: 1573.08\tvalid_1's rmse: 1617.36\n",
      "Обучение закончено. Время обучения 7.577 секунд, RMSE на валидации - 1617.363246415883\n"
     ]
    }
   ],
   "source": [
    "# параметры бустинга\n",
    "lgb_parameters = {\n",
    "    'boosting_type': 'gbdt',\n",
    "    'application': 'regression',\n",
    "    'metric': 'rmse',\n",
    "    'seed': R\n",
    "    }\n",
    "\n",
    "t = time()\n",
    "lgb_model = lgb.train(lgb_parameters, lgb_train, valid_sets=[lgb_train, lgb_valid], verbose_eval=25)\n",
    "t_fit = time() - t\n",
    "print(f'Обучение закончено. Время обучения {round(t_fit, 3)} секунд,', \n",
    "      f'RMSE на валидации - {lgb_model.best_score[\"valid_1\"][\"rmse\"]}')\n",
    "#del lgb_model"
   ]
  },
  {
   "cell_type": "markdown",
   "metadata": {},
   "source": [
    "Как видно, с параметрами по умолчанию качество модели почти не отличается от случайного леса, а обучение происходит намного быстрее. Попробуем подобрать оптимальные гиперпараметры: скорость обучения, количество итераций, и прочие: "
   ]
  },
  {
   "cell_type": "code",
   "execution_count": 33,
   "metadata": {},
   "outputs": [],
   "source": [
    "def train_time(lib, **kwargs):\n",
    "    \n",
    "    '''Обучение модели и замер времени'''\n",
    "    \n",
    "    t = time()\n",
    "    model = lib.train(**kwargs)\n",
    "    t_fit = time() - t\n",
    "    print(f'Обучение закончено. Время обучения {round(t_fit, 3)} секунд')\n",
    "    \n",
    "    return model, t_fit"
   ]
  },
  {
   "cell_type": "code",
   "execution_count": 34,
   "metadata": {},
   "outputs": [
    {
     "name": "stdout",
     "output_type": "stream",
     "text": [
      "Training until validation scores don't improve for 50 rounds\n",
      "[100]\ttraining's rmse: 1475.95\tvalid_1's rmse: 1585.66\n",
      "[200]\ttraining's rmse: 1336.32\tvalid_1's rmse: 1522.18\n",
      "[300]\ttraining's rmse: 1276.91\tvalid_1's rmse: 1512.5\n",
      "[400]\ttraining's rmse: 1236.99\tvalid_1's rmse: 1509.15\n",
      "[500]\ttraining's rmse: 1205.25\tvalid_1's rmse: 1508.48\n",
      "Early stopping, best iteration is:\n",
      "[452]\ttraining's rmse: 1219.85\tvalid_1's rmse: 1508.35\n",
      "Обучение закончено. Время обучения 153.487 секунд\n"
     ]
    }
   ],
   "source": [
    "lgb_parameters['num_leaves'] = 512\n",
    "lgb_parameters['learning_rate'] = 0.03\n",
    "lgb_parameters['max_bin'] = 512\n",
    "lgb_parameters['bagging_fraction'] = 0.8\n",
    "lgb_parameters['bagging_freq'] = 1\n",
    "\n",
    "lgb_model, t_fit = train_time(lgb, \n",
    "                              params=lgb_parameters, \n",
    "                              train_set=lgb_train, \n",
    "                              num_boost_round=1000, \n",
    "                              valid_sets=[lgb_train, lgb_valid], \n",
    "                              verbose_eval=100, \n",
    "                              early_stopping_rounds=50)"
   ]
  },
  {
   "cell_type": "markdown",
   "metadata": {},
   "source": [
    "Проверим качество модели на тестовых данных, а также найдем скорость предсказания:"
   ]
  },
  {
   "cell_type": "code",
   "execution_count": 35,
   "metadata": {
    "scrolled": true
   },
   "outputs": [
    {
     "name": "stdout",
     "output_type": "stream",
     "text": [
      "Предсказание завершено. Время - 14.7127 сек, RMSE на тестовом наборе - 1499.1182336983488\n"
     ]
    }
   ],
   "source": [
    "def predict_time(model, test):\n",
    "    '''Находит RMSE на тестовых данных и время предсказания'''\n",
    "    t = time()\n",
    "    prediction = model.predict(test)\n",
    "    t_predict = time() - t\n",
    "    rmse_test = np.sqrt(mean_squared_error(test_target, prediction))\n",
    "    print(f'Предсказание завершено. Время - {round(t_predict, 4)} сек, RMSE на тестовом наборе - {rmse_test}')\n",
    "    return rmse_test, t_predict\n",
    "\n",
    "rmse_test, t_predict = predict_time(lgb_model, test_feats)\n",
    "results.loc['LightGBM'] = [lgb_model.best_score['valid_1']['rmse'], rmse_test, t_fit, t_predict]"
   ]
  },
  {
   "cell_type": "markdown",
   "metadata": {},
   "source": [
    "Нам удалось добиться лучшего качества, чем при использовании случайного леса, а также добиться выигрыша в скорости обучения. \n",
    "\n",
    "Посмотрим важность признаков в модели:"
   ]
  },
  {
   "cell_type": "code",
   "execution_count": 36,
   "metadata": {},
   "outputs": [
    {
     "data": {
      "image/png": "[encoded data removed]",
      "text/plain": [
       "<Figure size 720x288 with 1 Axes>"
      ]
     },
     "metadata": {
      "needs_background": "light"
     },
     "output_type": "display_data"
    }
   ],
   "source": [
    "lgb.plot_importance(lgb_model)\n",
    "plt.show()"
   ]
  },
  {
   "cell_type": "markdown",
   "metadata": {},
   "source": [
    "## Комментарий наставника\n",
    "<span style=\"color:green\">Очень хорошо.</span>"
   ]
  },
  {
   "cell_type": "markdown",
   "metadata": {},
   "source": [
    "## CatBoost"
   ]
  },
  {
   "cell_type": "markdown",
   "metadata": {},
   "source": [
    "Теперь реализуем градиентный бустинг с использованием CatBoost:"
   ]
  },
  {
   "cell_type": "code",
   "execution_count": 37,
   "metadata": {},
   "outputs": [],
   "source": [
    "# Преобразуем данные в объект catboost.Pool\n",
    "cb_train = cat.Pool(train_feats, label=train_target)\n",
    "cb_valid = cat.Pool(valid_feats, label=valid_target)"
   ]
  },
  {
   "cell_type": "code",
   "execution_count": 38,
   "metadata": {},
   "outputs": [
    {
     "name": "stdout",
     "output_type": "stream",
     "text": [
      "0:\tlearn: 4435.8454233\ttest: 4453.4790515\tbest: 4453.4790515 (0)\ttotal: 162ms\tremaining: 16m 11s\n",
      "500:\tlearn: 1583.8445898\ttest: 1636.3515008\tbest: 1636.3515008 (500)\ttotal: 1m 33s\tremaining: 17m 3s\n",
      "1000:\tlearn: 1484.6257978\ttest: 1582.4329263\tbest: 1582.4329263 (1000)\ttotal: 3m 4s\tremaining: 15m 21s\n",
      "1500:\tlearn: 1427.6619401\ttest: 1560.4566508\tbest: 1560.4566508 (1500)\ttotal: 4m 36s\tremaining: 13m 50s\n",
      "2000:\tlearn: 1387.1007287\ttest: 1549.1159674\tbest: 1549.1159674 (2000)\ttotal: 6m 8s\tremaining: 12m 16s\n",
      "2500:\tlearn: 1356.0263408\ttest: 1542.4619156\tbest: 1542.4619156 (2500)\ttotal: 7m 39s\tremaining: 10m 42s\n",
      "3000:\tlearn: 1330.6822070\ttest: 1537.8825764\tbest: 1537.8825764 (3000)\ttotal: 9m 10s\tremaining: 9m 9s\n",
      "3500:\tlearn: 1308.6833879\ttest: 1534.6769443\tbest: 1534.6769443 (3500)\ttotal: 10m 40s\tremaining: 7m 37s\n",
      "4000:\tlearn: 1289.9906417\ttest: 1532.4329249\tbest: 1532.4009215 (3982)\ttotal: 12m 12s\tremaining: 6m 5s\n",
      "4500:\tlearn: 1273.4741903\ttest: 1530.7010144\tbest: 1530.7010144 (4500)\ttotal: 13m 43s\tremaining: 4m 34s\n",
      "Stopped by overfitting detector  (50 iterations wait)\n",
      "\n",
      "bestTest = 1530.601342\n",
      "bestIteration = 4549\n",
      "\n",
      "Shrink model to first 4550 iterations.\n",
      "Обучение закончено. Время обучения 860.919 секунд\n"
     ]
    }
   ],
   "source": [
    "cb_parameters = {\n",
    "    'loss_function': 'RMSE',\n",
    "    'use_best_model': True,\n",
    "    'random_seed': R,\n",
    "#     'task_type': 'GPU',\n",
    "    'learning_rate': 0.05,\n",
    "    'depth': 9,\n",
    "    'bagging_temperature': 0,\n",
    "    'random_strength': 3,\n",
    "#     'rsm': 0.7,\n",
    "}\n",
    "\n",
    "cb_model, t_fit = train_time(cat, \n",
    "                             pool=cb_train, \n",
    "                             params=cb_parameters, \n",
    "                             num_boost_round = 6000,\n",
    "                             eval_set=(cb_valid), \n",
    "                             verbose_eval=500, \n",
    "                             early_stopping_rounds=50)"
   ]
  },
  {
   "cell_type": "markdown",
   "metadata": {},
   "source": [
    "Найдем RMSE для тестового набора:"
   ]
  },
  {
   "cell_type": "code",
   "execution_count": 39,
   "metadata": {
    "scrolled": true
   },
   "outputs": [
    {
     "name": "stdout",
     "output_type": "stream",
     "text": [
      "Предсказание завершено. Время - 1.9506 сек, RMSE на тестовом наборе - 1526.7951547844955\n"
     ]
    }
   ],
   "source": [
    "rmse_test, t_predict = predict_time(cb_model, test_feats)\n",
    "\n",
    "results.loc['CatBoost'] = [cb_model.best_score_['validation']['RMSE'], rmse_test, t_fit, t_predict]"
   ]
  },
  {
   "cell_type": "markdown",
   "metadata": {},
   "source": [
    "Рассмотрим вклад признаков в модель CatBoost:"
   ]
  },
  {
   "cell_type": "code",
   "execution_count": 40,
   "metadata": {},
   "outputs": [
    {
     "data": {
      "image/png": "[encoded data removed]",
      "text/plain": [
       "<Figure size 720x288 with 1 Axes>"
      ]
     },
     "metadata": {
      "needs_background": "light"
     },
     "output_type": "display_data"
    }
   ],
   "source": [
    "feat_importances = pd.Series(cb_model.feature_importances_, index=train_feats.columns)\n",
    "feat_importances.sort_values().plot(kind='barh')\n",
    "plt.show()"
   ]
  },
  {
   "cell_type": "markdown",
   "metadata": {},
   "source": [
    "Как видно, важность признаков в этой модели немного отличается от LighGBM."
   ]
  },
  {
   "cell_type": "markdown",
   "metadata": {},
   "source": [
    "## XGBoost\n",
    "Наконец, рассмотрим библиотеку XGBoost:"
   ]
  },
  {
   "cell_type": "code",
   "execution_count": 41,
   "metadata": {},
   "outputs": [
    {
     "name": "stderr",
     "output_type": "stream",
     "text": [
      "/opt/conda/lib/python3.7/site-packages/xgboost/core.py:587: FutureWarning: Series.base is deprecated and will be removed in a future version\n",
      "  if getattr(data, 'base', None) is not None and \\\n"
     ]
    }
   ],
   "source": [
    "# Преобразуем данные в DMatrix\n",
    "xgb_train = xgb.DMatrix(train_feats, label=train_target)\n",
    "xgb_valid = xgb.DMatrix(valid_feats, label=valid_target)\n",
    "xgb_test = xgb.DMatrix(test_feats, label=test_target)"
   ]
  },
  {
   "cell_type": "code",
   "execution_count": 42,
   "metadata": {
    "scrolled": false
   },
   "outputs": [
    {
     "name": "stdout",
     "output_type": "stream",
     "text": [
      "[0]\ttrain-rmse:6456.11\tvalid-rmse:6473.72\n",
      "Multiple eval metrics have been passed: 'valid-rmse' will be used for early stopping.\n",
      "\n",
      "Will train until valid-rmse hasn't improved in 50 rounds.\n",
      "[200]\ttrain-rmse:1451.5\tvalid-rmse:1580\n",
      "[400]\ttrain-rmse:1360.96\tvalid-rmse:1541.96\n",
      "[600]\ttrain-rmse:1307.06\tvalid-rmse:1527.65\n",
      "[800]\ttrain-rmse:1269.29\tvalid-rmse:1521.3\n",
      "[1000]\ttrain-rmse:1235.78\tvalid-rmse:1517.23\n",
      "[1200]\ttrain-rmse:1211.85\tvalid-rmse:1516.05\n",
      "Stopping. Best iteration:\n",
      "[1187]\ttrain-rmse:1212.74\tvalid-rmse:1516.02\n",
      "\n",
      "Обучение закончено. Время обучения 646.483 секунд\n"
     ]
    }
   ],
   "source": [
    "xgb_parameters = {\n",
    "    'objective': 'reg:squarederror',\n",
    "    'eval_metric': 'rmse',\n",
    "    'eta': 0.05,\n",
    "#     'gamma': 3,\n",
    "    'max_depth': 9,\n",
    "#     'subsample': 1,\n",
    "    'colsample_bylevel': 0.6,\n",
    "    'colsample_bytree': 0.6, \n",
    "}\n",
    "\n",
    "xgb_model, t_fit = train_time(xgb,\n",
    "                              params=xgb_parameters,\n",
    "                              dtrain=xgb_train,\n",
    "                              num_boost_round=2000,\n",
    "                              evals=[(xgb_train, 'train'), (xgb_valid, 'valid')],\n",
    "                              verbose_eval=200,\n",
    "                              early_stopping_rounds=50)"
   ]
  },
  {
   "cell_type": "markdown",
   "metadata": {},
   "source": [
    "Проверим на тестовом наборе:"
   ]
  },
  {
   "cell_type": "code",
   "execution_count": 43,
   "metadata": {},
   "outputs": [
    {
     "name": "stdout",
     "output_type": "stream",
     "text": [
      "Предсказание завершено. Время - 22.8107 сек, RMSE на тестовом наборе - 1514.3991263147361\n"
     ]
    }
   ],
   "source": [
    "rmse_test, t_predict = predict_time(xgb_model, xgb_test)\n",
    "results.loc['XGBoost'] = [xgb_model.best_score, rmse_test, t_fit, t_predict]"
   ]
  },
  {
   "cell_type": "code",
   "execution_count": 44,
   "metadata": {},
   "outputs": [
    {
     "data": {
      "image/png": "[encoded data removed]",
      "text/plain": [
       "<Figure size 720x288 with 1 Axes>"
      ]
     },
     "metadata": {
      "needs_background": "light"
     },
     "output_type": "display_data"
    }
   ],
   "source": [
    "xgb.plot_importance(xgb_model)\n",
    "plt.show()"
   ]
  },
  {
   "cell_type": "markdown",
   "metadata": {},
   "source": [
    "## Комментарий наставника\n",
    "<span style=\"color:green\">Абсолютно никаких нареканий нет, переходим к анализу моделей.</span>"
   ]
  },
  {
   "cell_type": "markdown",
   "metadata": {},
   "source": [
    "# 4. Анализ моделей"
   ]
  },
  {
   "cell_type": "markdown",
   "metadata": {},
   "source": [
    "В результате обучения наших моделей мы получили следующие метрики:"
   ]
  },
  {
   "cell_type": "code",
   "execution_count": 1,
   "metadata": {},
   "outputs": [
    {
     "ename": "NameError",
     "evalue": "name 'results' is not defined",
     "output_type": "error",
     "traceback": [
      "\u001b[0;31m---------------------------------------------------------------------------\u001b[0m",
      "\u001b[0;31mNameError\u001b[0m                                 Traceback (most recent call last)",
      "\u001b[0;32m<ipython-input-1-a7ce4c38ac4c>\u001b[0m in \u001b[0;36m<module>\u001b[0;34m\u001b[0m\n\u001b[0;32m----> 1\u001b[0;31m \u001b[0mresults\u001b[0m\u001b[0;34m.\u001b[0m\u001b[0mstyle\u001b[0m\u001b[0;34m.\u001b[0m\u001b[0mhighlight_min\u001b[0m\u001b[0;34m(\u001b[0m\u001b[0maxis\u001b[0m\u001b[0;34m=\u001b[0m\u001b[0;36m0\u001b[0m\u001b[0;34m)\u001b[0m\u001b[0;34m\u001b[0m\u001b[0;34m\u001b[0m\u001b[0m\n\u001b[0m",
      "\u001b[0;31mNameError\u001b[0m: name 'results' is not defined"
     ]
    }
   ],
   "source": [
    "results.style.highlight_min(axis=0)"
   ]
  },
  {
   "cell_type": "markdown",
   "metadata": {},
   "source": [
    "## Комментарий наставника\n",
    "<span style=\"color:green\">Отличный датафрейм: всё наглядно и понятно, легко сравнить модели и выбрать лучшую.</span>"
   ]
  },
  {
   "cell_type": "markdown",
   "metadata": {},
   "source": [
    "Как видно, все три модели бустинга показали лучший результат, чем базовая модель на основе алгоритма \"Случайный лес\". Лидером и по значению RMSE, и по времени работы стала модель LIghtGBM (ошибка на тесте - 1499 евро). Худшие результаты показал CatBoost. По скорости предсказания лучше всех CatBoost.\n",
    "\n",
    "Рассмотрим параметры различных моделей:"
   ]
  },
  {
   "cell_type": "code",
   "execution_count": 46,
   "metadata": {},
   "outputs": [
    {
     "data": {
      "text/html": [
       "<div>\n",
       "<style scoped>\n",
       "    .dataframe tbody tr th:only-of-type {\n",
       "        vertical-align: middle;\n",
       "    }\n",
       "\n",
       "    .dataframe tbody tr th {\n",
       "        vertical-align: top;\n",
       "    }\n",
       "\n",
       "    .dataframe thead th {\n",
       "        text-align: right;\n",
       "    }\n",
       "</style>\n",
       "<table border=\"1\" class=\"dataframe\">\n",
       "  <thead>\n",
       "    <tr style=\"text-align: right;\">\n",
       "      <th></th>\n",
       "      <th>LightGBM</th>\n",
       "    </tr>\n",
       "  </thead>\n",
       "  <tbody>\n",
       "    <tr>\n",
       "      <td>num_leaves</td>\n",
       "      <td>512</td>\n",
       "    </tr>\n",
       "    <tr>\n",
       "      <td>learning_rate</td>\n",
       "      <td>0.03</td>\n",
       "    </tr>\n",
       "    <tr>\n",
       "      <td>max_bin</td>\n",
       "      <td>512</td>\n",
       "    </tr>\n",
       "    <tr>\n",
       "      <td>bagging_fraction</td>\n",
       "      <td>0.8</td>\n",
       "    </tr>\n",
       "    <tr>\n",
       "      <td>bagging_freq</td>\n",
       "      <td>1</td>\n",
       "    </tr>\n",
       "    <tr>\n",
       "      <td>best_iteration</td>\n",
       "      <td>452</td>\n",
       "    </tr>\n",
       "  </tbody>\n",
       "</table>\n",
       "</div>"
      ],
      "text/plain": [
       "                 LightGBM\n",
       "num_leaves            512\n",
       "learning_rate        0.03\n",
       "max_bin               512\n",
       "bagging_fraction      0.8\n",
       "bagging_freq            1\n",
       "best_iteration        452"
      ]
     },
     "execution_count": 46,
     "metadata": {},
     "output_type": "execute_result"
    }
   ],
   "source": [
    "lgb_parameters['best_iteration'] = lgb_model.best_iteration\n",
    "pd.DataFrame.from_dict(lgb_parameters, orient='index', columns = ['LightGBM']).iloc[4:]"
   ]
  },
  {
   "cell_type": "code",
   "execution_count": 47,
   "metadata": {},
   "outputs": [
    {
     "data": {
      "text/html": [
       "<div>\n",
       "<style scoped>\n",
       "    .dataframe tbody tr th:only-of-type {\n",
       "        vertical-align: middle;\n",
       "    }\n",
       "\n",
       "    .dataframe tbody tr th {\n",
       "        vertical-align: top;\n",
       "    }\n",
       "\n",
       "    .dataframe thead th {\n",
       "        text-align: right;\n",
       "    }\n",
       "</style>\n",
       "<table border=\"1\" class=\"dataframe\">\n",
       "  <thead>\n",
       "    <tr style=\"text-align: right;\">\n",
       "      <th></th>\n",
       "      <th>CatBoost</th>\n",
       "    </tr>\n",
       "  </thead>\n",
       "  <tbody>\n",
       "    <tr>\n",
       "      <td>depth</td>\n",
       "      <td>9</td>\n",
       "    </tr>\n",
       "    <tr>\n",
       "      <td>bagging_temperature</td>\n",
       "      <td>0</td>\n",
       "    </tr>\n",
       "    <tr>\n",
       "      <td>random_strength</td>\n",
       "      <td>3</td>\n",
       "    </tr>\n",
       "    <tr>\n",
       "      <td>best_iteration</td>\n",
       "      <td>4549</td>\n",
       "    </tr>\n",
       "  </tbody>\n",
       "</table>\n",
       "</div>"
      ],
      "text/plain": [
       "                    CatBoost\n",
       "depth                      9\n",
       "bagging_temperature        0\n",
       "random_strength            3\n",
       "best_iteration          4549"
      ]
     },
     "execution_count": 47,
     "metadata": {},
     "output_type": "execute_result"
    }
   ],
   "source": [
    "cb_parameters['best_iteration'] = cb_model.best_iteration_\n",
    "pd.DataFrame.from_dict(cb_parameters, orient='index', columns = ['CatBoost']).iloc[4:]"
   ]
  },
  {
   "cell_type": "code",
   "execution_count": 48,
   "metadata": {},
   "outputs": [
    {
     "data": {
      "text/html": [
       "<div>\n",
       "<style scoped>\n",
       "    .dataframe tbody tr th:only-of-type {\n",
       "        vertical-align: middle;\n",
       "    }\n",
       "\n",
       "    .dataframe tbody tr th {\n",
       "        vertical-align: top;\n",
       "    }\n",
       "\n",
       "    .dataframe thead th {\n",
       "        text-align: right;\n",
       "    }\n",
       "</style>\n",
       "<table border=\"1\" class=\"dataframe\">\n",
       "  <thead>\n",
       "    <tr style=\"text-align: right;\">\n",
       "      <th></th>\n",
       "      <th>XGBoost</th>\n",
       "    </tr>\n",
       "  </thead>\n",
       "  <tbody>\n",
       "    <tr>\n",
       "      <td>eta</td>\n",
       "      <td>0.05</td>\n",
       "    </tr>\n",
       "    <tr>\n",
       "      <td>max_depth</td>\n",
       "      <td>9</td>\n",
       "    </tr>\n",
       "    <tr>\n",
       "      <td>colsample_bylevel</td>\n",
       "      <td>0.6</td>\n",
       "    </tr>\n",
       "    <tr>\n",
       "      <td>colsample_bytree</td>\n",
       "      <td>0.6</td>\n",
       "    </tr>\n",
       "    <tr>\n",
       "      <td>best_iteration</td>\n",
       "      <td>1187</td>\n",
       "    </tr>\n",
       "  </tbody>\n",
       "</table>\n",
       "</div>"
      ],
      "text/plain": [
       "                  XGBoost\n",
       "eta                  0.05\n",
       "max_depth               9\n",
       "colsample_bylevel     0.6\n",
       "colsample_bytree      0.6\n",
       "best_iteration       1187"
      ]
     },
     "execution_count": 48,
     "metadata": {},
     "output_type": "execute_result"
    }
   ],
   "source": [
    "xgb_parameters['best_iteration'] = xgb_model.best_iteration\n",
    "pd.DataFrame.from_dict(xgb_parameters, orient='index', columns = ['XGBoost']).iloc[2:]"
   ]
  },
  {
   "cell_type": "markdown",
   "metadata": {},
   "source": [
    "Оптимальной глубиной дерева для всех моделей оказалось 9 (в LightGBM мы задавали не глубину, а количество листов (512), глубина для двоичного дерева будет равна $\\log_2 512 = 9$). Скорость обучения тоже оказалась примерно одинаковой и находится в рамках 0.03 - 0.05. Модель CatBoost при этом потребовала намного больше итераций (4549) для достижения минимума целевой функции.\n",
    "\n",
    "Стоит также отметить, скорость работы моделей сильно зависит от аппаратной платформы - особенно это заметно по работе CatBoost. Для сравнения привожу результаты выполнения данного ноутбука на локальной машине:"
   ]
  },
  {
   "cell_type": "code",
   "execution_count": 14,
   "metadata": {},
   "outputs": [
    {
     "data": {
      "text/html": [
       "<style  type=\"text/css\" >\n",
       "    #T_a401d322_7daa_11ea_b841_5391a4b1a9d5row1_col1 {\n",
       "            background-color:  lightgreen;\n",
       "        }    #T_a401d322_7daa_11ea_b841_5391a4b1a9d5row1_col2 {\n",
       "            background-color:  lightgreen;\n",
       "        }    #T_a401d322_7daa_11ea_b841_5391a4b1a9d5row1_col3 {\n",
       "            background-color:  lightgreen;\n",
       "        }    #T_a401d322_7daa_11ea_b841_5391a4b1a9d5row2_col4 {\n",
       "            background-color:  lightgreen;\n",
       "        }</style><table id=\"T_a401d322_7daa_11ea_b841_5391a4b1a9d5\" ><thead>    <tr>        <th class=\"blank level0\" ></th>        <th class=\"col_heading level0 col0\" >Unnamed: 0</th>        <th class=\"col_heading level0 col1\" >RMSE на валидации</th>        <th class=\"col_heading level0 col2\" >RMSE на тестовом наборе</th>        <th class=\"col_heading level0 col3\" >Время обучения</th>        <th class=\"col_heading level0 col4\" >Время предсказания</th>    </tr></thead><tbody>\n",
       "                <tr>\n",
       "                        <th id=\"T_a401d322_7daa_11ea_b841_5391a4b1a9d5level0_row0\" class=\"row_heading level0 row0\" >0</th>\n",
       "                        <td id=\"T_a401d322_7daa_11ea_b841_5391a4b1a9d5row0_col0\" class=\"data row0 col0\" >Random Forest</td>\n",
       "                        <td id=\"T_a401d322_7daa_11ea_b841_5391a4b1a9d5row0_col1\" class=\"data row0 col1\" >1616.293113</td>\n",
       "                        <td id=\"T_a401d322_7daa_11ea_b841_5391a4b1a9d5row0_col2\" class=\"data row0 col2\" >1609.665488</td>\n",
       "                        <td id=\"T_a401d322_7daa_11ea_b841_5391a4b1a9d5row0_col3\" class=\"data row0 col3\" >30.368791</td>\n",
       "                        <td id=\"T_a401d322_7daa_11ea_b841_5391a4b1a9d5row0_col4\" class=\"data row0 col4\" >1.511011</td>\n",
       "            </tr>\n",
       "            <tr>\n",
       "                        <th id=\"T_a401d322_7daa_11ea_b841_5391a4b1a9d5level0_row1\" class=\"row_heading level0 row1\" >1</th>\n",
       "                        <td id=\"T_a401d322_7daa_11ea_b841_5391a4b1a9d5row1_col0\" class=\"data row1 col0\" >LightGBM</td>\n",
       "                        <td id=\"T_a401d322_7daa_11ea_b841_5391a4b1a9d5row1_col1\" class=\"data row1 col1\" >1508.353491</td>\n",
       "                        <td id=\"T_a401d322_7daa_11ea_b841_5391a4b1a9d5row1_col2\" class=\"data row1 col2\" >1499.118234</td>\n",
       "                        <td id=\"T_a401d322_7daa_11ea_b841_5391a4b1a9d5row1_col3\" class=\"data row1 col3\" >11.645913</td>\n",
       "                        <td id=\"T_a401d322_7daa_11ea_b841_5391a4b1a9d5row1_col4\" class=\"data row1 col4\" >1.685556</td>\n",
       "            </tr>\n",
       "            <tr>\n",
       "                        <th id=\"T_a401d322_7daa_11ea_b841_5391a4b1a9d5level0_row2\" class=\"row_heading level0 row2\" >2</th>\n",
       "                        <td id=\"T_a401d322_7daa_11ea_b841_5391a4b1a9d5row2_col0\" class=\"data row2 col0\" >CatBoost</td>\n",
       "                        <td id=\"T_a401d322_7daa_11ea_b841_5391a4b1a9d5row2_col1\" class=\"data row2 col1\" >1524.763161</td>\n",
       "                        <td id=\"T_a401d322_7daa_11ea_b841_5391a4b1a9d5row2_col2\" class=\"data row2 col2\" >1522.107065</td>\n",
       "                        <td id=\"T_a401d322_7daa_11ea_b841_5391a4b1a9d5row2_col3\" class=\"data row2 col3\" >38.724050</td>\n",
       "                        <td id=\"T_a401d322_7daa_11ea_b841_5391a4b1a9d5row2_col4\" class=\"data row2 col4\" >0.347572</td>\n",
       "            </tr>\n",
       "            <tr>\n",
       "                        <th id=\"T_a401d322_7daa_11ea_b841_5391a4b1a9d5level0_row3\" class=\"row_heading level0 row3\" >3</th>\n",
       "                        <td id=\"T_a401d322_7daa_11ea_b841_5391a4b1a9d5row3_col0\" class=\"data row3 col0\" >XGBoost</td>\n",
       "                        <td id=\"T_a401d322_7daa_11ea_b841_5391a4b1a9d5row3_col1\" class=\"data row3 col1\" >1513.608643</td>\n",
       "                        <td id=\"T_a401d322_7daa_11ea_b841_5391a4b1a9d5row3_col2\" class=\"data row3 col2\" >1516.237134</td>\n",
       "                        <td id=\"T_a401d322_7daa_11ea_b841_5391a4b1a9d5row3_col3\" class=\"data row3 col3\" >41.468506</td>\n",
       "                        <td id=\"T_a401d322_7daa_11ea_b841_5391a4b1a9d5row3_col4\" class=\"data row3 col4\" >2.196940</td>\n",
       "            </tr>\n",
       "    </tbody></table>"
      ],
      "text/plain": [
       "<pandas.io.formats.style.Styler at 0x7f3e77457630>"
      ]
     },
     "execution_count": 14,
     "metadata": {},
     "output_type": "execute_result"
    }
   ],
   "source": [
    "pd.read_csv('~/datasets/autos_local_results.csv').style.highlight_min(axis=0, color='lightgreen')"
   ]
  },
  {
   "cell_type": "markdown",
   "metadata": {},
   "source": [
    "Тут, в частности, можно заметить, что CatBoost, хоть и не догнал LightGBM, но превзошел по скорости XGBoost."
   ]
  },
  {
   "cell_type": "markdown",
   "metadata": {},
   "source": [
    "## Итоговый комментарий наставника\n",
    "<span style=\"color:green\">Молодец! Очень качественный проект. Зачтено без вопросов. Желаю успехов:)</span>"
   ]
  },
  {
   "cell_type": "markdown",
   "metadata": {},
   "source": [
    "## Чек-лист проверки"
   ]
  },
  {
   "cell_type": "markdown",
   "metadata": {},
   "source": [
    "Поставьте 'x' в выполненных пунктах. Далее нажмите Shift+Enter."
   ]
  },
  {
   "cell_type": "markdown",
   "metadata": {},
   "source": [
    "- [x]  Jupyter Notebook открыт\n",
    "- [ ]  Весь код выполняется без ошибок\n",
    "- [ ]  Ячейки с кодом расположены в порядке исполнения\n",
    "- [ ]  Выполнена загрузка и подготовка данных\n",
    "- [ ]  Выполнено обучение моделей\n",
    "- [ ]  Есть анализ скорости работы и качества моделей"
   ]
  },
  {
   "cell_type": "code",
   "execution_count": null,
   "metadata": {},
   "outputs": [],
   "source": []
  }
 ],
 "metadata": {
  "kernelspec": {
   "display_name": "Python 3",
   "language": "python",
   "name": "python3"
  },
  "language_info": {
   "codemirror_mode": {
    "name": "ipython",
    "version": 3
   },
   "file_extension": ".py",
   "mimetype": "text/x-python",
   "name": "python",
   "nbconvert_exporter": "python",
   "pygments_lexer": "ipython3",
   "version": "3.6.10"
  }
 },
 "nbformat": 4,
 "nbformat_minor": 2
}
