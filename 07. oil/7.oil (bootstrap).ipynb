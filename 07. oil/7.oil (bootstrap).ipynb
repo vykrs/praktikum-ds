{
 "cells": [
  {
   "cell_type": "markdown",
   "metadata": {},
   "source": [
    "# Выбор региона для нефтедобывающей компании"
   ]
  },
  {
   "cell_type": "markdown",
   "metadata": {},
   "source": [
    "## Описание проекта\n",
    "\n",
    "Нам предоставлены пробы нефти в трёх регионах: в каждом произведено 10 000 измерений качества и объема нефти в разных месторождениях. Нам нужно определить регион, где добыча принесёт наибольшую прибыль. \n",
    "\n",
    "## Шаги для выбора локации:\n",
    "\n",
    "- В избранном регионе ищут месторождения, для каждого определяют значения признаков;\n",
    "- Строят модель и оценивают объём запасов;\n",
    "- Выбирают месторождения с самым высокими оценками значений. Количество месторождений зависит от бюджета компании и стоимости разработки одной скважины;\n",
    "- Прибыль равна суммарной прибыли отобранных месторождений.\n",
    "\n",
    "## Условия задачи:\n",
    "\n",
    "- Для выполнения задания используется только линейная регрессия.\n",
    "- При разведке региона проводится исследование 500 точек.\n",
    "- Бюджет на разработку месторождений — 10 млрд рублей, стоимость бурения одной скважины — 50 млн рублей.\n",
    "- Один баррель сырья приносит 4500 рублей прибыли.\n",
    "- Не рассматривать регионы, в которых риск убытков выше 2.5%. Из оставшихся выбирается регион с наибольшей средней прибылью.\n",
    "\n",
    "## Описание данных\n",
    "\n",
    "Данные геологоразведки трёх регионов находятся в файлах: geo_data_0.csv, geo_data_1.csv и geo_data_2.csv.\n",
    "- **id** — уникальный идентификатор месторождения;\n",
    "- **f0**, **f1**, **f2** — три признака точек (неважно, что они означают, но сами признаки значимы);\n",
    "- **product** — объём запасов в месторождении (тыс. баррелей)."
   ]
  },
  {
   "cell_type": "markdown",
   "metadata": {},
   "source": [
    "## Шаг 1. Загрузка и подготовка данных\n",
    "\n",
    "Импортируем необходимые для работы модули:"
   ]
  },
  {
   "cell_type": "code",
   "execution_count": 105,
   "metadata": {},
   "outputs": [],
   "source": [
    "import pandas as pd\n",
    "from IPython.display import display\n",
    "import matplotlib.pyplot as plt\n",
    "import matplotlib \n",
    "\n",
    "matplotlib.rcParams[\"figure.figsize\"] = (13, 6)\n",
    "\n",
    "from sklearn.model_selection import train_test_split\n",
    "from sklearn.metrics import mean_squared_error\n",
    "from sklearn.linear_model import LinearRegression\n",
    "\n",
    "R = 1512"
   ]
  },
  {
   "cell_type": "markdown",
   "metadata": {},
   "source": [
    "Загрузим файлы с данными по трем регионам, изучим их содержание:"
   ]
  },
  {
   "cell_type": "code",
   "execution_count": 106,
   "metadata": {},
   "outputs": [
    {
     "data": {
      "text/html": [
       "<div>\n",
       "<style scoped>\n",
       "    .dataframe tbody tr th:only-of-type {\n",
       "        vertical-align: middle;\n",
       "    }\n",
       "\n",
       "    .dataframe tbody tr th {\n",
       "        vertical-align: top;\n",
       "    }\n",
       "\n",
       "    .dataframe thead th {\n",
       "        text-align: right;\n",
       "    }\n",
       "</style>\n",
       "<table border=\"1\" class=\"dataframe\">\n",
       "  <thead>\n",
       "    <tr style=\"text-align: right;\">\n",
       "      <th></th>\n",
       "      <th>id</th>\n",
       "      <th>f0</th>\n",
       "      <th>f1</th>\n",
       "      <th>f2</th>\n",
       "      <th>product</th>\n",
       "    </tr>\n",
       "  </thead>\n",
       "  <tbody>\n",
       "    <tr>\n",
       "      <td>0</td>\n",
       "      <td>txEyH</td>\n",
       "      <td>0.705745</td>\n",
       "      <td>-0.497823</td>\n",
       "      <td>1.221170</td>\n",
       "      <td>105.280062</td>\n",
       "    </tr>\n",
       "    <tr>\n",
       "      <td>1</td>\n",
       "      <td>2acmU</td>\n",
       "      <td>1.334711</td>\n",
       "      <td>-0.340164</td>\n",
       "      <td>4.365080</td>\n",
       "      <td>73.037750</td>\n",
       "    </tr>\n",
       "    <tr>\n",
       "      <td>2</td>\n",
       "      <td>409Wp</td>\n",
       "      <td>1.022732</td>\n",
       "      <td>0.151990</td>\n",
       "      <td>1.419926</td>\n",
       "      <td>85.265647</td>\n",
       "    </tr>\n",
       "  </tbody>\n",
       "</table>\n",
       "</div>"
      ],
      "text/plain": [
       "      id        f0        f1        f2     product\n",
       "0  txEyH  0.705745 -0.497823  1.221170  105.280062\n",
       "1  2acmU  1.334711 -0.340164  4.365080   73.037750\n",
       "2  409Wp  1.022732  0.151990  1.419926   85.265647"
      ]
     },
     "metadata": {},
     "output_type": "display_data"
    },
    {
     "data": {
      "text/html": [
       "<div>\n",
       "<style scoped>\n",
       "    .dataframe tbody tr th:only-of-type {\n",
       "        vertical-align: middle;\n",
       "    }\n",
       "\n",
       "    .dataframe tbody tr th {\n",
       "        vertical-align: top;\n",
       "    }\n",
       "\n",
       "    .dataframe thead th {\n",
       "        text-align: right;\n",
       "    }\n",
       "</style>\n",
       "<table border=\"1\" class=\"dataframe\">\n",
       "  <thead>\n",
       "    <tr style=\"text-align: right;\">\n",
       "      <th></th>\n",
       "      <th>id</th>\n",
       "      <th>f0</th>\n",
       "      <th>f1</th>\n",
       "      <th>f2</th>\n",
       "      <th>product</th>\n",
       "    </tr>\n",
       "  </thead>\n",
       "  <tbody>\n",
       "    <tr>\n",
       "      <td>0</td>\n",
       "      <td>kBEdx</td>\n",
       "      <td>-15.001348</td>\n",
       "      <td>-8.276000</td>\n",
       "      <td>-0.005876</td>\n",
       "      <td>3.179103</td>\n",
       "    </tr>\n",
       "    <tr>\n",
       "      <td>1</td>\n",
       "      <td>62mP7</td>\n",
       "      <td>14.272088</td>\n",
       "      <td>-3.475083</td>\n",
       "      <td>0.999183</td>\n",
       "      <td>26.953261</td>\n",
       "    </tr>\n",
       "    <tr>\n",
       "      <td>2</td>\n",
       "      <td>vyE1P</td>\n",
       "      <td>6.263187</td>\n",
       "      <td>-5.948386</td>\n",
       "      <td>5.001160</td>\n",
       "      <td>134.766305</td>\n",
       "    </tr>\n",
       "  </tbody>\n",
       "</table>\n",
       "</div>"
      ],
      "text/plain": [
       "      id         f0        f1        f2     product\n",
       "0  kBEdx -15.001348 -8.276000 -0.005876    3.179103\n",
       "1  62mP7  14.272088 -3.475083  0.999183   26.953261\n",
       "2  vyE1P   6.263187 -5.948386  5.001160  134.766305"
      ]
     },
     "metadata": {},
     "output_type": "display_data"
    },
    {
     "data": {
      "text/html": [
       "<div>\n",
       "<style scoped>\n",
       "    .dataframe tbody tr th:only-of-type {\n",
       "        vertical-align: middle;\n",
       "    }\n",
       "\n",
       "    .dataframe tbody tr th {\n",
       "        vertical-align: top;\n",
       "    }\n",
       "\n",
       "    .dataframe thead th {\n",
       "        text-align: right;\n",
       "    }\n",
       "</style>\n",
       "<table border=\"1\" class=\"dataframe\">\n",
       "  <thead>\n",
       "    <tr style=\"text-align: right;\">\n",
       "      <th></th>\n",
       "      <th>id</th>\n",
       "      <th>f0</th>\n",
       "      <th>f1</th>\n",
       "      <th>f2</th>\n",
       "      <th>product</th>\n",
       "    </tr>\n",
       "  </thead>\n",
       "  <tbody>\n",
       "    <tr>\n",
       "      <td>0</td>\n",
       "      <td>fwXo0</td>\n",
       "      <td>-1.146987</td>\n",
       "      <td>0.963328</td>\n",
       "      <td>-0.828965</td>\n",
       "      <td>27.758673</td>\n",
       "    </tr>\n",
       "    <tr>\n",
       "      <td>1</td>\n",
       "      <td>WJtFt</td>\n",
       "      <td>0.262778</td>\n",
       "      <td>0.269839</td>\n",
       "      <td>-2.530187</td>\n",
       "      <td>56.069697</td>\n",
       "    </tr>\n",
       "    <tr>\n",
       "      <td>2</td>\n",
       "      <td>ovLUW</td>\n",
       "      <td>0.194587</td>\n",
       "      <td>0.289035</td>\n",
       "      <td>-5.586433</td>\n",
       "      <td>62.871910</td>\n",
       "    </tr>\n",
       "  </tbody>\n",
       "</table>\n",
       "</div>"
      ],
      "text/plain": [
       "      id        f0        f1        f2    product\n",
       "0  fwXo0 -1.146987  0.963328 -0.828965  27.758673\n",
       "1  WJtFt  0.262778  0.269839 -2.530187  56.069697\n",
       "2  ovLUW  0.194587  0.289035 -5.586433  62.871910"
      ]
     },
     "metadata": {},
     "output_type": "display_data"
    },
    {
     "name": "stdout",
     "output_type": "stream",
     "text": [
      "<class 'pandas.core.frame.DataFrame'>\n",
      "RangeIndex: 100000 entries, 0 to 99999\n",
      "Data columns (total 5 columns):\n",
      "id         100000 non-null object\n",
      "f0         100000 non-null float64\n",
      "f1         100000 non-null float64\n",
      "f2         100000 non-null float64\n",
      "product    100000 non-null float64\n",
      "dtypes: float64(4), object(1)\n",
      "memory usage: 3.8+ MB\n",
      "<class 'pandas.core.frame.DataFrame'>\n",
      "RangeIndex: 100000 entries, 0 to 99999\n",
      "Data columns (total 5 columns):\n",
      "id         100000 non-null object\n",
      "f0         100000 non-null float64\n",
      "f1         100000 non-null float64\n",
      "f2         100000 non-null float64\n",
      "product    100000 non-null float64\n",
      "dtypes: float64(4), object(1)\n",
      "memory usage: 3.8+ MB\n",
      "<class 'pandas.core.frame.DataFrame'>\n",
      "RangeIndex: 100000 entries, 0 to 99999\n",
      "Data columns (total 5 columns):\n",
      "id         100000 non-null object\n",
      "f0         100000 non-null float64\n",
      "f1         100000 non-null float64\n",
      "f2         100000 non-null float64\n",
      "product    100000 non-null float64\n",
      "dtypes: float64(4), object(1)\n",
      "memory usage: 3.8+ MB\n",
      "None None None\n"
     ]
    }
   ],
   "source": [
    "reg_1 = pd.read_csv('/datasets/geo_data_0.csv')\n",
    "reg_2 = pd.read_csv('/datasets/geo_data_1.csv')\n",
    "reg_3 = pd.read_csv('/datasets/geo_data_2.csv')\n",
    "display(reg_1.head(3), reg_2.head(3), reg_3.head(3))\n",
    "print(reg_1.info(), reg_2.info(), reg_3.info())"
   ]
  },
  {
   "cell_type": "markdown",
   "metadata": {},
   "source": [
    "В каждом файле содержится по 100 000 записей, соответсвующих замерам параметров нефти и объема ее запасов. Пропусков нет, типы данных - вещественный, строковый (для идентификатора точки); предобработка не требуется.\n",
    "\n",
    "Для каждого региона выделим целевой признак (объем запасов нефти) и сохраним его в переменную ***target***, а остальные признаки - в переменную ***features***. Столбцы **id** отбросим - при построении моделии регрессии идентификатор точки использоваться не будет:"
   ]
  },
  {
   "cell_type": "code",
   "execution_count": 107,
   "metadata": {},
   "outputs": [],
   "source": [
    "r1_feats, r2_feats, r3_feats    = [region.drop(columns = ['id', 'product']) \n",
    "                                   for region in [reg_1, reg_2, reg_3]]\n",
    "r1_target, r2_target, r3_target = [region['product']\n",
    "                                   for region in [reg_1, reg_2, reg_3]]"
   ]
  },
  {
   "cell_type": "markdown",
   "metadata": {},
   "source": [
    "Рассмотрим распределение и диапазоны значений признаков **f1** - **f3** для трех регионов:"
   ]
  },
  {
   "cell_type": "code",
   "execution_count": 108,
   "metadata": {},
   "outputs": [
    {
     "data": {
      "text/html": [
       "<div>\n",
       "<style scoped>\n",
       "    .dataframe tbody tr th:only-of-type {\n",
       "        vertical-align: middle;\n",
       "    }\n",
       "\n",
       "    .dataframe tbody tr th {\n",
       "        vertical-align: top;\n",
       "    }\n",
       "\n",
       "    .dataframe thead th {\n",
       "        text-align: right;\n",
       "    }\n",
       "</style>\n",
       "<table border=\"1\" class=\"dataframe\">\n",
       "  <thead>\n",
       "    <tr style=\"text-align: right;\">\n",
       "      <th></th>\n",
       "      <th>f0</th>\n",
       "      <th>f1</th>\n",
       "      <th>f2</th>\n",
       "    </tr>\n",
       "  </thead>\n",
       "  <tbody>\n",
       "    <tr>\n",
       "      <td>mean</td>\n",
       "      <td>0.500419</td>\n",
       "      <td>0.250143</td>\n",
       "      <td>2.502647</td>\n",
       "    </tr>\n",
       "    <tr>\n",
       "      <td>std</td>\n",
       "      <td>0.871832</td>\n",
       "      <td>0.504433</td>\n",
       "      <td>3.248248</td>\n",
       "    </tr>\n",
       "    <tr>\n",
       "      <td>min</td>\n",
       "      <td>-1.408605</td>\n",
       "      <td>-0.848218</td>\n",
       "      <td>-12.088328</td>\n",
       "    </tr>\n",
       "    <tr>\n",
       "      <td>max</td>\n",
       "      <td>2.362331</td>\n",
       "      <td>1.343769</td>\n",
       "      <td>16.003790</td>\n",
       "    </tr>\n",
       "  </tbody>\n",
       "</table>\n",
       "</div>"
      ],
      "text/plain": [
       "            f0        f1         f2\n",
       "mean  0.500419  0.250143   2.502647\n",
       "std   0.871832  0.504433   3.248248\n",
       "min  -1.408605 -0.848218 -12.088328\n",
       "max   2.362331  1.343769  16.003790"
      ]
     },
     "metadata": {},
     "output_type": "display_data"
    },
    {
     "data": {
      "text/html": [
       "<div>\n",
       "<style scoped>\n",
       "    .dataframe tbody tr th:only-of-type {\n",
       "        vertical-align: middle;\n",
       "    }\n",
       "\n",
       "    .dataframe tbody tr th {\n",
       "        vertical-align: top;\n",
       "    }\n",
       "\n",
       "    .dataframe thead th {\n",
       "        text-align: right;\n",
       "    }\n",
       "</style>\n",
       "<table border=\"1\" class=\"dataframe\">\n",
       "  <thead>\n",
       "    <tr style=\"text-align: right;\">\n",
       "      <th></th>\n",
       "      <th>f0</th>\n",
       "      <th>f1</th>\n",
       "      <th>f2</th>\n",
       "    </tr>\n",
       "  </thead>\n",
       "  <tbody>\n",
       "    <tr>\n",
       "      <td>mean</td>\n",
       "      <td>1.141296</td>\n",
       "      <td>-4.796579</td>\n",
       "      <td>2.494541</td>\n",
       "    </tr>\n",
       "    <tr>\n",
       "      <td>std</td>\n",
       "      <td>8.965932</td>\n",
       "      <td>5.119872</td>\n",
       "      <td>1.703572</td>\n",
       "    </tr>\n",
       "    <tr>\n",
       "      <td>min</td>\n",
       "      <td>-31.609576</td>\n",
       "      <td>-26.358598</td>\n",
       "      <td>-0.018144</td>\n",
       "    </tr>\n",
       "    <tr>\n",
       "      <td>max</td>\n",
       "      <td>29.421755</td>\n",
       "      <td>18.734063</td>\n",
       "      <td>5.019721</td>\n",
       "    </tr>\n",
       "  </tbody>\n",
       "</table>\n",
       "</div>"
      ],
      "text/plain": [
       "             f0         f1        f2\n",
       "mean   1.141296  -4.796579  2.494541\n",
       "std    8.965932   5.119872  1.703572\n",
       "min  -31.609576 -26.358598 -0.018144\n",
       "max   29.421755  18.734063  5.019721"
      ]
     },
     "metadata": {},
     "output_type": "display_data"
    },
    {
     "data": {
      "text/html": [
       "<div>\n",
       "<style scoped>\n",
       "    .dataframe tbody tr th:only-of-type {\n",
       "        vertical-align: middle;\n",
       "    }\n",
       "\n",
       "    .dataframe tbody tr th {\n",
       "        vertical-align: top;\n",
       "    }\n",
       "\n",
       "    .dataframe thead th {\n",
       "        text-align: right;\n",
       "    }\n",
       "</style>\n",
       "<table border=\"1\" class=\"dataframe\">\n",
       "  <thead>\n",
       "    <tr style=\"text-align: right;\">\n",
       "      <th></th>\n",
       "      <th>f0</th>\n",
       "      <th>f1</th>\n",
       "      <th>f2</th>\n",
       "    </tr>\n",
       "  </thead>\n",
       "  <tbody>\n",
       "    <tr>\n",
       "      <td>mean</td>\n",
       "      <td>0.002023</td>\n",
       "      <td>-0.002081</td>\n",
       "      <td>2.495128</td>\n",
       "    </tr>\n",
       "    <tr>\n",
       "      <td>std</td>\n",
       "      <td>1.732045</td>\n",
       "      <td>1.730417</td>\n",
       "      <td>3.473445</td>\n",
       "    </tr>\n",
       "    <tr>\n",
       "      <td>min</td>\n",
       "      <td>-8.760004</td>\n",
       "      <td>-7.084020</td>\n",
       "      <td>-11.970335</td>\n",
       "    </tr>\n",
       "    <tr>\n",
       "      <td>max</td>\n",
       "      <td>7.238262</td>\n",
       "      <td>7.844801</td>\n",
       "      <td>16.739402</td>\n",
       "    </tr>\n",
       "  </tbody>\n",
       "</table>\n",
       "</div>"
      ],
      "text/plain": [
       "            f0        f1         f2\n",
       "mean  0.002023 -0.002081   2.495128\n",
       "std   1.732045  1.730417   3.473445\n",
       "min  -8.760004 -7.084020 -11.970335\n",
       "max   7.238262  7.844801  16.739402"
      ]
     },
     "metadata": {},
     "output_type": "display_data"
    }
   ],
   "source": [
    "for reg_feats in [r1_feats, r2_feats, r3_feats]:\n",
    "    display(reg_feats.describe().loc[['mean', 'std', 'min', 'max'], :])"
   ]
  },
  {
   "cell_type": "markdown",
   "metadata": {},
   "source": [
    "В целом можно сказать, что признаки в каждом регионе принимают соизмеримые значения, стандартизация не требуется."
   ]
  },
  {
   "cell_type": "markdown",
   "metadata": {},
   "source": [
    "## Шаг 2. Обучение и проверка модели\n",
    "\n",
    "Для каждого региона построим модель на основе регрессора **LinearRegression** из состава ***Scikit-learn*** (выбор алгоритма регрессии определен условиями задания)."
   ]
  },
  {
   "cell_type": "code",
   "execution_count": 109,
   "metadata": {},
   "outputs": [
    {
     "name": "stdout",
     "output_type": "stream",
     "text": [
      "Среднее предсказанное значение target для региона 1 равно 92.295619\n",
      "RMSE модели равен 37.831375\n"
     ]
    }
   ],
   "source": [
    "def region_explore(reg_feats, reg_target):\n",
    "    train_feats, valid_feats, train_target, valid_target = train_test_split(reg_feats, reg_target,\n",
    "                                                                            train_size = 0.75,\n",
    "                                                                            random_state = R)\n",
    "    model = LinearRegression()\n",
    "    model.fit(train_feats, train_target)\n",
    "    predictions = model.predict(valid_feats) \n",
    "    return(model, valid_target, predictions)\n",
    "    \n",
    "r1_model, r1_predictions, r1_valid_target = region_explore(r1_feats, r1_target)\n",
    "\n",
    "print(f'Среднее предсказанное значение target для региона 1 равно {r1_predictions.mean():.6f}')\n",
    "print(f'RMSE модели равен {mean_squared_error(r1_valid_target, r1_predictions)**0.5:.6f}')"
   ]
  },
  {
   "cell_type": "code",
   "execution_count": 110,
   "metadata": {},
   "outputs": [
    {
     "name": "stdout",
     "output_type": "stream",
     "text": [
      "Среднее предсказанное значение target для региона 2 равно 69.138708\n",
      "RMSE модели равен 0.893159\n"
     ]
    }
   ],
   "source": [
    "r2_model, r2_predictions, r2_valid_target = region_explore(r2_feats, r2_target)\n",
    "\n",
    "print(f'Среднее предсказанное значение target для региона 2 равно {r2_predictions.mean():.6f}')\n",
    "print(f'RMSE модели равен {mean_squared_error(r2_valid_target, r2_predictions)**0.5:.6f}')"
   ]
  },
  {
   "cell_type": "code",
   "execution_count": 111,
   "metadata": {},
   "outputs": [
    {
     "name": "stdout",
     "output_type": "stream",
     "text": [
      "Среднее предсказанное значение target для региона 1 равно 94.759135\n",
      "RMSE модели равен 39.891180\n"
     ]
    }
   ],
   "source": [
    "r3_model, r3_predictions, r3_valid_target = region_explore(r3_feats, r3_target)\n",
    "\n",
    "print(f'Среднее предсказанное значение target для региона 1 равно {r3_predictions.mean():.6f}')\n",
    "print(f'RMSE модели равен {mean_squared_error(r3_valid_target, r3_predictions)**0.5:.6f}')"
   ]
  },
  {
   "cell_type": "markdown",
   "metadata": {},
   "source": [
    "## Вывод\n",
    "\n",
    "В результате работы модели мы получили следующие результаты:\n",
    " - Для региона 1: среднее значение целевого признака (объем запасов в месторождении) - 92.296 тыс. баррелей, RMSE - 37.831 тыс. баррелей;\n",
    " - Для региона 2: среднее значение - 69.139 тыс. баррелей, RMSE - 0.893;\n",
    " - Для региона 3: среднее значение - 94.759 тыс. баррелей, RMSE - 39.891.\n",
    " \n",
    "Как можно видеть, в первом и третьем регионах предсказанный средний объем запасов в месторождениях выше, чем во втором, но при этом ошибки предсказаний также очень большие. Очевидно, что модель линейной регрессии в этих случаях не подходит, но ничего не поделать - как было оговорено выше, прочие модели рассматриваться не будут."
   ]
  },
  {
   "cell_type": "markdown",
   "metadata": {},
   "source": [
    "## Шаг 3. Подготовка к расчёту прибыли\n",
    "\n",
    "Прежде оценивать вероятности прибыли и убытков рассчитаем минимально необходимый объем сырья в месторождениях. Очевидно, что он должен быть достаточен, чтобы покрыть убытки на бурение скважины:\n",
    "    \n",
    "    Объем сырья (в баррелях) * Стоимость барреля > Стоимость бурения\n",
    "    \n",
    "откуда\n",
    "\n",
    "    Мин.объем = Стоимость бурения / Стоимость барреля"
   ]
  },
  {
   "cell_type": "code",
   "execution_count": 112,
   "metadata": {},
   "outputs": [
    {
     "name": "stdout",
     "output_type": "stream",
     "text": [
      "Минимальный средний запас в месторождении равен 11.111 тыс. баррелей.\n"
     ]
    }
   ],
   "source": [
    "# Сохраним условия задания в константах:\n",
    "\n",
    "BUDGET = 10000000000 # Общий бюджет\n",
    "WELL_COST = 50000000 # Стоимость одной скважины\n",
    "BARREL_PRICE = 4500  # Стоимость барреля\n",
    "N_EXPLORED = 500     # Сколько месторождений исследуется при разработке региона\n",
    "\n",
    "MIN_PROD_PER_WELL = WELL_COST / (BARREL_PRICE * 1000)               # Считаем в тысячах баррелей\n",
    "\n",
    "print(f'Минимальный средний запас в месторождении равен {MIN_PROD_PER_WELL:.3f} тыс. баррелей.')"
   ]
  },
  {
   "cell_type": "markdown",
   "metadata": {},
   "source": [
    "Теперь рассчитаем, сколько месторождений мы реально можем разработать, исходя из бюджета:"
   ]
  },
  {
   "cell_type": "code",
   "execution_count": 113,
   "metadata": {},
   "outputs": [
    {
     "name": "stdout",
     "output_type": "stream",
     "text": [
      "Исходя из бюджета и стоимости месторождения, можно разработать 200 месторождений.\n"
     ]
    }
   ],
   "source": [
    "N_MINED = int(BUDGET / WELL_COST)\n",
    "print(f'Исходя из бюджета и стоимости месторождения, можно разработать {N_MINED} месторождений.')"
   ]
  },
  {
   "cell_type": "markdown",
   "metadata": {},
   "source": [
    "Следовательно, после того, как в регионе исследуется 500 месторождений, мы можем отобрать и разработать только 200 из них. \n",
    "\n",
    "Исходя из вышесказанного, напишем функцию для рассчета прибыли по набору месторождений. На вход этой функции будет подаваться выборка из 500 исследованных месторождений, из которых будут отобраны 200 лучших и подсчитана прибыль. Помимо этого, функция будет возвращать долю убыточных месторождений в выборке."
   ]
  },
  {
   "cell_type": "code",
   "execution_count": 114,
   "metadata": {},
   "outputs": [
    {
     "data": {
      "text/plain": [
       "(112753876773.0, 8)"
      ]
     },
     "execution_count": 114,
     "metadata": {},
     "output_type": "execute_result"
    }
   ],
   "source": [
    "def calculate_profit(sample):\n",
    "    n_unprofitable = sample[sample < MIN_PROD_PER_WELL].count()\n",
    "    top_wells = sample.sort_values(ascending = False)[:N_MINED]\n",
    "    profit = (top_wells.sum() * 1000 * BARREL_PRICE - BUDGET).round()\n",
    "    return profit, n_unprofitable\n",
    "\n",
    "# Проверка\n",
    "calculate_profit(r1_target.sample(n = 500, random_state = R))"
   ]
  },
  {
   "cell_type": "markdown",
   "metadata": {},
   "source": [
    "## Вывод\n",
    "\n",
    "На этом шаге мы рассчитали минимальный объем сырья в месторождении, необходимый для того, чтобы оно не было убыточным. Он равен 11.11 тысяч баррелей. \n",
    "\n",
    "Помимо этого, мы узнали, что выделенного бюджета хватит на бурение только 200 скважин из 500 исследованных по задаче.\n",
    "\n",
    "Следующим шагом будет применить метод bootstrap для рассчета средней прибыли и доверительных интервалов."
   ]
  },
  {
   "cell_type": "markdown",
   "metadata": {},
   "source": [
    "## Шаг 4. Расчёт прибыли и рисков \n",
    "\n",
    "Применим бутстрэппинг, чтобы найти распределение прибыли в регионах. Оформим его в функцию:"
   ]
  },
  {
   "cell_type": "code",
   "execution_count": 115,
   "metadata": {},
   "outputs": [],
   "source": [
    "def bootstrap_profits(region, n):\n",
    "    bootstrapped_profits = []\n",
    "    bootstrapped_unprofitable = []\n",
    "    # Бутстрэп\n",
    "    for _ in range(n):\n",
    "        sample = region.sample(n = N_EXPLORED, replace = True)         #выборка с возвращением\n",
    "        sample_profit, sample_unprofitable = calculate_profit(sample)\n",
    "        bootstrapped_profits.append(sample_profit / 1e6)        # переводим в миллионы \n",
    "        bootstrapped_unprofitable.append(sample_unprofitable)\n",
    "        \n",
    "    bootstrapped_profits = pd.Series(bootstrapped_profits)\n",
    "    bootstrapped_unprofitable = pd.Series(bootstrapped_unprofitable)\n",
    "    \n",
    "    bootstrapped_profits.hist(bins = 20)                               #распределение прибылей\n",
    "    \n",
    "    mean_profit = int(bootstrapped_profits.mean())                     #средняя прибыль\n",
    "    mean_ratio_unprof = bootstrapped_unprofitable.mean() / N_EXPLORED  #средняя доля убыточных\n",
    "    lower = int(bootstrapped_profits.quantile(0.025))                       #95% интервал\n",
    "    upper = int(bootstrapped_profits.quantile(0.975))\n",
    "    \n",
    "    return mean_profit, mean_ratio_unprof, (str(lower) + ' - ' + str(upper))"
   ]
  },
  {
   "cell_type": "markdown",
   "metadata": {},
   "source": [
    "Наконец, произведем с использованием написанной функции рассчеты необходимых нам показателей для всех трех регионов:"
   ]
  },
  {
   "cell_type": "code",
   "execution_count": 116,
   "metadata": {},
   "outputs": [
    {
     "data": {
      "image/png": "[encoded data removed]",
      "text/plain": [
       "<Figure size 936x432 with 1 Axes>"
      ]
     },
     "metadata": {
      "needs_background": "light"
     },
     "output_type": "display_data"
    },
    {
     "data": {
      "text/html": [
       "<div>\n",
       "<style scoped>\n",
       "    .dataframe tbody tr th:only-of-type {\n",
       "        vertical-align: middle;\n",
       "    }\n",
       "\n",
       "    .dataframe tbody tr th {\n",
       "        vertical-align: top;\n",
       "    }\n",
       "\n",
       "    .dataframe thead th {\n",
       "        text-align: right;\n",
       "    }\n",
       "</style>\n",
       "<table border=\"1\" class=\"dataframe\">\n",
       "  <thead>\n",
       "    <tr style=\"text-align: right;\">\n",
       "      <th></th>\n",
       "      <th>Средняя прибыль, млн руб.</th>\n",
       "      <th>Ср. доля убыточных месторождений</th>\n",
       "      <th>95% доверительный интервал</th>\n",
       "    </tr>\n",
       "  </thead>\n",
       "  <tbody>\n",
       "    <tr>\n",
       "      <td>Регион 1</td>\n",
       "      <td>113822</td>\n",
       "      <td>0.021636</td>\n",
       "      <td>109912 - 117588</td>\n",
       "    </tr>\n",
       "    <tr>\n",
       "      <td>Регион 2</td>\n",
       "      <td>94487</td>\n",
       "      <td>0.165448</td>\n",
       "      <td>90702 - 98260</td>\n",
       "    </tr>\n",
       "    <tr>\n",
       "      <td>Регион 3</td>\n",
       "      <td>116268</td>\n",
       "      <td>0.021964</td>\n",
       "      <td>112072 - 120112</td>\n",
       "    </tr>\n",
       "  </tbody>\n",
       "</table>\n",
       "</div>"
      ],
      "text/plain": [
       "         Средняя прибыль, млн руб.  Ср. доля убыточных месторождений  \\\n",
       "Регион 1                    113822                          0.021636   \n",
       "Регион 2                     94487                          0.165448   \n",
       "Регион 3                    116268                          0.021964   \n",
       "\n",
       "         95% доверительный интервал  \n",
       "Регион 1            109912 - 117588  \n",
       "Регион 2              90702 - 98260  \n",
       "Регион 3            112072 - 120112  "
      ]
     },
     "metadata": {},
     "output_type": "display_data"
    }
   ],
   "source": [
    "result = pd.DataFrame(columns = ['Средняя прибыль, млн руб.',\n",
    "                                 'Ср. доля убыточных месторождений',\n",
    "                                 '95% доверительный интервал'])\n",
    "\n",
    "result.loc['Регион 1'] = bootstrap_profits(r1_target, 1000)\n",
    "\n",
    "result.loc['Регион 2'] = bootstrap_profits(r2_target, 1000)\n",
    "\n",
    "result.loc['Регион 3'] = bootstrap_profits(r3_target, 1000)\n",
    "\n",
    "plt.title('Распределение прибылей')\n",
    "plt.legend(['Регион 1', 'Регион 2', 'Регион 3'])\n",
    "plt.show()\n",
    "display(result)"
   ]
  },
  {
   "cell_type": "markdown",
   "metadata": {},
   "source": [
    "Произведем для интереса аналогичные рассчеты для значений, предсказанных нашими моделями:"
   ]
  },
  {
   "cell_type": "code",
   "execution_count": 117,
   "metadata": {},
   "outputs": [
    {
     "data": {
      "image/png": "[encoded data removed]",
      "text/plain": [
       "<Figure size 936x432 with 1 Axes>"
      ]
     },
     "metadata": {
      "needs_background": "light"
     },
     "output_type": "display_data"
    },
    {
     "data": {
      "text/html": [
       "<div>\n",
       "<style scoped>\n",
       "    .dataframe tbody tr th:only-of-type {\n",
       "        vertical-align: middle;\n",
       "    }\n",
       "\n",
       "    .dataframe tbody tr th {\n",
       "        vertical-align: top;\n",
       "    }\n",
       "\n",
       "    .dataframe thead th {\n",
       "        text-align: right;\n",
       "    }\n",
       "</style>\n",
       "<table border=\"1\" class=\"dataframe\">\n",
       "  <thead>\n",
       "    <tr style=\"text-align: right;\">\n",
       "      <th></th>\n",
       "      <th>Средняя прибыль, млн руб.</th>\n",
       "      <th>Ср. доля убыточных месторождений</th>\n",
       "      <th>95% доверительный интервал</th>\n",
       "    </tr>\n",
       "  </thead>\n",
       "  <tbody>\n",
       "    <tr>\n",
       "      <td>Регион 1</td>\n",
       "      <td>113822</td>\n",
       "      <td>0.021636</td>\n",
       "      <td>109912 - 117588</td>\n",
       "    </tr>\n",
       "    <tr>\n",
       "      <td>Регион 2</td>\n",
       "      <td>94487</td>\n",
       "      <td>0.165448</td>\n",
       "      <td>90702 - 98260</td>\n",
       "    </tr>\n",
       "    <tr>\n",
       "      <td>Регион 3</td>\n",
       "      <td>116268</td>\n",
       "      <td>0.021964</td>\n",
       "      <td>112072 - 120112</td>\n",
       "    </tr>\n",
       "    <tr>\n",
       "      <td>Регион 1 (модель)</td>\n",
       "      <td>93590</td>\n",
       "      <td>0.000076</td>\n",
       "      <td>91360 - 96000</td>\n",
       "    </tr>\n",
       "    <tr>\n",
       "      <td>Регион 2 (модель)</td>\n",
       "      <td>94404</td>\n",
       "      <td>0.165930</td>\n",
       "      <td>90132 - 98076</td>\n",
       "    </tr>\n",
       "    <tr>\n",
       "      <td>Регион 3 (модель)</td>\n",
       "      <td>92938</td>\n",
       "      <td>0.000000</td>\n",
       "      <td>91038 - 94871</td>\n",
       "    </tr>\n",
       "  </tbody>\n",
       "</table>\n",
       "</div>"
      ],
      "text/plain": [
       "                  Средняя прибыль, млн руб.  Ср. доля убыточных месторождений  \\\n",
       "Регион 1                             113822                          0.021636   \n",
       "Регион 2                              94487                          0.165448   \n",
       "Регион 3                             116268                          0.021964   \n",
       "Регион 1 (модель)                     93590                          0.000076   \n",
       "Регион 2 (модель)                     94404                          0.165930   \n",
       "Регион 3 (модель)                     92938                          0.000000   \n",
       "\n",
       "                  95% доверительный интервал  \n",
       "Регион 1                     109912 - 117588  \n",
       "Регион 2                       90702 - 98260  \n",
       "Регион 3                     112072 - 120112  \n",
       "Регион 1 (модель)              91360 - 96000  \n",
       "Регион 2 (модель)              90132 - 98076  \n",
       "Регион 3 (модель)              91038 - 94871  "
      ]
     },
     "metadata": {},
     "output_type": "display_data"
    }
   ],
   "source": [
    "r1_predictions = pd.Series(r1_model.predict(r1_feats))\n",
    "result.loc['Регион 1 (модель)'] = bootstrap_profits(r1_predictions, 1000)\n",
    "r2_predictions = pd.Series(r2_model.predict(r2_feats))\n",
    "result.loc['Регион 2 (модель)'] = bootstrap_profits(r2_predictions, 1000)\n",
    "r3_predictions = pd.Series(r3_model.predict(r3_feats))\n",
    "result.loc['Регион 3 (модель)'] = bootstrap_profits(r3_predictions, 1000)\n",
    "\n",
    "plt.title('Распределение прибылей (предсказания моделей)')\n",
    "plt.legend(['Регион 1', 'Регион 2', 'Регион 3'])\n",
    "plt.show()\n",
    "display(result)"
   ]
  },
  {
   "cell_type": "markdown",
   "metadata": {},
   "source": [
    "Как видим, из-за плохой работы линейной регрессии для 1 и 3 региона рассчитанные значения прибыли сильно (на десятки миллиардов рублей) отличаются от реальных. Для 2 региона модель отработала хорошо."
   ]
  },
  {
   "cell_type": "markdown",
   "metadata": {},
   "source": [
    "## Вывод\n",
    "\n",
    "На данном шаге мы с помощью метода бутстрэппинга рассчитали среднюю ожидаемую прибыль при разработке месторождений в трех регионах. Нами получены следующие результаты:"
   ]
  },
  {
   "cell_type": "code",
   "execution_count": 118,
   "metadata": {},
   "outputs": [
    {
     "data": {
      "text/html": [
       "<div>\n",
       "<style scoped>\n",
       "    .dataframe tbody tr th:only-of-type {\n",
       "        vertical-align: middle;\n",
       "    }\n",
       "\n",
       "    .dataframe tbody tr th {\n",
       "        vertical-align: top;\n",
       "    }\n",
       "\n",
       "    .dataframe thead th {\n",
       "        text-align: right;\n",
       "    }\n",
       "</style>\n",
       "<table border=\"1\" class=\"dataframe\">\n",
       "  <thead>\n",
       "    <tr style=\"text-align: right;\">\n",
       "      <th></th>\n",
       "      <th>Средняя прибыль, млн руб.</th>\n",
       "      <th>Ср. доля убыточных месторождений</th>\n",
       "      <th>95% доверительный интервал</th>\n",
       "    </tr>\n",
       "  </thead>\n",
       "  <tbody>\n",
       "    <tr>\n",
       "      <td>Регион 1</td>\n",
       "      <td>113822</td>\n",
       "      <td>0.021636</td>\n",
       "      <td>109912 - 117588</td>\n",
       "    </tr>\n",
       "    <tr>\n",
       "      <td>Регион 2</td>\n",
       "      <td>94487</td>\n",
       "      <td>0.165448</td>\n",
       "      <td>90702 - 98260</td>\n",
       "    </tr>\n",
       "    <tr>\n",
       "      <td>Регион 3</td>\n",
       "      <td>116268</td>\n",
       "      <td>0.021964</td>\n",
       "      <td>112072 - 120112</td>\n",
       "    </tr>\n",
       "  </tbody>\n",
       "</table>\n",
       "</div>"
      ],
      "text/plain": [
       "         Средняя прибыль, млн руб.  Ср. доля убыточных месторождений  \\\n",
       "Регион 1                    113822                          0.021636   \n",
       "Регион 2                     94487                          0.165448   \n",
       "Регион 3                    116268                          0.021964   \n",
       "\n",
       "         95% доверительный интервал  \n",
       "Регион 1            109912 - 117588  \n",
       "Регион 2              90702 - 98260  \n",
       "Регион 3            112072 - 120112  "
      ]
     },
     "execution_count": 118,
     "metadata": {},
     "output_type": "execute_result"
    }
   ],
   "source": [
    "result.iloc[:3]"
   ]
  },
  {
   "cell_type": "markdown",
   "metadata": {},
   "source": [
    "В регионе 2, несмотря на достаточно высокую среднюю ожидаемую прибыль, доля убыточных месторождений превышает 16  процентов, что нам не подходит. Поэтому данных регион мы исключаем из рассмотрения.\n",
    "\n",
    "Из двух оставшихся регионов большая потенциальная прибыль - у региона 3: с 95-процентной вероятностью она окажется в границах между 112.3 и 120 миллиардами рублей. Прибыльность первого региона чуть меньше - 95-процентный доверительный интервал для него составляет от 109.9 до 117.7 миллиардов рублей. Доля убыточных месторождений для обоих регионов не превышает 2.2 процентов\n",
    "\n",
    "По итогам проведенного анализа предлагается исследовать регион 3."
   ]
  }
 ],
 "metadata": {
  "kernelspec": {
   "display_name": "Python 3",
   "language": "python",
   "name": "python3"
  },
  "language_info": {
   "codemirror_mode": {
    "name": "ipython",
    "version": 3
   },
   "file_extension": ".py",
   "mimetype": "text/x-python",
   "name": "python",
   "nbconvert_exporter": "python",
   "pygments_lexer": "ipython3",
   "version": "3.7.4"
  }
 },
 "nbformat": 4,
 "nbformat_minor": 2
}
