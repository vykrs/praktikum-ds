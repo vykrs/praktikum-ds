{
 "cells": [
  {
   "cell_type": "markdown",
   "metadata": {},
   "source": [
    "# Исследование поведения клиентов банка\n",
    "\n",
    "## Описание проекта\n",
    "\n",
    "Нам предоставлены исторические данные о поведении клиентов и расторжении договоров с банком. \n",
    "Требуется построить модель, предсказывающую факт расторжения клиентом договора. Целевая метрика - F1-мера (не меньше *0.59*).\n",
    "Дополнительно необходимо измерять AUC-ROC.\n",
    "Источник данных: https://www.kaggle.com/barelydedicated/bank-customer-churn-modeling\n",
    "\n",
    "## Описание данных\n",
    "\n",
    "Файл ***/datasets/Churn.csv***, в котором содержится таблица со сведениями о клиентах:\n",
    "\n",
    "Признаки:\n",
    "- **RowNumber**— индекс строки в данных\n",
    "- **CustomerId** — уникальный идентификатор клиента\n",
    "- **Surname** — фамилия\n",
    "- **CreditScore** — кредитный рейтинг\n",
    "- **Geography** — страна проживания\n",
    "- **Gender** — пол\n",
    "- **Age** — возраст\n",
    "- **Tenure** — количество недвижимости у клиента\n",
    "- **Balance** — баланс на счёте\n",
    "- **NumOfProducts** — количество продуктов банка, используемых клиентом\n",
    "- **HasCrCard** — наличие кредитной карты\n",
    "- **IsActiveMember** — активность клиента\n",
    "- **EstimatedSalary** — предполагаемая зарплата\n",
    "\n",
    "Целевой признак:\n",
    "\n",
    "- **Exited** — факт ухода клиента"
   ]
  },
  {
   "cell_type": "markdown",
   "metadata": {},
   "source": [
    "## Шаг 1. Подготовка данных\n"
   ]
  },
  {
   "cell_type": "markdown",
   "metadata": {},
   "source": [
    "Импортируем необходимые модули:"
   ]
  },
  {
   "cell_type": "code",
   "execution_count": 3,
   "metadata": {},
   "outputs": [],
   "source": [
    "import pandas as pd\n",
    "from IPython.display import display\n",
    "import matplotlib.pyplot as plt\n",
    "\n",
    "from sklearn.model_selection import GridSearchCV\n",
    "from sklearn.model_selection import train_test_split\n",
    "from sklearn.metrics import f1_score, roc_auc_score\n",
    "from sklearn.preprocessing import OneHotEncoder, RobustScaler                            \n",
    "from sklearn.utils import resample   \n",
    "\n",
    "from sklearn.tree import DecisionTreeClassifier\n",
    "from sklearn.ensemble import RandomForestClassifier\n",
    "from sklearn.linear_model import LogisticRegression\n",
    "from sklearn.svm import SVC\n",
    "\n",
    "R = 10000  "
   ]
  },
  {
   "cell_type": "markdown",
   "metadata": {},
   "source": [
    "#### Изучение данных\n",
    "Посмотрим информацию о полученном датасете и выведем для наглядности несколько строк:"
   ]
  },
  {
   "cell_type": "code",
   "execution_count": 4,
   "metadata": {
    "scrolled": false
   },
   "outputs": [
    {
     "data": {
      "text/html": [
       "<div>\n",
       "<style scoped>\n",
       "    .dataframe tbody tr th:only-of-type {\n",
       "        vertical-align: middle;\n",
       "    }\n",
       "\n",
       "    .dataframe tbody tr th {\n",
       "        vertical-align: top;\n",
       "    }\n",
       "\n",
       "    .dataframe thead th {\n",
       "        text-align: right;\n",
       "    }\n",
       "</style>\n",
       "<table border=\"1\" class=\"dataframe\">\n",
       "  <thead>\n",
       "    <tr style=\"text-align: right;\">\n",
       "      <th></th>\n",
       "      <th>RowNumber</th>\n",
       "      <th>CustomerId</th>\n",
       "      <th>Surname</th>\n",
       "      <th>CreditScore</th>\n",
       "      <th>Geography</th>\n",
       "      <th>Gender</th>\n",
       "      <th>Age</th>\n",
       "      <th>Tenure</th>\n",
       "      <th>Balance</th>\n",
       "      <th>NumOfProducts</th>\n",
       "      <th>HasCrCard</th>\n",
       "      <th>IsActiveMember</th>\n",
       "      <th>EstimatedSalary</th>\n",
       "      <th>Exited</th>\n",
       "    </tr>\n",
       "  </thead>\n",
       "  <tbody>\n",
       "    <tr>\n",
       "      <td>0</td>\n",
       "      <td>1</td>\n",
       "      <td>15634602</td>\n",
       "      <td>Hargrave</td>\n",
       "      <td>619</td>\n",
       "      <td>France</td>\n",
       "      <td>Female</td>\n",
       "      <td>42</td>\n",
       "      <td>2.0</td>\n",
       "      <td>0.00</td>\n",
       "      <td>1</td>\n",
       "      <td>1</td>\n",
       "      <td>1</td>\n",
       "      <td>101348.88</td>\n",
       "      <td>1</td>\n",
       "    </tr>\n",
       "    <tr>\n",
       "      <td>1</td>\n",
       "      <td>2</td>\n",
       "      <td>15647311</td>\n",
       "      <td>Hill</td>\n",
       "      <td>608</td>\n",
       "      <td>Spain</td>\n",
       "      <td>Female</td>\n",
       "      <td>41</td>\n",
       "      <td>1.0</td>\n",
       "      <td>83807.86</td>\n",
       "      <td>1</td>\n",
       "      <td>0</td>\n",
       "      <td>1</td>\n",
       "      <td>112542.58</td>\n",
       "      <td>0</td>\n",
       "    </tr>\n",
       "    <tr>\n",
       "      <td>2</td>\n",
       "      <td>3</td>\n",
       "      <td>15619304</td>\n",
       "      <td>Onio</td>\n",
       "      <td>502</td>\n",
       "      <td>France</td>\n",
       "      <td>Female</td>\n",
       "      <td>42</td>\n",
       "      <td>8.0</td>\n",
       "      <td>159660.80</td>\n",
       "      <td>3</td>\n",
       "      <td>1</td>\n",
       "      <td>0</td>\n",
       "      <td>113931.57</td>\n",
       "      <td>1</td>\n",
       "    </tr>\n",
       "    <tr>\n",
       "      <td>3</td>\n",
       "      <td>4</td>\n",
       "      <td>15701354</td>\n",
       "      <td>Boni</td>\n",
       "      <td>699</td>\n",
       "      <td>France</td>\n",
       "      <td>Female</td>\n",
       "      <td>39</td>\n",
       "      <td>1.0</td>\n",
       "      <td>0.00</td>\n",
       "      <td>2</td>\n",
       "      <td>0</td>\n",
       "      <td>0</td>\n",
       "      <td>93826.63</td>\n",
       "      <td>0</td>\n",
       "    </tr>\n",
       "    <tr>\n",
       "      <td>4</td>\n",
       "      <td>5</td>\n",
       "      <td>15737888</td>\n",
       "      <td>Mitchell</td>\n",
       "      <td>850</td>\n",
       "      <td>Spain</td>\n",
       "      <td>Female</td>\n",
       "      <td>43</td>\n",
       "      <td>2.0</td>\n",
       "      <td>125510.82</td>\n",
       "      <td>1</td>\n",
       "      <td>1</td>\n",
       "      <td>1</td>\n",
       "      <td>79084.10</td>\n",
       "      <td>0</td>\n",
       "    </tr>\n",
       "    <tr>\n",
       "      <td>5</td>\n",
       "      <td>6</td>\n",
       "      <td>15574012</td>\n",
       "      <td>Chu</td>\n",
       "      <td>645</td>\n",
       "      <td>Spain</td>\n",
       "      <td>Male</td>\n",
       "      <td>44</td>\n",
       "      <td>8.0</td>\n",
       "      <td>113755.78</td>\n",
       "      <td>2</td>\n",
       "      <td>1</td>\n",
       "      <td>0</td>\n",
       "      <td>149756.71</td>\n",
       "      <td>1</td>\n",
       "    </tr>\n",
       "    <tr>\n",
       "      <td>6</td>\n",
       "      <td>7</td>\n",
       "      <td>15592531</td>\n",
       "      <td>Bartlett</td>\n",
       "      <td>822</td>\n",
       "      <td>France</td>\n",
       "      <td>Male</td>\n",
       "      <td>50</td>\n",
       "      <td>7.0</td>\n",
       "      <td>0.00</td>\n",
       "      <td>2</td>\n",
       "      <td>1</td>\n",
       "      <td>1</td>\n",
       "      <td>10062.80</td>\n",
       "      <td>0</td>\n",
       "    </tr>\n",
       "    <tr>\n",
       "      <td>7</td>\n",
       "      <td>8</td>\n",
       "      <td>15656148</td>\n",
       "      <td>Obinna</td>\n",
       "      <td>376</td>\n",
       "      <td>Germany</td>\n",
       "      <td>Female</td>\n",
       "      <td>29</td>\n",
       "      <td>4.0</td>\n",
       "      <td>115046.74</td>\n",
       "      <td>4</td>\n",
       "      <td>1</td>\n",
       "      <td>0</td>\n",
       "      <td>119346.88</td>\n",
       "      <td>1</td>\n",
       "    </tr>\n",
       "    <tr>\n",
       "      <td>8</td>\n",
       "      <td>9</td>\n",
       "      <td>15792365</td>\n",
       "      <td>He</td>\n",
       "      <td>501</td>\n",
       "      <td>France</td>\n",
       "      <td>Male</td>\n",
       "      <td>44</td>\n",
       "      <td>4.0</td>\n",
       "      <td>142051.07</td>\n",
       "      <td>2</td>\n",
       "      <td>0</td>\n",
       "      <td>1</td>\n",
       "      <td>74940.50</td>\n",
       "      <td>0</td>\n",
       "    </tr>\n",
       "    <tr>\n",
       "      <td>9</td>\n",
       "      <td>10</td>\n",
       "      <td>15592389</td>\n",
       "      <td>H?</td>\n",
       "      <td>684</td>\n",
       "      <td>France</td>\n",
       "      <td>Male</td>\n",
       "      <td>27</td>\n",
       "      <td>2.0</td>\n",
       "      <td>134603.88</td>\n",
       "      <td>1</td>\n",
       "      <td>1</td>\n",
       "      <td>1</td>\n",
       "      <td>71725.73</td>\n",
       "      <td>0</td>\n",
       "    </tr>\n",
       "  </tbody>\n",
       "</table>\n",
       "</div>"
      ],
      "text/plain": [
       "   RowNumber  CustomerId   Surname  CreditScore Geography  Gender  Age  \\\n",
       "0          1    15634602  Hargrave          619    France  Female   42   \n",
       "1          2    15647311      Hill          608     Spain  Female   41   \n",
       "2          3    15619304      Onio          502    France  Female   42   \n",
       "3          4    15701354      Boni          699    France  Female   39   \n",
       "4          5    15737888  Mitchell          850     Spain  Female   43   \n",
       "5          6    15574012       Chu          645     Spain    Male   44   \n",
       "6          7    15592531  Bartlett          822    France    Male   50   \n",
       "7          8    15656148    Obinna          376   Germany  Female   29   \n",
       "8          9    15792365        He          501    France    Male   44   \n",
       "9         10    15592389        H?          684    France    Male   27   \n",
       "\n",
       "   Tenure    Balance  NumOfProducts  HasCrCard  IsActiveMember  \\\n",
       "0     2.0       0.00              1          1               1   \n",
       "1     1.0   83807.86              1          0               1   \n",
       "2     8.0  159660.80              3          1               0   \n",
       "3     1.0       0.00              2          0               0   \n",
       "4     2.0  125510.82              1          1               1   \n",
       "5     8.0  113755.78              2          1               0   \n",
       "6     7.0       0.00              2          1               1   \n",
       "7     4.0  115046.74              4          1               0   \n",
       "8     4.0  142051.07              2          0               1   \n",
       "9     2.0  134603.88              1          1               1   \n",
       "\n",
       "   EstimatedSalary  Exited  \n",
       "0        101348.88       1  \n",
       "1        112542.58       0  \n",
       "2        113931.57       1  \n",
       "3         93826.63       0  \n",
       "4         79084.10       0  \n",
       "5        149756.71       1  \n",
       "6         10062.80       0  \n",
       "7        119346.88       1  \n",
       "8         74940.50       0  \n",
       "9         71725.73       0  "
      ]
     },
     "metadata": {},
     "output_type": "display_data"
    },
    {
     "name": "stdout",
     "output_type": "stream",
     "text": [
      "<class 'pandas.core.frame.DataFrame'>\n",
      "RangeIndex: 10000 entries, 0 to 9999\n",
      "Data columns (total 14 columns):\n",
      "RowNumber          10000 non-null int64\n",
      "CustomerId         10000 non-null int64\n",
      "Surname            10000 non-null object\n",
      "CreditScore        10000 non-null int64\n",
      "Geography          10000 non-null object\n",
      "Gender             10000 non-null object\n",
      "Age                10000 non-null int64\n",
      "Tenure             9091 non-null float64\n",
      "Balance            10000 non-null float64\n",
      "NumOfProducts      10000 non-null int64\n",
      "HasCrCard          10000 non-null int64\n",
      "IsActiveMember     10000 non-null int64\n",
      "EstimatedSalary    10000 non-null float64\n",
      "Exited             10000 non-null int64\n",
      "dtypes: float64(3), int64(8), object(3)\n",
      "memory usage: 1.1+ MB\n"
     ]
    }
   ],
   "source": [
    "bank_churn = pd.read_csv('/datasets/Churn.csv')\n",
    "display(bank_churn.head(10))\n",
    "bank_churn.info()"
   ]
  },
  {
   "cell_type": "markdown",
   "metadata": {},
   "source": [
    "В нашей таблице 10000 строк и 14 столбцов, в которых содержатся различные данные о клиентах банка, как категориальные (страна проживания, пол, наличие кредитной карты и т.п.), так и количественные (возраст, предполагаемая зарплата и прочее). Типы данных: целочисленный, вещественный и строковый (object). В столбце **Tenure** присутствуют пропуски значений.\n",
    "\n",
    "#### Выделение целевого признака\n",
    "Целевым признаком являются значения столбца **Exited**, в котором отражен факт ухода клиента (*0* - клиент продолжает пользоваться услугами банка, *1* - клиент ушел). Выделим его в отдельную переменную ***target***, а остальные признаки сохраним в переменной ***features***:"
   ]
  },
  {
   "cell_type": "code",
   "execution_count": 5,
   "metadata": {},
   "outputs": [],
   "source": [
    "features = bank_churn.drop(columns = ['Exited'])\n",
    "target   = bank_churn['Exited']"
   ]
  },
  {
   "cell_type": "markdown",
   "metadata": {},
   "source": [
    "#### Отбор признаков\n",
    "Первые три столбца в таблице ***features*** - идентификационные данные о клиенте (фамилия, ID, порядковый номер записи в таблице). Очевидно, что эта информация никак не коррелирует с поведением клиентов, поэтому в дальнейшем анализе эти столбцы не понадобятся. Удалим их из таблицы:"
   ]
  },
  {
   "cell_type": "code",
   "execution_count": 6,
   "metadata": {},
   "outputs": [],
   "source": [
    "features.drop(columns = ['RowNumber', 'CustomerId', 'Surname'], inplace = True)\n",
    "#bank_churn.info()                        #Проверка"
   ]
  },
  {
   "cell_type": "markdown",
   "metadata": {},
   "source": [
    "#### Заполнение пропусков\n",
    "Обработаем пропуски в столбце **Tenure** (количество недвижимости у клиента). Рассмотрим несколько записей, у которых отсутствует соответствующее значение:"
   ]
  },
  {
   "cell_type": "code",
   "execution_count": 7,
   "metadata": {},
   "outputs": [
    {
     "data": {
      "text/html": [
       "<div>\n",
       "<style scoped>\n",
       "    .dataframe tbody tr th:only-of-type {\n",
       "        vertical-align: middle;\n",
       "    }\n",
       "\n",
       "    .dataframe tbody tr th {\n",
       "        vertical-align: top;\n",
       "    }\n",
       "\n",
       "    .dataframe thead th {\n",
       "        text-align: right;\n",
       "    }\n",
       "</style>\n",
       "<table border=\"1\" class=\"dataframe\">\n",
       "  <thead>\n",
       "    <tr style=\"text-align: right;\">\n",
       "      <th></th>\n",
       "      <th>CreditScore</th>\n",
       "      <th>Geography</th>\n",
       "      <th>Gender</th>\n",
       "      <th>Age</th>\n",
       "      <th>Tenure</th>\n",
       "      <th>Balance</th>\n",
       "      <th>NumOfProducts</th>\n",
       "      <th>HasCrCard</th>\n",
       "      <th>IsActiveMember</th>\n",
       "      <th>EstimatedSalary</th>\n",
       "    </tr>\n",
       "  </thead>\n",
       "  <tbody>\n",
       "    <tr>\n",
       "      <td>30</td>\n",
       "      <td>591</td>\n",
       "      <td>Spain</td>\n",
       "      <td>Female</td>\n",
       "      <td>39</td>\n",
       "      <td>NaN</td>\n",
       "      <td>0.00</td>\n",
       "      <td>3</td>\n",
       "      <td>1</td>\n",
       "      <td>0</td>\n",
       "      <td>140469.38</td>\n",
       "    </tr>\n",
       "    <tr>\n",
       "      <td>48</td>\n",
       "      <td>550</td>\n",
       "      <td>Germany</td>\n",
       "      <td>Male</td>\n",
       "      <td>38</td>\n",
       "      <td>NaN</td>\n",
       "      <td>103391.38</td>\n",
       "      <td>1</td>\n",
       "      <td>0</td>\n",
       "      <td>1</td>\n",
       "      <td>90878.13</td>\n",
       "    </tr>\n",
       "    <tr>\n",
       "      <td>51</td>\n",
       "      <td>585</td>\n",
       "      <td>Germany</td>\n",
       "      <td>Male</td>\n",
       "      <td>36</td>\n",
       "      <td>NaN</td>\n",
       "      <td>146050.97</td>\n",
       "      <td>2</td>\n",
       "      <td>0</td>\n",
       "      <td>0</td>\n",
       "      <td>86424.57</td>\n",
       "    </tr>\n",
       "    <tr>\n",
       "      <td>53</td>\n",
       "      <td>655</td>\n",
       "      <td>Germany</td>\n",
       "      <td>Male</td>\n",
       "      <td>41</td>\n",
       "      <td>NaN</td>\n",
       "      <td>125561.97</td>\n",
       "      <td>1</td>\n",
       "      <td>0</td>\n",
       "      <td>0</td>\n",
       "      <td>164040.94</td>\n",
       "    </tr>\n",
       "    <tr>\n",
       "      <td>60</td>\n",
       "      <td>742</td>\n",
       "      <td>Germany</td>\n",
       "      <td>Male</td>\n",
       "      <td>35</td>\n",
       "      <td>NaN</td>\n",
       "      <td>136857.00</td>\n",
       "      <td>1</td>\n",
       "      <td>0</td>\n",
       "      <td>0</td>\n",
       "      <td>84509.57</td>\n",
       "    </tr>\n",
       "    <tr>\n",
       "      <td>82</td>\n",
       "      <td>543</td>\n",
       "      <td>France</td>\n",
       "      <td>Female</td>\n",
       "      <td>36</td>\n",
       "      <td>NaN</td>\n",
       "      <td>0.00</td>\n",
       "      <td>2</td>\n",
       "      <td>0</td>\n",
       "      <td>0</td>\n",
       "      <td>26019.59</td>\n",
       "    </tr>\n",
       "    <tr>\n",
       "      <td>85</td>\n",
       "      <td>652</td>\n",
       "      <td>Spain</td>\n",
       "      <td>Female</td>\n",
       "      <td>75</td>\n",
       "      <td>NaN</td>\n",
       "      <td>0.00</td>\n",
       "      <td>2</td>\n",
       "      <td>1</td>\n",
       "      <td>1</td>\n",
       "      <td>114675.75</td>\n",
       "    </tr>\n",
       "    <tr>\n",
       "      <td>94</td>\n",
       "      <td>730</td>\n",
       "      <td>Spain</td>\n",
       "      <td>Male</td>\n",
       "      <td>42</td>\n",
       "      <td>NaN</td>\n",
       "      <td>0.00</td>\n",
       "      <td>2</td>\n",
       "      <td>0</td>\n",
       "      <td>1</td>\n",
       "      <td>85982.47</td>\n",
       "    </tr>\n",
       "    <tr>\n",
       "      <td>99</td>\n",
       "      <td>413</td>\n",
       "      <td>France</td>\n",
       "      <td>Male</td>\n",
       "      <td>34</td>\n",
       "      <td>NaN</td>\n",
       "      <td>0.00</td>\n",
       "      <td>2</td>\n",
       "      <td>0</td>\n",
       "      <td>0</td>\n",
       "      <td>6534.18</td>\n",
       "    </tr>\n",
       "    <tr>\n",
       "      <td>111</td>\n",
       "      <td>538</td>\n",
       "      <td>Germany</td>\n",
       "      <td>Male</td>\n",
       "      <td>39</td>\n",
       "      <td>NaN</td>\n",
       "      <td>108055.10</td>\n",
       "      <td>2</td>\n",
       "      <td>1</td>\n",
       "      <td>0</td>\n",
       "      <td>27231.26</td>\n",
       "    </tr>\n",
       "  </tbody>\n",
       "</table>\n",
       "</div>"
      ],
      "text/plain": [
       "     CreditScore Geography  Gender  Age  Tenure    Balance  NumOfProducts  \\\n",
       "30           591     Spain  Female   39     NaN       0.00              3   \n",
       "48           550   Germany    Male   38     NaN  103391.38              1   \n",
       "51           585   Germany    Male   36     NaN  146050.97              2   \n",
       "53           655   Germany    Male   41     NaN  125561.97              1   \n",
       "60           742   Germany    Male   35     NaN  136857.00              1   \n",
       "82           543    France  Female   36     NaN       0.00              2   \n",
       "85           652     Spain  Female   75     NaN       0.00              2   \n",
       "94           730     Spain    Male   42     NaN       0.00              2   \n",
       "99           413    France    Male   34     NaN       0.00              2   \n",
       "111          538   Germany    Male   39     NaN  108055.10              2   \n",
       "\n",
       "     HasCrCard  IsActiveMember  EstimatedSalary  \n",
       "30           1               0        140469.38  \n",
       "48           0               1         90878.13  \n",
       "51           0               0         86424.57  \n",
       "53           0               0        164040.94  \n",
       "60           0               0         84509.57  \n",
       "82           0               0         26019.59  \n",
       "85           1               1        114675.75  \n",
       "94           0               1         85982.47  \n",
       "99           0               0          6534.18  \n",
       "111          1               0         27231.26  "
      ]
     },
     "execution_count": 7,
     "metadata": {},
     "output_type": "execute_result"
    }
   ],
   "source": [
    "features.query('Tenure == \"NaN\"').head(10)"
   ]
  },
  {
   "cell_type": "markdown",
   "metadata": {},
   "source": [
    "При беглом просмотре закономерностей в возникновении пропусков в этом столбце не замечено. Скорее всего, клиенты могли не сообщать банку данную информацию. \n",
    "\n",
    "Заполним пропуски медианным значением признака, а также преобразуем его в целочисленный тип:"
   ]
  },
  {
   "cell_type": "code",
   "execution_count": 8,
   "metadata": {},
   "outputs": [
    {
     "name": "stdout",
     "output_type": "stream",
     "text": [
      "Пропусков в столбце \"Tenure\": 0\n"
     ]
    }
   ],
   "source": [
    "features['Tenure'].fillna(features['Tenure'].median(),inplace=True)\n",
    "features['Tenure'] = features['Tenure'].astype('int64')\n",
    "print(f'Пропусков в столбце \"Tenure\": {features[\"Tenure\"].isna().sum()}')"
   ]
  },
  {
   "cell_type": "markdown",
   "metadata": {},
   "source": [
    "#### Кодирование категориальных признаков\n",
    "Выделим категориальные признаки и произведем их кодирование с помощью функции pd.get_dummies() с параметром drop_first = True:"
   ]
  },
  {
   "cell_type": "code",
   "execution_count": 9,
   "metadata": {
    "scrolled": false
   },
   "outputs": [
    {
     "data": {
      "text/html": [
       "<div>\n",
       "<style scoped>\n",
       "    .dataframe tbody tr th:only-of-type {\n",
       "        vertical-align: middle;\n",
       "    }\n",
       "\n",
       "    .dataframe tbody tr th {\n",
       "        vertical-align: top;\n",
       "    }\n",
       "\n",
       "    .dataframe thead th {\n",
       "        text-align: right;\n",
       "    }\n",
       "</style>\n",
       "<table border=\"1\" class=\"dataframe\">\n",
       "  <thead>\n",
       "    <tr style=\"text-align: right;\">\n",
       "      <th></th>\n",
       "      <th>CreditScore</th>\n",
       "      <th>Age</th>\n",
       "      <th>Tenure</th>\n",
       "      <th>Balance</th>\n",
       "      <th>NumOfProducts</th>\n",
       "      <th>HasCrCard</th>\n",
       "      <th>IsActiveMember</th>\n",
       "      <th>EstimatedSalary</th>\n",
       "      <th>Geography_Germany</th>\n",
       "      <th>Geography_Spain</th>\n",
       "      <th>Gender_Male</th>\n",
       "    </tr>\n",
       "  </thead>\n",
       "  <tbody>\n",
       "    <tr>\n",
       "      <td>4319</td>\n",
       "      <td>609</td>\n",
       "      <td>34</td>\n",
       "      <td>5</td>\n",
       "      <td>140694.78</td>\n",
       "      <td>2</td>\n",
       "      <td>1</td>\n",
       "      <td>0</td>\n",
       "      <td>46266.63</td>\n",
       "      <td>0</td>\n",
       "      <td>1</td>\n",
       "      <td>1</td>\n",
       "    </tr>\n",
       "    <tr>\n",
       "      <td>6690</td>\n",
       "      <td>573</td>\n",
       "      <td>30</td>\n",
       "      <td>5</td>\n",
       "      <td>127406.50</td>\n",
       "      <td>1</td>\n",
       "      <td>1</td>\n",
       "      <td>0</td>\n",
       "      <td>192950.60</td>\n",
       "      <td>1</td>\n",
       "      <td>0</td>\n",
       "      <td>1</td>\n",
       "    </tr>\n",
       "    <tr>\n",
       "      <td>231</td>\n",
       "      <td>610</td>\n",
       "      <td>40</td>\n",
       "      <td>0</td>\n",
       "      <td>0.00</td>\n",
       "      <td>2</td>\n",
       "      <td>1</td>\n",
       "      <td>0</td>\n",
       "      <td>62232.60</td>\n",
       "      <td>0</td>\n",
       "      <td>0</td>\n",
       "      <td>1</td>\n",
       "    </tr>\n",
       "    <tr>\n",
       "      <td>7590</td>\n",
       "      <td>619</td>\n",
       "      <td>42</td>\n",
       "      <td>8</td>\n",
       "      <td>132796.04</td>\n",
       "      <td>3</td>\n",
       "      <td>1</td>\n",
       "      <td>1</td>\n",
       "      <td>191821.35</td>\n",
       "      <td>1</td>\n",
       "      <td>0</td>\n",
       "      <td>0</td>\n",
       "    </tr>\n",
       "    <tr>\n",
       "      <td>7247</td>\n",
       "      <td>582</td>\n",
       "      <td>40</td>\n",
       "      <td>3</td>\n",
       "      <td>110150.43</td>\n",
       "      <td>1</td>\n",
       "      <td>1</td>\n",
       "      <td>1</td>\n",
       "      <td>191757.65</td>\n",
       "      <td>1</td>\n",
       "      <td>0</td>\n",
       "      <td>0</td>\n",
       "    </tr>\n",
       "  </tbody>\n",
       "</table>\n",
       "</div>"
      ],
      "text/plain": [
       "      CreditScore  Age  Tenure    Balance  NumOfProducts  HasCrCard  \\\n",
       "4319          609   34       5  140694.78              2          1   \n",
       "6690          573   30       5  127406.50              1          1   \n",
       "231           610   40       0       0.00              2          1   \n",
       "7590          619   42       8  132796.04              3          1   \n",
       "7247          582   40       3  110150.43              1          1   \n",
       "\n",
       "      IsActiveMember  EstimatedSalary  Geography_Germany  Geography_Spain  \\\n",
       "4319               0         46266.63                  0                1   \n",
       "6690               0        192950.60                  1                0   \n",
       "231                0         62232.60                  0                0   \n",
       "7590               1        191821.35                  1                0   \n",
       "7247               1        191757.65                  1                0   \n",
       "\n",
       "      Gender_Male  \n",
       "4319            1  \n",
       "6690            1  \n",
       "231             1  \n",
       "7590            0  \n",
       "7247            0  "
      ]
     },
     "execution_count": 9,
     "metadata": {},
     "output_type": "execute_result"
    }
   ],
   "source": [
    "categorical = ['Geography',\n",
    "               'Gender']\n",
    "\n",
    "features = (features.join(pd.get_dummies(features[categorical], drop_first = True))\n",
    "                    .drop(columns = categorical))\n",
    "features.sample(5)"
   ]
  },
  {
   "cell_type": "markdown",
   "metadata": {},
   "source": [
    "#### Разбиение на выборки и стандартизация признаков\n",
    "Разделим датасет на обучающую, валидационную и проверочную выборки в соотношении 3:1:1:"
   ]
  },
  {
   "cell_type": "code",
   "execution_count": 10,
   "metadata": {},
   "outputs": [
    {
     "name": "stdout",
     "output_type": "stream",
     "text": [
      "Размеры выборок:\n",
      "\n",
      "Обучающая \t 6000\n",
      "Валидационная \t 2000\n",
      "Тестовая \t 2000\n"
     ]
    }
   ],
   "source": [
    "tr_and_val_feats, test_feats, tr_and_val_target, test_target = train_test_split(features, target,\n",
    "                                                                                train_size = 0.8,   # 4:1\n",
    "                                                                                random_state = R)\n",
    "train_feats, valid_feats, train_target, valid_target = train_test_split(tr_and_val_feats, \n",
    "                                                                        tr_and_val_target,\n",
    "                                                                        train_size = 0.75,          # 3:1\n",
    "                                                                        random_state = R)\n",
    "\n",
    "print(f'''Размеры выборок:\n",
    "\n",
    "Обучающая \\t {train_feats.shape[0]}\n",
    "Валидационная \\t {valid_feats.shape[0]}\n",
    "Тестовая \\t {test_feats.shape[0]}''')"
   ]
  },
  {
   "cell_type": "markdown",
   "metadata": {},
   "source": [
    "Произведем нормирование количественных признаков:"
   ]
  },
  {
   "cell_type": "code",
   "execution_count": 11,
   "metadata": {},
   "outputs": [
    {
     "data": {
      "text/html": [
       "<div>\n",
       "<style scoped>\n",
       "    .dataframe tbody tr th:only-of-type {\n",
       "        vertical-align: middle;\n",
       "    }\n",
       "\n",
       "    .dataframe tbody tr th {\n",
       "        vertical-align: top;\n",
       "    }\n",
       "\n",
       "    .dataframe thead th {\n",
       "        text-align: right;\n",
       "    }\n",
       "</style>\n",
       "<table border=\"1\" class=\"dataframe\">\n",
       "  <thead>\n",
       "    <tr style=\"text-align: right;\">\n",
       "      <th></th>\n",
       "      <th>CreditScore</th>\n",
       "      <th>Age</th>\n",
       "      <th>Tenure</th>\n",
       "      <th>Balance</th>\n",
       "      <th>NumOfProducts</th>\n",
       "      <th>HasCrCard</th>\n",
       "      <th>IsActiveMember</th>\n",
       "      <th>EstimatedSalary</th>\n",
       "      <th>Geography_Germany</th>\n",
       "      <th>Geography_Spain</th>\n",
       "      <th>Gender_Male</th>\n",
       "    </tr>\n",
       "  </thead>\n",
       "  <tbody>\n",
       "    <tr>\n",
       "      <td>1809</td>\n",
       "      <td>-0.097744</td>\n",
       "      <td>1.083333</td>\n",
       "      <td>0.25</td>\n",
       "      <td>0.135183</td>\n",
       "      <td>1.0</td>\n",
       "      <td>1</td>\n",
       "      <td>1</td>\n",
       "      <td>-0.486320</td>\n",
       "      <td>0</td>\n",
       "      <td>0</td>\n",
       "      <td>0</td>\n",
       "    </tr>\n",
       "    <tr>\n",
       "      <td>2634</td>\n",
       "      <td>0.067669</td>\n",
       "      <td>0.416667</td>\n",
       "      <td>1.00</td>\n",
       "      <td>-0.176535</td>\n",
       "      <td>0.0</td>\n",
       "      <td>1</td>\n",
       "      <td>0</td>\n",
       "      <td>-0.748333</td>\n",
       "      <td>0</td>\n",
       "      <td>1</td>\n",
       "      <td>0</td>\n",
       "    </tr>\n",
       "    <tr>\n",
       "      <td>5180</td>\n",
       "      <td>-0.624060</td>\n",
       "      <td>0.500000</td>\n",
       "      <td>0.75</td>\n",
       "      <td>0.495541</td>\n",
       "      <td>1.0</td>\n",
       "      <td>0</td>\n",
       "      <td>1</td>\n",
       "      <td>0.797516</td>\n",
       "      <td>0</td>\n",
       "      <td>1</td>\n",
       "      <td>1</td>\n",
       "    </tr>\n",
       "    <tr>\n",
       "      <td>408</td>\n",
       "      <td>0.120301</td>\n",
       "      <td>0.000000</td>\n",
       "      <td>1.25</td>\n",
       "      <td>0.428568</td>\n",
       "      <td>1.0</td>\n",
       "      <td>1</td>\n",
       "      <td>1</td>\n",
       "      <td>0.606551</td>\n",
       "      <td>1</td>\n",
       "      <td>0</td>\n",
       "      <td>1</td>\n",
       "    </tr>\n",
       "    <tr>\n",
       "      <td>9640</td>\n",
       "      <td>0.736842</td>\n",
       "      <td>-0.166667</td>\n",
       "      <td>-0.50</td>\n",
       "      <td>-0.764206</td>\n",
       "      <td>0.0</td>\n",
       "      <td>1</td>\n",
       "      <td>0</td>\n",
       "      <td>0.934395</td>\n",
       "      <td>0</td>\n",
       "      <td>0</td>\n",
       "      <td>0</td>\n",
       "    </tr>\n",
       "  </tbody>\n",
       "</table>\n",
       "</div>"
      ],
      "text/plain": [
       "      CreditScore       Age  Tenure   Balance  NumOfProducts  HasCrCard  \\\n",
       "1809    -0.097744  1.083333    0.25  0.135183            1.0          1   \n",
       "2634     0.067669  0.416667    1.00 -0.176535            0.0          1   \n",
       "5180    -0.624060  0.500000    0.75  0.495541            1.0          0   \n",
       "408      0.120301  0.000000    1.25  0.428568            1.0          1   \n",
       "9640     0.736842 -0.166667   -0.50 -0.764206            0.0          1   \n",
       "\n",
       "      IsActiveMember  EstimatedSalary  Geography_Germany  Geography_Spain  \\\n",
       "1809               1        -0.486320                  0                0   \n",
       "2634               0        -0.748333                  0                1   \n",
       "5180               1         0.797516                  0                1   \n",
       "408                1         0.606551                  1                0   \n",
       "9640               0         0.934395                  0                0   \n",
       "\n",
       "      Gender_Male  \n",
       "1809            0  \n",
       "2634            0  \n",
       "5180            1  \n",
       "408             1  \n",
       "9640            0  "
      ]
     },
     "metadata": {},
     "output_type": "display_data"
    }
   ],
   "source": [
    "import warnings                     #Чтобы не выводились предупреждения \n",
    "warnings.filterwarnings('ignore')   \n",
    "   \n",
    "numeric = ['CreditScore',\n",
    "           'Age',\n",
    "           'Tenure',\n",
    "           'Balance',\n",
    "           'NumOfProducts',\n",
    "           'EstimatedSalary']\n",
    "\n",
    "scaler = RobustScaler().fit(train_feats[numeric].values)\n",
    "for feats in [train_feats, valid_feats, test_feats]:\n",
    "    feats.loc[:, numeric] = scaler.transform(feats[numeric].values)\n",
    "    \n",
    "display(train_feats.head())\n",
    "\n",
    "warnings.filterwarnings('default')"
   ]
  },
  {
   "cell_type": "markdown",
   "metadata": {},
   "source": [
    "## Выводы\n",
    "\n",
    "На этом шаге мы изучили полученные данные, произвели их предварительную обработку (заполнение пропусков, нормирование количественных и кодирование категориальных признаков). \n",
    "\n",
    "Помимо этого, нами выделен целевой признак (факт ухода клиента из банка), а также сделано разбиение датасета на тренировочную, валидационную и проверочную выборки."
   ]
  },
  {
   "cell_type": "markdown",
   "metadata": {},
   "source": [
    "## Шаг 2. Построение моделей классификации\n",
    "\n",
    "#### Баланс классов целевого признака:\n",
    "\n",
    "Найдем соотношение размеров классов *0* и *1* целевого признакак **Exited**:"
   ]
  },
  {
   "cell_type": "code",
   "execution_count": 12,
   "metadata": {},
   "outputs": [
    {
     "data": {
      "image/png": "[encoded data removed]",
      "text/plain": [
       "<Figure size 432x288 with 1 Axes>"
      ]
     },
     "metadata": {
      "needs_background": "light"
     },
     "output_type": "display_data"
    },
    {
     "name": "stdout",
     "output_type": "stream",
     "text": [
      "Доля значений 1 - 20.05%\n",
      "Доля значений 0 - 79.95%\n"
     ]
    }
   ],
   "source": [
    "train_target.value_counts().plot(kind = 'bar', title = 'Соотношение классов')\n",
    "plt.show()\n",
    "print(f'Доля значений 1 - {train_target.mean():.2%}')\n",
    "print(f'Доля значений 0 - {1 - train_target.mean():.2%}')"
   ]
  },
  {
   "cell_type": "markdown",
   "metadata": {},
   "source": [
    "Как можно видеть, классы целевого признака не сбалансированы: значений *0* в 4 раза больше, чем *1*. Изучим, как это скажется на качестве наших моделей.\n",
    "\n",
    "#### Построение модели без учета дисбаланса классов\n",
    "\n",
    "Построим несколько моделей классификации и попробуем обучить их, не учитывая пока дисбаланс классов целевой переменной. Рассмотрим следующие алгоритмы:\n",
    "1. Логистическая регрессия;\n",
    "2. Метод опорных векторов;\n",
    "3. Решающее дерево;\n",
    "4. Случайный лес;\n",
    "\n",
    "В качестве основной метрики будем использовать F1-меру, в качестве дополнительной - AUC-ROC.\n",
    "\n",
    "Результаты будем сохранять в таблицу ***results***."
   ]
  },
  {
   "cell_type": "markdown",
   "metadata": {},
   "source": [
    "---\n",
    "\n",
    "### Комментарий наставника\n",
    "\n",
    "Такой дисбаланс может навредить обучению модели \n",
    "\n",
    "---"
   ]
  },
  {
   "cell_type": "code",
   "execution_count": 13,
   "metadata": {},
   "outputs": [],
   "source": [
    "logreg_model = LogisticRegression(solver = 'saga')                        \n",
    "SVM_model    = SVC(gamma = 'auto', random_state = R)\n",
    "tree_model   = DecisionTreeClassifier(random_state = R)\n",
    "forest_model = RandomForestClassifier(n_estimators = 100, random_state = R)\n",
    "\n",
    "models_list = [logreg_model, SVM_model, tree_model, forest_model]         #Список моделей для итерирования\n",
    "\n",
    "results = pd.DataFrame(columns = ['F1', 'AUC ROC'])                       #Пустой датафрейм для результатов"
   ]
  },
  {
   "cell_type": "markdown",
   "metadata": {},
   "source": [
    "Каждую модель обучим на тренировочных данных, после чего произведем валидацию и найдем F1-меру и площадь под кривой ROC:"
   ]
  },
  {
   "cell_type": "code",
   "execution_count": 14,
   "metadata": {},
   "outputs": [
    {
     "data": {
      "text/html": [
       "<div>\n",
       "<style scoped>\n",
       "    .dataframe tbody tr th:only-of-type {\n",
       "        vertical-align: middle;\n",
       "    }\n",
       "\n",
       "    .dataframe tbody tr th {\n",
       "        vertical-align: top;\n",
       "    }\n",
       "\n",
       "    .dataframe thead th {\n",
       "        text-align: right;\n",
       "    }\n",
       "</style>\n",
       "<table border=\"1\" class=\"dataframe\">\n",
       "  <thead>\n",
       "    <tr style=\"text-align: right;\">\n",
       "      <th></th>\n",
       "      <th>F1</th>\n",
       "      <th>AUC ROC</th>\n",
       "    </tr>\n",
       "  </thead>\n",
       "  <tbody>\n",
       "    <tr>\n",
       "      <td>LogisticRegression</td>\n",
       "      <td>0.3118</td>\n",
       "      <td>0.5875</td>\n",
       "    </tr>\n",
       "    <tr>\n",
       "      <td>SVC</td>\n",
       "      <td>0.466</td>\n",
       "      <td>0.6532</td>\n",
       "    </tr>\n",
       "    <tr>\n",
       "      <td>DecisionTreeClassifier</td>\n",
       "      <td>0.4848</td>\n",
       "      <td>0.6727</td>\n",
       "    </tr>\n",
       "    <tr>\n",
       "      <td>RandomForestClassifier</td>\n",
       "      <td>0.5602</td>\n",
       "      <td>0.7029</td>\n",
       "    </tr>\n",
       "  </tbody>\n",
       "</table>\n",
       "</div>"
      ],
      "text/plain": [
       "                            F1 AUC ROC\n",
       "LogisticRegression      0.3118  0.5875\n",
       "SVC                      0.466  0.6532\n",
       "DecisionTreeClassifier  0.4848  0.6727\n",
       "RandomForestClassifier  0.5602  0.7029"
      ]
     },
     "execution_count": 14,
     "metadata": {},
     "output_type": "execute_result"
    }
   ],
   "source": [
    "def train_and_count_metrics(model, train_feats, train_target):\n",
    "    '''Обучает модель на заданных тренировочных данных, проводит валидацию и находит F1 и AUC ROC'''\n",
    "    \n",
    "    model.fit(train_feats, train_target)\n",
    "    prediction = model.predict(valid_feats)\n",
    "    f1 = round(f1_score(valid_target, prediction), 4)\n",
    "    roc_auc = round(roc_auc_score(valid_target, prediction), 4)\n",
    "    name = repr(model).split(\"(\")[0]                              #Отображение названия алгоритма\n",
    "    return name, f1, roc_auc\n",
    "    \n",
    "for model in models_list:\n",
    "    name, f1, roc_auc = train_and_count_metrics(model, train_feats, train_target)\n",
    "    results.loc[name, 'F1'] = f1\n",
    "    results.loc[name, 'AUC ROC'] = roc_auc\n",
    "    \n",
    "results\n"
   ]
  },
  {
   "cell_type": "markdown",
   "metadata": {},
   "source": [
    "Полученные метрики пока что весьма малы, до требуемого значения F1 (*0.59*) ни одна модель не дотянула. Попробуем подстроить гиперпараметры с использованием алгоритма GridSearchCV. Начнем с модели решающего дерева:"
   ]
  },
  {
   "cell_type": "code",
   "execution_count": 15,
   "metadata": {},
   "outputs": [
    {
     "name": "stdout",
     "output_type": "stream",
     "text": [
      "Fitting 5 folds for each of 70 candidates, totalling 350 fits\n"
     ]
    },
    {
     "name": "stderr",
     "output_type": "stream",
     "text": [
      "[Parallel(n_jobs=1)]: Using backend SequentialBackend with 1 concurrent workers.\n"
     ]
    },
    {
     "name": "stdout",
     "output_type": "stream",
     "text": [
      "Оптимальными параметрами для DecisionTreeClassifier являются {'max_depth': 8, 'max_features': 11}\n",
      "Получили F1 = 0.5242, AUC ROC = 0.6863\n"
     ]
    },
    {
     "name": "stderr",
     "output_type": "stream",
     "text": [
      "[Parallel(n_jobs=1)]: Done 350 out of 350 | elapsed:    7.7s finished\n"
     ]
    }
   ],
   "source": [
    "tree_parameters = {'max_depth': range(5, 15),\n",
    "                   'max_features': range(5, 12)}\n",
    "\n",
    "tree_grid = GridSearchCV(estimator = DecisionTreeClassifier(random_state = R),\n",
    "                         param_grid = tree_parameters,\n",
    "                         scoring='f1',\n",
    "                         cv = 5,\n",
    "                         verbose = True)\n",
    "\n",
    "_, f1, roc_auc = train_and_count_metrics(tree_grid, train_feats, train_target)\n",
    "\n",
    "print(f'Оптимальными параметрами для DecisionTreeClassifier являются {tree_grid.best_params_}')\n",
    "print(f'Получили F1 = {f1}, AUC ROC = {roc_auc}')\n",
    "results.loc['DecisionTreeClassifier', 'F1'] = f1\n",
    "results.loc['DecisionTreeClassifier', 'AUC ROC'] = roc_auc"
   ]
  },
  {
   "cell_type": "markdown",
   "metadata": {},
   "source": [
    "Теперь настроим модель случайный лес. Подберем оптимальное значение параметра n_estimators простым перебором:"
   ]
  },
  {
   "cell_type": "code",
   "execution_count": 16,
   "metadata": {},
   "outputs": [
    {
     "name": "stdout",
     "output_type": "stream",
     "text": [
      "Оптимальное значение n_estimators = 200, F1 = 0.5671, ROC AUC = 0.7062\n"
     ]
    }
   ],
   "source": [
    "temp = []\n",
    "for est in range(100, 251, 10):\n",
    "    forest_model = RandomForestClassifier(n_estimators = est, \n",
    "                                          random_state = R)\n",
    "    _, f1, roc_auc = train_and_count_metrics(forest_model, train_feats, train_target)\n",
    "    temp.append([f1, roc_auc, est])\n",
    "\n",
    "best = max(temp)\n",
    "print(f'Оптимальное значение n_estimators = {best[2]}, F1 = {best[0]}, ROC AUC = {best[1]}')\n",
    "results.loc['RandomForestClassifier', 'F1'] = best[0]\n",
    "results.loc['RandomForestClassifier', 'AUC ROC'] = best[1]"
   ]
  },
  {
   "cell_type": "markdown",
   "metadata": {},
   "source": [
    "Также подберем оптимальные параметры для модели на основе опорных векторов:"
   ]
  },
  {
   "cell_type": "code",
   "execution_count": 17,
   "metadata": {},
   "outputs": [
    {
     "name": "stdout",
     "output_type": "stream",
     "text": [
      "Fitting 5 folds for each of 8 candidates, totalling 40 fits\n"
     ]
    },
    {
     "name": "stderr",
     "output_type": "stream",
     "text": [
      "[Parallel(n_jobs=1)]: Using backend SequentialBackend with 1 concurrent workers.\n",
      "[Parallel(n_jobs=1)]: Done  40 out of  40 | elapsed:   48.8s finished\n"
     ]
    },
    {
     "name": "stdout",
     "output_type": "stream",
     "text": [
      "Оптимальными параметрами для SVC являются {'C': 100, 'gamma': 'auto'}\n",
      "Получили F1 = 0.5109, AUC ROC = 0.6767\n"
     ]
    }
   ],
   "source": [
    "svc_parameters = {'C': [0.1, 1, 10, 100],\n",
    "                  'gamma': ['scale', 'auto']}\n",
    "\n",
    "svm_grid = GridSearchCV(estimator = SVC(random_state = R),\n",
    "                        param_grid = svc_parameters,\n",
    "                        scoring='f1',\n",
    "                        cv = 5,\n",
    "                        verbose = True)\n",
    "_, f1, roc_auc = train_and_count_metrics(svm_grid, train_feats, train_target)\n",
    "\n",
    "print(f'Оптимальными параметрами для SVC являются {svm_grid.best_params_}')\n",
    "print(f'Получили F1 = {f1}, AUC ROC = {roc_auc}')\n",
    "results.loc['SVC', 'F1'] = f1\n",
    "results.loc['SVC', 'AUC ROC'] = roc_auc"
   ]
  },
  {
   "cell_type": "code",
   "execution_count": 27,
   "metadata": {},
   "outputs": [
    {
     "data": {
      "text/html": [
       "<div>\n",
       "<style scoped>\n",
       "    .dataframe tbody tr th:only-of-type {\n",
       "        vertical-align: middle;\n",
       "    }\n",
       "\n",
       "    .dataframe tbody tr th {\n",
       "        vertical-align: top;\n",
       "    }\n",
       "\n",
       "    .dataframe thead th {\n",
       "        text-align: right;\n",
       "    }\n",
       "</style>\n",
       "<table border=\"1\" class=\"dataframe\">\n",
       "  <thead>\n",
       "    <tr style=\"text-align: right;\">\n",
       "      <th></th>\n",
       "      <th>F1</th>\n",
       "      <th>AUC ROC</th>\n",
       "      <th>F1 upsampled</th>\n",
       "      <th>AUC ROC upsampled</th>\n",
       "      <th>F1 downsampled</th>\n",
       "      <th>AUC ROC downsampled</th>\n",
       "      <th>F1 c взвешиванием</th>\n",
       "      <th>AUC ROC c взвешиванием</th>\n",
       "    </tr>\n",
       "  </thead>\n",
       "  <tbody>\n",
       "    <tr>\n",
       "      <td>LogisticRegression</td>\n",
       "      <td>0.3118</td>\n",
       "      <td>0.5875</td>\n",
       "      <td>0.5044</td>\n",
       "      <td>0.7047</td>\n",
       "      <td>0.5040</td>\n",
       "      <td>0.7039</td>\n",
       "      <td>0.5053</td>\n",
       "      <td>0.7051</td>\n",
       "    </tr>\n",
       "    <tr>\n",
       "      <td>SVC</td>\n",
       "      <td>0.5109</td>\n",
       "      <td>0.6767</td>\n",
       "      <td>0.5745</td>\n",
       "      <td>0.7503</td>\n",
       "      <td>0.5860</td>\n",
       "      <td>0.7646</td>\n",
       "      <td>0.5936</td>\n",
       "      <td>0.7637</td>\n",
       "    </tr>\n",
       "    <tr>\n",
       "      <td>DecisionTreeClassifier</td>\n",
       "      <td>0.5242</td>\n",
       "      <td>0.6863</td>\n",
       "      <td>0.5736</td>\n",
       "      <td>0.7518</td>\n",
       "      <td>0.5685</td>\n",
       "      <td>0.7531</td>\n",
       "      <td>0.5770</td>\n",
       "      <td>0.7537</td>\n",
       "    </tr>\n",
       "    <tr>\n",
       "      <td>RandomForestClassifier</td>\n",
       "      <td>0.5671</td>\n",
       "      <td>0.7062</td>\n",
       "      <td>0.6055</td>\n",
       "      <td>0.7635</td>\n",
       "      <td>0.6126</td>\n",
       "      <td>0.7843</td>\n",
       "      <td>0.6265</td>\n",
       "      <td>0.7665</td>\n",
       "    </tr>\n",
       "  </tbody>\n",
       "</table>\n",
       "</div>"
      ],
      "text/plain": [
       "                            F1 AUC ROC  F1 upsampled  AUC ROC upsampled  \\\n",
       "LogisticRegression      0.3118  0.5875        0.5044             0.7047   \n",
       "SVC                     0.5109  0.6767        0.5745             0.7503   \n",
       "DecisionTreeClassifier  0.5242  0.6863        0.5736             0.7518   \n",
       "RandomForestClassifier  0.5671  0.7062        0.6055             0.7635   \n",
       "\n",
       "                        F1 downsampled  AUC ROC downsampled  \\\n",
       "LogisticRegression              0.5040               0.7039   \n",
       "SVC                             0.5860               0.7646   \n",
       "DecisionTreeClassifier          0.5685               0.7531   \n",
       "RandomForestClassifier          0.6126               0.7843   \n",
       "\n",
       "                        F1 c взвешиванием  AUC ROC c взвешиванием  \n",
       "LogisticRegression                 0.5053                  0.7051  \n",
       "SVC                                0.5936                  0.7637  \n",
       "DecisionTreeClassifier             0.5770                  0.7537  \n",
       "RandomForestClassifier             0.6265                  0.7665  "
      ]
     },
     "execution_count": 27,
     "metadata": {},
     "output_type": "execute_result"
    }
   ],
   "source": [
    "results"
   ]
  },
  {
   "cell_type": "markdown",
   "metadata": {},
   "source": [
    "## Выводы\n",
    "\n",
    "Как можно заметить, при наличии даже не очень значительного дисбаланса классов (4:1) исследованные модели не достигают заданной меры F1. Наивысшее значение метрики при этом получилось у модели на основе алгоритма \"Случайный лес\" (примерно 0.57, AUC ROC при этом равна 0.7)"
   ]
  },
  {
   "cell_type": "markdown",
   "metadata": {},
   "source": [
    "## Шаг 3. Настройка моделей с учетом дисбаланса классов\n",
    "\n",
    "Попробуем устранить имеющийся дисбаланс классов одним из следующих способов:\n",
    "1. Увеличение экземпляров меньшего класса (upsampling);\n",
    "2. Прореживание большего класса (downsampling);\n",
    "3. Взвешивание классов.\n",
    "\n",
    "Сначала создадим модели с оптимальными гиперпараметрами:"
   ]
  },
  {
   "cell_type": "code",
   "execution_count": 19,
   "metadata": {},
   "outputs": [],
   "source": [
    "logreg_model = LogisticRegression(solver = 'saga')\n",
    "SVM_model    = SVC(C = 100, \n",
    "                   gamma = 'auto', \n",
    "                   random_state = R)\n",
    "tree_model   = DecisionTreeClassifier(max_depth = 8,\n",
    "                                      random_state = R)\n",
    "forest_model = RandomForestClassifier(n_estimators = 200,\n",
    "                                      max_depth = 9,\n",
    "                                      random_state = R)\n",
    "\n",
    "models_list = [logreg_model, SVM_model, tree_model, forest_model]           #Обновим список моделей"
   ]
  },
  {
   "cell_type": "markdown",
   "metadata": {},
   "source": [
    "#### Upsampling\n",
    "Для того, чтобы увеличить численность меньшего класса (*1*), определим функцию upsample:"
   ]
  },
  {
   "cell_type": "code",
   "execution_count": 20,
   "metadata": {},
   "outputs": [
    {
     "name": "stdout",
     "output_type": "stream",
     "text": [
      "Размер обучающей выборки после upsample: 9594\n",
      "Доля значений 1 - 50.00%\n",
      "Доля значений 0 - 50.00%\n"
     ]
    }
   ],
   "source": [
    "def upsample(features, target, repeat):\n",
    "    '''дублирует случайные записи, относящиеся к меньшему классу'''\n",
    "    features_zeros = features[target == 0]\n",
    "    features_ones  = features[target == 1]\n",
    "    target_zeros   = target[target == 0]\n",
    "    target_ones    = target[target == 1]\n",
    "    features_ones_up = resample(features_ones, replace = True, \n",
    "                                n_samples = features_zeros.shape[0],\n",
    "                                random_state = R)\n",
    "    target_ones_up = resample(target_ones, replace = True, \n",
    "                              n_samples = features_zeros.shape[0],\n",
    "                              random_state = R)\n",
    "    features_upsampled = pd.concat([features_zeros] + [features_ones_up])\n",
    "    target_upsampled = pd.concat([target_zeros] + [target_ones_up])\n",
    "    return features_upsampled, target_upsampled\n",
    "\n",
    "upsampled_train_feats, upsampled_train_target = upsample(train_feats, train_target, 4)\n",
    "print(f'Размер обучающей выборки после upsample: {upsampled_train_feats.shape[0]}')\n",
    "print(f'Доля значений 1 - {upsampled_train_target.mean():.2%}')\n",
    "print(f'Доля значений 0 - {1 - upsampled_train_target.mean():.2%}')"
   ]
  },
  {
   "cell_type": "markdown",
   "metadata": {},
   "source": [
    "Проверим работу моделей:"
   ]
  },
  {
   "cell_type": "code",
   "execution_count": 21,
   "metadata": {},
   "outputs": [
    {
     "data": {
      "text/html": [
       "<div>\n",
       "<style scoped>\n",
       "    .dataframe tbody tr th:only-of-type {\n",
       "        vertical-align: middle;\n",
       "    }\n",
       "\n",
       "    .dataframe tbody tr th {\n",
       "        vertical-align: top;\n",
       "    }\n",
       "\n",
       "    .dataframe thead th {\n",
       "        text-align: right;\n",
       "    }\n",
       "</style>\n",
       "<table border=\"1\" class=\"dataframe\">\n",
       "  <thead>\n",
       "    <tr style=\"text-align: right;\">\n",
       "      <th></th>\n",
       "      <th>F1</th>\n",
       "      <th>AUC ROC</th>\n",
       "      <th>F1 upsampled</th>\n",
       "      <th>AUC ROC upsampled</th>\n",
       "    </tr>\n",
       "  </thead>\n",
       "  <tbody>\n",
       "    <tr>\n",
       "      <td>LogisticRegression</td>\n",
       "      <td>0.3118</td>\n",
       "      <td>0.5875</td>\n",
       "      <td>0.5044</td>\n",
       "      <td>0.7047</td>\n",
       "    </tr>\n",
       "    <tr>\n",
       "      <td>SVC</td>\n",
       "      <td>0.5109</td>\n",
       "      <td>0.6767</td>\n",
       "      <td>0.5745</td>\n",
       "      <td>0.7503</td>\n",
       "    </tr>\n",
       "    <tr>\n",
       "      <td>DecisionTreeClassifier</td>\n",
       "      <td>0.5242</td>\n",
       "      <td>0.6863</td>\n",
       "      <td>0.5736</td>\n",
       "      <td>0.7518</td>\n",
       "    </tr>\n",
       "    <tr>\n",
       "      <td>RandomForestClassifier</td>\n",
       "      <td>0.5671</td>\n",
       "      <td>0.7062</td>\n",
       "      <td>0.6055</td>\n",
       "      <td>0.7635</td>\n",
       "    </tr>\n",
       "  </tbody>\n",
       "</table>\n",
       "</div>"
      ],
      "text/plain": [
       "                            F1 AUC ROC  F1 upsampled  AUC ROC upsampled\n",
       "LogisticRegression      0.3118  0.5875        0.5044             0.7047\n",
       "SVC                     0.5109  0.6767        0.5745             0.7503\n",
       "DecisionTreeClassifier  0.5242  0.6863        0.5736             0.7518\n",
       "RandomForestClassifier  0.5671  0.7062        0.6055             0.7635"
      ]
     },
     "execution_count": 21,
     "metadata": {},
     "output_type": "execute_result"
    }
   ],
   "source": [
    "for model in models_list:\n",
    "    name, f1, roc_auc = train_and_count_metrics(model, upsampled_train_feats, upsampled_train_target)\n",
    "    results.loc[name, 'F1 upsampled'] = f1\n",
    "    results.loc[name, 'AUC ROC upsampled'] = roc_auc\n",
    "results"
   ]
  },
  {
   "cell_type": "markdown",
   "metadata": {},
   "source": [
    "#### Downsampling\n",
    "Теперь наоборот, уменьшим количество экземпляров большего класса:"
   ]
  },
  {
   "cell_type": "code",
   "execution_count": 22,
   "metadata": {},
   "outputs": [
    {
     "name": "stdout",
     "output_type": "stream",
     "text": [
      "Размер обучающей выборки после downsample: 2406\n",
      "Доля значений 1 - 50.00%\n",
      "Доля значений 0 - 50.00%\n"
     ]
    }
   ],
   "source": [
    "def downsample(features, target, fraction):\n",
    "    features_zeros = features[target == 0]\n",
    "    features_ones = features[target == 1]\n",
    "    target_zeros = target[target == 0]\n",
    "    target_ones = target[target == 1]\n",
    "    features_zeros_down = resample(features_zeros, replace = False, \n",
    "                                n_samples = features_ones.shape[0],\n",
    "                                random_state = R)\n",
    "    target_zeros_down = resample(target_zeros, replace = False, \n",
    "                              n_samples = features_ones.shape[0],\n",
    "                              random_state = R)\n",
    "    features_downsampled = pd.concat([features_ones] + [features_zeros_down])\n",
    "    target_downsampled = pd.concat([target_ones] + [target_zeros_down])\n",
    "    return features_downsampled, target_downsampled\n",
    "\n",
    "downsampled_train_feats, downsampled_train_target = downsample(train_feats, train_target, 0.25)\n",
    "print(f'Размер обучающей выборки после downsample: {downsampled_train_feats.shape[0]}')\n",
    "print(f'Доля значений 1 - {downsampled_train_target.mean():.2%}')\n",
    "print(f'Доля значений 0 - {1 - downsampled_train_target.mean():.2%}')"
   ]
  },
  {
   "cell_type": "markdown",
   "metadata": {},
   "source": [
    "Проверим модели:"
   ]
  },
  {
   "cell_type": "code",
   "execution_count": 23,
   "metadata": {},
   "outputs": [
    {
     "data": {
      "text/html": [
       "<div>\n",
       "<style scoped>\n",
       "    .dataframe tbody tr th:only-of-type {\n",
       "        vertical-align: middle;\n",
       "    }\n",
       "\n",
       "    .dataframe tbody tr th {\n",
       "        vertical-align: top;\n",
       "    }\n",
       "\n",
       "    .dataframe thead th {\n",
       "        text-align: right;\n",
       "    }\n",
       "</style>\n",
       "<table border=\"1\" class=\"dataframe\">\n",
       "  <thead>\n",
       "    <tr style=\"text-align: right;\">\n",
       "      <th></th>\n",
       "      <th>F1</th>\n",
       "      <th>AUC ROC</th>\n",
       "      <th>F1 upsampled</th>\n",
       "      <th>AUC ROC upsampled</th>\n",
       "      <th>F1 downsampled</th>\n",
       "      <th>AUC ROC downsampled</th>\n",
       "    </tr>\n",
       "  </thead>\n",
       "  <tbody>\n",
       "    <tr>\n",
       "      <td>LogisticRegression</td>\n",
       "      <td>0.3118</td>\n",
       "      <td>0.5875</td>\n",
       "      <td>0.5044</td>\n",
       "      <td>0.7047</td>\n",
       "      <td>0.5040</td>\n",
       "      <td>0.7039</td>\n",
       "    </tr>\n",
       "    <tr>\n",
       "      <td>SVC</td>\n",
       "      <td>0.5109</td>\n",
       "      <td>0.6767</td>\n",
       "      <td>0.5745</td>\n",
       "      <td>0.7503</td>\n",
       "      <td>0.5860</td>\n",
       "      <td>0.7646</td>\n",
       "    </tr>\n",
       "    <tr>\n",
       "      <td>DecisionTreeClassifier</td>\n",
       "      <td>0.5242</td>\n",
       "      <td>0.6863</td>\n",
       "      <td>0.5736</td>\n",
       "      <td>0.7518</td>\n",
       "      <td>0.5685</td>\n",
       "      <td>0.7531</td>\n",
       "    </tr>\n",
       "    <tr>\n",
       "      <td>RandomForestClassifier</td>\n",
       "      <td>0.5671</td>\n",
       "      <td>0.7062</td>\n",
       "      <td>0.6055</td>\n",
       "      <td>0.7635</td>\n",
       "      <td>0.6126</td>\n",
       "      <td>0.7843</td>\n",
       "    </tr>\n",
       "  </tbody>\n",
       "</table>\n",
       "</div>"
      ],
      "text/plain": [
       "                            F1 AUC ROC  F1 upsampled  AUC ROC upsampled  \\\n",
       "LogisticRegression      0.3118  0.5875        0.5044             0.7047   \n",
       "SVC                     0.5109  0.6767        0.5745             0.7503   \n",
       "DecisionTreeClassifier  0.5242  0.6863        0.5736             0.7518   \n",
       "RandomForestClassifier  0.5671  0.7062        0.6055             0.7635   \n",
       "\n",
       "                        F1 downsampled  AUC ROC downsampled  \n",
       "LogisticRegression              0.5040               0.7039  \n",
       "SVC                             0.5860               0.7646  \n",
       "DecisionTreeClassifier          0.5685               0.7531  \n",
       "RandomForestClassifier          0.6126               0.7843  "
      ]
     },
     "execution_count": 23,
     "metadata": {},
     "output_type": "execute_result"
    }
   ],
   "source": [
    "for model in models_list:\n",
    "    name, f1, roc_auc = train_and_count_metrics(model, downsampled_train_feats, downsampled_train_target)\n",
    "    results.loc[name, 'F1 downsampled'] = f1\n",
    "    results.loc[name, 'AUC ROC downsampled'] = roc_auc\n",
    "results"
   ]
  },
  {
   "cell_type": "markdown",
   "metadata": {},
   "source": [
    "#### Взвешивание классов\n",
    "\n",
    "Наконец, произведем взвешивание классов. Установим для наших моделей параметр class_weight = 'balanced', который будет присваивать каждому классу вес в зависимости от его доли в общем наборе."
   ]
  },
  {
   "cell_type": "markdown",
   "metadata": {},
   "source": [
    "Заново обучим модели и рассчитаем метрики:"
   ]
  },
  {
   "cell_type": "code",
   "execution_count": 24,
   "metadata": {},
   "outputs": [
    {
     "data": {
      "text/html": [
       "<div>\n",
       "<style scoped>\n",
       "    .dataframe tbody tr th:only-of-type {\n",
       "        vertical-align: middle;\n",
       "    }\n",
       "\n",
       "    .dataframe tbody tr th {\n",
       "        vertical-align: top;\n",
       "    }\n",
       "\n",
       "    .dataframe thead th {\n",
       "        text-align: right;\n",
       "    }\n",
       "</style>\n",
       "<table border=\"1\" class=\"dataframe\">\n",
       "  <thead>\n",
       "    <tr style=\"text-align: right;\">\n",
       "      <th></th>\n",
       "      <th>F1</th>\n",
       "      <th>AUC ROC</th>\n",
       "      <th>F1 upsampled</th>\n",
       "      <th>AUC ROC upsampled</th>\n",
       "      <th>F1 downsampled</th>\n",
       "      <th>AUC ROC downsampled</th>\n",
       "      <th>F1 c взвешиванием</th>\n",
       "      <th>AUC ROC c взвешиванием</th>\n",
       "    </tr>\n",
       "  </thead>\n",
       "  <tbody>\n",
       "    <tr>\n",
       "      <td>LogisticRegression</td>\n",
       "      <td>0.3118</td>\n",
       "      <td>0.5875</td>\n",
       "      <td>0.5044</td>\n",
       "      <td>0.7047</td>\n",
       "      <td>0.5040</td>\n",
       "      <td>0.7039</td>\n",
       "      <td>0.5053</td>\n",
       "      <td>0.7051</td>\n",
       "    </tr>\n",
       "    <tr>\n",
       "      <td>SVC</td>\n",
       "      <td>0.5109</td>\n",
       "      <td>0.6767</td>\n",
       "      <td>0.5745</td>\n",
       "      <td>0.7503</td>\n",
       "      <td>0.5860</td>\n",
       "      <td>0.7646</td>\n",
       "      <td>0.5936</td>\n",
       "      <td>0.7637</td>\n",
       "    </tr>\n",
       "    <tr>\n",
       "      <td>DecisionTreeClassifier</td>\n",
       "      <td>0.5242</td>\n",
       "      <td>0.6863</td>\n",
       "      <td>0.5736</td>\n",
       "      <td>0.7518</td>\n",
       "      <td>0.5685</td>\n",
       "      <td>0.7531</td>\n",
       "      <td>0.5770</td>\n",
       "      <td>0.7537</td>\n",
       "    </tr>\n",
       "    <tr>\n",
       "      <td>RandomForestClassifier</td>\n",
       "      <td>0.5671</td>\n",
       "      <td>0.7062</td>\n",
       "      <td>0.6055</td>\n",
       "      <td>0.7635</td>\n",
       "      <td>0.6126</td>\n",
       "      <td>0.7843</td>\n",
       "      <td>0.6265</td>\n",
       "      <td>0.7665</td>\n",
       "    </tr>\n",
       "  </tbody>\n",
       "</table>\n",
       "</div>"
      ],
      "text/plain": [
       "                            F1 AUC ROC  F1 upsampled  AUC ROC upsampled  \\\n",
       "LogisticRegression      0.3118  0.5875        0.5044             0.7047   \n",
       "SVC                     0.5109  0.6767        0.5745             0.7503   \n",
       "DecisionTreeClassifier  0.5242  0.6863        0.5736             0.7518   \n",
       "RandomForestClassifier  0.5671  0.7062        0.6055             0.7635   \n",
       "\n",
       "                        F1 downsampled  AUC ROC downsampled  \\\n",
       "LogisticRegression              0.5040               0.7039   \n",
       "SVC                             0.5860               0.7646   \n",
       "DecisionTreeClassifier          0.5685               0.7531   \n",
       "RandomForestClassifier          0.6126               0.7843   \n",
       "\n",
       "                        F1 c взвешиванием  AUC ROC c взвешиванием  \n",
       "LogisticRegression                 0.5053                  0.7051  \n",
       "SVC                                0.5936                  0.7637  \n",
       "DecisionTreeClassifier             0.5770                  0.7537  \n",
       "RandomForestClassifier             0.6265                  0.7665  "
      ]
     },
     "execution_count": 24,
     "metadata": {},
     "output_type": "execute_result"
    }
   ],
   "source": [
    "for model in models_list:\n",
    "    model.class_weight = 'balanced'\n",
    "    name, f1, roc_auc = train_and_count_metrics(model, train_feats, train_target)\n",
    "    results.loc[name, 'F1 c взвешиванием'] = f1\n",
    "    results.loc[name, 'AUC ROC c взвешиванием'] = roc_auc\n",
    "    \n",
    "results"
   ]
  },
  {
   "cell_type": "markdown",
   "metadata": {},
   "source": [
    "## Выводы\n",
    "\n",
    "Как можно видеть, устранение дисбаланса классов значительно улучшило метрики всех моделей. При этом разные модели немного по разному реагировали на upsampling и downsampling, а наиболее эффективным оказалось взвешивание классов.\n",
    "Данные результаты можно объяснить тем, первые два метода искажают исходные данные (upsampling влияет на распределение признаков, downsampling уменьшает количество информации).\n",
    "\n",
    "Лучшее значение метрик F1 и AUC ROC показывает модель на основе RandomForestClassifier. На следующем шаге проверим, как она будет работать на тестовом наборе."
   ]
  },
  {
   "cell_type": "markdown",
   "metadata": {},
   "source": [
    "## Шаг 4. Проверка модели\n",
    "\n",
    "Проверим нашу итоговую модель (RandomForestClassifier) на тестовом наборе. Предварительно обучим ее на тренировочных и валидационных выборках, к которым применим upsampling:"
   ]
  },
  {
   "cell_type": "code",
   "execution_count": 25,
   "metadata": {},
   "outputs": [],
   "source": [
    "tr_and_val_feats = pd.concat([train_feats, valid_feats])\n",
    "tr_and_val_target = pd.concat([train_target, valid_target])\n",
    "upd_tr_val_feats, upd_tr_val_target = upsample(tr_and_val_feats, tr_and_val_target, 4)"
   ]
  },
  {
   "cell_type": "code",
   "execution_count": 26,
   "metadata": {},
   "outputs": [
    {
     "name": "stdout",
     "output_type": "stream",
     "text": [
      "Итоговые значения метрик модели RandomForestClassifier:\n",
      "F1-мера = 0.6169, AUC ROC = 0.7758\n"
     ]
    }
   ],
   "source": [
    "forest_model.fit(upd_tr_val_feats, upd_tr_val_target)\n",
    "prediction = forest_model.predict(test_feats)\n",
    "print(f'Итоговые значения метрик модели RandomForestClassifier:')\n",
    "print(f'F1-мера = {f1_score(test_target, prediction):.4f},', \n",
    "      f'AUC ROC = {roc_auc_score(test_target, prediction):.4f}')\n"
   ]
  },
  {
   "cell_type": "markdown",
   "metadata": {},
   "source": [
    "## Итоговый вывод"
   ]
  },
  {
   "cell_type": "markdown",
   "metadata": {},
   "source": [
    "В данной работе перед нами стояла задача построить модель, которая могла бы прогнозировать расторжение договора клиента с банком на основании различных данных о нем.\n",
    "\n",
    "Для решения этой задачи нами был исследован датасет, содержащий исторические сведения о клиентах банка. В ходе подготовки данных мы сделали следующие шаги:\n",
    "\n",
    "1. Произвели предобработку данных: заполнили пропуски и убрали ненужные столбцы ('RowNumber', 'CustomerId', 'Surname'); произвели One-Hot кодирование категориальных признаков и стандартизацию количественных признаков; \n",
    "2. Разбили датасет на три подвыборки: тренировочную, валидационную и тестовую - в отношении 3:1:1;\n",
    "3. Исследовали баланс классов целевого признака и выяснили, что он не сбалансирован - классы 0 и 1 находились в отношении 4 к 1.\n",
    "\n",
    "Затем мы построили ряд моделей классификации, подобрали для них оптимальные гиперпараметры и посмотрели, как хорошо они работают без учета несбалансированности классов. Полученные значения метрик F1 и AUC ROC показали, что требуется устранить дисбаланс.\n",
    "\n",
    "Для устранения дисбаланса классов нами были применены следующие методы: upsamling меньшего класса, downsampling большего класса и взвешивание классов. Наилучшие результаты показали модели, обученные с учетом весов классов на тренировочном наборе с апсемплингом. Самое высокое значение целевой метрики F1 было получено на модели \"Случайный лес\".\n",
    "\n",
    "Наконец, мы обучили нашу итоговую модель (Случайный лес с параметрами n_estimators = 200, max_depth = 9, class_weight = 'balanced') на совокупности тренировочных и валидационных данных и проверили ее качество на тестовом наборе. В итоге полученное значение F1 метрики составило 0.6169, AUC ROC - 0.7758."
   ]
  }
 ],
 "metadata": {
  "kernelspec": {
   "display_name": "Python 3",
   "language": "python",
   "name": "python3"
  },
  "language_info": {
   "codemirror_mode": {
    "name": "ipython",
    "version": 3
   },
   "file_extension": ".py",
   "mimetype": "text/x-python",
   "name": "python",
   "nbconvert_exporter": "python",
   "pygments_lexer": "ipython3",
   "version": "3.7.4"
  }
 },
 "nbformat": 4,
 "nbformat_minor": 2
}
